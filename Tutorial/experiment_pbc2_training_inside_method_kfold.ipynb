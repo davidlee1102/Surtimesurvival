{
 "cells": [
  {
   "cell_type": "code",
   "execution_count": 374,
   "metadata": {
    "collapsed": true
   },
   "outputs": [],
   "source": [
    "import torch\n",
    "import pandas as pd\n",
    "\n",
    "from sklearn.model_selection import train_test_split\n",
    "from IPython.display import clear_output\n",
    "\n",
    "from SurvTRACE.survtrace.model import SurvTraceSingle\n",
    "from SurvTRACE.survtrace.train_utils import Trainer\n",
    "from SurvTRACE.survtrace.config import STConfig\n",
    "\n",
    "clear_output()"
   ]
  },
  {
   "cell_type": "code",
   "execution_count": 375,
   "outputs": [],
   "source": [
    "# We want to demostrate the processed data first -\n",
    "df = pd.read_csv(\n",
    "    '/Users/davidlee/Documents/GitHub/Surtimesurvival/Data Project/Pycox Lib/PBC2 Convariate Data/pbc2_data_merged_timegan_auton_covariate.csv')"
   ],
   "metadata": {
    "collapsed": false
   }
  },
  {
   "cell_type": "code",
   "execution_count": 376,
   "outputs": [
    {
     "data": {
      "text/plain": "   event       time  seq_id  seq_time_id  seq_temporal_SGOT  seq_temporal_age  \\\n0    1.0   0.569489       0     0.569489          -1.490373          0.265298   \n1    1.0   0.569489       0     1.095170           0.310273          0.265298   \n2    0.0  14.152338       1     5.319790          -0.372825          1.421093   \n3    0.0  14.152338       1     6.261636           0.050695          1.421093   \n4    0.0  14.152338       1     7.266455           0.415470          1.421093   \n\n   seq_temporal_albumin  seq_temporal_alkaline  seq_temporal_platelets  \\\n0             -1.074325               0.279377               -0.480089   \n1             -1.831287               0.381746               -0.398600   \n2             -1.675442              -0.631323               -1.446320   \n3             -1.386015              -0.525090               -1.294982   \n4             -1.541860              -0.446865               -1.411396   \n\n   seq_temporal_prothrombin  ...  seq_temporal_drug_1.0  \\\n0                  0.264303  ...                      0   \n1                  1.021397  ...                      0   \n2                  0.491431  ...                      0   \n3                  0.491431  ...                      0   \n4                  0.491431  ...                      0   \n\n   seq_temporal_edema_1.0  seq_temporal_edema_2.0  \\\n0                       1                       0   \n1                       1                       0   \n2                       1                       0   \n3                       1                       0   \n4                       1                       0   \n\n   seq_temporal_hepatomegaly_1.0  seq_temporal_hepatomegaly_2.0  \\\n0                              1                              0   \n1                              1                              0   \n2                              1                              0   \n3                              1                              0   \n4                              1                              0   \n\n   seq_temporal_histologic_1.0  seq_temporal_histologic_2.0  \\\n0                            0                            0   \n1                            0                            0   \n2                            0                            1   \n3                            0                            1   \n4                            0                            1   \n\n   seq_temporal_histologic_3.0  seq_temporal_spiders_1.0  \\\n0                            1                         1   \n1                            1                         1   \n2                            0                         1   \n3                            0                         1   \n4                            0                         1   \n\n   seq_temporal_spiders_2.0  \n0                         0  \n1                         0  \n2                         0  \n3                         0  \n4                         0  \n\n[5 rows x 25 columns]",
      "text/html": "<div>\n<style scoped>\n    .dataframe tbody tr th:only-of-type {\n        vertical-align: middle;\n    }\n\n    .dataframe tbody tr th {\n        vertical-align: top;\n    }\n\n    .dataframe thead th {\n        text-align: right;\n    }\n</style>\n<table border=\"1\" class=\"dataframe\">\n  <thead>\n    <tr style=\"text-align: right;\">\n      <th></th>\n      <th>event</th>\n      <th>time</th>\n      <th>seq_id</th>\n      <th>seq_time_id</th>\n      <th>seq_temporal_SGOT</th>\n      <th>seq_temporal_age</th>\n      <th>seq_temporal_albumin</th>\n      <th>seq_temporal_alkaline</th>\n      <th>seq_temporal_platelets</th>\n      <th>seq_temporal_prothrombin</th>\n      <th>...</th>\n      <th>seq_temporal_drug_1.0</th>\n      <th>seq_temporal_edema_1.0</th>\n      <th>seq_temporal_edema_2.0</th>\n      <th>seq_temporal_hepatomegaly_1.0</th>\n      <th>seq_temporal_hepatomegaly_2.0</th>\n      <th>seq_temporal_histologic_1.0</th>\n      <th>seq_temporal_histologic_2.0</th>\n      <th>seq_temporal_histologic_3.0</th>\n      <th>seq_temporal_spiders_1.0</th>\n      <th>seq_temporal_spiders_2.0</th>\n    </tr>\n  </thead>\n  <tbody>\n    <tr>\n      <th>0</th>\n      <td>1.0</td>\n      <td>0.569489</td>\n      <td>0</td>\n      <td>0.569489</td>\n      <td>-1.490373</td>\n      <td>0.265298</td>\n      <td>-1.074325</td>\n      <td>0.279377</td>\n      <td>-0.480089</td>\n      <td>0.264303</td>\n      <td>...</td>\n      <td>0</td>\n      <td>1</td>\n      <td>0</td>\n      <td>1</td>\n      <td>0</td>\n      <td>0</td>\n      <td>0</td>\n      <td>1</td>\n      <td>1</td>\n      <td>0</td>\n    </tr>\n    <tr>\n      <th>1</th>\n      <td>1.0</td>\n      <td>0.569489</td>\n      <td>0</td>\n      <td>1.095170</td>\n      <td>0.310273</td>\n      <td>0.265298</td>\n      <td>-1.831287</td>\n      <td>0.381746</td>\n      <td>-0.398600</td>\n      <td>1.021397</td>\n      <td>...</td>\n      <td>0</td>\n      <td>1</td>\n      <td>0</td>\n      <td>1</td>\n      <td>0</td>\n      <td>0</td>\n      <td>0</td>\n      <td>1</td>\n      <td>1</td>\n      <td>0</td>\n    </tr>\n    <tr>\n      <th>2</th>\n      <td>0.0</td>\n      <td>14.152338</td>\n      <td>1</td>\n      <td>5.319790</td>\n      <td>-0.372825</td>\n      <td>1.421093</td>\n      <td>-1.675442</td>\n      <td>-0.631323</td>\n      <td>-1.446320</td>\n      <td>0.491431</td>\n      <td>...</td>\n      <td>0</td>\n      <td>1</td>\n      <td>0</td>\n      <td>1</td>\n      <td>0</td>\n      <td>0</td>\n      <td>1</td>\n      <td>0</td>\n      <td>1</td>\n      <td>0</td>\n    </tr>\n    <tr>\n      <th>3</th>\n      <td>0.0</td>\n      <td>14.152338</td>\n      <td>1</td>\n      <td>6.261636</td>\n      <td>0.050695</td>\n      <td>1.421093</td>\n      <td>-1.386015</td>\n      <td>-0.525090</td>\n      <td>-1.294982</td>\n      <td>0.491431</td>\n      <td>...</td>\n      <td>0</td>\n      <td>1</td>\n      <td>0</td>\n      <td>1</td>\n      <td>0</td>\n      <td>0</td>\n      <td>1</td>\n      <td>0</td>\n      <td>1</td>\n      <td>0</td>\n    </tr>\n    <tr>\n      <th>4</th>\n      <td>0.0</td>\n      <td>14.152338</td>\n      <td>1</td>\n      <td>7.266455</td>\n      <td>0.415470</td>\n      <td>1.421093</td>\n      <td>-1.541860</td>\n      <td>-0.446865</td>\n      <td>-1.411396</td>\n      <td>0.491431</td>\n      <td>...</td>\n      <td>0</td>\n      <td>1</td>\n      <td>0</td>\n      <td>1</td>\n      <td>0</td>\n      <td>0</td>\n      <td>1</td>\n      <td>0</td>\n      <td>1</td>\n      <td>0</td>\n    </tr>\n  </tbody>\n</table>\n<p>5 rows × 25 columns</p>\n</div>"
     },
     "execution_count": 376,
     "metadata": {},
     "output_type": "execute_result"
    }
   ],
   "source": [
    "df.head()"
   ],
   "metadata": {
    "collapsed": false
   }
  },
  {
   "cell_type": "code",
   "execution_count": 377,
   "outputs": [],
   "source": [
    "df_temp = df.loc[0:, ['seq_id', 'time']]\n",
    "df_event_time_temp = df.loc[0:, ['seq_id', 'event', 'time']]\n",
    "df = df.drop(columns=['seq_time_id'])"
   ],
   "metadata": {
    "collapsed": false
   }
  },
  {
   "cell_type": "code",
   "execution_count": 378,
   "outputs": [],
   "source": [
    "# df.rename(columns = {'seq_out_time_to_event':'duration', 'seq_out_event':'event'}, inplace = True)\n",
    "df.rename(columns={'time': 'duration'}, inplace=True)"
   ],
   "metadata": {
    "collapsed": false
   }
  },
  {
   "cell_type": "code",
   "execution_count": 379,
   "outputs": [],
   "source": [
    "from utils.covariate_data_processing import pbc2_proccess_covariate"
   ],
   "metadata": {
    "collapsed": false
   }
  },
  {
   "cell_type": "code",
   "execution_count": 380,
   "outputs": [
    {
     "name": "stdout",
     "output_type": "stream",
     "text": [
      "26.0\n",
      "______\n",
      "8\n",
      "______\n",
      "13\n",
      "______\n",
      "21\n",
      "______\n",
      "26\n",
      "______\n",
      "[2.73792575e-03 1.20468733e-01 3.75095827e-01 4.91987332e-01\n",
      " 1.43056620e+01]\n",
      "______\n",
      "4\n"
     ]
    },
    {
     "name": "stderr",
     "output_type": "stream",
     "text": [
      "/Users/davidlee/Documents/GitHub/Surtimesurvival/SurvTRACE/survtrace/utils.py:78: UserWarning: Got event/censoring at start time. Should be removed! It is set s.t. it has no contribution to loss.\n",
      "  warnings.warn(\"\"\"Got event/censoring at start time. Should be removed! It is set s.t. it has no contribution to loss.\"\"\")\n"
     ]
    }
   ],
   "source": [
    "y, df, df_train, df_y_train = pbc2_proccess_covariate(df)"
   ],
   "metadata": {
    "collapsed": false
   }
  },
  {
   "cell_type": "code",
   "execution_count": 381,
   "outputs": [
    {
     "data": {
      "text/plain": "   seq_static_sex_1.0  seq_temporal_ascites_1.0  seq_temporal_ascites_2.0  \\\n0                 0.0                       3.0                       4.0   \n1                 0.0                       3.0                       4.0   \n2                 0.0                       3.0                       4.0   \n3                 0.0                       3.0                       4.0   \n4                 0.0                       3.0                       4.0   \n\n   seq_temporal_drug_1.0  seq_temporal_edema_1.0  seq_temporal_edema_2.0  \\\n0                    6.0                     9.0                    10.0   \n1                    6.0                     9.0                    10.0   \n2                    6.0                     9.0                    10.0   \n3                    6.0                     9.0                    10.0   \n4                    6.0                     9.0                    10.0   \n\n   seq_temporal_hepatomegaly_1.0  seq_temporal_hepatomegaly_2.0  \\\n0                           13.0                           14.0   \n1                           13.0                           14.0   \n2                           13.0                           14.0   \n3                           13.0                           14.0   \n4                           13.0                           14.0   \n\n   seq_temporal_histologic_1.0  seq_temporal_histologic_2.0  ...  \\\n0                         16.0                         18.0  ...   \n1                         16.0                         18.0  ...   \n2                         16.0                         19.0  ...   \n3                         16.0                         19.0  ...   \n4                         16.0                         19.0  ...   \n\n   seq_temporal_spiders_1.0  seq_temporal_spiders_2.0  seq_temporal_SGOT  \\\n0                      23.0                      24.0          -1.490373   \n1                      23.0                      24.0           0.310273   \n2                      23.0                      24.0          -0.372825   \n3                      23.0                      24.0           0.050695   \n4                      23.0                      24.0           0.415470   \n\n   seq_temporal_age  seq_temporal_albumin  seq_temporal_alkaline  \\\n0          0.265298             -1.074325               0.279377   \n1          0.265298             -1.831287               0.381746   \n2          1.421093             -1.675442              -0.631323   \n3          1.421093             -1.386015              -0.525090   \n4          1.421093             -1.541860              -0.446865   \n\n   seq_temporal_platelets  seq_temporal_prothrombin  seq_temporal_serBilir  \\\n0               -0.480089                  0.264303               3.865908   \n1               -0.398600                  1.021397               2.422955   \n2               -1.446320                  0.491431               0.322185   \n3               -1.294982                  0.491431               0.109986   \n4               -1.411396                  0.491431               0.237306   \n\n   seq_temporal_serChol  \n0              0.016353  \n1             -0.524945  \n2             -0.743389  \n3             -0.679676  \n4              0.016353  \n\n[5 rows x 21 columns]",
      "text/html": "<div>\n<style scoped>\n    .dataframe tbody tr th:only-of-type {\n        vertical-align: middle;\n    }\n\n    .dataframe tbody tr th {\n        vertical-align: top;\n    }\n\n    .dataframe thead th {\n        text-align: right;\n    }\n</style>\n<table border=\"1\" class=\"dataframe\">\n  <thead>\n    <tr style=\"text-align: right;\">\n      <th></th>\n      <th>seq_static_sex_1.0</th>\n      <th>seq_temporal_ascites_1.0</th>\n      <th>seq_temporal_ascites_2.0</th>\n      <th>seq_temporal_drug_1.0</th>\n      <th>seq_temporal_edema_1.0</th>\n      <th>seq_temporal_edema_2.0</th>\n      <th>seq_temporal_hepatomegaly_1.0</th>\n      <th>seq_temporal_hepatomegaly_2.0</th>\n      <th>seq_temporal_histologic_1.0</th>\n      <th>seq_temporal_histologic_2.0</th>\n      <th>...</th>\n      <th>seq_temporal_spiders_1.0</th>\n      <th>seq_temporal_spiders_2.0</th>\n      <th>seq_temporal_SGOT</th>\n      <th>seq_temporal_age</th>\n      <th>seq_temporal_albumin</th>\n      <th>seq_temporal_alkaline</th>\n      <th>seq_temporal_platelets</th>\n      <th>seq_temporal_prothrombin</th>\n      <th>seq_temporal_serBilir</th>\n      <th>seq_temporal_serChol</th>\n    </tr>\n  </thead>\n  <tbody>\n    <tr>\n      <th>0</th>\n      <td>0.0</td>\n      <td>3.0</td>\n      <td>4.0</td>\n      <td>6.0</td>\n      <td>9.0</td>\n      <td>10.0</td>\n      <td>13.0</td>\n      <td>14.0</td>\n      <td>16.0</td>\n      <td>18.0</td>\n      <td>...</td>\n      <td>23.0</td>\n      <td>24.0</td>\n      <td>-1.490373</td>\n      <td>0.265298</td>\n      <td>-1.074325</td>\n      <td>0.279377</td>\n      <td>-0.480089</td>\n      <td>0.264303</td>\n      <td>3.865908</td>\n      <td>0.016353</td>\n    </tr>\n    <tr>\n      <th>1</th>\n      <td>0.0</td>\n      <td>3.0</td>\n      <td>4.0</td>\n      <td>6.0</td>\n      <td>9.0</td>\n      <td>10.0</td>\n      <td>13.0</td>\n      <td>14.0</td>\n      <td>16.0</td>\n      <td>18.0</td>\n      <td>...</td>\n      <td>23.0</td>\n      <td>24.0</td>\n      <td>0.310273</td>\n      <td>0.265298</td>\n      <td>-1.831287</td>\n      <td>0.381746</td>\n      <td>-0.398600</td>\n      <td>1.021397</td>\n      <td>2.422955</td>\n      <td>-0.524945</td>\n    </tr>\n    <tr>\n      <th>2</th>\n      <td>0.0</td>\n      <td>3.0</td>\n      <td>4.0</td>\n      <td>6.0</td>\n      <td>9.0</td>\n      <td>10.0</td>\n      <td>13.0</td>\n      <td>14.0</td>\n      <td>16.0</td>\n      <td>19.0</td>\n      <td>...</td>\n      <td>23.0</td>\n      <td>24.0</td>\n      <td>-0.372825</td>\n      <td>1.421093</td>\n      <td>-1.675442</td>\n      <td>-0.631323</td>\n      <td>-1.446320</td>\n      <td>0.491431</td>\n      <td>0.322185</td>\n      <td>-0.743389</td>\n    </tr>\n    <tr>\n      <th>3</th>\n      <td>0.0</td>\n      <td>3.0</td>\n      <td>4.0</td>\n      <td>6.0</td>\n      <td>9.0</td>\n      <td>10.0</td>\n      <td>13.0</td>\n      <td>14.0</td>\n      <td>16.0</td>\n      <td>19.0</td>\n      <td>...</td>\n      <td>23.0</td>\n      <td>24.0</td>\n      <td>0.050695</td>\n      <td>1.421093</td>\n      <td>-1.386015</td>\n      <td>-0.525090</td>\n      <td>-1.294982</td>\n      <td>0.491431</td>\n      <td>0.109986</td>\n      <td>-0.679676</td>\n    </tr>\n    <tr>\n      <th>4</th>\n      <td>0.0</td>\n      <td>3.0</td>\n      <td>4.0</td>\n      <td>6.0</td>\n      <td>9.0</td>\n      <td>10.0</td>\n      <td>13.0</td>\n      <td>14.0</td>\n      <td>16.0</td>\n      <td>19.0</td>\n      <td>...</td>\n      <td>23.0</td>\n      <td>24.0</td>\n      <td>0.415470</td>\n      <td>1.421093</td>\n      <td>-1.541860</td>\n      <td>-0.446865</td>\n      <td>-1.411396</td>\n      <td>0.491431</td>\n      <td>0.237306</td>\n      <td>0.016353</td>\n    </tr>\n  </tbody>\n</table>\n<p>5 rows × 21 columns</p>\n</div>"
     },
     "execution_count": 381,
     "metadata": {},
     "output_type": "execute_result"
    }
   ],
   "source": [
    "df_train.head()"
   ],
   "metadata": {
    "collapsed": false
   }
  },
  {
   "cell_type": "code",
   "execution_count": 382,
   "outputs": [
    {
     "data": {
      "text/plain": "   duration  event  proportion\n0         3    1.0    0.005610\n1         3    1.0    0.005610\n2         3    0.0    0.988901\n3         3    0.0    0.988901\n4         3    0.0    0.988901",
      "text/html": "<div>\n<style scoped>\n    .dataframe tbody tr th:only-of-type {\n        vertical-align: middle;\n    }\n\n    .dataframe tbody tr th {\n        vertical-align: top;\n    }\n\n    .dataframe thead th {\n        text-align: right;\n    }\n</style>\n<table border=\"1\" class=\"dataframe\">\n  <thead>\n    <tr style=\"text-align: right;\">\n      <th></th>\n      <th>duration</th>\n      <th>event</th>\n      <th>proportion</th>\n    </tr>\n  </thead>\n  <tbody>\n    <tr>\n      <th>0</th>\n      <td>3</td>\n      <td>1.0</td>\n      <td>0.005610</td>\n    </tr>\n    <tr>\n      <th>1</th>\n      <td>3</td>\n      <td>1.0</td>\n      <td>0.005610</td>\n    </tr>\n    <tr>\n      <th>2</th>\n      <td>3</td>\n      <td>0.0</td>\n      <td>0.988901</td>\n    </tr>\n    <tr>\n      <th>3</th>\n      <td>3</td>\n      <td>0.0</td>\n      <td>0.988901</td>\n    </tr>\n    <tr>\n      <th>4</th>\n      <td>3</td>\n      <td>0.0</td>\n      <td>0.988901</td>\n    </tr>\n  </tbody>\n</table>\n</div>"
     },
     "execution_count": 382,
     "metadata": {},
     "output_type": "execute_result"
    }
   ],
   "source": [
    "df_y_train.head()"
   ],
   "metadata": {
    "collapsed": false
   }
  },
  {
   "cell_type": "code",
   "execution_count": 383,
   "outputs": [],
   "source": [
    "df = pd.concat([df_train, df_temp['seq_id']], axis=1)\n",
    "df_y = pd.concat([df_y_train, df_temp['seq_id']], axis=1)"
   ],
   "metadata": {
    "collapsed": false
   }
  },
  {
   "cell_type": "code",
   "execution_count": 384,
   "outputs": [
    {
     "data": {
      "text/plain": "   seq_static_sex_1.0  seq_temporal_ascites_1.0  seq_temporal_ascites_2.0  \\\n0                 0.0                       3.0                       4.0   \n1                 0.0                       3.0                       4.0   \n2                 0.0                       3.0                       4.0   \n3                 0.0                       3.0                       4.0   \n4                 0.0                       3.0                       4.0   \n\n   seq_temporal_drug_1.0  seq_temporal_edema_1.0  seq_temporal_edema_2.0  \\\n0                    6.0                     9.0                    10.0   \n1                    6.0                     9.0                    10.0   \n2                    6.0                     9.0                    10.0   \n3                    6.0                     9.0                    10.0   \n4                    6.0                     9.0                    10.0   \n\n   seq_temporal_hepatomegaly_1.0  seq_temporal_hepatomegaly_2.0  \\\n0                           13.0                           14.0   \n1                           13.0                           14.0   \n2                           13.0                           14.0   \n3                           13.0                           14.0   \n4                           13.0                           14.0   \n\n   seq_temporal_histologic_1.0  seq_temporal_histologic_2.0  ...  \\\n0                         16.0                         18.0  ...   \n1                         16.0                         18.0  ...   \n2                         16.0                         19.0  ...   \n3                         16.0                         19.0  ...   \n4                         16.0                         19.0  ...   \n\n   seq_temporal_spiders_2.0  seq_temporal_SGOT  seq_temporal_age  \\\n0                      24.0          -1.490373          0.265298   \n1                      24.0           0.310273          0.265298   \n2                      24.0          -0.372825          1.421093   \n3                      24.0           0.050695          1.421093   \n4                      24.0           0.415470          1.421093   \n\n   seq_temporal_albumin  seq_temporal_alkaline  seq_temporal_platelets  \\\n0             -1.074325               0.279377               -0.480089   \n1             -1.831287               0.381746               -0.398600   \n2             -1.675442              -0.631323               -1.446320   \n3             -1.386015              -0.525090               -1.294982   \n4             -1.541860              -0.446865               -1.411396   \n\n   seq_temporal_prothrombin  seq_temporal_serBilir  seq_temporal_serChol  \\\n0                  0.264303               3.865908              0.016353   \n1                  1.021397               2.422955             -0.524945   \n2                  0.491431               0.322185             -0.743389   \n3                  0.491431               0.109986             -0.679676   \n4                  0.491431               0.237306              0.016353   \n\n   seq_id  \n0       0  \n1       0  \n2       1  \n3       1  \n4       1  \n\n[5 rows x 22 columns]",
      "text/html": "<div>\n<style scoped>\n    .dataframe tbody tr th:only-of-type {\n        vertical-align: middle;\n    }\n\n    .dataframe tbody tr th {\n        vertical-align: top;\n    }\n\n    .dataframe thead th {\n        text-align: right;\n    }\n</style>\n<table border=\"1\" class=\"dataframe\">\n  <thead>\n    <tr style=\"text-align: right;\">\n      <th></th>\n      <th>seq_static_sex_1.0</th>\n      <th>seq_temporal_ascites_1.0</th>\n      <th>seq_temporal_ascites_2.0</th>\n      <th>seq_temporal_drug_1.0</th>\n      <th>seq_temporal_edema_1.0</th>\n      <th>seq_temporal_edema_2.0</th>\n      <th>seq_temporal_hepatomegaly_1.0</th>\n      <th>seq_temporal_hepatomegaly_2.0</th>\n      <th>seq_temporal_histologic_1.0</th>\n      <th>seq_temporal_histologic_2.0</th>\n      <th>...</th>\n      <th>seq_temporal_spiders_2.0</th>\n      <th>seq_temporal_SGOT</th>\n      <th>seq_temporal_age</th>\n      <th>seq_temporal_albumin</th>\n      <th>seq_temporal_alkaline</th>\n      <th>seq_temporal_platelets</th>\n      <th>seq_temporal_prothrombin</th>\n      <th>seq_temporal_serBilir</th>\n      <th>seq_temporal_serChol</th>\n      <th>seq_id</th>\n    </tr>\n  </thead>\n  <tbody>\n    <tr>\n      <th>0</th>\n      <td>0.0</td>\n      <td>3.0</td>\n      <td>4.0</td>\n      <td>6.0</td>\n      <td>9.0</td>\n      <td>10.0</td>\n      <td>13.0</td>\n      <td>14.0</td>\n      <td>16.0</td>\n      <td>18.0</td>\n      <td>...</td>\n      <td>24.0</td>\n      <td>-1.490373</td>\n      <td>0.265298</td>\n      <td>-1.074325</td>\n      <td>0.279377</td>\n      <td>-0.480089</td>\n      <td>0.264303</td>\n      <td>3.865908</td>\n      <td>0.016353</td>\n      <td>0</td>\n    </tr>\n    <tr>\n      <th>1</th>\n      <td>0.0</td>\n      <td>3.0</td>\n      <td>4.0</td>\n      <td>6.0</td>\n      <td>9.0</td>\n      <td>10.0</td>\n      <td>13.0</td>\n      <td>14.0</td>\n      <td>16.0</td>\n      <td>18.0</td>\n      <td>...</td>\n      <td>24.0</td>\n      <td>0.310273</td>\n      <td>0.265298</td>\n      <td>-1.831287</td>\n      <td>0.381746</td>\n      <td>-0.398600</td>\n      <td>1.021397</td>\n      <td>2.422955</td>\n      <td>-0.524945</td>\n      <td>0</td>\n    </tr>\n    <tr>\n      <th>2</th>\n      <td>0.0</td>\n      <td>3.0</td>\n      <td>4.0</td>\n      <td>6.0</td>\n      <td>9.0</td>\n      <td>10.0</td>\n      <td>13.0</td>\n      <td>14.0</td>\n      <td>16.0</td>\n      <td>19.0</td>\n      <td>...</td>\n      <td>24.0</td>\n      <td>-0.372825</td>\n      <td>1.421093</td>\n      <td>-1.675442</td>\n      <td>-0.631323</td>\n      <td>-1.446320</td>\n      <td>0.491431</td>\n      <td>0.322185</td>\n      <td>-0.743389</td>\n      <td>1</td>\n    </tr>\n    <tr>\n      <th>3</th>\n      <td>0.0</td>\n      <td>3.0</td>\n      <td>4.0</td>\n      <td>6.0</td>\n      <td>9.0</td>\n      <td>10.0</td>\n      <td>13.0</td>\n      <td>14.0</td>\n      <td>16.0</td>\n      <td>19.0</td>\n      <td>...</td>\n      <td>24.0</td>\n      <td>0.050695</td>\n      <td>1.421093</td>\n      <td>-1.386015</td>\n      <td>-0.525090</td>\n      <td>-1.294982</td>\n      <td>0.491431</td>\n      <td>0.109986</td>\n      <td>-0.679676</td>\n      <td>1</td>\n    </tr>\n    <tr>\n      <th>4</th>\n      <td>0.0</td>\n      <td>3.0</td>\n      <td>4.0</td>\n      <td>6.0</td>\n      <td>9.0</td>\n      <td>10.0</td>\n      <td>13.0</td>\n      <td>14.0</td>\n      <td>16.0</td>\n      <td>19.0</td>\n      <td>...</td>\n      <td>24.0</td>\n      <td>0.415470</td>\n      <td>1.421093</td>\n      <td>-1.541860</td>\n      <td>-0.446865</td>\n      <td>-1.411396</td>\n      <td>0.491431</td>\n      <td>0.237306</td>\n      <td>0.016353</td>\n      <td>1</td>\n    </tr>\n  </tbody>\n</table>\n<p>5 rows × 22 columns</p>\n</div>"
     },
     "execution_count": 384,
     "metadata": {},
     "output_type": "execute_result"
    }
   ],
   "source": [
    "df.head()"
   ],
   "metadata": {
    "collapsed": false
   }
  },
  {
   "cell_type": "code",
   "execution_count": 385,
   "outputs": [
    {
     "data": {
      "text/plain": "   duration  event  proportion  seq_id\n0         3    1.0    0.005610       0\n1         3    1.0    0.005610       0\n2         3    0.0    0.988901       1\n3         3    0.0    0.988901       1\n4         3    0.0    0.988901       1",
      "text/html": "<div>\n<style scoped>\n    .dataframe tbody tr th:only-of-type {\n        vertical-align: middle;\n    }\n\n    .dataframe tbody tr th {\n        vertical-align: top;\n    }\n\n    .dataframe thead th {\n        text-align: right;\n    }\n</style>\n<table border=\"1\" class=\"dataframe\">\n  <thead>\n    <tr style=\"text-align: right;\">\n      <th></th>\n      <th>duration</th>\n      <th>event</th>\n      <th>proportion</th>\n      <th>seq_id</th>\n    </tr>\n  </thead>\n  <tbody>\n    <tr>\n      <th>0</th>\n      <td>3</td>\n      <td>1.0</td>\n      <td>0.005610</td>\n      <td>0</td>\n    </tr>\n    <tr>\n      <th>1</th>\n      <td>3</td>\n      <td>1.0</td>\n      <td>0.005610</td>\n      <td>0</td>\n    </tr>\n    <tr>\n      <th>2</th>\n      <td>3</td>\n      <td>0.0</td>\n      <td>0.988901</td>\n      <td>1</td>\n    </tr>\n    <tr>\n      <th>3</th>\n      <td>3</td>\n      <td>0.0</td>\n      <td>0.988901</td>\n      <td>1</td>\n    </tr>\n    <tr>\n      <th>4</th>\n      <td>3</td>\n      <td>0.0</td>\n      <td>0.988901</td>\n      <td>1</td>\n    </tr>\n  </tbody>\n</table>\n</div>"
     },
     "execution_count": 385,
     "metadata": {},
     "output_type": "execute_result"
    }
   ],
   "source": [
    "df_y.head()"
   ],
   "metadata": {
    "collapsed": false
   }
  },
  {
   "cell_type": "code",
   "execution_count": 386,
   "outputs": [],
   "source": [
    "from utils.covariate_data_processing import padded_mask_processing"
   ],
   "metadata": {
    "collapsed": false
   }
  },
  {
   "cell_type": "code",
   "execution_count": 387,
   "outputs": [
    {
     "name": "stdout",
     "output_type": "stream",
     "text": [
      "16 16\n"
     ]
    }
   ],
   "source": [
    "masks, padded_patients = padded_mask_processing(df)"
   ],
   "metadata": {
    "collapsed": false
   }
  },
  {
   "cell_type": "code",
   "execution_count": 388,
   "outputs": [
    {
     "data": {
      "text/plain": "torch.Size([500, 16, 21])"
     },
     "execution_count": 388,
     "metadata": {},
     "output_type": "execute_result"
    }
   ],
   "source": [
    "padded_patients.shape"
   ],
   "metadata": {
    "collapsed": false
   }
  },
  {
   "cell_type": "code",
   "execution_count": 389,
   "outputs": [
    {
     "data": {
      "text/plain": "torch.Size([500, 16])"
     },
     "execution_count": 389,
     "metadata": {},
     "output_type": "execute_result"
    }
   ],
   "source": [
    "masks.shape"
   ],
   "metadata": {
    "collapsed": false
   }
  },
  {
   "cell_type": "code",
   "execution_count": 390,
   "outputs": [
    {
     "data": {
      "text/plain": "tensor([[ 3.0000e+00,  4.0000e+00,  6.0000e+00,  9.0000e+00,  1.0000e+01,\n          1.3000e+01,  1.4000e+01,  1.6000e+01,  1.8000e+01,  2.1000e+01,\n          2.3000e+01,  2.4000e+01, -1.4904e+00,  2.6530e-01, -1.0743e+00,\n          2.7938e-01, -4.8009e-01,  2.6430e-01,  3.8659e+00,  1.6353e-02,\n          0.0000e+00],\n        [ 3.0000e+00,  4.0000e+00,  6.0000e+00,  9.0000e+00,  1.0000e+01,\n          1.3000e+01,  1.4000e+01,  1.6000e+01,  1.8000e+01,  2.1000e+01,\n          2.3000e+01,  2.4000e+01,  3.1027e-01,  2.6530e-01, -1.8313e+00,\n          3.8175e-01, -3.9860e-01,  1.0214e+00,  2.4230e+00, -5.2495e-01,\n          0.0000e+00],\n        [ 0.0000e+00,  0.0000e+00,  0.0000e+00,  0.0000e+00,  0.0000e+00,\n          0.0000e+00,  0.0000e+00,  0.0000e+00,  0.0000e+00,  0.0000e+00,\n          0.0000e+00,  0.0000e+00,  0.0000e+00,  0.0000e+00,  0.0000e+00,\n          0.0000e+00,  0.0000e+00,  0.0000e+00,  0.0000e+00,  0.0000e+00,\n          0.0000e+00],\n        [ 0.0000e+00,  0.0000e+00,  0.0000e+00,  0.0000e+00,  0.0000e+00,\n          0.0000e+00,  0.0000e+00,  0.0000e+00,  0.0000e+00,  0.0000e+00,\n          0.0000e+00,  0.0000e+00,  0.0000e+00,  0.0000e+00,  0.0000e+00,\n          0.0000e+00,  0.0000e+00,  0.0000e+00,  0.0000e+00,  0.0000e+00,\n          0.0000e+00],\n        [ 0.0000e+00,  0.0000e+00,  0.0000e+00,  0.0000e+00,  0.0000e+00,\n          0.0000e+00,  0.0000e+00,  0.0000e+00,  0.0000e+00,  0.0000e+00,\n          0.0000e+00,  0.0000e+00,  0.0000e+00,  0.0000e+00,  0.0000e+00,\n          0.0000e+00,  0.0000e+00,  0.0000e+00,  0.0000e+00,  0.0000e+00,\n          0.0000e+00],\n        [ 0.0000e+00,  0.0000e+00,  0.0000e+00,  0.0000e+00,  0.0000e+00,\n          0.0000e+00,  0.0000e+00,  0.0000e+00,  0.0000e+00,  0.0000e+00,\n          0.0000e+00,  0.0000e+00,  0.0000e+00,  0.0000e+00,  0.0000e+00,\n          0.0000e+00,  0.0000e+00,  0.0000e+00,  0.0000e+00,  0.0000e+00,\n          0.0000e+00],\n        [ 0.0000e+00,  0.0000e+00,  0.0000e+00,  0.0000e+00,  0.0000e+00,\n          0.0000e+00,  0.0000e+00,  0.0000e+00,  0.0000e+00,  0.0000e+00,\n          0.0000e+00,  0.0000e+00,  0.0000e+00,  0.0000e+00,  0.0000e+00,\n          0.0000e+00,  0.0000e+00,  0.0000e+00,  0.0000e+00,  0.0000e+00,\n          0.0000e+00],\n        [ 0.0000e+00,  0.0000e+00,  0.0000e+00,  0.0000e+00,  0.0000e+00,\n          0.0000e+00,  0.0000e+00,  0.0000e+00,  0.0000e+00,  0.0000e+00,\n          0.0000e+00,  0.0000e+00,  0.0000e+00,  0.0000e+00,  0.0000e+00,\n          0.0000e+00,  0.0000e+00,  0.0000e+00,  0.0000e+00,  0.0000e+00,\n          0.0000e+00],\n        [ 0.0000e+00,  0.0000e+00,  0.0000e+00,  0.0000e+00,  0.0000e+00,\n          0.0000e+00,  0.0000e+00,  0.0000e+00,  0.0000e+00,  0.0000e+00,\n          0.0000e+00,  0.0000e+00,  0.0000e+00,  0.0000e+00,  0.0000e+00,\n          0.0000e+00,  0.0000e+00,  0.0000e+00,  0.0000e+00,  0.0000e+00,\n          0.0000e+00],\n        [ 0.0000e+00,  0.0000e+00,  0.0000e+00,  0.0000e+00,  0.0000e+00,\n          0.0000e+00,  0.0000e+00,  0.0000e+00,  0.0000e+00,  0.0000e+00,\n          0.0000e+00,  0.0000e+00,  0.0000e+00,  0.0000e+00,  0.0000e+00,\n          0.0000e+00,  0.0000e+00,  0.0000e+00,  0.0000e+00,  0.0000e+00,\n          0.0000e+00],\n        [ 0.0000e+00,  0.0000e+00,  0.0000e+00,  0.0000e+00,  0.0000e+00,\n          0.0000e+00,  0.0000e+00,  0.0000e+00,  0.0000e+00,  0.0000e+00,\n          0.0000e+00,  0.0000e+00,  0.0000e+00,  0.0000e+00,  0.0000e+00,\n          0.0000e+00,  0.0000e+00,  0.0000e+00,  0.0000e+00,  0.0000e+00,\n          0.0000e+00],\n        [ 0.0000e+00,  0.0000e+00,  0.0000e+00,  0.0000e+00,  0.0000e+00,\n          0.0000e+00,  0.0000e+00,  0.0000e+00,  0.0000e+00,  0.0000e+00,\n          0.0000e+00,  0.0000e+00,  0.0000e+00,  0.0000e+00,  0.0000e+00,\n          0.0000e+00,  0.0000e+00,  0.0000e+00,  0.0000e+00,  0.0000e+00,\n          0.0000e+00],\n        [ 0.0000e+00,  0.0000e+00,  0.0000e+00,  0.0000e+00,  0.0000e+00,\n          0.0000e+00,  0.0000e+00,  0.0000e+00,  0.0000e+00,  0.0000e+00,\n          0.0000e+00,  0.0000e+00,  0.0000e+00,  0.0000e+00,  0.0000e+00,\n          0.0000e+00,  0.0000e+00,  0.0000e+00,  0.0000e+00,  0.0000e+00,\n          0.0000e+00],\n        [ 0.0000e+00,  0.0000e+00,  0.0000e+00,  0.0000e+00,  0.0000e+00,\n          0.0000e+00,  0.0000e+00,  0.0000e+00,  0.0000e+00,  0.0000e+00,\n          0.0000e+00,  0.0000e+00,  0.0000e+00,  0.0000e+00,  0.0000e+00,\n          0.0000e+00,  0.0000e+00,  0.0000e+00,  0.0000e+00,  0.0000e+00,\n          0.0000e+00],\n        [ 0.0000e+00,  0.0000e+00,  0.0000e+00,  0.0000e+00,  0.0000e+00,\n          0.0000e+00,  0.0000e+00,  0.0000e+00,  0.0000e+00,  0.0000e+00,\n          0.0000e+00,  0.0000e+00,  0.0000e+00,  0.0000e+00,  0.0000e+00,\n          0.0000e+00,  0.0000e+00,  0.0000e+00,  0.0000e+00,  0.0000e+00,\n          0.0000e+00],\n        [ 0.0000e+00,  0.0000e+00,  0.0000e+00,  0.0000e+00,  0.0000e+00,\n          0.0000e+00,  0.0000e+00,  0.0000e+00,  0.0000e+00,  0.0000e+00,\n          0.0000e+00,  0.0000e+00,  0.0000e+00,  0.0000e+00,  0.0000e+00,\n          0.0000e+00,  0.0000e+00,  0.0000e+00,  0.0000e+00,  0.0000e+00,\n          0.0000e+00]])"
     },
     "execution_count": 390,
     "metadata": {},
     "output_type": "execute_result"
    }
   ],
   "source": [
    "padded_patients[0]"
   ],
   "metadata": {
    "collapsed": false
   }
  },
  {
   "cell_type": "code",
   "execution_count": 391,
   "outputs": [],
   "source": [
    "df_y = df_y.drop_duplicates(subset='seq_id', keep='last')"
   ],
   "metadata": {
    "collapsed": false
   }
  },
  {
   "cell_type": "code",
   "execution_count": 392,
   "outputs": [],
   "source": [
    "df_y = df_y.reset_index(drop=True)"
   ],
   "metadata": {
    "collapsed": false
   }
  },
  {
   "cell_type": "code",
   "execution_count": 393,
   "outputs": [],
   "source": [
    "df_y = df_y.drop(columns=['seq_id'])"
   ],
   "metadata": {
    "collapsed": false
   }
  },
  {
   "cell_type": "code",
   "execution_count": 394,
   "outputs": [
    {
     "data": {
      "text/plain": "   duration  event  proportion\n0         3    1.0    0.005610\n1         3    0.0    0.988901\n2         3    1.0    0.017701\n3         1    1.0    0.612903\n4         3    0.0    0.262681",
      "text/html": "<div>\n<style scoped>\n    .dataframe tbody tr th:only-of-type {\n        vertical-align: middle;\n    }\n\n    .dataframe tbody tr th {\n        vertical-align: top;\n    }\n\n    .dataframe thead th {\n        text-align: right;\n    }\n</style>\n<table border=\"1\" class=\"dataframe\">\n  <thead>\n    <tr style=\"text-align: right;\">\n      <th></th>\n      <th>duration</th>\n      <th>event</th>\n      <th>proportion</th>\n    </tr>\n  </thead>\n  <tbody>\n    <tr>\n      <th>0</th>\n      <td>3</td>\n      <td>1.0</td>\n      <td>0.005610</td>\n    </tr>\n    <tr>\n      <th>1</th>\n      <td>3</td>\n      <td>0.0</td>\n      <td>0.988901</td>\n    </tr>\n    <tr>\n      <th>2</th>\n      <td>3</td>\n      <td>1.0</td>\n      <td>0.017701</td>\n    </tr>\n    <tr>\n      <th>3</th>\n      <td>1</td>\n      <td>1.0</td>\n      <td>0.612903</td>\n    </tr>\n    <tr>\n      <th>4</th>\n      <td>3</td>\n      <td>0.0</td>\n      <td>0.262681</td>\n    </tr>\n  </tbody>\n</table>\n</div>"
     },
     "execution_count": 394,
     "metadata": {},
     "output_type": "execute_result"
    }
   ],
   "source": [
    "df_y.head()"
   ],
   "metadata": {
    "collapsed": false
   }
  },
  {
   "cell_type": "code",
   "execution_count": 401,
   "outputs": [],
   "source": [
    "Y_labels_time_real = df_temp.drop_duplicates(subset='seq_id', keep='last')\n",
    "Y_labels_time_real = Y_labels_time_real.reset_index(drop=True)\n",
    "Y_labels_time_real = Y_labels_time_real.drop(columns=['seq_id'])"
   ],
   "metadata": {
    "collapsed": false
   }
  },
  {
   "cell_type": "code",
   "execution_count": 402,
   "outputs": [
    {
     "data": {
      "text/plain": "        time\n0   0.569489\n1  14.152338\n2   0.736502\n3   0.276531\n4   4.120578",
      "text/html": "<div>\n<style scoped>\n    .dataframe tbody tr th:only-of-type {\n        vertical-align: middle;\n    }\n\n    .dataframe tbody tr th {\n        vertical-align: top;\n    }\n\n    .dataframe thead th {\n        text-align: right;\n    }\n</style>\n<table border=\"1\" class=\"dataframe\">\n  <thead>\n    <tr style=\"text-align: right;\">\n      <th></th>\n      <th>time</th>\n    </tr>\n  </thead>\n  <tbody>\n    <tr>\n      <th>0</th>\n      <td>0.569489</td>\n    </tr>\n    <tr>\n      <th>1</th>\n      <td>14.152338</td>\n    </tr>\n    <tr>\n      <th>2</th>\n      <td>0.736502</td>\n    </tr>\n    <tr>\n      <th>3</th>\n      <td>0.276531</td>\n    </tr>\n    <tr>\n      <th>4</th>\n      <td>4.120578</td>\n    </tr>\n  </tbody>\n</table>\n</div>"
     },
     "execution_count": 402,
     "metadata": {},
     "output_type": "execute_result"
    }
   ],
   "source": [
    "Y_labels_time_real.head()"
   ],
   "metadata": {
    "collapsed": false
   }
  },
  {
   "cell_type": "code",
   "execution_count": 403,
   "outputs": [],
   "source": [
    "X_features_data_tensor = padded_patients\n",
    "Y_labels_data_tensor = torch.Tensor(df_y.values)\n",
    "Y_labels_time_real = torch.Tensor(Y_labels_time_real.values)"
   ],
   "metadata": {
    "collapsed": false
   }
  },
  {
   "cell_type": "code",
   "execution_count": 404,
   "outputs": [],
   "source": [
    "from sklearn.model_selection import KFold\n",
    "from torch.utils.data import TensorDataset\n",
    "\n",
    "kfold_split = KFold(n_splits=5, random_state=None, shuffle=True)\n",
    "data_tensor_full = TensorDataset(X_features_data_tensor, Y_labels_data_tensor, masks, Y_labels_time_real)"
   ],
   "metadata": {
    "collapsed": false
   }
  },
  {
   "cell_type": "code",
   "execution_count": 405,
   "outputs": [],
   "source": [
    "train_list = []\n",
    "test_list = []\n",
    "\n",
    "for train, test in kfold_split.split(data_tensor_full):\n",
    "    train_list.append(data_tensor_full[train])\n",
    "    test_list.append(data_tensor_full[test])"
   ],
   "metadata": {
    "collapsed": false
   }
  },
  {
   "cell_type": "code",
   "execution_count": 605,
   "outputs": [],
   "source": [
    "train_tensor_data = train_list[4]\n",
    "test_tensor_data = test_list[4]"
   ],
   "metadata": {
    "collapsed": false
   }
  },
  {
   "cell_type": "code",
   "execution_count": 606,
   "outputs": [],
   "source": [
    "X_train = train_tensor_data[0]\n",
    "y_train = train_tensor_data[1]\n",
    "masks_train = train_tensor_data[2]\n",
    "time_train = train_tensor_data[3]\n",
    "\n",
    "X_train, X_val, y_train, y_val, masks_train, masks_val, time_train, time_val = train_test_split(\n",
    "    X_train, y_train, masks_train, time_train,\n",
    "    test_size=0.25)\n",
    "\n",
    "X_test = test_tensor_data[0]\n",
    "y_test = test_tensor_data[1]\n",
    "masks_test = test_tensor_data[2]\n",
    "time_test = test_tensor_data[3]"
   ],
   "metadata": {
    "collapsed": false
   }
  },
  {
   "cell_type": "code",
   "execution_count": 607,
   "outputs": [],
   "source": [
    "import torch\n",
    "from torch.utils.data import TensorDataset\n",
    "\n",
    "# X_train, X_val, y_train, y_val, masks_train, masks_val, time_train, time_val = train_test_split(X_features_data_tensor, Y_labels_data_tensor,\n",
    "#                                                                           masks, Y_labels_time_real, test_size=0.3)\n",
    "#\n",
    "# X_val, X_test, y_val, y_test, masks_val, masks_test, time_val, time_test = train_test_split(X_val, y_val,\n",
    "#                                                                           masks_val, time_val, test_size=0.5)\n",
    "\n",
    "\n",
    "train_data = TensorDataset(X_train, y_train, masks_train)\n",
    "val_data = TensorDataset(X_val, y_val, masks_val)\n",
    "test_data = TensorDataset(X_test, y_test, masks_test)"
   ],
   "metadata": {
    "collapsed": false
   }
  },
  {
   "cell_type": "code",
   "execution_count": 608,
   "outputs": [
    {
     "data": {
      "text/plain": "torch.Size([300, 16, 21])"
     },
     "execution_count": 608,
     "metadata": {},
     "output_type": "execute_result"
    }
   ],
   "source": [
    "X_train.shape"
   ],
   "metadata": {
    "collapsed": false
   }
  },
  {
   "cell_type": "code",
   "execution_count": 609,
   "outputs": [
    {
     "data": {
      "text/plain": "torch.Size([300, 3])"
     },
     "execution_count": 609,
     "metadata": {},
     "output_type": "execute_result"
    }
   ],
   "source": [
    "y_train.shape"
   ],
   "metadata": {
    "collapsed": false
   }
  },
  {
   "cell_type": "code",
   "execution_count": 610,
   "outputs": [
    {
     "name": "stdout",
     "output_type": "stream",
     "text": [
      "torch.Size([100, 16, 21])\n",
      "torch.Size([100, 3])\n",
      "torch.Size([100, 16])\n",
      "torch.Size([100, 1])\n"
     ]
    }
   ],
   "source": [
    "print(X_test.shape)\n",
    "print(y_test.shape)\n",
    "print(masks_test.shape)\n",
    "print(time_test.shape)"
   ],
   "metadata": {
    "collapsed": false
   }
  },
  {
   "cell_type": "code",
   "execution_count": 611,
   "outputs": [],
   "source": [
    "STConfig['data'] = 'metabric'\n",
    "# STConfig['duration_index'] = [2.73792575e-03, 3.83309605e-02, 1.86178951e-01, 4.73661154e-01, 1.43056620e+01]\n",
    "STConfig['duration_index'] = [2.73792575e-03, 1.20468733e-01, 3.75095827e-01, 4.91987332e-01, 1.43056620e+01]\n",
    "\n",
    "STConfig['num_numerical_feature'] = 21\n",
    "STConfig['num_categorical_feature'] = 0\n",
    "STConfig['num_feature'] = 21\n",
    "STConfig['vocab_size'] = 26\n",
    "STConfig['out_feature'] = 4\n",
    "\n",
    "hparams = {\n",
    "    'batch_size': 8,\n",
    "    'weight_decay': 1e-4,\n",
    "    'learning_rate': 1e-3,\n",
    "    'epochs': 20,\n",
    "}"
   ],
   "metadata": {
    "collapsed": false
   }
  },
  {
   "cell_type": "code",
   "execution_count": 612,
   "outputs": [],
   "source": [
    "from model.custom_model_survtrace import Custom_SurvTrace\n",
    "\n",
    "model = Custom_SurvTrace(STConfig)\n",
    "a = masks_train[0:2]\n",
    "# print(X_train[0].shape)\n",
    "# print(X_train[0].unsqueeze(0).shape)\n",
    "output = model(input_nums=X_train[0:2], our_mask=a)"
   ],
   "metadata": {
    "collapsed": false
   }
  },
  {
   "cell_type": "code",
   "execution_count": 613,
   "outputs": [
    {
     "name": "stdout",
     "output_type": "stream",
     "text": [
      "2\n"
     ]
    }
   ],
   "source": [
    "print(len(output[0][0]))"
   ],
   "metadata": {
    "collapsed": false
   }
  },
  {
   "cell_type": "code",
   "execution_count": 614,
   "outputs": [],
   "source": [
    "df_train = X_train\n",
    "df_val = X_val\n",
    "df_test = X_test\n",
    "\n",
    "df_y_train = y_train\n",
    "df_y_val = y_val\n",
    "df_y_test = y_test"
   ],
   "metadata": {
    "collapsed": false
   }
  },
  {
   "cell_type": "code",
   "execution_count": 615,
   "outputs": [],
   "source": [
    "df_y_train = pd.DataFrame(df_y_train, columns=['duration', 'event', 'proportion'])\n",
    "df_y_val = pd.DataFrame(df_y_val, columns=['duration', 'event', 'proportion'])\n",
    "df_y_test = pd.DataFrame(df_y_test, columns=['duration', 'event', 'proportion'])"
   ],
   "metadata": {
    "collapsed": false
   }
  },
  {
   "cell_type": "code",
   "execution_count": 616,
   "outputs": [
    {
     "data": {
      "text/plain": "False"
     },
     "execution_count": 616,
     "metadata": {},
     "output_type": "execute_result"
    }
   ],
   "source": [
    "df_y_test.isnull().values.any()"
   ],
   "metadata": {
    "collapsed": false
   }
  },
  {
   "cell_type": "code",
   "execution_count": 617,
   "outputs": [
    {
     "name": "stdout",
     "output_type": "stream",
     "text": [
      "<class 'pandas.core.frame.DataFrame'>\n",
      "(100, 3)\n"
     ]
    }
   ],
   "source": [
    "# df_train = pd.DataFrame(df_train)\n",
    "# df_val = pd.DataFrame(df_val)\n",
    "print(type(df_y_test))\n",
    "print(df_y_test.shape)"
   ],
   "metadata": {
    "collapsed": false
   }
  },
  {
   "cell_type": "code",
   "execution_count": 618,
   "outputs": [
    {
     "name": "stdout",
     "output_type": "stream",
     "text": [
      "torch.Size([300, 16])\n",
      "torch.Size([300, 3])\n"
     ]
    }
   ],
   "source": [
    "print(masks_train.shape)\n",
    "print(y_train.shape)"
   ],
   "metadata": {
    "collapsed": false
   }
  },
  {
   "cell_type": "code",
   "execution_count": 631,
   "outputs": [
    {
     "name": "stdout",
     "output_type": "stream",
     "text": [
      "GPU not found! will use cpu for training!\n"
     ]
    },
    {
     "name": "stderr",
     "output_type": "stream",
     "text": [
      "/Users/davidlee/opt/anaconda3/envs/synthcity/lib/python3.9/site-packages/torch/nn/modules/activation.py:1160: UserWarning: Converting mask without torch.bool dtype to bool; this will negatively affect performance. Prefer to use a boolean mask directly. (Triggered internally at /Users/runner/work/pytorch/pytorch/pytorch/aten/src/ATen/native/transformers/attention.cpp:152.)\n",
      "  return torch._native_multi_head_attention(\n"
     ]
    },
    {
     "name": "stdout",
     "output_type": "stream",
     "text": [
      "[Train-0]: 66.43586933612823\n",
      "[Val-0]: 1.2625733613967896\n",
      "[Train-1]: 41.097491681575775\n",
      "[Val-1]: 2.9734439849853516\n",
      "EarlyStopping counter: 1 out of 5\n",
      "[Train-2]: 38.98316249251366\n",
      "[Val-2]: 1.535427451133728\n",
      "EarlyStopping counter: 2 out of 5\n",
      "[Train-3]: 37.17189633846283\n",
      "[Val-3]: 0.7954344749450684\n",
      "[Train-4]: 36.90473273396492\n",
      "[Val-4]: 13.910335540771484\n",
      "EarlyStopping counter: 1 out of 5\n",
      "[Train-5]: 37.00583729147911\n",
      "[Val-5]: 4.977255821228027\n",
      "EarlyStopping counter: 2 out of 5\n",
      "[Train-6]: 37.39939326047897\n",
      "[Val-6]: 1.148421049118042\n",
      "EarlyStopping counter: 3 out of 5\n",
      "[Train-7]: 33.35216888785362\n",
      "[Val-7]: 0.8606656789779663\n",
      "EarlyStopping counter: 4 out of 5\n",
      "[Train-8]: 35.60224550962448\n",
      "[Val-8]: 1.103866696357727\n",
      "EarlyStopping counter: 5 out of 5\n",
      "early stops at epoch 9\n"
     ]
    }
   ],
   "source": [
    "# get model\n",
    "model = Custom_SurvTrace(STConfig)\n",
    "\n",
    "# initialize a trainer\n",
    "trainer = Trainer(model)\n",
    "#\n",
    "train_loss, val_loss = trainer.fit((df_train, df_y_train), masks_train, (df_val, df_y_val), masks_val,\n",
    "                                   batch_size=hparams['batch_size'],\n",
    "                                   epochs=hparams['epochs'],\n",
    "                                   learning_rate=hparams['learning_rate'],\n",
    "                                   weight_decay=hparams['weight_decay'], )"
   ],
   "metadata": {
    "collapsed": false
   }
  },
  {
   "cell_type": "code",
   "execution_count": 632,
   "outputs": [
    {
     "data": {
      "text/plain": "   duration  event  proportion\n0  0.679006    1.0    0.013539\n1  0.334027    1.0    0.838710\n2  0.035593    1.0    0.279070\n3  0.262841    1.0    0.559140\n4  0.394261    1.0    0.163960",
      "text/html": "<div>\n<style scoped>\n    .dataframe tbody tr th:only-of-type {\n        vertical-align: middle;\n    }\n\n    .dataframe tbody tr th {\n        vertical-align: top;\n    }\n\n    .dataframe thead th {\n        text-align: right;\n    }\n</style>\n<table border=\"1\" class=\"dataframe\">\n  <thead>\n    <tr style=\"text-align: right;\">\n      <th></th>\n      <th>duration</th>\n      <th>event</th>\n      <th>proportion</th>\n    </tr>\n  </thead>\n  <tbody>\n    <tr>\n      <th>0</th>\n      <td>0.679006</td>\n      <td>1.0</td>\n      <td>0.013539</td>\n    </tr>\n    <tr>\n      <th>1</th>\n      <td>0.334027</td>\n      <td>1.0</td>\n      <td>0.838710</td>\n    </tr>\n    <tr>\n      <th>2</th>\n      <td>0.035593</td>\n      <td>1.0</td>\n      <td>0.279070</td>\n    </tr>\n    <tr>\n      <th>3</th>\n      <td>0.262841</td>\n      <td>1.0</td>\n      <td>0.559140</td>\n    </tr>\n    <tr>\n      <th>4</th>\n      <td>0.394261</td>\n      <td>1.0</td>\n      <td>0.163960</td>\n    </tr>\n  </tbody>\n</table>\n</div>"
     },
     "execution_count": 632,
     "metadata": {},
     "output_type": "execute_result"
    }
   ],
   "source": [
    "df_y_test.head()"
   ],
   "metadata": {
    "collapsed": false
   }
  },
  {
   "cell_type": "code",
   "execution_count": 633,
   "outputs": [
    {
     "data": {
      "text/plain": "   duration  event  proportion\n0         3    1.0    0.005610\n1         3    0.0    0.988901\n2         3    1.0    0.017701\n3         1    1.0    0.612903\n4         3    0.0    0.262681",
      "text/html": "<div>\n<style scoped>\n    .dataframe tbody tr th:only-of-type {\n        vertical-align: middle;\n    }\n\n    .dataframe tbody tr th {\n        vertical-align: top;\n    }\n\n    .dataframe thead th {\n        text-align: right;\n    }\n</style>\n<table border=\"1\" class=\"dataframe\">\n  <thead>\n    <tr style=\"text-align: right;\">\n      <th></th>\n      <th>duration</th>\n      <th>event</th>\n      <th>proportion</th>\n    </tr>\n  </thead>\n  <tbody>\n    <tr>\n      <th>0</th>\n      <td>3</td>\n      <td>1.0</td>\n      <td>0.005610</td>\n    </tr>\n    <tr>\n      <th>1</th>\n      <td>3</td>\n      <td>0.0</td>\n      <td>0.988901</td>\n    </tr>\n    <tr>\n      <th>2</th>\n      <td>3</td>\n      <td>1.0</td>\n      <td>0.017701</td>\n    </tr>\n    <tr>\n      <th>3</th>\n      <td>1</td>\n      <td>1.0</td>\n      <td>0.612903</td>\n    </tr>\n    <tr>\n      <th>4</th>\n      <td>3</td>\n      <td>0.0</td>\n      <td>0.262681</td>\n    </tr>\n  </tbody>\n</table>\n</div>"
     },
     "execution_count": 633,
     "metadata": {},
     "output_type": "execute_result"
    }
   ],
   "source": [
    "df_y.head()"
   ],
   "metadata": {
    "collapsed": false
   }
  },
  {
   "cell_type": "code",
   "execution_count": 634,
   "outputs": [],
   "source": [
    "time_test = pd.DataFrame(time_test, columns=['duration'])"
   ],
   "metadata": {
    "collapsed": false
   }
  },
  {
   "cell_type": "code",
   "execution_count": 635,
   "outputs": [
    {
     "data": {
      "text/plain": "False"
     },
     "execution_count": 635,
     "metadata": {},
     "output_type": "execute_result"
    }
   ],
   "source": [
    "time_test.isnull().values.any()"
   ],
   "metadata": {
    "collapsed": false
   }
  },
  {
   "cell_type": "code",
   "execution_count": 636,
   "outputs": [],
   "source": [
    "df_y_test['duration'] = time_test['duration']\n",
    "# time_val = pd.DataFrame(time_val, columns=['duration'])"
   ],
   "metadata": {
    "collapsed": false
   }
  },
  {
   "cell_type": "code",
   "execution_count": 637,
   "outputs": [
    {
     "data": {
      "text/plain": "torch.Size([100, 16, 21])"
     },
     "execution_count": 637,
     "metadata": {},
     "output_type": "execute_result"
    }
   ],
   "source": [
    "df_test.shape"
   ],
   "metadata": {
    "collapsed": false
   }
  },
  {
   "cell_type": "code",
   "execution_count": 638,
   "outputs": [
    {
     "data": {
      "text/plain": "(100, 3)"
     },
     "execution_count": 638,
     "metadata": {},
     "output_type": "execute_result"
    }
   ],
   "source": [
    "df_y_test.shape"
   ],
   "metadata": {
    "collapsed": false
   }
  },
  {
   "cell_type": "code",
   "execution_count": 639,
   "outputs": [
    {
     "data": {
      "text/plain": "torch.Size([100, 16])"
     },
     "execution_count": 639,
     "metadata": {},
     "output_type": "execute_result"
    }
   ],
   "source": [
    "masks_test.shape"
   ],
   "metadata": {
    "collapsed": false
   }
  },
  {
   "cell_type": "code",
   "execution_count": 640,
   "outputs": [
    {
     "data": {
      "text/plain": "0"
     },
     "execution_count": 640,
     "metadata": {},
     "output_type": "execute_result"
    }
   ],
   "source": [
    "df_y_test['duration'].isnull().sum()"
   ],
   "metadata": {
    "collapsed": false
   }
  },
  {
   "cell_type": "code",
   "execution_count": 641,
   "outputs": [
    {
     "data": {
      "text/plain": "   duration  event  proportion\n0  0.679006    1.0    0.013539\n1  0.334027    1.0    0.838710\n2  0.035593    1.0    0.279070\n3  0.262841    1.0    0.559140\n4  0.394261    1.0    0.163960",
      "text/html": "<div>\n<style scoped>\n    .dataframe tbody tr th:only-of-type {\n        vertical-align: middle;\n    }\n\n    .dataframe tbody tr th {\n        vertical-align: top;\n    }\n\n    .dataframe thead th {\n        text-align: right;\n    }\n</style>\n<table border=\"1\" class=\"dataframe\">\n  <thead>\n    <tr style=\"text-align: right;\">\n      <th></th>\n      <th>duration</th>\n      <th>event</th>\n      <th>proportion</th>\n    </tr>\n  </thead>\n  <tbody>\n    <tr>\n      <th>0</th>\n      <td>0.679006</td>\n      <td>1.0</td>\n      <td>0.013539</td>\n    </tr>\n    <tr>\n      <th>1</th>\n      <td>0.334027</td>\n      <td>1.0</td>\n      <td>0.838710</td>\n    </tr>\n    <tr>\n      <th>2</th>\n      <td>0.035593</td>\n      <td>1.0</td>\n      <td>0.279070</td>\n    </tr>\n    <tr>\n      <th>3</th>\n      <td>0.262841</td>\n      <td>1.0</td>\n      <td>0.559140</td>\n    </tr>\n    <tr>\n      <th>4</th>\n      <td>0.394261</td>\n      <td>1.0</td>\n      <td>0.163960</td>\n    </tr>\n  </tbody>\n</table>\n</div>"
     },
     "execution_count": 641,
     "metadata": {},
     "output_type": "execute_result"
    }
   ],
   "source": [
    "df_y_test.head()"
   ],
   "metadata": {
    "collapsed": false
   }
  },
  {
   "cell_type": "code",
   "execution_count": 642,
   "outputs": [
    {
     "name": "stdout",
     "output_type": "stream",
     "text": [
      "******************************\n",
      "start evaluation\n",
      "******************************\n",
      "Evaluate with single event\n",
      "For 0.25 quantile,\n",
      "TD Concordance Index - IPCW: 0.8519003931847968\n",
      "Brier Score: 0.06078347572253402\n",
      "For 0.5 quantile,\n",
      "TD Concordance Index - IPCW: 0.8847279110590989\n",
      "Brier Score: 0.10394629434937659\n",
      "For 0.75 quantile,\n",
      "TD Concordance Index - IPCW: 0.7030075187969925\n",
      "Brier Score: 0.18337230990251874\n",
      "done\n"
     ]
    },
    {
     "name": "stderr",
     "output_type": "stream",
     "text": [
      "/Users/davidlee/opt/anaconda3/envs/synthcity/lib/python3.9/site-packages/torch/nn/modules/activation.py:1160: UserWarning: Converting mask without torch.bool dtype to bool; this will negatively affect performance. Prefer to use a boolean mask directly. (Triggered internally at /Users/runner/work/pytorch/pytorch/pytorch/aten/src/ATen/native/transformers/attention.cpp:152.)\n",
      "  return torch._native_multi_head_attention(\n"
     ]
    }
   ],
   "source": [
    "from model.custom_evaluation_survtrace import Custom_Evaluation\n",
    "\n",
    "# evaluate model\n",
    "evaluator = Custom_Evaluation(df_y, df_y_train.index)\n",
    "evaluator.eval(model=model, test_set=(df_test, df_y_test), our_mask=masks_test)\n",
    "print(\"done\")"
   ],
   "metadata": {
    "collapsed": false
   }
  },
  {
   "cell_type": "code",
   "execution_count": 164,
   "outputs": [],
   "source": [
    "# happy happy happy"
   ],
   "metadata": {
    "collapsed": false
   }
  },
  {
   "cell_type": "code",
   "execution_count": null,
   "outputs": [],
   "source": [],
   "metadata": {
    "collapsed": false
   }
  }
 ],
 "metadata": {
  "kernelspec": {
   "display_name": "Python 3",
   "language": "python",
   "name": "python3"
  },
  "language_info": {
   "codemirror_mode": {
    "name": "ipython",
    "version": 2
   },
   "file_extension": ".py",
   "mimetype": "text/x-python",
   "name": "python",
   "nbconvert_exporter": "python",
   "pygments_lexer": "ipython2",
   "version": "2.7.6"
  }
 },
 "nbformat": 4,
 "nbformat_minor": 0
}
