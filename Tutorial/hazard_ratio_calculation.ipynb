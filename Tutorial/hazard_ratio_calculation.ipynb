{
 "cells": [
  {
   "cell_type": "code",
   "execution_count": 1,
   "metadata": {
    "collapsed": true,
    "pycharm": {
     "name": "#%%\n"
    }
   },
   "outputs": [],
   "source": [
    "from lifelines import CoxPHFitter\n",
    "cph = CoxPHFitter()"
   ]
  },
  {
   "cell_type": "code",
   "execution_count": 3,
   "outputs": [
    {
     "name": "stdout",
     "output_type": "stream",
     "text": [
      "Requirement already satisfied: sklearn-pandas in /Users/davidlee/opt/anaconda3/envs/synthcity/lib/python3.9/site-packages (2.2.0)\r\n",
      "Requirement already satisfied: scikit-learn>=0.23.0 in /Users/davidlee/opt/anaconda3/envs/synthcity/lib/python3.9/site-packages (from sklearn-pandas) (1.2.2)\r\n",
      "Requirement already satisfied: scipy>=1.5.1 in /Users/davidlee/opt/anaconda3/envs/synthcity/lib/python3.9/site-packages (from sklearn-pandas) (1.11.1)\r\n",
      "Requirement already satisfied: pandas>=1.1.4 in /Users/davidlee/opt/anaconda3/envs/synthcity/lib/python3.9/site-packages (from sklearn-pandas) (1.5.3)\r\n",
      "Requirement already satisfied: numpy>=1.18.1 in /Users/davidlee/opt/anaconda3/envs/synthcity/lib/python3.9/site-packages (from sklearn-pandas) (1.24.0)\r\n",
      "Requirement already satisfied: python-dateutil>=2.8.1 in /Users/davidlee/opt/anaconda3/envs/synthcity/lib/python3.9/site-packages (from pandas>=1.1.4->sklearn-pandas) (2.8.2)\r\n",
      "Requirement already satisfied: pytz>=2020.1 in /Users/davidlee/opt/anaconda3/envs/synthcity/lib/python3.9/site-packages (from pandas>=1.1.4->sklearn-pandas) (2022.7)\r\n",
      "Requirement already satisfied: joblib>=1.1.1 in /Users/davidlee/opt/anaconda3/envs/synthcity/lib/python3.9/site-packages (from scikit-learn>=0.23.0->sklearn-pandas) (1.3.1)\r\n",
      "Requirement already satisfied: threadpoolctl>=2.0.0 in /Users/davidlee/opt/anaconda3/envs/synthcity/lib/python3.9/site-packages (from scikit-learn>=0.23.0->sklearn-pandas) (3.1.0)\r\n",
      "Requirement already satisfied: six>=1.5 in /Users/davidlee/opt/anaconda3/envs/synthcity/lib/python3.9/site-packages (from python-dateutil>=2.8.1->pandas>=1.1.4->sklearn-pandas) (1.16.0)\r\n"
     ]
    }
   ],
   "source": [
    "!pip install sklearn-pandas"
   ],
   "metadata": {
    "collapsed": false,
    "pycharm": {
     "name": "#%%\n"
    }
   }
  },
  {
   "cell_type": "code",
   "execution_count": 4,
   "outputs": [],
   "source": [
    "# read data -> add features for the data\n",
    "import numpy as np\n",
    "import matplotlib.pyplot as plt\n",
    "from sklearn.preprocessing import StandardScaler\n",
    "from sklearn_pandas import DataFrameMapper\n",
    "import torch\n",
    "import torchtuples as tt\n",
    "from pycox.datasets import metabric\n",
    "from pycox.models import CoxPH\n",
    "from pycox.evaluation import EvalSurv\n"
   ],
   "metadata": {
    "collapsed": false,
    "pycharm": {
     "name": "#%%\n"
    }
   }
  },
  {
   "cell_type": "code",
   "execution_count": 5,
   "outputs": [],
   "source": [
    "df_train = metabric.read_df()\n",
    "df_train = df_train.sample(frac=1)  # shuffle dataset\n"
   ],
   "metadata": {
    "collapsed": false,
    "pycharm": {
     "name": "#%%\n"
    }
   }
  },
  {
   "cell_type": "code",
   "execution_count": 11,
   "outputs": [],
   "source": [
    "cols_standardize = ['x0', 'x1', 'x2', 'x3', 'x8']\n",
    "cols_leave = ['x4', 'x5', 'x6', 'x7']\n",
    "\n",
    "standardize = [([col], StandardScaler()) for col in cols_standardize]\n",
    "leave = [(col, None) for col in cols_leave]\n",
    "\n",
    "x_mapper = DataFrameMapper(standardize + leave)\n",
    "\n",
    "x_train = x_mapper.fit_transform(df_train).astype('float32')\n",
    "y_train = df_train[['duration', 'event']].values\n"
   ],
   "metadata": {
    "collapsed": false,
    "pycharm": {
     "name": "#%%\n"
    }
   }
  },
  {
   "cell_type": "code",
   "execution_count": 12,
   "outputs": [],
   "source": [
    "in_features = x_train.shape[1]\n",
    "num_nodes = [32, 32]\n",
    "out_features = 1\n",
    "batch_norm = True\n",
    "dropout = 0.1\n",
    "\n",
    "net = tt.practical.MLPVanilla(in_features, num_nodes, out_features, batch_norm, dropout)\n"
   ],
   "metadata": {
    "collapsed": false,
    "pycharm": {
     "name": "#%%\n"
    }
   }
  },
  {
   "cell_type": "code",
   "execution_count": 15,
   "outputs": [
    {
     "data": {
      "text/plain": "<Figure size 640x480 with 1 Axes>",
      "image/png": "[encoded data removed]"
     },
     "metadata": {},
     "output_type": "display_data"
    }
   ],
   "source": [
    "model = CoxPH(net, tt.optim.Adam)\n",
    "batch_size = 256\n",
    "durations_train, events_train = y_train[:, 0], y_train[:, 1]\n",
    "lrfinder = model.lr_finder(x_train, (durations_train, events_train), batch_size, tolerance=10)\n",
    "\n",
    "_ = lrfinder.plot()\n"
   ],
   "metadata": {
    "collapsed": false,
    "pycharm": {
     "name": "#%%\n"
    }
   }
  },
  {
   "cell_type": "code",
   "execution_count": 18,
   "outputs": [
    {
     "name": "stdout",
     "output_type": "stream",
     "text": [
      "0:\t[0s / 0s],\t\ttrain_loss: 4.7035\n",
      "1:\t[0s / 0s],\t\ttrain_loss: 4.6256\n",
      "2:\t[0s / 0s],\t\ttrain_loss: 4.6048\n",
      "3:\t[0s / 0s],\t\ttrain_loss: 4.6103\n",
      "4:\t[0s / 0s],\t\ttrain_loss: 4.5825\n",
      "5:\t[0s / 0s],\t\ttrain_loss: 4.5782\n",
      "6:\t[0s / 0s],\t\ttrain_loss: 4.5663\n",
      "7:\t[0s / 0s],\t\ttrain_loss: 4.5597\n",
      "8:\t[0s / 0s],\t\ttrain_loss: 4.5666\n",
      "9:\t[0s / 0s],\t\ttrain_loss: 4.5793\n"
     ]
    }
   ],
   "source": [
    "lr = 0.01\n",
    "model.optimizer.set_lr(lr)\n",
    "epochs = 512\n",
    "callbacks = [tt.callbacks.EarlyStopping()]\n",
    "verbose = True\n",
    "\n",
    "log = model.fit(x_train, (durations_train, events_train), batch_size, epochs, callbacks, verbose)\n"
   ],
   "metadata": {
    "collapsed": false,
    "pycharm": {
     "name": "#%%\n"
    }
   }
  },
  {
   "cell_type": "code",
   "execution_count": null,
   "outputs": [],
   "source": [],
   "metadata": {
    "collapsed": false,
    "pycharm": {
     "name": "#%%\n"
    }
   }
  }
 ],
 "metadata": {
  "kernelspec": {
   "display_name": "Python 3",
   "language": "python",
   "name": "python3"
  },
  "language_info": {
   "codemirror_mode": {
    "name": "ipython",
    "version": 2
   },
   "file_extension": ".py",
   "mimetype": "text/x-python",
   "name": "python",
   "nbconvert_exporter": "python",
   "pygments_lexer": "ipython2",
   "version": "2.7.6"
  }
 },
 "nbformat": 4,
 "nbformat_minor": 0
}