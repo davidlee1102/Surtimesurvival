{
 "cells": [
  {
   "cell_type": "code",
   "execution_count": 1,
   "outputs": [],
   "source": [
    "import pandas as pd\n",
    "import torch\n",
    "import numpy as np\n",
    "\n",
    "from sklearn.model_selection import train_test_split\n",
    "from utils.covariate_data_processing import pbc2_proccess_covariate, padded_mask_processing"
   ],
   "metadata": {
    "collapsed": false,
    "pycharm": {
     "name": "#%%\n"
    }
   }
  },
  {
   "cell_type": "code",
   "execution_count": 2,
   "outputs": [],
   "source": [
    "df = pd.read_csv(\n",
    "    \"/Users/davidlee/Documents/GitHub/Surtimesurvival/Data Project/Pycox Lib/PBC2 Convariate Data/pbc2_data_merged_timegan_auton_covariate.csv\")"
   ],
   "metadata": {
    "collapsed": false,
    "pycharm": {
     "name": "#%%\n"
    }
   }
  },
  {
   "cell_type": "code",
   "execution_count": 3,
   "outputs": [
    {
     "data": {
      "text/plain": "   event       time  seq_id  seq_time_id  seq_temporal_SGOT  seq_temporal_age  \\\n0    1.0   0.569489       0     0.569489          -1.490373          0.265298   \n1    1.0   0.569489       0     1.095170           0.310273          0.265298   \n2    0.0  14.152338       1     5.319790          -0.372825          1.421093   \n3    0.0  14.152338       1     6.261636           0.050695          1.421093   \n4    0.0  14.152338       1     7.266455           0.415470          1.421093   \n\n   seq_temporal_albumin  seq_temporal_alkaline  seq_temporal_platelets  \\\n0             -1.074325               0.279377               -0.480089   \n1             -1.831287               0.381746               -0.398600   \n2             -1.675442              -0.631323               -1.446320   \n3             -1.386015              -0.525090               -1.294982   \n4             -1.541860              -0.446865               -1.411396   \n\n   seq_temporal_prothrombin  ...  seq_temporal_drug_1.0  \\\n0                  0.264303  ...                      0   \n1                  1.021397  ...                      0   \n2                  0.491431  ...                      0   \n3                  0.491431  ...                      0   \n4                  0.491431  ...                      0   \n\n   seq_temporal_edema_1.0  seq_temporal_edema_2.0  \\\n0                       1                       0   \n1                       1                       0   \n2                       1                       0   \n3                       1                       0   \n4                       1                       0   \n\n   seq_temporal_hepatomegaly_1.0  seq_temporal_hepatomegaly_2.0  \\\n0                              1                              0   \n1                              1                              0   \n2                              1                              0   \n3                              1                              0   \n4                              1                              0   \n\n   seq_temporal_histologic_1.0  seq_temporal_histologic_2.0  \\\n0                            0                            0   \n1                            0                            0   \n2                            0                            1   \n3                            0                            1   \n4                            0                            1   \n\n   seq_temporal_histologic_3.0  seq_temporal_spiders_1.0  \\\n0                            1                         1   \n1                            1                         1   \n2                            0                         1   \n3                            0                         1   \n4                            0                         1   \n\n   seq_temporal_spiders_2.0  \n0                         0  \n1                         0  \n2                         0  \n3                         0  \n4                         0  \n\n[5 rows x 25 columns]",
      "text/html": "<div>\n<style scoped>\n    .dataframe tbody tr th:only-of-type {\n        vertical-align: middle;\n    }\n\n    .dataframe tbody tr th {\n        vertical-align: top;\n    }\n\n    .dataframe thead th {\n        text-align: right;\n    }\n</style>\n<table border=\"1\" class=\"dataframe\">\n  <thead>\n    <tr style=\"text-align: right;\">\n      <th></th>\n      <th>event</th>\n      <th>time</th>\n      <th>seq_id</th>\n      <th>seq_time_id</th>\n      <th>seq_temporal_SGOT</th>\n      <th>seq_temporal_age</th>\n      <th>seq_temporal_albumin</th>\n      <th>seq_temporal_alkaline</th>\n      <th>seq_temporal_platelets</th>\n      <th>seq_temporal_prothrombin</th>\n      <th>...</th>\n      <th>seq_temporal_drug_1.0</th>\n      <th>seq_temporal_edema_1.0</th>\n      <th>seq_temporal_edema_2.0</th>\n      <th>seq_temporal_hepatomegaly_1.0</th>\n      <th>seq_temporal_hepatomegaly_2.0</th>\n      <th>seq_temporal_histologic_1.0</th>\n      <th>seq_temporal_histologic_2.0</th>\n      <th>seq_temporal_histologic_3.0</th>\n      <th>seq_temporal_spiders_1.0</th>\n      <th>seq_temporal_spiders_2.0</th>\n    </tr>\n  </thead>\n  <tbody>\n    <tr>\n      <th>0</th>\n      <td>1.0</td>\n      <td>0.569489</td>\n      <td>0</td>\n      <td>0.569489</td>\n      <td>-1.490373</td>\n      <td>0.265298</td>\n      <td>-1.074325</td>\n      <td>0.279377</td>\n      <td>-0.480089</td>\n      <td>0.264303</td>\n      <td>...</td>\n      <td>0</td>\n      <td>1</td>\n      <td>0</td>\n      <td>1</td>\n      <td>0</td>\n      <td>0</td>\n      <td>0</td>\n      <td>1</td>\n      <td>1</td>\n      <td>0</td>\n    </tr>\n    <tr>\n      <th>1</th>\n      <td>1.0</td>\n      <td>0.569489</td>\n      <td>0</td>\n      <td>1.095170</td>\n      <td>0.310273</td>\n      <td>0.265298</td>\n      <td>-1.831287</td>\n      <td>0.381746</td>\n      <td>-0.398600</td>\n      <td>1.021397</td>\n      <td>...</td>\n      <td>0</td>\n      <td>1</td>\n      <td>0</td>\n      <td>1</td>\n      <td>0</td>\n      <td>0</td>\n      <td>0</td>\n      <td>1</td>\n      <td>1</td>\n      <td>0</td>\n    </tr>\n    <tr>\n      <th>2</th>\n      <td>0.0</td>\n      <td>14.152338</td>\n      <td>1</td>\n      <td>5.319790</td>\n      <td>-0.372825</td>\n      <td>1.421093</td>\n      <td>-1.675442</td>\n      <td>-0.631323</td>\n      <td>-1.446320</td>\n      <td>0.491431</td>\n      <td>...</td>\n      <td>0</td>\n      <td>1</td>\n      <td>0</td>\n      <td>1</td>\n      <td>0</td>\n      <td>0</td>\n      <td>1</td>\n      <td>0</td>\n      <td>1</td>\n      <td>0</td>\n    </tr>\n    <tr>\n      <th>3</th>\n      <td>0.0</td>\n      <td>14.152338</td>\n      <td>1</td>\n      <td>6.261636</td>\n      <td>0.050695</td>\n      <td>1.421093</td>\n      <td>-1.386015</td>\n      <td>-0.525090</td>\n      <td>-1.294982</td>\n      <td>0.491431</td>\n      <td>...</td>\n      <td>0</td>\n      <td>1</td>\n      <td>0</td>\n      <td>1</td>\n      <td>0</td>\n      <td>0</td>\n      <td>1</td>\n      <td>0</td>\n      <td>1</td>\n      <td>0</td>\n    </tr>\n    <tr>\n      <th>4</th>\n      <td>0.0</td>\n      <td>14.152338</td>\n      <td>1</td>\n      <td>7.266455</td>\n      <td>0.415470</td>\n      <td>1.421093</td>\n      <td>-1.541860</td>\n      <td>-0.446865</td>\n      <td>-1.411396</td>\n      <td>0.491431</td>\n      <td>...</td>\n      <td>0</td>\n      <td>1</td>\n      <td>0</td>\n      <td>1</td>\n      <td>0</td>\n      <td>0</td>\n      <td>1</td>\n      <td>0</td>\n      <td>1</td>\n      <td>0</td>\n    </tr>\n  </tbody>\n</table>\n<p>5 rows × 25 columns</p>\n</div>"
     },
     "execution_count": 3,
     "metadata": {},
     "output_type": "execute_result"
    }
   ],
   "source": [
    "df.head()"
   ],
   "metadata": {
    "collapsed": false,
    "pycharm": {
     "name": "#%%\n"
    }
   }
  },
  {
   "cell_type": "code",
   "execution_count": 4,
   "outputs": [],
   "source": [
    "df_temp = df.loc[0:, ['seq_id', 'seq_time_id', 'event', 'time']]\n",
    "df = df.drop(columns=['seq_id', 'seq_time_id'])"
   ],
   "metadata": {
    "collapsed": false,
    "pycharm": {
     "name": "#%%\n"
    }
   }
  },
  {
   "cell_type": "code",
   "execution_count": 5,
   "outputs": [
    {
     "data": {
      "text/plain": "   event       time  seq_temporal_SGOT  seq_temporal_age  \\\n0    1.0   0.569489          -1.490373          0.265298   \n1    1.0   0.569489           0.310273          0.265298   \n2    0.0  14.152338          -0.372825          1.421093   \n3    0.0  14.152338           0.050695          1.421093   \n4    0.0  14.152338           0.415470          1.421093   \n\n   seq_temporal_albumin  seq_temporal_alkaline  seq_temporal_platelets  \\\n0             -1.074325               0.279377               -0.480089   \n1             -1.831287               0.381746               -0.398600   \n2             -1.675442              -0.631323               -1.446320   \n3             -1.386015              -0.525090               -1.294982   \n4             -1.541860              -0.446865               -1.411396   \n\n   seq_temporal_prothrombin  seq_temporal_serBilir  seq_temporal_serChol  ...  \\\n0                  0.264303               3.865908              0.016353  ...   \n1                  1.021397               2.422955             -0.524945  ...   \n2                  0.491431               0.322185             -0.743389  ...   \n3                  0.491431               0.109986             -0.679676  ...   \n4                  0.491431               0.237306              0.016353  ...   \n\n   seq_temporal_drug_1.0  seq_temporal_edema_1.0  seq_temporal_edema_2.0  \\\n0                      0                       1                       0   \n1                      0                       1                       0   \n2                      0                       1                       0   \n3                      0                       1                       0   \n4                      0                       1                       0   \n\n   seq_temporal_hepatomegaly_1.0  seq_temporal_hepatomegaly_2.0  \\\n0                              1                              0   \n1                              1                              0   \n2                              1                              0   \n3                              1                              0   \n4                              1                              0   \n\n   seq_temporal_histologic_1.0  seq_temporal_histologic_2.0  \\\n0                            0                            0   \n1                            0                            0   \n2                            0                            1   \n3                            0                            1   \n4                            0                            1   \n\n   seq_temporal_histologic_3.0  seq_temporal_spiders_1.0  \\\n0                            1                         1   \n1                            1                         1   \n2                            0                         1   \n3                            0                         1   \n4                            0                         1   \n\n   seq_temporal_spiders_2.0  \n0                         0  \n1                         0  \n2                         0  \n3                         0  \n4                         0  \n\n[5 rows x 23 columns]",
      "text/html": "<div>\n<style scoped>\n    .dataframe tbody tr th:only-of-type {\n        vertical-align: middle;\n    }\n\n    .dataframe tbody tr th {\n        vertical-align: top;\n    }\n\n    .dataframe thead th {\n        text-align: right;\n    }\n</style>\n<table border=\"1\" class=\"dataframe\">\n  <thead>\n    <tr style=\"text-align: right;\">\n      <th></th>\n      <th>event</th>\n      <th>time</th>\n      <th>seq_temporal_SGOT</th>\n      <th>seq_temporal_age</th>\n      <th>seq_temporal_albumin</th>\n      <th>seq_temporal_alkaline</th>\n      <th>seq_temporal_platelets</th>\n      <th>seq_temporal_prothrombin</th>\n      <th>seq_temporal_serBilir</th>\n      <th>seq_temporal_serChol</th>\n      <th>...</th>\n      <th>seq_temporal_drug_1.0</th>\n      <th>seq_temporal_edema_1.0</th>\n      <th>seq_temporal_edema_2.0</th>\n      <th>seq_temporal_hepatomegaly_1.0</th>\n      <th>seq_temporal_hepatomegaly_2.0</th>\n      <th>seq_temporal_histologic_1.0</th>\n      <th>seq_temporal_histologic_2.0</th>\n      <th>seq_temporal_histologic_3.0</th>\n      <th>seq_temporal_spiders_1.0</th>\n      <th>seq_temporal_spiders_2.0</th>\n    </tr>\n  </thead>\n  <tbody>\n    <tr>\n      <th>0</th>\n      <td>1.0</td>\n      <td>0.569489</td>\n      <td>-1.490373</td>\n      <td>0.265298</td>\n      <td>-1.074325</td>\n      <td>0.279377</td>\n      <td>-0.480089</td>\n      <td>0.264303</td>\n      <td>3.865908</td>\n      <td>0.016353</td>\n      <td>...</td>\n      <td>0</td>\n      <td>1</td>\n      <td>0</td>\n      <td>1</td>\n      <td>0</td>\n      <td>0</td>\n      <td>0</td>\n      <td>1</td>\n      <td>1</td>\n      <td>0</td>\n    </tr>\n    <tr>\n      <th>1</th>\n      <td>1.0</td>\n      <td>0.569489</td>\n      <td>0.310273</td>\n      <td>0.265298</td>\n      <td>-1.831287</td>\n      <td>0.381746</td>\n      <td>-0.398600</td>\n      <td>1.021397</td>\n      <td>2.422955</td>\n      <td>-0.524945</td>\n      <td>...</td>\n      <td>0</td>\n      <td>1</td>\n      <td>0</td>\n      <td>1</td>\n      <td>0</td>\n      <td>0</td>\n      <td>0</td>\n      <td>1</td>\n      <td>1</td>\n      <td>0</td>\n    </tr>\n    <tr>\n      <th>2</th>\n      <td>0.0</td>\n      <td>14.152338</td>\n      <td>-0.372825</td>\n      <td>1.421093</td>\n      <td>-1.675442</td>\n      <td>-0.631323</td>\n      <td>-1.446320</td>\n      <td>0.491431</td>\n      <td>0.322185</td>\n      <td>-0.743389</td>\n      <td>...</td>\n      <td>0</td>\n      <td>1</td>\n      <td>0</td>\n      <td>1</td>\n      <td>0</td>\n      <td>0</td>\n      <td>1</td>\n      <td>0</td>\n      <td>1</td>\n      <td>0</td>\n    </tr>\n    <tr>\n      <th>3</th>\n      <td>0.0</td>\n      <td>14.152338</td>\n      <td>0.050695</td>\n      <td>1.421093</td>\n      <td>-1.386015</td>\n      <td>-0.525090</td>\n      <td>-1.294982</td>\n      <td>0.491431</td>\n      <td>0.109986</td>\n      <td>-0.679676</td>\n      <td>...</td>\n      <td>0</td>\n      <td>1</td>\n      <td>0</td>\n      <td>1</td>\n      <td>0</td>\n      <td>0</td>\n      <td>1</td>\n      <td>0</td>\n      <td>1</td>\n      <td>0</td>\n    </tr>\n    <tr>\n      <th>4</th>\n      <td>0.0</td>\n      <td>14.152338</td>\n      <td>0.415470</td>\n      <td>1.421093</td>\n      <td>-1.541860</td>\n      <td>-0.446865</td>\n      <td>-1.411396</td>\n      <td>0.491431</td>\n      <td>0.237306</td>\n      <td>0.016353</td>\n      <td>...</td>\n      <td>0</td>\n      <td>1</td>\n      <td>0</td>\n      <td>1</td>\n      <td>0</td>\n      <td>0</td>\n      <td>1</td>\n      <td>0</td>\n      <td>1</td>\n      <td>0</td>\n    </tr>\n  </tbody>\n</table>\n<p>5 rows × 23 columns</p>\n</div>"
     },
     "execution_count": 5,
     "metadata": {},
     "output_type": "execute_result"
    }
   ],
   "source": [
    "df.head()"
   ],
   "metadata": {
    "collapsed": false,
    "pycharm": {
     "name": "#%%\n"
    }
   }
  },
  {
   "cell_type": "code",
   "execution_count": 6,
   "outputs": [],
   "source": [
    "df.rename(columns={'time': 'duration'}, inplace=True)"
   ],
   "metadata": {
    "collapsed": false,
    "pycharm": {
     "name": "#%%\n"
    }
   }
  },
  {
   "cell_type": "code",
   "execution_count": 7,
   "outputs": [
    {
     "name": "stdout",
     "output_type": "stream",
     "text": [
      "26.0\n",
      "______\n",
      "8\n",
      "______\n",
      "13\n",
      "______\n",
      "21\n",
      "______\n",
      "26\n",
      "______\n",
      "[2.73792575e-03 1.20468733e-01 3.75095827e-01 4.91987332e-01\n",
      " 1.43056620e+01]\n",
      "______\n",
      "4\n"
     ]
    },
    {
     "name": "stderr",
     "output_type": "stream",
     "text": [
      "/Users/davidlee/Documents/GitHub/Surtimesurvival/SurvTRACE/survtrace/utils.py:78: UserWarning: Got event/censoring at start time. Should be removed! It is set s.t. it has no contribution to loss.\n",
      "  warnings.warn(\"\"\"Got event/censoring at start time. Should be removed! It is set s.t. it has no contribution to loss.\"\"\")\n"
     ]
    }
   ],
   "source": [
    "y, df, df_train, df_y_train = pbc2_proccess_covariate(df)"
   ],
   "metadata": {
    "collapsed": false,
    "pycharm": {
     "name": "#%%\n"
    }
   }
  },
  {
   "cell_type": "code",
   "execution_count": 8,
   "outputs": [],
   "source": [
    "df_train = pd.concat([df_train, df_temp['seq_id']], axis=1, join='inner')\n",
    "df_y_train = pd.concat([df_y_train, df_temp['seq_id']], axis=1, join='inner')"
   ],
   "metadata": {
    "collapsed": false,
    "pycharm": {
     "name": "#%%\n"
    }
   }
  },
  {
   "cell_type": "code",
   "execution_count": 9,
   "outputs": [
    {
     "name": "stdout",
     "output_type": "stream",
     "text": [
      "16 16\n"
     ]
    }
   ],
   "source": [
    "masks, padded_patients = padded_mask_processing(df_train)"
   ],
   "metadata": {
    "collapsed": false,
    "pycharm": {
     "name": "#%%\n"
    }
   }
  },
  {
   "cell_type": "code",
   "execution_count": 10,
   "outputs": [
    {
     "data": {
      "text/plain": "torch.Size([500, 16, 21])"
     },
     "execution_count": 10,
     "metadata": {},
     "output_type": "execute_result"
    }
   ],
   "source": [
    "padded_patients.shape"
   ],
   "metadata": {
    "collapsed": false,
    "pycharm": {
     "name": "#%%\n"
    }
   }
  },
  {
   "cell_type": "code",
   "execution_count": 11,
   "outputs": [
    {
     "data": {
      "text/plain": "torch.Size([500, 16])"
     },
     "execution_count": 11,
     "metadata": {},
     "output_type": "execute_result"
    }
   ],
   "source": [
    "masks.shape"
   ],
   "metadata": {
    "collapsed": false,
    "pycharm": {
     "name": "#%%\n"
    }
   }
  },
  {
   "cell_type": "code",
   "execution_count": 12,
   "outputs": [],
   "source": [
    "df_y_train = df_y_train.drop_duplicates(subset='seq_id', keep='last')\n",
    "df_y_train = df_y_train.reset_index(drop=True)\n",
    "df_y_train = df_y_train.drop(columns=['seq_id'])"
   ],
   "metadata": {
    "collapsed": false,
    "pycharm": {
     "name": "#%%\n"
    }
   }
  },
  {
   "cell_type": "code",
   "execution_count": 13,
   "outputs": [
    {
     "data": {
      "text/plain": "   duration  event  proportion\n0         3    1.0    0.005610\n1         3    0.0    0.988901\n2         3    1.0    0.017701\n3         1    1.0    0.612903\n4         3    0.0    0.262681",
      "text/html": "<div>\n<style scoped>\n    .dataframe tbody tr th:only-of-type {\n        vertical-align: middle;\n    }\n\n    .dataframe tbody tr th {\n        vertical-align: top;\n    }\n\n    .dataframe thead th {\n        text-align: right;\n    }\n</style>\n<table border=\"1\" class=\"dataframe\">\n  <thead>\n    <tr style=\"text-align: right;\">\n      <th></th>\n      <th>duration</th>\n      <th>event</th>\n      <th>proportion</th>\n    </tr>\n  </thead>\n  <tbody>\n    <tr>\n      <th>0</th>\n      <td>3</td>\n      <td>1.0</td>\n      <td>0.005610</td>\n    </tr>\n    <tr>\n      <th>1</th>\n      <td>3</td>\n      <td>0.0</td>\n      <td>0.988901</td>\n    </tr>\n    <tr>\n      <th>2</th>\n      <td>3</td>\n      <td>1.0</td>\n      <td>0.017701</td>\n    </tr>\n    <tr>\n      <th>3</th>\n      <td>1</td>\n      <td>1.0</td>\n      <td>0.612903</td>\n    </tr>\n    <tr>\n      <th>4</th>\n      <td>3</td>\n      <td>0.0</td>\n      <td>0.262681</td>\n    </tr>\n  </tbody>\n</table>\n</div>"
     },
     "execution_count": 13,
     "metadata": {},
     "output_type": "execute_result"
    }
   ],
   "source": [
    "df_y_train.head()"
   ],
   "metadata": {
    "collapsed": false,
    "pycharm": {
     "name": "#%%\n"
    }
   }
  },
  {
   "cell_type": "code",
   "execution_count": 14,
   "outputs": [],
   "source": [
    "df_temp = df_temp.drop_duplicates(subset='seq_id', keep='last')\n",
    "df_temp = df_temp.reset_index(drop=True)\n",
    "df_temp = df_temp.drop(columns=['seq_id'])"
   ],
   "metadata": {
    "collapsed": false,
    "pycharm": {
     "name": "#%%\n"
    }
   }
  },
  {
   "cell_type": "code",
   "execution_count": 15,
   "outputs": [
    {
     "data": {
      "text/plain": "   seq_time_id  event       time\n0     1.095170    1.0   0.569489\n1    14.152338    0.0  14.152338\n2     2.770781    1.0   0.736502\n3     5.270507    1.0   0.276531\n4     4.120578    0.0   4.120578",
      "text/html": "<div>\n<style scoped>\n    .dataframe tbody tr th:only-of-type {\n        vertical-align: middle;\n    }\n\n    .dataframe tbody tr th {\n        vertical-align: top;\n    }\n\n    .dataframe thead th {\n        text-align: right;\n    }\n</style>\n<table border=\"1\" class=\"dataframe\">\n  <thead>\n    <tr style=\"text-align: right;\">\n      <th></th>\n      <th>seq_time_id</th>\n      <th>event</th>\n      <th>time</th>\n    </tr>\n  </thead>\n  <tbody>\n    <tr>\n      <th>0</th>\n      <td>1.095170</td>\n      <td>1.0</td>\n      <td>0.569489</td>\n    </tr>\n    <tr>\n      <th>1</th>\n      <td>14.152338</td>\n      <td>0.0</td>\n      <td>14.152338</td>\n    </tr>\n    <tr>\n      <th>2</th>\n      <td>2.770781</td>\n      <td>1.0</td>\n      <td>0.736502</td>\n    </tr>\n    <tr>\n      <th>3</th>\n      <td>5.270507</td>\n      <td>1.0</td>\n      <td>0.276531</td>\n    </tr>\n    <tr>\n      <th>4</th>\n      <td>4.120578</td>\n      <td>0.0</td>\n      <td>4.120578</td>\n    </tr>\n  </tbody>\n</table>\n</div>"
     },
     "execution_count": 15,
     "metadata": {},
     "output_type": "execute_result"
    }
   ],
   "source": [
    "df_temp.head()"
   ],
   "metadata": {
    "collapsed": false,
    "pycharm": {
     "name": "#%%\n"
    }
   }
  },
  {
   "cell_type": "code",
   "execution_count": 16,
   "outputs": [],
   "source": [
    "X_features_data_tensor = padded_patients\n",
    "Y_labels_data_tensor = torch.tensor(df_y_train.values)"
   ],
   "metadata": {
    "collapsed": false,
    "pycharm": {
     "name": "#%%\n"
    }
   }
  },
  {
   "cell_type": "code",
   "execution_count": 17,
   "outputs": [],
   "source": [
    "Y_labels = Y_labels_data_tensor[:, 1]\n",
    "Y_labels = Y_labels.long()"
   ],
   "metadata": {
    "collapsed": false,
    "pycharm": {
     "name": "#%%\n"
    }
   }
  },
  {
   "cell_type": "code",
   "execution_count": 18,
   "outputs": [
    {
     "data": {
      "text/plain": "tensor([1, 0, 1, 1, 0, 1, 0, 1, 1, 1, 1, 1, 0, 1, 1, 0, 1, 1, 0, 1, 1, 1, 1, 1,\n        0, 1, 1, 1, 1, 1, 1, 0, 1, 0, 1, 0, 1, 1, 1, 0, 1, 0, 0, 1, 0, 1, 0, 0,\n        1, 1, 1, 1, 1, 1, 1, 1, 1, 0, 1, 0, 0, 1, 1, 1, 0, 1, 1, 0, 1, 1, 0, 0,\n        0, 1, 1, 1, 1, 1, 0, 1, 1, 1, 0, 0, 1, 1, 1, 1, 1, 1, 1, 1, 0, 1, 1, 0,\n        1, 0, 0, 1, 0, 0, 1, 1, 0, 1, 0, 1, 0, 1, 0, 1, 1, 1, 0, 0, 1, 1, 1, 0,\n        1, 0, 1, 1, 0, 1, 0, 1, 0, 1, 1, 0, 1, 0, 0, 0, 0, 1, 0, 0, 0, 1, 1, 1,\n        0, 1, 1, 1, 1, 0, 0, 1, 0, 1, 0, 1, 0, 0, 1, 0, 0, 1, 1, 1, 1, 0, 1, 0,\n        1, 0, 0, 0, 0, 0, 0, 1, 0, 0, 0, 0, 0, 0, 0, 1, 1, 1, 1, 0, 0, 0, 1, 0,\n        1, 0, 0, 1, 0, 0, 0, 0, 0, 0, 0, 1, 1, 0, 0, 1, 0, 0, 0, 0, 0, 1, 1, 0,\n        1, 0, 0, 1, 0, 1, 1, 0, 0, 0, 1, 0, 1, 0, 1, 0, 0, 0, 0, 0, 0, 1, 1, 0,\n        0, 1, 1, 1, 0, 0, 0, 0, 0, 0, 0, 0, 0, 0, 0, 0, 0, 0, 0, 1, 0, 0, 0, 0,\n        0, 0, 1, 1, 1, 0, 0, 0, 0, 0, 0, 0, 0, 0, 0, 0, 1, 0, 0, 0, 0, 0, 0, 0,\n        0, 0, 0, 1, 0, 0, 0, 0, 0, 0, 0, 1, 0, 0, 1, 0, 0, 0, 0, 0, 0, 0, 0, 0,\n        0, 1, 0, 0, 0, 1, 1, 0, 0, 0, 1, 1, 1, 0, 0, 0, 1, 0, 1, 1, 0, 0, 0, 1,\n        0, 1, 0, 0, 0, 1, 1, 0, 0, 1, 1, 0, 0, 0, 1, 0, 1, 1, 0, 1, 0, 1, 0, 1,\n        1, 0, 0, 0, 1, 0, 0, 1, 0, 0, 1, 1, 0, 0, 0, 1, 1, 0, 1, 1, 0, 1, 0, 1,\n        0, 0, 1, 0, 1, 0, 0, 1, 0, 0, 0, 0, 0, 1, 0, 0, 1, 1, 0, 0, 1, 1, 0, 0,\n        0, 0, 0, 0, 0, 1, 0, 0, 1, 0, 0, 0, 0, 1, 1, 0, 0, 0, 1, 0, 1, 0, 1, 1,\n        0, 1, 0, 0, 0, 1, 0, 0, 0, 0, 1, 0, 0, 0, 0, 1, 0, 1, 1, 1, 0, 0, 0, 0,\n        1, 0, 1, 1, 1, 1, 0, 0, 1, 1, 1, 1, 1, 0, 0, 0, 0, 0, 0, 1, 0, 0, 0, 0,\n        0, 0, 0, 0, 1, 0, 0, 0, 0, 0, 1, 0, 0, 1, 0, 0, 0, 1, 0, 0])"
     },
     "execution_count": 18,
     "metadata": {},
     "output_type": "execute_result"
    }
   ],
   "source": [
    "Y_labels"
   ],
   "metadata": {
    "collapsed": false,
    "pycharm": {
     "name": "#%%\n"
    }
   }
  },
  {
   "cell_type": "code",
   "execution_count": 19,
   "outputs": [],
   "source": [
    "from sklearn.model_selection import KFold\n",
    "from torch.utils.data import TensorDataset\n",
    "\n",
    "kfold_split = KFold(n_splits=5, random_state=None, shuffle=True)\n",
    "data_tensor_full = TensorDataset(X_features_data_tensor, Y_labels, masks, torch.tensor(df_temp.values))"
   ],
   "metadata": {
    "collapsed": false,
    "pycharm": {
     "name": "#%%\n"
    }
   }
  },
  {
   "cell_type": "code",
   "execution_count": 20,
   "outputs": [],
   "source": [
    "train_list = []\n",
    "test_list = []\n",
    "\n",
    "for train, test in kfold_split.split(data_tensor_full):\n",
    "    train_list.append(data_tensor_full[train])\n",
    "    test_list.append(data_tensor_full[test])"
   ],
   "metadata": {
    "collapsed": false,
    "pycharm": {
     "name": "#%%\n"
    }
   }
  },
  {
   "cell_type": "code",
   "execution_count": 21,
   "outputs": [
    {
     "name": "stdout",
     "output_type": "stream",
     "text": [
      "5\n",
      "5\n"
     ]
    }
   ],
   "source": [
    "print(len(train_list))\n",
    "print(len(test_list))"
   ],
   "metadata": {
    "collapsed": false,
    "pycharm": {
     "name": "#%%\n"
    }
   }
  },
  {
   "cell_type": "code",
   "execution_count": 66,
   "outputs": [],
   "source": [
    "train_tensor_data = train_list[0]\n",
    "test_tensor_data = test_list[0]"
   ],
   "metadata": {
    "collapsed": false,
    "pycharm": {
     "name": "#%%\n"
    }
   }
  },
  {
   "cell_type": "code",
   "execution_count": 67,
   "outputs": [],
   "source": [
    "X_train = train_tensor_data[0]\n",
    "y_train = train_tensor_data[1]\n",
    "masks_train = train_tensor_data[2]\n",
    "df_temp_train = train_tensor_data[3]\n",
    "\n",
    "X_train, X_val, y_train, y_val, masks_train, masks_val, df_temp_train, df_temp_val = train_test_split(\n",
    "    X_train, y_train, masks_train, df_temp_train,\n",
    "    test_size=0.25)\n",
    "\n",
    "X_test = test_tensor_data[0]\n",
    "y_test = test_tensor_data[1]\n",
    "masks_test = test_tensor_data[2]\n",
    "df_temp_test = test_tensor_data[3]\n",
    "\n"
   ],
   "metadata": {
    "collapsed": false,
    "pycharm": {
     "name": "#%%\n"
    }
   }
  },
  {
   "cell_type": "code",
   "execution_count": 68,
   "outputs": [],
   "source": [
    "df_temp_train = pd.DataFrame(df_temp_train, columns=['seq_time_id', 'event', 'time'])\n",
    "df_temp_val = pd.DataFrame(df_temp_val, columns=['seq_time_id', 'event', 'time'])\n",
    "df_temp_test = pd.DataFrame(df_temp_test, columns=['seq_time_id', 'event', 'time'])"
   ],
   "metadata": {
    "collapsed": false,
    "pycharm": {
     "name": "#%%\n"
    }
   }
  },
  {
   "cell_type": "code",
   "execution_count": 69,
   "outputs": [],
   "source": [
    "import torch\n",
    "from torch.utils.data import TensorDataset\n",
    "\n",
    "# X_train, X_val, y_train, y_val, masks_train, masks_val, df_temp_train, df_temp_val = train_test_split(\n",
    "#     X_features_data_tensor, Y_labels, masks, df_temp,\n",
    "#     test_size=0.3)\n",
    "#\n",
    "# X_val, X_test, y_val, y_test, masks_val, masks_test, df_temp_val, df_temp_test = train_test_split(X_val, y_val,\n",
    "#                                                                                                   masks_val,\n",
    "#                                                                                                   df_temp_val,\n",
    "#                                                                                                   test_size=0.7)\n",
    "train_data = TensorDataset(X_train, y_train, masks_train)\n",
    "val_data = TensorDataset(X_val, y_val, masks_val)\n",
    "test_data = TensorDataset(X_test, y_test, masks_test)"
   ],
   "metadata": {
    "collapsed": false,
    "pycharm": {
     "name": "#%%\n"
    }
   }
  },
  {
   "cell_type": "code",
   "execution_count": 70,
   "outputs": [
    {
     "name": "stdout",
     "output_type": "stream",
     "text": [
      "Input Dimension 21\n",
      "Sequence Length 16\n"
     ]
    }
   ],
   "source": [
    "from torch.utils.data import DataLoader\n",
    "from sklearn.metrics import accuracy_score\n",
    "from model.survtimesurvival_model import TransformerClassifierFirstSolution, TransformerClassifier\n",
    "\n",
    "# # Hyperparameters 1\n",
    "# # input_dim = 26\n",
    "embed_dim = 16\n",
    "num_heads = 2\n",
    "ffn_hidden_dim = 64\n",
    "num_layers = 2\n",
    "batch_size = 8\n",
    "num_classes = 2\n",
    "\n",
    "# Hyperparameters\n",
    "# input_dim = 26\n",
    "# embed_dim = 64\n",
    "# num_heads = 4\n",
    "# ffn_hidden_dim = 64\n",
    "# num_layers = 2\n",
    "# batch_size = 8\n",
    "# num_classes = 2\n",
    "\n",
    "train_loader = DataLoader(train_data, batch_size=batch_size, shuffle=True)\n",
    "val_loader = DataLoader(val_data, batch_size=batch_size, shuffle=False)\n",
    "\n",
    "# Set up training configurations\n",
    "input_dim = X_features_data_tensor.size(2)\n",
    "seq_length = X_features_data_tensor.size(1)\n",
    "\n",
    "print(\"Input Dimension\", input_dim)\n",
    "print(\"Sequence Length\", seq_length)\n",
    "\n",
    "model = TransformerClassifierFirstSolution(input_dim, seq_length, embed_dim, num_heads, ffn_hidden_dim, num_layers, 2)"
   ],
   "metadata": {
    "collapsed": false,
    "pycharm": {
     "name": "#%%\n"
    }
   }
  },
  {
   "cell_type": "code",
   "execution_count": 71,
   "outputs": [],
   "source": [
    "# HUNG: IMPORTANCE. IF YOU KEEP nn.CrossEntropyLoss(), this loss will return a number!!!!\n",
    "# criterion = torch.nn.NLLLoss(reduction=\"none\")\n",
    "criterion = torch.nn.CrossEntropyLoss(reduction=\"none\")\n",
    "optimizer = torch.optim.AdamW(model.parameters(), lr=1e-3, weight_decay=1e-4)"
   ],
   "metadata": {
    "collapsed": false,
    "pycharm": {
     "name": "#%%\n"
    }
   }
  },
  {
   "cell_type": "code",
   "execution_count": 72,
   "outputs": [
    {
     "name": "stdout",
     "output_type": "stream",
     "text": [
      "Epoch 1/40, Training Loss: 1.1540807501265877, Validation Loss: 5.024571015284612, Validation Accuracy: 0.63\n"
     ]
    },
    {
     "name": "stderr",
     "output_type": "stream",
     "text": [
      "/Users/davidlee/opt/anaconda3/envs/synthcity/lib/python3.9/site-packages/torch/nn/modules/activation.py:1160: UserWarning: Converting mask without torch.bool dtype to bool; this will negatively affect performance. Prefer to use a boolean mask directly. (Triggered internally at /private/var/folders/sy/f16zz6x50xz3113nwtb9bvq00000gp/T/abs_82vavna4yl/croot/pytorch_1686931843901/work/aten/src/ATen/native/transformers/attention.cpp:152.)\n",
      "  return torch._native_multi_head_attention(\n",
      "/Users/davidlee/opt/anaconda3/envs/synthcity/lib/python3.9/site-packages/torch/nn/modules/activation.py:1160: UserWarning: Converting mask without torch.bool dtype to bool; this will negatively affect performance. Prefer to use a boolean mask directly. (Triggered internally at /private/var/folders/sy/f16zz6x50xz3113nwtb9bvq00000gp/T/abs_82vavna4yl/croot/pytorch_1686931843901/work/aten/src/ATen/native/transformers/attention.cpp:152.)\n",
      "  return torch._native_multi_head_attention(\n"
     ]
    },
    {
     "name": "stdout",
     "output_type": "stream",
     "text": [
      "Epoch 2/40, Training Loss: 1.0863626520884664, Validation Loss: 4.754008109752949, Validation Accuracy: 0.69\n",
      "Epoch 3/40, Training Loss: 1.0106058010929508, Validation Loss: 4.777338981628418, Validation Accuracy: 0.68\n"
     ]
    },
    {
     "name": "stderr",
     "output_type": "stream",
     "text": [
      "/Users/davidlee/opt/anaconda3/envs/synthcity/lib/python3.9/site-packages/torch/nn/modules/activation.py:1160: UserWarning: Converting mask without torch.bool dtype to bool; this will negatively affect performance. Prefer to use a boolean mask directly. (Triggered internally at /private/var/folders/sy/f16zz6x50xz3113nwtb9bvq00000gp/T/abs_82vavna4yl/croot/pytorch_1686931843901/work/aten/src/ATen/native/transformers/attention.cpp:152.)\n",
      "  return torch._native_multi_head_attention(\n",
      "/Users/davidlee/opt/anaconda3/envs/synthcity/lib/python3.9/site-packages/torch/nn/modules/activation.py:1160: UserWarning: Converting mask without torch.bool dtype to bool; this will negatively affect performance. Prefer to use a boolean mask directly. (Triggered internally at /private/var/folders/sy/f16zz6x50xz3113nwtb9bvq00000gp/T/abs_82vavna4yl/croot/pytorch_1686931843901/work/aten/src/ATen/native/transformers/attention.cpp:152.)\n",
      "  return torch._native_multi_head_attention(\n"
     ]
    },
    {
     "name": "stdout",
     "output_type": "stream",
     "text": [
      "Epoch 4/40, Training Loss: 1.0188219437473698, Validation Loss: 4.632520492260273, Validation Accuracy: 0.69\n",
      "Epoch 5/40, Training Loss: 1.0426741712971737, Validation Loss: 4.814853833271907, Validation Accuracy: 0.68\n"
     ]
    },
    {
     "name": "stderr",
     "output_type": "stream",
     "text": [
      "/Users/davidlee/opt/anaconda3/envs/synthcity/lib/python3.9/site-packages/torch/nn/modules/activation.py:1160: UserWarning: Converting mask without torch.bool dtype to bool; this will negatively affect performance. Prefer to use a boolean mask directly. (Triggered internally at /private/var/folders/sy/f16zz6x50xz3113nwtb9bvq00000gp/T/abs_82vavna4yl/croot/pytorch_1686931843901/work/aten/src/ATen/native/transformers/attention.cpp:152.)\n",
      "  return torch._native_multi_head_attention(\n",
      "/Users/davidlee/opt/anaconda3/envs/synthcity/lib/python3.9/site-packages/torch/nn/modules/activation.py:1160: UserWarning: Converting mask without torch.bool dtype to bool; this will negatively affect performance. Prefer to use a boolean mask directly. (Triggered internally at /private/var/folders/sy/f16zz6x50xz3113nwtb9bvq00000gp/T/abs_82vavna4yl/croot/pytorch_1686931843901/work/aten/src/ATen/native/transformers/attention.cpp:152.)\n",
      "  return torch._native_multi_head_attention(\n"
     ]
    },
    {
     "name": "stdout",
     "output_type": "stream",
     "text": [
      "Epoch 6/40, Training Loss: 1.014078924530431, Validation Loss: 4.8089623267834005, Validation Accuracy: 0.66\n",
      "Epoch 7/40, Training Loss: 0.9922964917986017, Validation Loss: 4.604371841137226, Validation Accuracy: 0.71\n"
     ]
    },
    {
     "name": "stderr",
     "output_type": "stream",
     "text": [
      "/Users/davidlee/opt/anaconda3/envs/synthcity/lib/python3.9/site-packages/torch/nn/modules/activation.py:1160: UserWarning: Converting mask without torch.bool dtype to bool; this will negatively affect performance. Prefer to use a boolean mask directly. (Triggered internally at /private/var/folders/sy/f16zz6x50xz3113nwtb9bvq00000gp/T/abs_82vavna4yl/croot/pytorch_1686931843901/work/aten/src/ATen/native/transformers/attention.cpp:152.)\n",
      "  return torch._native_multi_head_attention(\n",
      "/Users/davidlee/opt/anaconda3/envs/synthcity/lib/python3.9/site-packages/torch/nn/modules/activation.py:1160: UserWarning: Converting mask without torch.bool dtype to bool; this will negatively affect performance. Prefer to use a boolean mask directly. (Triggered internally at /private/var/folders/sy/f16zz6x50xz3113nwtb9bvq00000gp/T/abs_82vavna4yl/croot/pytorch_1686931843901/work/aten/src/ATen/native/transformers/attention.cpp:152.)\n",
      "  return torch._native_multi_head_attention(\n"
     ]
    },
    {
     "name": "stdout",
     "output_type": "stream",
     "text": [
      "Epoch 8/40, Training Loss: 0.9716439874548661, Validation Loss: 4.5511064162621135, Validation Accuracy: 0.7\n",
      "Epoch 9/40, Training Loss: 0.9968422055244446, Validation Loss: 4.5034698339609, Validation Accuracy: 0.72\n"
     ]
    },
    {
     "name": "stderr",
     "output_type": "stream",
     "text": [
      "/Users/davidlee/opt/anaconda3/envs/synthcity/lib/python3.9/site-packages/torch/nn/modules/activation.py:1160: UserWarning: Converting mask without torch.bool dtype to bool; this will negatively affect performance. Prefer to use a boolean mask directly. (Triggered internally at /private/var/folders/sy/f16zz6x50xz3113nwtb9bvq00000gp/T/abs_82vavna4yl/croot/pytorch_1686931843901/work/aten/src/ATen/native/transformers/attention.cpp:152.)\n",
      "  return torch._native_multi_head_attention(\n",
      "/Users/davidlee/opt/anaconda3/envs/synthcity/lib/python3.9/site-packages/torch/nn/modules/activation.py:1160: UserWarning: Converting mask without torch.bool dtype to bool; this will negatively affect performance. Prefer to use a boolean mask directly. (Triggered internally at /private/var/folders/sy/f16zz6x50xz3113nwtb9bvq00000gp/T/abs_82vavna4yl/croot/pytorch_1686931843901/work/aten/src/ATen/native/transformers/attention.cpp:152.)\n",
      "  return torch._native_multi_head_attention(\n"
     ]
    },
    {
     "name": "stdout",
     "output_type": "stream",
     "text": [
      "Epoch 10/40, Training Loss: 0.9604168651919616, Validation Loss: 4.640769004821777, Validation Accuracy: 0.69\n",
      "Epoch 11/40, Training Loss: 0.9539795564977747, Validation Loss: 4.470053324332604, Validation Accuracy: 0.73\n"
     ]
    },
    {
     "name": "stderr",
     "output_type": "stream",
     "text": [
      "/Users/davidlee/opt/anaconda3/envs/synthcity/lib/python3.9/site-packages/torch/nn/modules/activation.py:1160: UserWarning: Converting mask without torch.bool dtype to bool; this will negatively affect performance. Prefer to use a boolean mask directly. (Triggered internally at /private/var/folders/sy/f16zz6x50xz3113nwtb9bvq00000gp/T/abs_82vavna4yl/croot/pytorch_1686931843901/work/aten/src/ATen/native/transformers/attention.cpp:152.)\n",
      "  return torch._native_multi_head_attention(\n",
      "/Users/davidlee/opt/anaconda3/envs/synthcity/lib/python3.9/site-packages/torch/nn/modules/activation.py:1160: UserWarning: Converting mask without torch.bool dtype to bool; this will negatively affect performance. Prefer to use a boolean mask directly. (Triggered internally at /private/var/folders/sy/f16zz6x50xz3113nwtb9bvq00000gp/T/abs_82vavna4yl/croot/pytorch_1686931843901/work/aten/src/ATen/native/transformers/attention.cpp:152.)\n",
      "  return torch._native_multi_head_attention(\n"
     ]
    },
    {
     "name": "stdout",
     "output_type": "stream",
     "text": [
      "Epoch 12/40, Training Loss: 0.9667819314881375, Validation Loss: 4.4764649868011475, Validation Accuracy: 0.73\n",
      "Epoch 13/40, Training Loss: 0.9501381359602276, Validation Loss: 4.498060428179228, Validation Accuracy: 0.71\n"
     ]
    },
    {
     "name": "stderr",
     "output_type": "stream",
     "text": [
      "/Users/davidlee/opt/anaconda3/envs/synthcity/lib/python3.9/site-packages/torch/nn/modules/activation.py:1160: UserWarning: Converting mask without torch.bool dtype to bool; this will negatively affect performance. Prefer to use a boolean mask directly. (Triggered internally at /private/var/folders/sy/f16zz6x50xz3113nwtb9bvq00000gp/T/abs_82vavna4yl/croot/pytorch_1686931843901/work/aten/src/ATen/native/transformers/attention.cpp:152.)\n",
      "  return torch._native_multi_head_attention(\n",
      "/Users/davidlee/opt/anaconda3/envs/synthcity/lib/python3.9/site-packages/torch/nn/modules/activation.py:1160: UserWarning: Converting mask without torch.bool dtype to bool; this will negatively affect performance. Prefer to use a boolean mask directly. (Triggered internally at /private/var/folders/sy/f16zz6x50xz3113nwtb9bvq00000gp/T/abs_82vavna4yl/croot/pytorch_1686931843901/work/aten/src/ATen/native/transformers/attention.cpp:152.)\n",
      "  return torch._native_multi_head_attention(\n"
     ]
    },
    {
     "name": "stdout",
     "output_type": "stream",
     "text": [
      "Epoch 14/40, Training Loss: 0.9494563121544687, Validation Loss: 4.695580867620615, Validation Accuracy: 0.68\n",
      "Epoch 15/40, Training Loss: 0.9604024087127886, Validation Loss: 4.4056627200200005, Validation Accuracy: 0.73\n"
     ]
    },
    {
     "name": "stderr",
     "output_type": "stream",
     "text": [
      "/Users/davidlee/opt/anaconda3/envs/synthcity/lib/python3.9/site-packages/torch/nn/modules/activation.py:1160: UserWarning: Converting mask without torch.bool dtype to bool; this will negatively affect performance. Prefer to use a boolean mask directly. (Triggered internally at /private/var/folders/sy/f16zz6x50xz3113nwtb9bvq00000gp/T/abs_82vavna4yl/croot/pytorch_1686931843901/work/aten/src/ATen/native/transformers/attention.cpp:152.)\n",
      "  return torch._native_multi_head_attention(\n",
      "/Users/davidlee/opt/anaconda3/envs/synthcity/lib/python3.9/site-packages/torch/nn/modules/activation.py:1160: UserWarning: Converting mask without torch.bool dtype to bool; this will negatively affect performance. Prefer to use a boolean mask directly. (Triggered internally at /private/var/folders/sy/f16zz6x50xz3113nwtb9bvq00000gp/T/abs_82vavna4yl/croot/pytorch_1686931843901/work/aten/src/ATen/native/transformers/attention.cpp:152.)\n",
      "  return torch._native_multi_head_attention(\n"
     ]
    },
    {
     "name": "stdout",
     "output_type": "stream",
     "text": [
      "Epoch 16/40, Training Loss: 0.9454556185948221, Validation Loss: 4.579082158895639, Validation Accuracy: 0.69\n",
      "Epoch 17/40, Training Loss: 0.9578647613525391, Validation Loss: 4.518668394822341, Validation Accuracy: 0.71\n"
     ]
    },
    {
     "name": "stderr",
     "output_type": "stream",
     "text": [
      "/Users/davidlee/opt/anaconda3/envs/synthcity/lib/python3.9/site-packages/torch/nn/modules/activation.py:1160: UserWarning: Converting mask without torch.bool dtype to bool; this will negatively affect performance. Prefer to use a boolean mask directly. (Triggered internally at /private/var/folders/sy/f16zz6x50xz3113nwtb9bvq00000gp/T/abs_82vavna4yl/croot/pytorch_1686931843901/work/aten/src/ATen/native/transformers/attention.cpp:152.)\n",
      "  return torch._native_multi_head_attention(\n",
      "/Users/davidlee/opt/anaconda3/envs/synthcity/lib/python3.9/site-packages/torch/nn/modules/activation.py:1160: UserWarning: Converting mask without torch.bool dtype to bool; this will negatively affect performance. Prefer to use a boolean mask directly. (Triggered internally at /private/var/folders/sy/f16zz6x50xz3113nwtb9bvq00000gp/T/abs_82vavna4yl/croot/pytorch_1686931843901/work/aten/src/ATen/native/transformers/attention.cpp:152.)\n",
      "  return torch._native_multi_head_attention(\n"
     ]
    },
    {
     "name": "stdout",
     "output_type": "stream",
     "text": [
      "Epoch 18/40, Training Loss: 0.9413680198945498, Validation Loss: 4.544871165202214, Validation Accuracy: 0.7\n",
      "Epoch 19/40, Training Loss: 0.9641430926950354, Validation Loss: 4.458902579087478, Validation Accuracy: 0.73\n",
      "Early stopping triggered. No improvement in validation loss for 3 consecutive epochs.\n"
     ]
    },
    {
     "name": "stderr",
     "output_type": "stream",
     "text": [
      "/Users/davidlee/opt/anaconda3/envs/synthcity/lib/python3.9/site-packages/torch/nn/modules/activation.py:1160: UserWarning: Converting mask without torch.bool dtype to bool; this will negatively affect performance. Prefer to use a boolean mask directly. (Triggered internally at /private/var/folders/sy/f16zz6x50xz3113nwtb9bvq00000gp/T/abs_82vavna4yl/croot/pytorch_1686931843901/work/aten/src/ATen/native/transformers/attention.cpp:152.)\n",
      "  return torch._native_multi_head_attention(\n"
     ]
    }
   ],
   "source": [
    "# Train the model\n",
    "num_epochs = 40\n",
    "train_loss_his = []\n",
    "val_loss_his = []\n",
    "val_accuracy_his = []\n",
    "\n",
    "patience = 3\n",
    "best_val_loss = None\n",
    "epochs_since_best_val_loss = 0\n",
    "\n",
    "for epoch in range(num_epochs):\n",
    "    model.train()\n",
    "    running_loss = 0.0\n",
    "    for batch_idx, (data, target, label_mask) in enumerate(train_loader):\n",
    "        optimizer.zero_grad()\n",
    "        output = model(data, label_mask)\n",
    "        loss = criterion(output, target)\n",
    "        # Assume loss has shape (B, S, D). Assume mask has shape (B, S)\n",
    "        # Apply label mask to the loss.\n",
    "        # In the label. Assume 1 is NOT PAD, and 0 is pad.\n",
    "        loss = (loss * label_mask.unsqueeze(-1).float())\n",
    "\n",
    "        # Average over the third dimension\n",
    "        loss = loss.mean(-1)\n",
    "\n",
    "        # Average over each sequence (dimension 1).\n",
    "        # Since each sequence has different length. We need to do this\n",
    "        loss = torch.sum(loss, dim=-1) / torch.sum(label_mask, dim=-1, keepdim=True)\n",
    "\n",
    "        # Then average over the batch\n",
    "        loss = loss.mean()\n",
    "        loss.backward()\n",
    "        optimizer.step()\n",
    "        running_loss += loss.item()\n",
    "\n",
    "    # Evaluate on validation set\n",
    "    model.eval()\n",
    "    val_running_loss = 0.0\n",
    "    val_preds = []\n",
    "    val_targets = []\n",
    "    with torch.no_grad():\n",
    "        for batch_idx, (data, target, masks) in enumerate(val_loader):\n",
    "            output = model(data, masks)\n",
    "            loss = criterion(output, target)\n",
    "            # val_running_loss += loss.item()\n",
    "            val_running_loss += loss.sum().item()\n",
    "            # val_running_loss += loss.mean().item()\n",
    "            preds = output.argmax(dim=1).cpu().numpy()\n",
    "            val_preds.extend(preds)\n",
    "            val_targets.extend(target.cpu().numpy())\n",
    "\n",
    "    # Calculate the accuracy of the model on the validation set\n",
    "    val_accuracy = accuracy_score(val_targets, val_preds)\n",
    "\n",
    "    print(f\"Epoch {epoch + 1}/{num_epochs}, \"\n",
    "          f\"Training Loss: {running_loss / len(train_loader)}, \"\n",
    "          f\"Validation Loss: {val_running_loss / len(val_loader)}, \"\n",
    "          f\"Validation Accuracy: {val_accuracy}\")\n",
    "\n",
    "    train_loss_his.append(running_loss / len(train_loader))\n",
    "    val_loss_his.append(val_running_loss / len(val_loader))\n",
    "    val_accuracy_his.append(val_accuracy)\n",
    "    if best_val_loss is None or abs(val_running_loss) < abs(best_val_loss):\n",
    "        best_val_loss = val_running_loss\n",
    "        epochs_since_best_val_loss = 0\n",
    "    else:\n",
    "        epochs_since_best_val_loss += 1\n",
    "\n",
    "    if epochs_since_best_val_loss > patience:\n",
    "        print(f\"Early stopping triggered. No improvement in validation loss for {patience} consecutive epochs.\")\n",
    "        break"
   ],
   "metadata": {
    "collapsed": false,
    "pycharm": {
     "name": "#%%\n"
    }
   }
  },
  {
   "cell_type": "code",
   "execution_count": 73,
   "outputs": [],
   "source": [
    "torch.save(model.state_dict(), 'pre_trained_timevisit_seperatedtesting.pth')"
   ],
   "metadata": {
    "collapsed": false,
    "pycharm": {
     "name": "#%%\n"
    }
   }
  },
  {
   "cell_type": "code",
   "execution_count": 74,
   "outputs": [],
   "source": [
    "from model.survtimesurvival_model import TransformerClassifier_2"
   ],
   "metadata": {
    "collapsed": false,
    "pycharm": {
     "name": "#%%\n"
    }
   }
  },
  {
   "cell_type": "code",
   "execution_count": 75,
   "outputs": [
    {
     "data": {
      "text/plain": "<All keys matched successfully>"
     },
     "execution_count": 75,
     "metadata": {},
     "output_type": "execute_result"
    }
   ],
   "source": [
    "model = TransformerClassifier_2(input_dim, seq_length, embed_dim, num_heads, ffn_hidden_dim, num_layers, num_classes)\n",
    "pretrained_weights = torch.load('pre_trained_timevisit_seperatedtesting.pth')\n",
    "#pretrained_weight/\n",
    "model.load_state_dict(pretrained_weights)"
   ],
   "metadata": {
    "collapsed": false,
    "pycharm": {
     "name": "#%%\n"
    }
   }
  },
  {
   "cell_type": "code",
   "execution_count": 76,
   "outputs": [],
   "source": [
    "# masks, padded_patients = padded_mask_processing(df_train)"
   ],
   "metadata": {
    "collapsed": false,
    "pycharm": {
     "name": "#%%\n"
    }
   }
  },
  {
   "cell_type": "code",
   "execution_count": 77,
   "outputs": [],
   "source": [
    "new_embedding_train = []\n",
    "new_embedding_val = []\n",
    "new_embedding_test = []\n",
    "\n",
    "for i in range(len(masks_train)):\n",
    "    a = masks_train[i].unsqueeze(0)\n",
    "    output = model(X_train[i], a)\n",
    "    new_embedding_train.append(output)\n",
    "\n",
    "for i in range(len(masks_val)):\n",
    "    a = masks_val[i].unsqueeze(0)\n",
    "    output = model(X_val[i], a)\n",
    "    new_embedding_val.append(output)\n",
    "\n",
    "for i in range(len(masks_test)):\n",
    "    a = masks_test[i].unsqueeze(0)\n",
    "    output = model(X_test[i], a)\n",
    "    new_embedding_test.append(output)"
   ],
   "metadata": {
    "collapsed": false,
    "pycharm": {
     "name": "#%%\n"
    }
   }
  },
  {
   "cell_type": "code",
   "execution_count": 78,
   "outputs": [],
   "source": [
    "# Convert each tensor to a numpy array and stack them - training\n",
    "numpy_arrays_train = [tensor.detach().numpy() for tensor in new_embedding_train]\n",
    "numpy_array_train = np.stack(numpy_arrays_train, axis=-1)  # this stacks along a new third dimension\n",
    "\n",
    "# Convert each tensor to a numpy array and stack them - validating\n",
    "numpy_arrays_val = [tensor.detach().numpy() for tensor in new_embedding_val]\n",
    "numpy_array_val = np.stack(numpy_arrays_val, axis=-1)  # this stacks along a new third dimension\n",
    "\n",
    "# Convert each tensor to a numpy array and stack them - test\n",
    "numpy_arrays_test = [tensor.detach().numpy() for tensor in new_embedding_test]\n",
    "numpy_array_test = np.stack(numpy_arrays_test, axis=-1)  # this stacks along a new third dimension"
   ],
   "metadata": {
    "collapsed": false,
    "pycharm": {
     "name": "#%%\n"
    }
   }
  },
  {
   "cell_type": "code",
   "execution_count": 79,
   "outputs": [],
   "source": [
    "new_df_train = pd.DataFrame(numpy_array_train[0])\n",
    "new_df_train = new_df_train.transpose()\n",
    "\n",
    "new_df_val = pd.DataFrame(numpy_array_val[0])\n",
    "new_df_val = new_df_val.transpose()\n",
    "\n",
    "new_df_test = pd.DataFrame(numpy_array_test[0])\n",
    "new_df_test = new_df_test.transpose()"
   ],
   "metadata": {
    "collapsed": false,
    "pycharm": {
     "name": "#%%\n"
    }
   }
  },
  {
   "cell_type": "code",
   "execution_count": 80,
   "outputs": [],
   "source": [
    "df_temp_train = df_temp_train.reset_index(drop=True)\n",
    "df_temp_val = df_temp_val.reset_index(drop=True)\n",
    "df_temp_test = df_temp_test.reset_index(drop=True)"
   ],
   "metadata": {
    "collapsed": false,
    "pycharm": {
     "name": "#%%\n"
    }
   }
  },
  {
   "cell_type": "code",
   "execution_count": 81,
   "outputs": [
    {
     "data": {
      "text/plain": "   seq_time_id  event       time\n0    10.699814    0.0  10.699814\n1     3.907020    1.0   0.005476\n2    14.305662    0.0   9.117831\n3     3.551090    1.0   0.002738\n4     4.988501    0.0   4.988501",
      "text/html": "<div>\n<style scoped>\n    .dataframe tbody tr th:only-of-type {\n        vertical-align: middle;\n    }\n\n    .dataframe tbody tr th {\n        vertical-align: top;\n    }\n\n    .dataframe thead th {\n        text-align: right;\n    }\n</style>\n<table border=\"1\" class=\"dataframe\">\n  <thead>\n    <tr style=\"text-align: right;\">\n      <th></th>\n      <th>seq_time_id</th>\n      <th>event</th>\n      <th>time</th>\n    </tr>\n  </thead>\n  <tbody>\n    <tr>\n      <th>0</th>\n      <td>10.699814</td>\n      <td>0.0</td>\n      <td>10.699814</td>\n    </tr>\n    <tr>\n      <th>1</th>\n      <td>3.907020</td>\n      <td>1.0</td>\n      <td>0.005476</td>\n    </tr>\n    <tr>\n      <th>2</th>\n      <td>14.305662</td>\n      <td>0.0</td>\n      <td>9.117831</td>\n    </tr>\n    <tr>\n      <th>3</th>\n      <td>3.551090</td>\n      <td>1.0</td>\n      <td>0.002738</td>\n    </tr>\n    <tr>\n      <th>4</th>\n      <td>4.988501</td>\n      <td>0.0</td>\n      <td>4.988501</td>\n    </tr>\n  </tbody>\n</table>\n</div>"
     },
     "execution_count": 81,
     "metadata": {},
     "output_type": "execute_result"
    }
   ],
   "source": [
    "df_temp_train.head()"
   ],
   "metadata": {
    "collapsed": false,
    "pycharm": {
     "name": "#%%\n"
    }
   }
  },
  {
   "cell_type": "code",
   "execution_count": 82,
   "outputs": [
    {
     "data": {
      "text/plain": "         0         1         2         3         4         5         6   \\\n0  0.731693  0.604919  1.171587 -1.226184 -0.286619 -0.581859 -1.379731   \n1 -0.356175 -0.611464 -0.482645  0.218119  0.130016  0.096982  0.187577   \n2  0.418413  0.097683 -1.279574 -0.275780  0.135524 -0.322894 -0.366631   \n3 -0.651837 -0.726584 -0.437333  0.373778  0.123363  0.199476  0.305582   \n4  0.736469  0.379331 -0.781447 -0.618399 -0.002974 -0.477094 -0.761348   \n\n         7         8         9   ...        11        12        13        14  \\\n0 -1.160059 -0.092373 -0.964389  ... -0.066888 -1.014711 -1.253132 -0.065429   \n1  0.384606  0.423175  0.292395  ... -0.025309  0.103674  0.554277 -0.148474   \n2 -1.201092 -0.024250 -0.287744  ... -0.786580 -0.839985  0.186107  0.361376   \n3  0.540704  0.510810  0.494655  ...  0.087822  0.273801  0.682414 -0.164547   \n4 -1.405330 -0.139378 -0.604495  ... -0.790991 -1.013842 -0.288305  0.346726   \n\n         15        16        17        18        19        20  \n0 -0.548398  0.746591  1.336037 -0.806434 -0.318023 -0.921672  \n1  0.477850 -0.568844 -0.398432  0.668306  0.530971  0.642207  \n2 -0.050171  0.173194  0.300056  0.437733  0.484436  0.330292  \n3  0.537456 -0.625345 -0.550665  0.787086  0.450607  0.716556  \n4 -0.253929  0.426600  0.699425  0.002263  0.353702 -0.080097  \n\n[5 rows x 21 columns]",
      "text/html": "<div>\n<style scoped>\n    .dataframe tbody tr th:only-of-type {\n        vertical-align: middle;\n    }\n\n    .dataframe tbody tr th {\n        vertical-align: top;\n    }\n\n    .dataframe thead th {\n        text-align: right;\n    }\n</style>\n<table border=\"1\" class=\"dataframe\">\n  <thead>\n    <tr style=\"text-align: right;\">\n      <th></th>\n      <th>0</th>\n      <th>1</th>\n      <th>2</th>\n      <th>3</th>\n      <th>4</th>\n      <th>5</th>\n      <th>6</th>\n      <th>7</th>\n      <th>8</th>\n      <th>9</th>\n      <th>...</th>\n      <th>11</th>\n      <th>12</th>\n      <th>13</th>\n      <th>14</th>\n      <th>15</th>\n      <th>16</th>\n      <th>17</th>\n      <th>18</th>\n      <th>19</th>\n      <th>20</th>\n    </tr>\n  </thead>\n  <tbody>\n    <tr>\n      <th>0</th>\n      <td>0.731693</td>\n      <td>0.604919</td>\n      <td>1.171587</td>\n      <td>-1.226184</td>\n      <td>-0.286619</td>\n      <td>-0.581859</td>\n      <td>-1.379731</td>\n      <td>-1.160059</td>\n      <td>-0.092373</td>\n      <td>-0.964389</td>\n      <td>...</td>\n      <td>-0.066888</td>\n      <td>-1.014711</td>\n      <td>-1.253132</td>\n      <td>-0.065429</td>\n      <td>-0.548398</td>\n      <td>0.746591</td>\n      <td>1.336037</td>\n      <td>-0.806434</td>\n      <td>-0.318023</td>\n      <td>-0.921672</td>\n    </tr>\n    <tr>\n      <th>1</th>\n      <td>-0.356175</td>\n      <td>-0.611464</td>\n      <td>-0.482645</td>\n      <td>0.218119</td>\n      <td>0.130016</td>\n      <td>0.096982</td>\n      <td>0.187577</td>\n      <td>0.384606</td>\n      <td>0.423175</td>\n      <td>0.292395</td>\n      <td>...</td>\n      <td>-0.025309</td>\n      <td>0.103674</td>\n      <td>0.554277</td>\n      <td>-0.148474</td>\n      <td>0.477850</td>\n      <td>-0.568844</td>\n      <td>-0.398432</td>\n      <td>0.668306</td>\n      <td>0.530971</td>\n      <td>0.642207</td>\n    </tr>\n    <tr>\n      <th>2</th>\n      <td>0.418413</td>\n      <td>0.097683</td>\n      <td>-1.279574</td>\n      <td>-0.275780</td>\n      <td>0.135524</td>\n      <td>-0.322894</td>\n      <td>-0.366631</td>\n      <td>-1.201092</td>\n      <td>-0.024250</td>\n      <td>-0.287744</td>\n      <td>...</td>\n      <td>-0.786580</td>\n      <td>-0.839985</td>\n      <td>0.186107</td>\n      <td>0.361376</td>\n      <td>-0.050171</td>\n      <td>0.173194</td>\n      <td>0.300056</td>\n      <td>0.437733</td>\n      <td>0.484436</td>\n      <td>0.330292</td>\n    </tr>\n    <tr>\n      <th>3</th>\n      <td>-0.651837</td>\n      <td>-0.726584</td>\n      <td>-0.437333</td>\n      <td>0.373778</td>\n      <td>0.123363</td>\n      <td>0.199476</td>\n      <td>0.305582</td>\n      <td>0.540704</td>\n      <td>0.510810</td>\n      <td>0.494655</td>\n      <td>...</td>\n      <td>0.087822</td>\n      <td>0.273801</td>\n      <td>0.682414</td>\n      <td>-0.164547</td>\n      <td>0.537456</td>\n      <td>-0.625345</td>\n      <td>-0.550665</td>\n      <td>0.787086</td>\n      <td>0.450607</td>\n      <td>0.716556</td>\n    </tr>\n    <tr>\n      <th>4</th>\n      <td>0.736469</td>\n      <td>0.379331</td>\n      <td>-0.781447</td>\n      <td>-0.618399</td>\n      <td>-0.002974</td>\n      <td>-0.477094</td>\n      <td>-0.761348</td>\n      <td>-1.405330</td>\n      <td>-0.139378</td>\n      <td>-0.604495</td>\n      <td>...</td>\n      <td>-0.790991</td>\n      <td>-1.013842</td>\n      <td>-0.288305</td>\n      <td>0.346726</td>\n      <td>-0.253929</td>\n      <td>0.426600</td>\n      <td>0.699425</td>\n      <td>0.002263</td>\n      <td>0.353702</td>\n      <td>-0.080097</td>\n    </tr>\n  </tbody>\n</table>\n<p>5 rows × 21 columns</p>\n</div>"
     },
     "execution_count": 82,
     "metadata": {},
     "output_type": "execute_result"
    }
   ],
   "source": [
    "new_df_train.head()"
   ],
   "metadata": {
    "collapsed": false,
    "pycharm": {
     "name": "#%%\n"
    }
   }
  },
  {
   "cell_type": "code",
   "execution_count": 83,
   "outputs": [],
   "source": [
    "dataframe_for_survtrace_train = pd.concat([new_df_train, df_temp_train], axis=1)\n",
    "dataframe_for_survtrace_val = pd.concat([new_df_val, df_temp_val], axis=1)\n",
    "dataframe_for_survtrace_test = pd.concat([new_df_test, df_temp_test], axis=1)"
   ],
   "metadata": {
    "collapsed": false,
    "pycharm": {
     "name": "#%%\n"
    }
   }
  },
  {
   "cell_type": "code",
   "execution_count": 84,
   "outputs": [],
   "source": [
    "# new_embedding = []\n",
    "# for i in range(len(masks)):\n",
    "#     a = masks[i].unsqueeze(0)\n",
    "#     output = model(X_features_data_tensor[i], a)\n",
    "#     new_embedding.append(output)"
   ],
   "metadata": {
    "collapsed": false,
    "pycharm": {
     "name": "#%%\n"
    }
   }
  },
  {
   "cell_type": "code",
   "execution_count": 85,
   "outputs": [],
   "source": [
    "# # Convert each tensor to a numpy array and stack them\n",
    "# numpy_arrays = [tensor.detach().numpy() for tensor in new_embedding]\n",
    "# numpy_array = np.stack(numpy_arrays, axis=-1) # this stacks along a new third dimension"
   ],
   "metadata": {
    "collapsed": false,
    "pycharm": {
     "name": "#%%\n"
    }
   }
  },
  {
   "cell_type": "code",
   "execution_count": 86,
   "outputs": [],
   "source": [
    "# new_df = pd.DataFrame(numpy_array[0])\n",
    "# new_df = new_df.transpose()"
   ],
   "metadata": {
    "collapsed": false,
    "pycharm": {
     "name": "#%%\n"
    }
   }
  },
  {
   "cell_type": "code",
   "execution_count": 87,
   "outputs": [],
   "source": [
    "# dataframe_for_survtrace = pd.concat([new_df, df_y_train], axis=1)"
   ],
   "metadata": {
    "collapsed": false,
    "pycharm": {
     "name": "#%%\n"
    }
   }
  },
  {
   "cell_type": "code",
   "execution_count": 88,
   "outputs": [],
   "source": [
    "# dataframe_for_survtrace.head()"
   ],
   "metadata": {
    "collapsed": false,
    "pycharm": {
     "name": "#%%\n"
    }
   }
  },
  {
   "cell_type": "code",
   "execution_count": 89,
   "outputs": [],
   "source": [
    "# df_temp.head()"
   ],
   "metadata": {
    "collapsed": false,
    "pycharm": {
     "name": "#%%\n"
    }
   }
  },
  {
   "cell_type": "code",
   "execution_count": 90,
   "outputs": [
    {
     "data": {
      "text/plain": "          0         1         2         3         4         5         6  \\\n0  0.731693  0.604919  1.171587 -1.226184 -0.286619 -0.581859 -1.379731   \n1 -0.356175 -0.611464 -0.482645  0.218119  0.130016  0.096982  0.187577   \n2  0.418413  0.097683 -1.279574 -0.275780  0.135524 -0.322894 -0.366631   \n3 -0.651837 -0.726584 -0.437333  0.373778  0.123363  0.199476  0.305582   \n4  0.736469  0.379331 -0.781447 -0.618399 -0.002974 -0.477094 -0.761348   \n\n          7         8         9  ...        14        15        16        17  \\\n0 -1.160059 -0.092373 -0.964389  ... -0.065429 -0.548398  0.746591  1.336037   \n1  0.384606  0.423175  0.292395  ... -0.148474  0.477850 -0.568844 -0.398432   \n2 -1.201092 -0.024250 -0.287744  ...  0.361376 -0.050171  0.173194  0.300056   \n3  0.540704  0.510810  0.494655  ... -0.164547  0.537456 -0.625345 -0.550665   \n4 -1.405330 -0.139378 -0.604495  ...  0.346726 -0.253929  0.426600  0.699425   \n\n         18        19        20  seq_time_id  event       time  \n0 -0.806434 -0.318023 -0.921672    10.699814    0.0  10.699814  \n1  0.668306  0.530971  0.642207     3.907020    1.0   0.005476  \n2  0.437733  0.484436  0.330292    14.305662    0.0   9.117831  \n3  0.787086  0.450607  0.716556     3.551090    1.0   0.002738  \n4  0.002263  0.353702 -0.080097     4.988501    0.0   4.988501  \n\n[5 rows x 24 columns]",
      "text/html": "<div>\n<style scoped>\n    .dataframe tbody tr th:only-of-type {\n        vertical-align: middle;\n    }\n\n    .dataframe tbody tr th {\n        vertical-align: top;\n    }\n\n    .dataframe thead th {\n        text-align: right;\n    }\n</style>\n<table border=\"1\" class=\"dataframe\">\n  <thead>\n    <tr style=\"text-align: right;\">\n      <th></th>\n      <th>0</th>\n      <th>1</th>\n      <th>2</th>\n      <th>3</th>\n      <th>4</th>\n      <th>5</th>\n      <th>6</th>\n      <th>7</th>\n      <th>8</th>\n      <th>9</th>\n      <th>...</th>\n      <th>14</th>\n      <th>15</th>\n      <th>16</th>\n      <th>17</th>\n      <th>18</th>\n      <th>19</th>\n      <th>20</th>\n      <th>seq_time_id</th>\n      <th>event</th>\n      <th>time</th>\n    </tr>\n  </thead>\n  <tbody>\n    <tr>\n      <th>0</th>\n      <td>0.731693</td>\n      <td>0.604919</td>\n      <td>1.171587</td>\n      <td>-1.226184</td>\n      <td>-0.286619</td>\n      <td>-0.581859</td>\n      <td>-1.379731</td>\n      <td>-1.160059</td>\n      <td>-0.092373</td>\n      <td>-0.964389</td>\n      <td>...</td>\n      <td>-0.065429</td>\n      <td>-0.548398</td>\n      <td>0.746591</td>\n      <td>1.336037</td>\n      <td>-0.806434</td>\n      <td>-0.318023</td>\n      <td>-0.921672</td>\n      <td>10.699814</td>\n      <td>0.0</td>\n      <td>10.699814</td>\n    </tr>\n    <tr>\n      <th>1</th>\n      <td>-0.356175</td>\n      <td>-0.611464</td>\n      <td>-0.482645</td>\n      <td>0.218119</td>\n      <td>0.130016</td>\n      <td>0.096982</td>\n      <td>0.187577</td>\n      <td>0.384606</td>\n      <td>0.423175</td>\n      <td>0.292395</td>\n      <td>...</td>\n      <td>-0.148474</td>\n      <td>0.477850</td>\n      <td>-0.568844</td>\n      <td>-0.398432</td>\n      <td>0.668306</td>\n      <td>0.530971</td>\n      <td>0.642207</td>\n      <td>3.907020</td>\n      <td>1.0</td>\n      <td>0.005476</td>\n    </tr>\n    <tr>\n      <th>2</th>\n      <td>0.418413</td>\n      <td>0.097683</td>\n      <td>-1.279574</td>\n      <td>-0.275780</td>\n      <td>0.135524</td>\n      <td>-0.322894</td>\n      <td>-0.366631</td>\n      <td>-1.201092</td>\n      <td>-0.024250</td>\n      <td>-0.287744</td>\n      <td>...</td>\n      <td>0.361376</td>\n      <td>-0.050171</td>\n      <td>0.173194</td>\n      <td>0.300056</td>\n      <td>0.437733</td>\n      <td>0.484436</td>\n      <td>0.330292</td>\n      <td>14.305662</td>\n      <td>0.0</td>\n      <td>9.117831</td>\n    </tr>\n    <tr>\n      <th>3</th>\n      <td>-0.651837</td>\n      <td>-0.726584</td>\n      <td>-0.437333</td>\n      <td>0.373778</td>\n      <td>0.123363</td>\n      <td>0.199476</td>\n      <td>0.305582</td>\n      <td>0.540704</td>\n      <td>0.510810</td>\n      <td>0.494655</td>\n      <td>...</td>\n      <td>-0.164547</td>\n      <td>0.537456</td>\n      <td>-0.625345</td>\n      <td>-0.550665</td>\n      <td>0.787086</td>\n      <td>0.450607</td>\n      <td>0.716556</td>\n      <td>3.551090</td>\n      <td>1.0</td>\n      <td>0.002738</td>\n    </tr>\n    <tr>\n      <th>4</th>\n      <td>0.736469</td>\n      <td>0.379331</td>\n      <td>-0.781447</td>\n      <td>-0.618399</td>\n      <td>-0.002974</td>\n      <td>-0.477094</td>\n      <td>-0.761348</td>\n      <td>-1.405330</td>\n      <td>-0.139378</td>\n      <td>-0.604495</td>\n      <td>...</td>\n      <td>0.346726</td>\n      <td>-0.253929</td>\n      <td>0.426600</td>\n      <td>0.699425</td>\n      <td>0.002263</td>\n      <td>0.353702</td>\n      <td>-0.080097</td>\n      <td>4.988501</td>\n      <td>0.0</td>\n      <td>4.988501</td>\n    </tr>\n  </tbody>\n</table>\n<p>5 rows × 24 columns</p>\n</div>"
     },
     "execution_count": 90,
     "metadata": {},
     "output_type": "execute_result"
    }
   ],
   "source": [
    "dataframe_for_survtrace_train.head()"
   ],
   "metadata": {
    "collapsed": false,
    "pycharm": {
     "name": "#%%\n"
    }
   }
  },
  {
   "cell_type": "code",
   "execution_count": 91,
   "outputs": [
    {
     "name": "stdout",
     "output_type": "stream",
     "text": [
      "100\n"
     ]
    }
   ],
   "source": [
    "location_test = dataframe_for_survtrace_test.shape[0]\n",
    "print(location_test)"
   ],
   "metadata": {
    "collapsed": false,
    "pycharm": {
     "name": "#%%\n"
    }
   }
  },
  {
   "cell_type": "code",
   "execution_count": 92,
   "outputs": [],
   "source": [
    "dataframe_for_survtrace = pd.concat(\n",
    "    [dataframe_for_survtrace_test, dataframe_for_survtrace_val, dataframe_for_survtrace_train])\n",
    "dataframe_for_survtrace.columns = dataframe_for_survtrace.columns.astype(str)\n",
    "dataframe_for_survtrace = dataframe_for_survtrace.drop(columns=['seq_time_id'])\n",
    "dataframe_for_survtrace.rename(columns={'time': 'duration'}, inplace=True)"
   ],
   "metadata": {
    "collapsed": false,
    "pycharm": {
     "name": "#%%\n"
    }
   }
  },
  {
   "cell_type": "code",
   "execution_count": 93,
   "outputs": [
    {
     "data": {
      "text/plain": "Index(['0', '1', '2', '3', '4', '5', '6', '7', '8', '9', '10', '11', '12',\n       '13', '14', '15', '16', '17', '18', '19', '20', 'event', 'duration'],\n      dtype='object')"
     },
     "execution_count": 93,
     "metadata": {},
     "output_type": "execute_result"
    }
   ],
   "source": [
    "dataframe_for_survtrace.columns"
   ],
   "metadata": {
    "collapsed": false,
    "pycharm": {
     "name": "#%%\n"
    }
   }
  },
  {
   "cell_type": "code",
   "execution_count": 94,
   "outputs": [],
   "source": [
    "dataframe_for_survtrace = dataframe_for_survtrace.reset_index(drop=True)"
   ],
   "metadata": {
    "collapsed": false,
    "pycharm": {
     "name": "#%%\n"
    }
   }
  },
  {
   "cell_type": "code",
   "execution_count": 95,
   "outputs": [],
   "source": [
    "# dataframe_for_survtrace = pd.concat([dataframe_for_survtrace, df_temp['seq_time_id']], axis=1)"
   ],
   "metadata": {
    "collapsed": false,
    "pycharm": {
     "name": "#%%\n"
    }
   }
  },
  {
   "cell_type": "code",
   "execution_count": 96,
   "outputs": [],
   "source": [
    "# dataframe_for_survtrace.rename(columns={'proportion': 'proportion_1'}, inplace=True)\n",
    "# dataframe_for_survtrace.columns = dataframe_for_survtrace.columns.astype(str)"
   ],
   "metadata": {
    "collapsed": false,
    "pycharm": {
     "name": "#%%\n"
    }
   }
  },
  {
   "cell_type": "code",
   "execution_count": 97,
   "outputs": [],
   "source": [
    "# df_2 = dataframe_for_survtrace.drop(columns=['duration', 'proportion_1'])\n",
    "# df_2.rename(columns={'seq_time_id': 'duration'}, inplace=True)"
   ],
   "metadata": {
    "collapsed": false,
    "pycharm": {
     "name": "#%%\n"
    }
   }
  },
  {
   "cell_type": "code",
   "execution_count": 98,
   "outputs": [],
   "source": [
    "# df_2.info()"
   ],
   "metadata": {
    "collapsed": false,
    "pycharm": {
     "name": "#%%\n"
    }
   }
  },
  {
   "cell_type": "code",
   "execution_count": 99,
   "outputs": [],
   "source": [
    "from utils.covariate_data_processing import pbc2_proccess_covariate_firstsolution"
   ],
   "metadata": {
    "collapsed": false,
    "pycharm": {
     "name": "#%%\n"
    }
   }
  },
  {
   "cell_type": "code",
   "execution_count": 100,
   "outputs": [
    {
     "name": "stdout",
     "output_type": "stream",
     "text": [
      "0\n",
      "______\n",
      "21\n",
      "______\n",
      "0\n",
      "______\n",
      "21\n",
      "______\n",
      "0\n",
      "______\n",
      "[2.73792575e-03 1.67697952e-01 4.91509609e-01 4.91987332e-01\n",
      " 1.43056620e+01]\n",
      "______\n",
      "4\n"
     ]
    },
    {
     "name": "stderr",
     "output_type": "stream",
     "text": [
      "/Users/davidlee/Documents/GitHub/Surtimesurvival/SurvTRACE/survtrace/utils.py:78: UserWarning: Got event/censoring at start time. Should be removed! It is set s.t. it has no contribution to loss.\n",
      "  warnings.warn(\"\"\"Got event/censoring at start time. Should be removed! It is set s.t. it has no contribution to loss.\"\"\")\n"
     ]
    }
   ],
   "source": [
    "y, df, df_train, df_y_train, df_test, df_y_test, df_val, df_y_val = pbc2_proccess_covariate_firstsolution(\n",
    "    dataframe_for_survtrace, location_test)"
   ],
   "metadata": {
    "collapsed": false,
    "pycharm": {
     "name": "#%%\n"
    }
   }
  },
  {
   "cell_type": "code",
   "execution_count": 101,
   "outputs": [],
   "source": [
    "from SurvTRACE.survtrace.utils import set_random_seed\n",
    "from SurvTRACE.survtrace.model import SurvTraceSingle\n",
    "from SurvTRACE.survtrace.config import STConfig\n",
    "from SurvTRACE.survtrace.train_utils import Trainer\n",
    "\n",
    "set_random_seed(STConfig['seed'])\n",
    "\n",
    "hparams = {\n",
    "    'batch_size': 8,\n",
    "    'weight_decay': 1e-4,\n",
    "    'learning_rate': 1e-3,\n",
    "    'epochs': 20,\n",
    "}"
   ],
   "metadata": {
    "collapsed": false,
    "pycharm": {
     "name": "#%%\n"
    }
   }
  },
  {
   "cell_type": "code",
   "execution_count": 102,
   "outputs": [
    {
     "name": "stdout",
     "output_type": "stream",
     "text": [
      "GPU not found! will use cpu for training!\n",
      "[Train-0]: 55.61326789855957\n",
      "[Val-0]: 1.2348220348358154\n",
      "[Train-1]: 34.655910551548004\n",
      "[Val-1]: 0.9627079963684082\n",
      "[Train-2]: 31.635237634181976\n",
      "[Val-2]: 0.9348741769790649\n",
      "[Train-3]: 29.117500007152557\n",
      "[Val-3]: 1.0738508701324463\n",
      "EarlyStopping counter: 1 out of 5\n",
      "[Train-4]: 28.82610560953617\n",
      "[Val-4]: 0.9279035329818726\n",
      "[Train-5]: 29.33073714375496\n",
      "[Val-5]: 0.9627255797386169\n",
      "EarlyStopping counter: 1 out of 5\n",
      "[Train-6]: 28.440106824040413\n",
      "[Val-6]: 0.801994800567627\n",
      "[Train-7]: 28.047435104846954\n",
      "[Val-7]: 0.9682084918022156\n",
      "EarlyStopping counter: 1 out of 5\n",
      "[Train-8]: 28.246444940567017\n",
      "[Val-8]: 0.7958088517189026\n",
      "[Train-9]: 28.505532443523407\n",
      "[Val-9]: 0.802461564540863\n",
      "EarlyStopping counter: 1 out of 5\n",
      "[Train-10]: 28.180000707507133\n",
      "[Val-10]: 0.8058476448059082\n",
      "EarlyStopping counter: 2 out of 5\n",
      "[Train-11]: 28.60670229792595\n",
      "[Val-11]: 0.8240787386894226\n",
      "EarlyStopping counter: 3 out of 5\n",
      "[Train-12]: 28.182949364185333\n",
      "[Val-12]: 0.7928218841552734\n",
      "[Train-13]: 27.970377549529076\n",
      "[Val-13]: 0.8288746476173401\n",
      "EarlyStopping counter: 1 out of 5\n",
      "[Train-14]: 28.06355544924736\n",
      "[Val-14]: 0.778419017791748\n",
      "[Train-15]: 29.856893628835678\n",
      "[Val-15]: 0.8663114309310913\n",
      "EarlyStopping counter: 1 out of 5\n",
      "[Train-16]: 26.439308285713196\n",
      "[Val-16]: 0.8546010851860046\n",
      "EarlyStopping counter: 2 out of 5\n",
      "[Train-17]: 25.715625166893005\n",
      "[Val-17]: 0.759695291519165\n",
      "[Train-18]: 24.871665477752686\n",
      "[Val-18]: 0.7829707860946655\n",
      "EarlyStopping counter: 1 out of 5\n",
      "[Train-19]: 25.054003953933716\n",
      "[Val-19]: 0.7845107316970825\n",
      "EarlyStopping counter: 2 out of 5\n"
     ]
    }
   ],
   "source": [
    "# get model\n",
    "model = SurvTraceSingle(STConfig)\n",
    "\n",
    "# initialize a trainer\n",
    "trainer = Trainer(model)\n",
    "train_loss, val_loss = trainer.fit(train_set=(df_train, df_y_train), val_set=(df_val, df_y_val),\n",
    "                                   batch_size=hparams['batch_size'],\n",
    "                                   epochs=hparams['epochs'],\n",
    "                                   learning_rate=hparams['learning_rate'],\n",
    "                                   weight_decay=hparams['weight_decay'], )"
   ],
   "metadata": {
    "collapsed": false,
    "pycharm": {
     "name": "#%%\n"
    }
   }
  },
  {
   "cell_type": "code",
   "execution_count": 103,
   "outputs": [
    {
     "name": "stdout",
     "output_type": "stream",
     "text": [
      "******************************\n",
      "start evaluation\n",
      "******************************\n",
      "For 0.25 quantile,\n",
      "TD Concordance Index - IPCW: 0.8842887473460722\n",
      "Brier Score: 0.07220295395975881\n",
      "For 0.5 quantile,\n",
      "TD Concordance Index - IPCW: 0.8640890451083773\n",
      "Brier Score: 0.15363827109021386\n",
      "For 0.75 quantile,\n",
      "TD Concordance Index - IPCW: 0.7192074180203585\n",
      "Brier Score: 0.20417485618159753\n",
      "done\n"
     ]
    }
   ],
   "source": [
    "# evaluate model\n",
    "from SurvTRACE.survtrace.evaluate_utils import Evaluator\n",
    "\n",
    "evaluator = Evaluator(df, df_train.index)\n",
    "evaluator.eval(model, (df_test, df_y_test))\n",
    "print(\"done\")"
   ],
   "metadata": {
    "collapsed": false,
    "pycharm": {
     "name": "#%%\n"
    }
   }
  },
  {
   "cell_type": "code",
   "execution_count": 104,
   "outputs": [
    {
     "data": {
      "text/plain": "<Figure size 640x480 with 1 Axes>",
      "image/png": "[encoded data removed]"
     },
     "metadata": {},
     "output_type": "display_data"
    }
   ],
   "source": [
    "import matplotlib.pyplot as plt\n",
    "\n",
    "plt.plot(train_loss, label='train')\n",
    "plt.plot(val_loss, label='val')\n",
    "plt.legend(fontsize=20)\n",
    "plt.xlabel('epoch', fontsize=20)\n",
    "plt.ylabel('loss', fontsize=20)\n",
    "plt.show()"
   ],
   "metadata": {
    "collapsed": false,
    "pycharm": {
     "name": "#%%\n"
    }
   }
  },
  {
   "cell_type": "code",
   "execution_count": null,
   "outputs": [],
   "source": [],
   "metadata": {
    "collapsed": false,
    "pycharm": {
     "name": "#%%\n"
    }
   }
  }
 ],
 "metadata": {
  "kernelspec": {
   "display_name": "Python 3",
   "language": "python",
   "name": "python3"
  },
  "language_info": {
   "codemirror_mode": {
    "name": "ipython",
    "version": 2
   },
   "file_extension": ".py",
   "mimetype": "text/x-python",
   "name": "python",
   "nbconvert_exporter": "python",
   "pygments_lexer": "ipython2",
   "version": "2.7.6"
  }
 },
 "nbformat": 4,
 "nbformat_minor": 0
}