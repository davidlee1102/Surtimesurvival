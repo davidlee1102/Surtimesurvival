{
 "cells": [
  {
   "cell_type": "code",
   "execution_count": 1,
   "outputs": [],
   "source": [
    "import pandas as pd\n",
    "import torch\n",
    "import numpy as np\n",
    "\n",
    "from sklearn.model_selection import train_test_split\n",
    "from utils.covariate_data_processing import pbc2_proccess_covariate, padded_mask_processing"
   ],
   "metadata": {
    "collapsed": false,
    "pycharm": {
     "name": "#%%\n"
    }
   }
  },
  {
   "cell_type": "code",
   "execution_count": 2,
   "outputs": [],
   "source": [
    "df = pd.read_csv(\n",
    "    \"/Users/davidlee/Documents/GitHub/Surtimesurvival/Data Project/Pycox Lib/PBC2 Convariate Data/pbc2_data_proccessed_auton_covariate.csv\")"
   ],
   "metadata": {
    "collapsed": false,
    "pycharm": {
     "name": "#%%\n"
    }
   }
  },
  {
   "cell_type": "code",
   "execution_count": 3,
   "outputs": [
    {
     "data": {
      "text/plain": "   event       time  seq_id  seq_time_id  seq_temporal_SGOT  seq_temporal_age  \\\n0    1.0   0.569489       0     0.569489          -1.485263          0.248058   \n1    1.0   0.569489       0     1.095170           0.195488          0.248058   \n2    0.0  14.152338       1     5.319790          -0.442126          1.292856   \n3    0.0  14.152338       1     6.261636          -0.046806          1.292856   \n4    0.0  14.152338       1     7.266455           0.293680          1.292856   \n\n   seq_temporal_albumin  seq_temporal_alkaline  seq_temporal_platelets  \\\n0             -0.894575               0.195532               -0.529101   \n1             -1.570646               0.285613               -0.456022   \n2             -1.431455              -0.605844               -1.395605   \n3             -1.172958              -0.512364               -1.259888   \n4             -1.312149              -0.443529               -1.364286   \n\n   seq_temporal_prothrombin  ...  seq_temporal_drug_1.0  \\\n0                  0.136768  ...                      0   \n1                  0.813132  ...                      0   \n2                  0.339677  ...                      0   \n3                  0.339677  ...                      0   \n4                  0.339677  ...                      0   \n\n   seq_temporal_edema_1.0  seq_temporal_edema_2.0  \\\n0                       1                       0   \n1                       1                       0   \n2                       1                       0   \n3                       1                       0   \n4                       1                       0   \n\n   seq_temporal_hepatomegaly_1.0  seq_temporal_hepatomegaly_2.0  \\\n0                              1                              0   \n1                              1                              0   \n2                              1                              0   \n3                              1                              0   \n4                              1                              0   \n\n   seq_temporal_histologic_1.0  seq_temporal_histologic_2.0  \\\n0                            0                            0   \n1                            0                            0   \n2                            0                            1   \n3                            0                            1   \n4                            0                            1   \n\n   seq_temporal_histologic_3.0  seq_temporal_spiders_1.0  \\\n0                            1                         1   \n1                            1                         1   \n2                            0                         1   \n3                            0                         1   \n4                            0                         1   \n\n   seq_temporal_spiders_2.0  \n0                         0  \n1                         0  \n2                         0  \n3                         0  \n4                         0  \n\n[5 rows x 25 columns]",
      "text/html": "<div>\n<style scoped>\n    .dataframe tbody tr th:only-of-type {\n        vertical-align: middle;\n    }\n\n    .dataframe tbody tr th {\n        vertical-align: top;\n    }\n\n    .dataframe thead th {\n        text-align: right;\n    }\n</style>\n<table border=\"1\" class=\"dataframe\">\n  <thead>\n    <tr style=\"text-align: right;\">\n      <th></th>\n      <th>event</th>\n      <th>time</th>\n      <th>seq_id</th>\n      <th>seq_time_id</th>\n      <th>seq_temporal_SGOT</th>\n      <th>seq_temporal_age</th>\n      <th>seq_temporal_albumin</th>\n      <th>seq_temporal_alkaline</th>\n      <th>seq_temporal_platelets</th>\n      <th>seq_temporal_prothrombin</th>\n      <th>...</th>\n      <th>seq_temporal_drug_1.0</th>\n      <th>seq_temporal_edema_1.0</th>\n      <th>seq_temporal_edema_2.0</th>\n      <th>seq_temporal_hepatomegaly_1.0</th>\n      <th>seq_temporal_hepatomegaly_2.0</th>\n      <th>seq_temporal_histologic_1.0</th>\n      <th>seq_temporal_histologic_2.0</th>\n      <th>seq_temporal_histologic_3.0</th>\n      <th>seq_temporal_spiders_1.0</th>\n      <th>seq_temporal_spiders_2.0</th>\n    </tr>\n  </thead>\n  <tbody>\n    <tr>\n      <th>0</th>\n      <td>1.0</td>\n      <td>0.569489</td>\n      <td>0</td>\n      <td>0.569489</td>\n      <td>-1.485263</td>\n      <td>0.248058</td>\n      <td>-0.894575</td>\n      <td>0.195532</td>\n      <td>-0.529101</td>\n      <td>0.136768</td>\n      <td>...</td>\n      <td>0</td>\n      <td>1</td>\n      <td>0</td>\n      <td>1</td>\n      <td>0</td>\n      <td>0</td>\n      <td>0</td>\n      <td>1</td>\n      <td>1</td>\n      <td>0</td>\n    </tr>\n    <tr>\n      <th>1</th>\n      <td>1.0</td>\n      <td>0.569489</td>\n      <td>0</td>\n      <td>1.095170</td>\n      <td>0.195488</td>\n      <td>0.248058</td>\n      <td>-1.570646</td>\n      <td>0.285613</td>\n      <td>-0.456022</td>\n      <td>0.813132</td>\n      <td>...</td>\n      <td>0</td>\n      <td>1</td>\n      <td>0</td>\n      <td>1</td>\n      <td>0</td>\n      <td>0</td>\n      <td>0</td>\n      <td>1</td>\n      <td>1</td>\n      <td>0</td>\n    </tr>\n    <tr>\n      <th>2</th>\n      <td>0.0</td>\n      <td>14.152338</td>\n      <td>1</td>\n      <td>5.319790</td>\n      <td>-0.442126</td>\n      <td>1.292856</td>\n      <td>-1.431455</td>\n      <td>-0.605844</td>\n      <td>-1.395605</td>\n      <td>0.339677</td>\n      <td>...</td>\n      <td>0</td>\n      <td>1</td>\n      <td>0</td>\n      <td>1</td>\n      <td>0</td>\n      <td>0</td>\n      <td>1</td>\n      <td>0</td>\n      <td>1</td>\n      <td>0</td>\n    </tr>\n    <tr>\n      <th>3</th>\n      <td>0.0</td>\n      <td>14.152338</td>\n      <td>1</td>\n      <td>6.261636</td>\n      <td>-0.046806</td>\n      <td>1.292856</td>\n      <td>-1.172958</td>\n      <td>-0.512364</td>\n      <td>-1.259888</td>\n      <td>0.339677</td>\n      <td>...</td>\n      <td>0</td>\n      <td>1</td>\n      <td>0</td>\n      <td>1</td>\n      <td>0</td>\n      <td>0</td>\n      <td>1</td>\n      <td>0</td>\n      <td>1</td>\n      <td>0</td>\n    </tr>\n    <tr>\n      <th>4</th>\n      <td>0.0</td>\n      <td>14.152338</td>\n      <td>1</td>\n      <td>7.266455</td>\n      <td>0.293680</td>\n      <td>1.292856</td>\n      <td>-1.312149</td>\n      <td>-0.443529</td>\n      <td>-1.364286</td>\n      <td>0.339677</td>\n      <td>...</td>\n      <td>0</td>\n      <td>1</td>\n      <td>0</td>\n      <td>1</td>\n      <td>0</td>\n      <td>0</td>\n      <td>1</td>\n      <td>0</td>\n      <td>1</td>\n      <td>0</td>\n    </tr>\n  </tbody>\n</table>\n<p>5 rows × 25 columns</p>\n</div>"
     },
     "execution_count": 3,
     "metadata": {},
     "output_type": "execute_result"
    }
   ],
   "source": [
    "df.head()"
   ],
   "metadata": {
    "collapsed": false,
    "pycharm": {
     "name": "#%%\n"
    }
   }
  },
  {
   "cell_type": "code",
   "execution_count": 4,
   "outputs": [],
   "source": [
    "df_temp = df.loc[0:, ['seq_id', 'seq_time_id', 'event', 'time']]\n",
    "df = df.drop(columns=['seq_id', 'seq_time_id'])"
   ],
   "metadata": {
    "collapsed": false,
    "pycharm": {
     "name": "#%%\n"
    }
   }
  },
  {
   "cell_type": "code",
   "execution_count": 5,
   "outputs": [
    {
     "data": {
      "text/plain": "   event       time  seq_temporal_SGOT  seq_temporal_age  \\\n0    1.0   0.569489          -1.485263          0.248058   \n1    1.0   0.569489           0.195488          0.248058   \n2    0.0  14.152338          -0.442126          1.292856   \n3    0.0  14.152338          -0.046806          1.292856   \n4    0.0  14.152338           0.293680          1.292856   \n\n   seq_temporal_albumin  seq_temporal_alkaline  seq_temporal_platelets  \\\n0             -0.894575               0.195532               -0.529101   \n1             -1.570646               0.285613               -0.456022   \n2             -1.431455              -0.605844               -1.395605   \n3             -1.172958              -0.512364               -1.259888   \n4             -1.312149              -0.443529               -1.364286   \n\n   seq_temporal_prothrombin  seq_temporal_serBilir  seq_temporal_serChol  ...  \\\n0                  0.136768               3.281890          1.169016e-16  ...   \n1                  0.813132               2.015877         -4.694608e-01  ...   \n2                  0.339677               0.172710         -6.589138e-01  ...   \n3                  0.339677              -0.013468         -6.036567e-01  ...   \n4                  0.339677               0.098239          1.169016e-16  ...   \n\n   seq_temporal_drug_1.0  seq_temporal_edema_1.0  seq_temporal_edema_2.0  \\\n0                      0                       1                       0   \n1                      0                       1                       0   \n2                      0                       1                       0   \n3                      0                       1                       0   \n4                      0                       1                       0   \n\n   seq_temporal_hepatomegaly_1.0  seq_temporal_hepatomegaly_2.0  \\\n0                              1                              0   \n1                              1                              0   \n2                              1                              0   \n3                              1                              0   \n4                              1                              0   \n\n   seq_temporal_histologic_1.0  seq_temporal_histologic_2.0  \\\n0                            0                            0   \n1                            0                            0   \n2                            0                            1   \n3                            0                            1   \n4                            0                            1   \n\n   seq_temporal_histologic_3.0  seq_temporal_spiders_1.0  \\\n0                            1                         1   \n1                            1                         1   \n2                            0                         1   \n3                            0                         1   \n4                            0                         1   \n\n   seq_temporal_spiders_2.0  \n0                         0  \n1                         0  \n2                         0  \n3                         0  \n4                         0  \n\n[5 rows x 23 columns]",
      "text/html": "<div>\n<style scoped>\n    .dataframe tbody tr th:only-of-type {\n        vertical-align: middle;\n    }\n\n    .dataframe tbody tr th {\n        vertical-align: top;\n    }\n\n    .dataframe thead th {\n        text-align: right;\n    }\n</style>\n<table border=\"1\" class=\"dataframe\">\n  <thead>\n    <tr style=\"text-align: right;\">\n      <th></th>\n      <th>event</th>\n      <th>time</th>\n      <th>seq_temporal_SGOT</th>\n      <th>seq_temporal_age</th>\n      <th>seq_temporal_albumin</th>\n      <th>seq_temporal_alkaline</th>\n      <th>seq_temporal_platelets</th>\n      <th>seq_temporal_prothrombin</th>\n      <th>seq_temporal_serBilir</th>\n      <th>seq_temporal_serChol</th>\n      <th>...</th>\n      <th>seq_temporal_drug_1.0</th>\n      <th>seq_temporal_edema_1.0</th>\n      <th>seq_temporal_edema_2.0</th>\n      <th>seq_temporal_hepatomegaly_1.0</th>\n      <th>seq_temporal_hepatomegaly_2.0</th>\n      <th>seq_temporal_histologic_1.0</th>\n      <th>seq_temporal_histologic_2.0</th>\n      <th>seq_temporal_histologic_3.0</th>\n      <th>seq_temporal_spiders_1.0</th>\n      <th>seq_temporal_spiders_2.0</th>\n    </tr>\n  </thead>\n  <tbody>\n    <tr>\n      <th>0</th>\n      <td>1.0</td>\n      <td>0.569489</td>\n      <td>-1.485263</td>\n      <td>0.248058</td>\n      <td>-0.894575</td>\n      <td>0.195532</td>\n      <td>-0.529101</td>\n      <td>0.136768</td>\n      <td>3.281890</td>\n      <td>1.169016e-16</td>\n      <td>...</td>\n      <td>0</td>\n      <td>1</td>\n      <td>0</td>\n      <td>1</td>\n      <td>0</td>\n      <td>0</td>\n      <td>0</td>\n      <td>1</td>\n      <td>1</td>\n      <td>0</td>\n    </tr>\n    <tr>\n      <th>1</th>\n      <td>1.0</td>\n      <td>0.569489</td>\n      <td>0.195488</td>\n      <td>0.248058</td>\n      <td>-1.570646</td>\n      <td>0.285613</td>\n      <td>-0.456022</td>\n      <td>0.813132</td>\n      <td>2.015877</td>\n      <td>-4.694608e-01</td>\n      <td>...</td>\n      <td>0</td>\n      <td>1</td>\n      <td>0</td>\n      <td>1</td>\n      <td>0</td>\n      <td>0</td>\n      <td>0</td>\n      <td>1</td>\n      <td>1</td>\n      <td>0</td>\n    </tr>\n    <tr>\n      <th>2</th>\n      <td>0.0</td>\n      <td>14.152338</td>\n      <td>-0.442126</td>\n      <td>1.292856</td>\n      <td>-1.431455</td>\n      <td>-0.605844</td>\n      <td>-1.395605</td>\n      <td>0.339677</td>\n      <td>0.172710</td>\n      <td>-6.589138e-01</td>\n      <td>...</td>\n      <td>0</td>\n      <td>1</td>\n      <td>0</td>\n      <td>1</td>\n      <td>0</td>\n      <td>0</td>\n      <td>1</td>\n      <td>0</td>\n      <td>1</td>\n      <td>0</td>\n    </tr>\n    <tr>\n      <th>3</th>\n      <td>0.0</td>\n      <td>14.152338</td>\n      <td>-0.046806</td>\n      <td>1.292856</td>\n      <td>-1.172958</td>\n      <td>-0.512364</td>\n      <td>-1.259888</td>\n      <td>0.339677</td>\n      <td>-0.013468</td>\n      <td>-6.036567e-01</td>\n      <td>...</td>\n      <td>0</td>\n      <td>1</td>\n      <td>0</td>\n      <td>1</td>\n      <td>0</td>\n      <td>0</td>\n      <td>1</td>\n      <td>0</td>\n      <td>1</td>\n      <td>0</td>\n    </tr>\n    <tr>\n      <th>4</th>\n      <td>0.0</td>\n      <td>14.152338</td>\n      <td>0.293680</td>\n      <td>1.292856</td>\n      <td>-1.312149</td>\n      <td>-0.443529</td>\n      <td>-1.364286</td>\n      <td>0.339677</td>\n      <td>0.098239</td>\n      <td>1.169016e-16</td>\n      <td>...</td>\n      <td>0</td>\n      <td>1</td>\n      <td>0</td>\n      <td>1</td>\n      <td>0</td>\n      <td>0</td>\n      <td>1</td>\n      <td>0</td>\n      <td>1</td>\n      <td>0</td>\n    </tr>\n  </tbody>\n</table>\n<p>5 rows × 23 columns</p>\n</div>"
     },
     "execution_count": 5,
     "metadata": {},
     "output_type": "execute_result"
    }
   ],
   "source": [
    "df.head()"
   ],
   "metadata": {
    "collapsed": false,
    "pycharm": {
     "name": "#%%\n"
    }
   }
  },
  {
   "cell_type": "code",
   "execution_count": 6,
   "outputs": [],
   "source": [
    "df.rename(columns={'time': 'duration'}, inplace=True)"
   ],
   "metadata": {
    "collapsed": false,
    "pycharm": {
     "name": "#%%\n"
    }
   }
  },
  {
   "cell_type": "code",
   "execution_count": 7,
   "outputs": [
    {
     "name": "stdout",
     "output_type": "stream",
     "text": [
      "26.0\n",
      "______\n",
      "8\n",
      "______\n",
      "13\n",
      "______\n",
      "21\n",
      "______\n",
      "26\n",
      "______\n",
      "[2.73792575e-03 3.83309605e-02 1.86178951e-01 4.73661154e-01\n",
      " 1.43056620e+01]\n",
      "______\n",
      "4\n"
     ]
    },
    {
     "name": "stderr",
     "output_type": "stream",
     "text": [
      "/Users/davidlee/Documents/GitHub/Surtimesurvival/SurvTRACE/survtrace/utils.py:78: UserWarning: Got event/censoring at start time. Should be removed! It is set s.t. it has no contribution to loss.\n",
      "  warnings.warn(\"\"\"Got event/censoring at start time. Should be removed! It is set s.t. it has no contribution to loss.\"\"\")\n"
     ]
    }
   ],
   "source": [
    "y, df, df_train, df_y_train = pbc2_proccess_covariate(df)"
   ],
   "metadata": {
    "collapsed": false,
    "pycharm": {
     "name": "#%%\n"
    }
   }
  },
  {
   "cell_type": "code",
   "execution_count": 8,
   "outputs": [],
   "source": [
    "df_train = pd.concat([df_train, df_temp['seq_id']], axis=1, join='inner')\n",
    "df_y_train = pd.concat([df_y_train, df_temp['seq_id']], axis=1, join='inner')"
   ],
   "metadata": {
    "collapsed": false,
    "pycharm": {
     "name": "#%%\n"
    }
   }
  },
  {
   "cell_type": "code",
   "execution_count": 9,
   "outputs": [
    {
     "name": "stdout",
     "output_type": "stream",
     "text": [
      "16 16\n"
     ]
    }
   ],
   "source": [
    "masks, padded_patients = padded_mask_processing(df_train)"
   ],
   "metadata": {
    "collapsed": false,
    "pycharm": {
     "name": "#%%\n"
    }
   }
  },
  {
   "cell_type": "code",
   "execution_count": 10,
   "outputs": [
    {
     "data": {
      "text/plain": "torch.Size([312, 16, 21])"
     },
     "execution_count": 10,
     "metadata": {},
     "output_type": "execute_result"
    }
   ],
   "source": [
    "padded_patients.shape"
   ],
   "metadata": {
    "collapsed": false,
    "pycharm": {
     "name": "#%%\n"
    }
   }
  },
  {
   "cell_type": "code",
   "execution_count": 11,
   "outputs": [
    {
     "data": {
      "text/plain": "torch.Size([312, 16])"
     },
     "execution_count": 11,
     "metadata": {},
     "output_type": "execute_result"
    }
   ],
   "source": [
    "masks.shape"
   ],
   "metadata": {
    "collapsed": false,
    "pycharm": {
     "name": "#%%\n"
    }
   }
  },
  {
   "cell_type": "code",
   "execution_count": 12,
   "outputs": [],
   "source": [
    "df_y_train = df_y_train.drop_duplicates(subset='seq_id', keep='last')\n",
    "df_y_train = df_y_train.reset_index(drop=True)\n",
    "df_y_train = df_y_train.drop(columns=['seq_id'])"
   ],
   "metadata": {
    "collapsed": false,
    "pycharm": {
     "name": "#%%\n"
    }
   }
  },
  {
   "cell_type": "code",
   "execution_count": 13,
   "outputs": [
    {
     "data": {
      "text/plain": "   duration  event  proportion\n0         3    1.0    0.006928\n1         3    0.0    0.988915\n2         3    1.0    0.019002\n3         2    1.0    0.314286\n4         3    0.0    0.263658",
      "text/html": "<div>\n<style scoped>\n    .dataframe tbody tr th:only-of-type {\n        vertical-align: middle;\n    }\n\n    .dataframe tbody tr th {\n        vertical-align: top;\n    }\n\n    .dataframe thead th {\n        text-align: right;\n    }\n</style>\n<table border=\"1\" class=\"dataframe\">\n  <thead>\n    <tr style=\"text-align: right;\">\n      <th></th>\n      <th>duration</th>\n      <th>event</th>\n      <th>proportion</th>\n    </tr>\n  </thead>\n  <tbody>\n    <tr>\n      <th>0</th>\n      <td>3</td>\n      <td>1.0</td>\n      <td>0.006928</td>\n    </tr>\n    <tr>\n      <th>1</th>\n      <td>3</td>\n      <td>0.0</td>\n      <td>0.988915</td>\n    </tr>\n    <tr>\n      <th>2</th>\n      <td>3</td>\n      <td>1.0</td>\n      <td>0.019002</td>\n    </tr>\n    <tr>\n      <th>3</th>\n      <td>2</td>\n      <td>1.0</td>\n      <td>0.314286</td>\n    </tr>\n    <tr>\n      <th>4</th>\n      <td>3</td>\n      <td>0.0</td>\n      <td>0.263658</td>\n    </tr>\n  </tbody>\n</table>\n</div>"
     },
     "execution_count": 13,
     "metadata": {},
     "output_type": "execute_result"
    }
   ],
   "source": [
    "df_y_train.head()"
   ],
   "metadata": {
    "collapsed": false,
    "pycharm": {
     "name": "#%%\n"
    }
   }
  },
  {
   "cell_type": "code",
   "execution_count": 14,
   "outputs": [],
   "source": [
    "df_temp = df_temp.drop_duplicates(subset='seq_id', keep='last')\n",
    "df_temp = df_temp.reset_index(drop=True)\n",
    "df_temp = df_temp.drop(columns=['seq_id'])"
   ],
   "metadata": {
    "collapsed": false,
    "pycharm": {
     "name": "#%%\n"
    }
   }
  },
  {
   "cell_type": "code",
   "execution_count": 15,
   "outputs": [
    {
     "data": {
      "text/plain": "   seq_time_id  event       time\n0     1.095170    1.0   0.569489\n1    14.152338    0.0  14.152338\n2     2.770781    1.0   0.736502\n3     5.270507    1.0   0.276531\n4     4.120578    0.0   4.120578",
      "text/html": "<div>\n<style scoped>\n    .dataframe tbody tr th:only-of-type {\n        vertical-align: middle;\n    }\n\n    .dataframe tbody tr th {\n        vertical-align: top;\n    }\n\n    .dataframe thead th {\n        text-align: right;\n    }\n</style>\n<table border=\"1\" class=\"dataframe\">\n  <thead>\n    <tr style=\"text-align: right;\">\n      <th></th>\n      <th>seq_time_id</th>\n      <th>event</th>\n      <th>time</th>\n    </tr>\n  </thead>\n  <tbody>\n    <tr>\n      <th>0</th>\n      <td>1.095170</td>\n      <td>1.0</td>\n      <td>0.569489</td>\n    </tr>\n    <tr>\n      <th>1</th>\n      <td>14.152338</td>\n      <td>0.0</td>\n      <td>14.152338</td>\n    </tr>\n    <tr>\n      <th>2</th>\n      <td>2.770781</td>\n      <td>1.0</td>\n      <td>0.736502</td>\n    </tr>\n    <tr>\n      <th>3</th>\n      <td>5.270507</td>\n      <td>1.0</td>\n      <td>0.276531</td>\n    </tr>\n    <tr>\n      <th>4</th>\n      <td>4.120578</td>\n      <td>0.0</td>\n      <td>4.120578</td>\n    </tr>\n  </tbody>\n</table>\n</div>"
     },
     "execution_count": 15,
     "metadata": {},
     "output_type": "execute_result"
    }
   ],
   "source": [
    "df_temp.head()"
   ],
   "metadata": {
    "collapsed": false,
    "pycharm": {
     "name": "#%%\n"
    }
   }
  },
  {
   "cell_type": "code",
   "execution_count": 16,
   "outputs": [],
   "source": [
    "X_features_data_tensor = padded_patients\n",
    "Y_labels_data_tensor = torch.tensor(df_y_train.values)"
   ],
   "metadata": {
    "collapsed": false,
    "pycharm": {
     "name": "#%%\n"
    }
   }
  },
  {
   "cell_type": "code",
   "execution_count": 17,
   "outputs": [],
   "source": [
    "Y_labels = Y_labels_data_tensor[:, 1]\n",
    "Y_labels = Y_labels.long()"
   ],
   "metadata": {
    "collapsed": false,
    "pycharm": {
     "name": "#%%\n"
    }
   }
  },
  {
   "cell_type": "code",
   "execution_count": 18,
   "outputs": [
    {
     "data": {
      "text/plain": "tensor([1, 0, 1, 1, 0, 1, 0, 1, 1, 1, 1, 1, 0, 1, 1, 0, 1, 1, 0, 1, 1, 1, 1, 1,\n        0, 1, 1, 1, 1, 1, 1, 0, 1, 0, 1, 0, 1, 1, 1, 0, 1, 0, 0, 1, 0, 1, 0, 0,\n        1, 1, 1, 1, 1, 1, 1, 1, 1, 0, 1, 0, 0, 1, 1, 1, 0, 1, 1, 0, 1, 1, 0, 0,\n        0, 1, 1, 1, 1, 1, 0, 1, 1, 1, 0, 0, 1, 1, 1, 1, 1, 1, 1, 1, 0, 1, 1, 0,\n        1, 0, 0, 1, 0, 0, 1, 1, 0, 1, 0, 1, 0, 1, 0, 1, 1, 1, 0, 0, 1, 1, 1, 0,\n        1, 0, 1, 1, 0, 1, 0, 1, 0, 1, 1, 0, 1, 0, 0, 0, 0, 1, 0, 0, 0, 1, 1, 1,\n        0, 1, 1, 1, 1, 0, 0, 1, 0, 1, 0, 1, 0, 0, 1, 0, 0, 1, 1, 1, 1, 0, 1, 0,\n        1, 0, 0, 0, 0, 0, 0, 1, 0, 0, 0, 0, 0, 0, 0, 1, 1, 1, 1, 0, 0, 0, 1, 0,\n        1, 0, 0, 1, 0, 0, 0, 0, 0, 0, 0, 1, 1, 0, 0, 1, 0, 0, 0, 0, 0, 1, 1, 0,\n        1, 0, 0, 1, 0, 1, 1, 0, 0, 0, 1, 0, 1, 0, 1, 0, 0, 0, 0, 0, 0, 1, 1, 0,\n        0, 1, 1, 1, 0, 0, 0, 0, 0, 0, 0, 0, 0, 0, 0, 0, 0, 0, 0, 1, 0, 0, 0, 0,\n        0, 0, 1, 1, 1, 0, 0, 0, 0, 0, 0, 0, 0, 0, 0, 0, 1, 0, 0, 0, 0, 0, 0, 0,\n        0, 0, 0, 1, 0, 0, 0, 0, 0, 0, 0, 1, 0, 0, 1, 0, 0, 0, 0, 0, 0, 0, 0, 0])"
     },
     "execution_count": 18,
     "metadata": {},
     "output_type": "execute_result"
    }
   ],
   "source": [
    "Y_labels"
   ],
   "metadata": {
    "collapsed": false,
    "pycharm": {
     "name": "#%%\n"
    }
   }
  },
  {
   "cell_type": "code",
   "execution_count": 19,
   "outputs": [],
   "source": [
    "import torch\n",
    "from torch.utils.data import TensorDataset\n",
    "\n",
    "X_train, X_val, y_train, y_val, masks_train, masks_val = train_test_split(X_features_data_tensor, Y_labels, masks,\n",
    "                                                                          test_size=0.3)\n",
    "train_data = TensorDataset(X_train, y_train, masks_train)\n",
    "val_data = TensorDataset(X_val, y_val, masks_val)"
   ],
   "metadata": {
    "collapsed": false,
    "pycharm": {
     "name": "#%%\n"
    }
   }
  },
  {
   "cell_type": "code",
   "execution_count": 20,
   "outputs": [
    {
     "name": "stdout",
     "output_type": "stream",
     "text": [
      "Input Dimension 21\n",
      "Sequence Length 16\n"
     ]
    }
   ],
   "source": [
    "from torch.utils.data import DataLoader\n",
    "from sklearn.metrics import accuracy_score\n",
    "from model.survtimesurvival_model import TransformerClassifierFirstSolution, TransformerClassifier\n",
    "\n",
    "# Hyperparameters\n",
    "# input_dim = 26\n",
    "embed_dim = 16\n",
    "num_heads = 2\n",
    "ffn_hidden_dim = 64\n",
    "num_layers = 2\n",
    "batch_size = 8\n",
    "num_classes = 2\n",
    "\n",
    "train_loader = DataLoader(train_data, batch_size=batch_size, shuffle=True)\n",
    "val_loader = DataLoader(val_data, batch_size=batch_size, shuffle=False)\n",
    "\n",
    "# Set up training configurations\n",
    "input_dim = X_features_data_tensor.size(2)\n",
    "seq_length = X_features_data_tensor.size(1)\n",
    "\n",
    "print(\"Input Dimension\", input_dim)\n",
    "print(\"Sequence Length\", seq_length)\n",
    "\n",
    "model = TransformerClassifierFirstSolution(input_dim, seq_length, embed_dim, num_heads, ffn_hidden_dim, num_layers, 2)"
   ],
   "metadata": {
    "collapsed": false,
    "pycharm": {
     "name": "#%%\n"
    }
   }
  },
  {
   "cell_type": "code",
   "execution_count": 21,
   "outputs": [],
   "source": [
    "# HUNG: IMPORTANCE. IF YOU KEEP nn.CrossEntropyLoss(), this loss will return a number!!!!\n",
    "# criterion = nn.NLLLoss(reduction=\"none\")\n",
    "criterion = torch.nn.CrossEntropyLoss(reduction=\"none\")\n",
    "optimizer = torch.optim.Adam(model.parameters(), lr=1e-3, weight_decay=1e-4)"
   ],
   "metadata": {
    "collapsed": false,
    "pycharm": {
     "name": "#%%\n"
    }
   }
  },
  {
   "cell_type": "code",
   "execution_count": 22,
   "outputs": [
    {
     "name": "stderr",
     "output_type": "stream",
     "text": [
      "/Users/davidlee/opt/anaconda3/envs/synthcity/lib/python3.9/site-packages/torch/nn/modules/activation.py:1160: UserWarning: Converting mask without torch.bool dtype to bool; this will negatively affect performance. Prefer to use a boolean mask directly. (Triggered internally at /Users/runner/work/pytorch/pytorch/pytorch/aten/src/ATen/native/transformers/attention.cpp:152.)\n",
      "  return torch._native_multi_head_attention(\n"
     ]
    },
    {
     "name": "stdout",
     "output_type": "stream",
     "text": [
      "Epoch 1/40, Training Loss: 1.0723985135555267, Validation Loss: 5.011917074521382, Validation Accuracy: 0.7659574468085106\n"
     ]
    },
    {
     "name": "stderr",
     "output_type": "stream",
     "text": [
      "/Users/davidlee/opt/anaconda3/envs/synthcity/lib/python3.9/site-packages/torch/nn/modules/activation.py:1160: UserWarning: Converting mask without torch.bool dtype to bool; this will negatively affect performance. Prefer to use a boolean mask directly. (Triggered internally at /Users/runner/work/pytorch/pytorch/pytorch/aten/src/ATen/native/transformers/attention.cpp:152.)\n",
      "  return torch._native_multi_head_attention(\n",
      "/Users/davidlee/opt/anaconda3/envs/synthcity/lib/python3.9/site-packages/torch/nn/modules/activation.py:1160: UserWarning: Converting mask without torch.bool dtype to bool; this will negatively affect performance. Prefer to use a boolean mask directly. (Triggered internally at /Users/runner/work/pytorch/pytorch/pytorch/aten/src/ATen/native/transformers/attention.cpp:152.)\n",
      "  return torch._native_multi_head_attention(\n"
     ]
    },
    {
     "name": "stdout",
     "output_type": "stream",
     "text": [
      "Epoch 2/40, Training Loss: 0.9867225182907922, Validation Loss: 4.427886585394542, Validation Accuracy: 0.7659574468085106\n",
      "Epoch 3/40, Training Loss: 0.9265503287315369, Validation Loss: 4.214466551939647, Validation Accuracy: 0.7978723404255319\n"
     ]
    },
    {
     "name": "stderr",
     "output_type": "stream",
     "text": [
      "/Users/davidlee/opt/anaconda3/envs/synthcity/lib/python3.9/site-packages/torch/nn/modules/activation.py:1160: UserWarning: Converting mask without torch.bool dtype to bool; this will negatively affect performance. Prefer to use a boolean mask directly. (Triggered internally at /Users/runner/work/pytorch/pytorch/pytorch/aten/src/ATen/native/transformers/attention.cpp:152.)\n",
      "  return torch._native_multi_head_attention(\n",
      "/Users/davidlee/opt/anaconda3/envs/synthcity/lib/python3.9/site-packages/torch/nn/modules/activation.py:1160: UserWarning: Converting mask without torch.bool dtype to bool; this will negatively affect performance. Prefer to use a boolean mask directly. (Triggered internally at /Users/runner/work/pytorch/pytorch/pytorch/aten/src/ATen/native/transformers/attention.cpp:152.)\n",
      "  return torch._native_multi_head_attention(\n"
     ]
    },
    {
     "name": "stdout",
     "output_type": "stream",
     "text": [
      "Epoch 4/40, Training Loss: 0.926602983048984, Validation Loss: 4.243187228838603, Validation Accuracy: 0.7978723404255319\n",
      "Epoch 5/40, Training Loss: 0.8854745956403869, Validation Loss: 4.113593876361847, Validation Accuracy: 0.8085106382978723\n"
     ]
    },
    {
     "name": "stderr",
     "output_type": "stream",
     "text": [
      "/Users/davidlee/opt/anaconda3/envs/synthcity/lib/python3.9/site-packages/torch/nn/modules/activation.py:1160: UserWarning: Converting mask without torch.bool dtype to bool; this will negatively affect performance. Prefer to use a boolean mask directly. (Triggered internally at /Users/runner/work/pytorch/pytorch/pytorch/aten/src/ATen/native/transformers/attention.cpp:152.)\n",
      "  return torch._native_multi_head_attention(\n",
      "/Users/davidlee/opt/anaconda3/envs/synthcity/lib/python3.9/site-packages/torch/nn/modules/activation.py:1160: UserWarning: Converting mask without torch.bool dtype to bool; this will negatively affect performance. Prefer to use a boolean mask directly. (Triggered internally at /Users/runner/work/pytorch/pytorch/pytorch/aten/src/ATen/native/transformers/attention.cpp:152.)\n",
      "  return torch._native_multi_head_attention(\n"
     ]
    },
    {
     "name": "stdout",
     "output_type": "stream",
     "text": [
      "Epoch 6/40, Training Loss: 0.8996716716459819, Validation Loss: 4.060795724391937, Validation Accuracy: 0.8191489361702128\n",
      "Epoch 7/40, Training Loss: 0.8334443036999021, Validation Loss: 4.070714871088664, Validation Accuracy: 0.8085106382978723\n"
     ]
    },
    {
     "name": "stderr",
     "output_type": "stream",
     "text": [
      "/Users/davidlee/opt/anaconda3/envs/synthcity/lib/python3.9/site-packages/torch/nn/modules/activation.py:1160: UserWarning: Converting mask without torch.bool dtype to bool; this will negatively affect performance. Prefer to use a boolean mask directly. (Triggered internally at /Users/runner/work/pytorch/pytorch/pytorch/aten/src/ATen/native/transformers/attention.cpp:152.)\n",
      "  return torch._native_multi_head_attention(\n",
      "/Users/davidlee/opt/anaconda3/envs/synthcity/lib/python3.9/site-packages/torch/nn/modules/activation.py:1160: UserWarning: Converting mask without torch.bool dtype to bool; this will negatively affect performance. Prefer to use a boolean mask directly. (Triggered internally at /Users/runner/work/pytorch/pytorch/pytorch/aten/src/ATen/native/transformers/attention.cpp:152.)\n",
      "  return torch._native_multi_head_attention(\n"
     ]
    },
    {
     "name": "stdout",
     "output_type": "stream",
     "text": [
      "Epoch 8/40, Training Loss: 0.8002360186406544, Validation Loss: 4.003569444020589, Validation Accuracy: 0.8191489361702128\n",
      "Epoch 9/40, Training Loss: 0.8162669645888465, Validation Loss: 3.8894928296407065, Validation Accuracy: 0.8191489361702128\n"
     ]
    },
    {
     "name": "stderr",
     "output_type": "stream",
     "text": [
      "/Users/davidlee/opt/anaconda3/envs/synthcity/lib/python3.9/site-packages/torch/nn/modules/activation.py:1160: UserWarning: Converting mask without torch.bool dtype to bool; this will negatively affect performance. Prefer to use a boolean mask directly. (Triggered internally at /Users/runner/work/pytorch/pytorch/pytorch/aten/src/ATen/native/transformers/attention.cpp:152.)\n",
      "  return torch._native_multi_head_attention(\n",
      "/Users/davidlee/opt/anaconda3/envs/synthcity/lib/python3.9/site-packages/torch/nn/modules/activation.py:1160: UserWarning: Converting mask without torch.bool dtype to bool; this will negatively affect performance. Prefer to use a boolean mask directly. (Triggered internally at /Users/runner/work/pytorch/pytorch/pytorch/aten/src/ATen/native/transformers/attention.cpp:152.)\n",
      "  return torch._native_multi_head_attention(\n"
     ]
    },
    {
     "name": "stdout",
     "output_type": "stream",
     "text": [
      "Epoch 10/40, Training Loss: 0.8242608713252204, Validation Loss: 3.950289229551951, Validation Accuracy: 0.8085106382978723\n",
      "Epoch 11/40, Training Loss: 0.8376639591796058, Validation Loss: 4.031917174657186, Validation Accuracy: 0.7978723404255319\n"
     ]
    },
    {
     "name": "stderr",
     "output_type": "stream",
     "text": [
      "/Users/davidlee/opt/anaconda3/envs/synthcity/lib/python3.9/site-packages/torch/nn/modules/activation.py:1160: UserWarning: Converting mask without torch.bool dtype to bool; this will negatively affect performance. Prefer to use a boolean mask directly. (Triggered internally at /Users/runner/work/pytorch/pytorch/pytorch/aten/src/ATen/native/transformers/attention.cpp:152.)\n",
      "  return torch._native_multi_head_attention(\n",
      "/Users/davidlee/opt/anaconda3/envs/synthcity/lib/python3.9/site-packages/torch/nn/modules/activation.py:1160: UserWarning: Converting mask without torch.bool dtype to bool; this will negatively affect performance. Prefer to use a boolean mask directly. (Triggered internally at /Users/runner/work/pytorch/pytorch/pytorch/aten/src/ATen/native/transformers/attention.cpp:152.)\n",
      "  return torch._native_multi_head_attention(\n"
     ]
    },
    {
     "name": "stdout",
     "output_type": "stream",
     "text": [
      "Epoch 12/40, Training Loss: 0.8165727396096502, Validation Loss: 3.989801605542501, Validation Accuracy: 0.7872340425531915\n",
      "Epoch 13/40, Training Loss: 0.7942561741386142, Validation Loss: 4.210454722245534, Validation Accuracy: 0.7553191489361702\n"
     ]
    },
    {
     "name": "stderr",
     "output_type": "stream",
     "text": [
      "/Users/davidlee/opt/anaconda3/envs/synthcity/lib/python3.9/site-packages/torch/nn/modules/activation.py:1160: UserWarning: Converting mask without torch.bool dtype to bool; this will negatively affect performance. Prefer to use a boolean mask directly. (Triggered internally at /Users/runner/work/pytorch/pytorch/pytorch/aten/src/ATen/native/transformers/attention.cpp:152.)\n",
      "  return torch._native_multi_head_attention(\n",
      "/Users/davidlee/opt/anaconda3/envs/synthcity/lib/python3.9/site-packages/torch/nn/modules/activation.py:1160: UserWarning: Converting mask without torch.bool dtype to bool; this will negatively affect performance. Prefer to use a boolean mask directly. (Triggered internally at /Users/runner/work/pytorch/pytorch/pytorch/aten/src/ATen/native/transformers/attention.cpp:152.)\n",
      "  return torch._native_multi_head_attention(\n"
     ]
    },
    {
     "name": "stdout",
     "output_type": "stream",
     "text": [
      "Epoch 14/40, Training Loss: 0.8433605773108346, Validation Loss: 3.7938212354977927, Validation Accuracy: 0.8191489361702128\n",
      "Epoch 15/40, Training Loss: 0.803877558026995, Validation Loss: 4.049972434838613, Validation Accuracy: 0.776595744680851\n"
     ]
    },
    {
     "name": "stderr",
     "output_type": "stream",
     "text": [
      "/Users/davidlee/opt/anaconda3/envs/synthcity/lib/python3.9/site-packages/torch/nn/modules/activation.py:1160: UserWarning: Converting mask without torch.bool dtype to bool; this will negatively affect performance. Prefer to use a boolean mask directly. (Triggered internally at /Users/runner/work/pytorch/pytorch/pytorch/aten/src/ATen/native/transformers/attention.cpp:152.)\n",
      "  return torch._native_multi_head_attention(\n",
      "/Users/davidlee/opt/anaconda3/envs/synthcity/lib/python3.9/site-packages/torch/nn/modules/activation.py:1160: UserWarning: Converting mask without torch.bool dtype to bool; this will negatively affect performance. Prefer to use a boolean mask directly. (Triggered internally at /Users/runner/work/pytorch/pytorch/pytorch/aten/src/ATen/native/transformers/attention.cpp:152.)\n",
      "  return torch._native_multi_head_attention(\n"
     ]
    },
    {
     "name": "stdout",
     "output_type": "stream",
     "text": [
      "Epoch 16/40, Training Loss: 0.7819801419973373, Validation Loss: 3.8967848221460977, Validation Accuracy: 0.8191489361702128\n",
      "Epoch 17/40, Training Loss: 0.7817031805004392, Validation Loss: 3.904375374317169, Validation Accuracy: 0.7978723404255319\n"
     ]
    },
    {
     "name": "stderr",
     "output_type": "stream",
     "text": [
      "/Users/davidlee/opt/anaconda3/envs/synthcity/lib/python3.9/site-packages/torch/nn/modules/activation.py:1160: UserWarning: Converting mask without torch.bool dtype to bool; this will negatively affect performance. Prefer to use a boolean mask directly. (Triggered internally at /Users/runner/work/pytorch/pytorch/pytorch/aten/src/ATen/native/transformers/attention.cpp:152.)\n",
      "  return torch._native_multi_head_attention(\n",
      "/Users/davidlee/opt/anaconda3/envs/synthcity/lib/python3.9/site-packages/torch/nn/modules/activation.py:1160: UserWarning: Converting mask without torch.bool dtype to bool; this will negatively affect performance. Prefer to use a boolean mask directly. (Triggered internally at /Users/runner/work/pytorch/pytorch/pytorch/aten/src/ATen/native/transformers/attention.cpp:152.)\n",
      "  return torch._native_multi_head_attention(\n"
     ]
    },
    {
     "name": "stdout",
     "output_type": "stream",
     "text": [
      "Epoch 18/40, Training Loss: 0.7766721355063575, Validation Loss: 3.8403437733650208, Validation Accuracy: 0.8404255319148937\n",
      "Epoch 19/40, Training Loss: 0.7591853673968997, Validation Loss: 3.925266961256663, Validation Accuracy: 0.8085106382978723\n"
     ]
    },
    {
     "name": "stderr",
     "output_type": "stream",
     "text": [
      "/Users/davidlee/opt/anaconda3/envs/synthcity/lib/python3.9/site-packages/torch/nn/modules/activation.py:1160: UserWarning: Converting mask without torch.bool dtype to bool; this will negatively affect performance. Prefer to use a boolean mask directly. (Triggered internally at /Users/runner/work/pytorch/pytorch/pytorch/aten/src/ATen/native/transformers/attention.cpp:152.)\n",
      "  return torch._native_multi_head_attention(\n",
      "/Users/davidlee/opt/anaconda3/envs/synthcity/lib/python3.9/site-packages/torch/nn/modules/activation.py:1160: UserWarning: Converting mask without torch.bool dtype to bool; this will negatively affect performance. Prefer to use a boolean mask directly. (Triggered internally at /Users/runner/work/pytorch/pytorch/pytorch/aten/src/ATen/native/transformers/attention.cpp:152.)\n",
      "  return torch._native_multi_head_attention(\n"
     ]
    },
    {
     "name": "stdout",
     "output_type": "stream",
     "text": [
      "Epoch 20/40, Training Loss: 0.7430884529437337, Validation Loss: 3.7864442467689514, Validation Accuracy: 0.8297872340425532\n",
      "Epoch 21/40, Training Loss: 0.7705350475651878, Validation Loss: 3.8287646174430847, Validation Accuracy: 0.8191489361702128\n"
     ]
    },
    {
     "name": "stderr",
     "output_type": "stream",
     "text": [
      "/Users/davidlee/opt/anaconda3/envs/synthcity/lib/python3.9/site-packages/torch/nn/modules/activation.py:1160: UserWarning: Converting mask without torch.bool dtype to bool; this will negatively affect performance. Prefer to use a boolean mask directly. (Triggered internally at /Users/runner/work/pytorch/pytorch/pytorch/aten/src/ATen/native/transformers/attention.cpp:152.)\n",
      "  return torch._native_multi_head_attention(\n",
      "/Users/davidlee/opt/anaconda3/envs/synthcity/lib/python3.9/site-packages/torch/nn/modules/activation.py:1160: UserWarning: Converting mask without torch.bool dtype to bool; this will negatively affect performance. Prefer to use a boolean mask directly. (Triggered internally at /Users/runner/work/pytorch/pytorch/pytorch/aten/src/ATen/native/transformers/attention.cpp:152.)\n",
      "  return torch._native_multi_head_attention(\n"
     ]
    },
    {
     "name": "stdout",
     "output_type": "stream",
     "text": [
      "Epoch 22/40, Training Loss: 0.7975462302565575, Validation Loss: 4.81299755970637, Validation Accuracy: 0.6595744680851063\n",
      "Epoch 23/40, Training Loss: 0.7608835569449833, Validation Loss: 3.6383987069129944, Validation Accuracy: 0.851063829787234\n"
     ]
    },
    {
     "name": "stderr",
     "output_type": "stream",
     "text": [
      "/Users/davidlee/opt/anaconda3/envs/synthcity/lib/python3.9/site-packages/torch/nn/modules/activation.py:1160: UserWarning: Converting mask without torch.bool dtype to bool; this will negatively affect performance. Prefer to use a boolean mask directly. (Triggered internally at /Users/runner/work/pytorch/pytorch/pytorch/aten/src/ATen/native/transformers/attention.cpp:152.)\n",
      "  return torch._native_multi_head_attention(\n",
      "/Users/davidlee/opt/anaconda3/envs/synthcity/lib/python3.9/site-packages/torch/nn/modules/activation.py:1160: UserWarning: Converting mask without torch.bool dtype to bool; this will negatively affect performance. Prefer to use a boolean mask directly. (Triggered internally at /Users/runner/work/pytorch/pytorch/pytorch/aten/src/ATen/native/transformers/attention.cpp:152.)\n",
      "  return torch._native_multi_head_attention(\n"
     ]
    },
    {
     "name": "stdout",
     "output_type": "stream",
     "text": [
      "Epoch 24/40, Training Loss: 0.7537359041827065, Validation Loss: 4.213339984416962, Validation Accuracy: 0.7659574468085106\n",
      "Epoch 25/40, Training Loss: 0.816070590700422, Validation Loss: 3.5961402654647827, Validation Accuracy: 0.8617021276595744\n"
     ]
    },
    {
     "name": "stderr",
     "output_type": "stream",
     "text": [
      "/Users/davidlee/opt/anaconda3/envs/synthcity/lib/python3.9/site-packages/torch/nn/modules/activation.py:1160: UserWarning: Converting mask without torch.bool dtype to bool; this will negatively affect performance. Prefer to use a boolean mask directly. (Triggered internally at /Users/runner/work/pytorch/pytorch/pytorch/aten/src/ATen/native/transformers/attention.cpp:152.)\n",
      "  return torch._native_multi_head_attention(\n",
      "/Users/davidlee/opt/anaconda3/envs/synthcity/lib/python3.9/site-packages/torch/nn/modules/activation.py:1160: UserWarning: Converting mask without torch.bool dtype to bool; this will negatively affect performance. Prefer to use a boolean mask directly. (Triggered internally at /Users/runner/work/pytorch/pytorch/pytorch/aten/src/ATen/native/transformers/attention.cpp:152.)\n",
      "  return torch._native_multi_head_attention(\n"
     ]
    },
    {
     "name": "stdout",
     "output_type": "stream",
     "text": [
      "Epoch 26/40, Training Loss: 0.797865266246455, Validation Loss: 3.851067860921224, Validation Accuracy: 0.8191489361702128\n",
      "Epoch 27/40, Training Loss: 0.7997961906450135, Validation Loss: 3.6109567483266196, Validation Accuracy: 0.8404255319148937\n"
     ]
    },
    {
     "name": "stderr",
     "output_type": "stream",
     "text": [
      "/Users/davidlee/opt/anaconda3/envs/synthcity/lib/python3.9/site-packages/torch/nn/modules/activation.py:1160: UserWarning: Converting mask without torch.bool dtype to bool; this will negatively affect performance. Prefer to use a boolean mask directly. (Triggered internally at /Users/runner/work/pytorch/pytorch/pytorch/aten/src/ATen/native/transformers/attention.cpp:152.)\n",
      "  return torch._native_multi_head_attention(\n",
      "/Users/davidlee/opt/anaconda3/envs/synthcity/lib/python3.9/site-packages/torch/nn/modules/activation.py:1160: UserWarning: Converting mask without torch.bool dtype to bool; this will negatively affect performance. Prefer to use a boolean mask directly. (Triggered internally at /Users/runner/work/pytorch/pytorch/pytorch/aten/src/ATen/native/transformers/attention.cpp:152.)\n",
      "  return torch._native_multi_head_attention(\n"
     ]
    },
    {
     "name": "stdout",
     "output_type": "stream",
     "text": [
      "Epoch 28/40, Training Loss: 0.8456373108284814, Validation Loss: 4.083183467388153, Validation Accuracy: 0.7872340425531915\n",
      "Epoch 29/40, Training Loss: 0.7646866951669965, Validation Loss: 4.354299922784169, Validation Accuracy: 0.7340425531914894\n",
      "Epoch 30/40, Training Loss: 0.745347875569548, Validation Loss: 3.8057279189427695, Validation Accuracy: 0.8191489361702128\n",
      "Epoch 31/40, Training Loss: 0.7496420581425939, Validation Loss: 3.6810304323832193, Validation Accuracy: 0.8404255319148937\n",
      "Early stopping triggered. No improvement in validation loss for 5 consecutive epochs.\n"
     ]
    },
    {
     "name": "stderr",
     "output_type": "stream",
     "text": [
      "/Users/davidlee/opt/anaconda3/envs/synthcity/lib/python3.9/site-packages/torch/nn/modules/activation.py:1160: UserWarning: Converting mask without torch.bool dtype to bool; this will negatively affect performance. Prefer to use a boolean mask directly. (Triggered internally at /Users/runner/work/pytorch/pytorch/pytorch/aten/src/ATen/native/transformers/attention.cpp:152.)\n",
      "  return torch._native_multi_head_attention(\n",
      "/Users/davidlee/opt/anaconda3/envs/synthcity/lib/python3.9/site-packages/torch/nn/modules/activation.py:1160: UserWarning: Converting mask without torch.bool dtype to bool; this will negatively affect performance. Prefer to use a boolean mask directly. (Triggered internally at /Users/runner/work/pytorch/pytorch/pytorch/aten/src/ATen/native/transformers/attention.cpp:152.)\n",
      "  return torch._native_multi_head_attention(\n"
     ]
    }
   ],
   "source": [
    "# Train the model\n",
    "num_epochs = 40\n",
    "train_loss_his = []\n",
    "val_loss_his = []\n",
    "val_accuracy_his = []\n",
    "\n",
    "patience = 5\n",
    "best_val_loss = None\n",
    "epochs_since_best_val_loss = 0\n",
    "\n",
    "for epoch in range(num_epochs):\n",
    "    model.train()\n",
    "    running_loss = 0.0\n",
    "    for batch_idx, (data, target, label_mask) in enumerate(train_loader):\n",
    "        optimizer.zero_grad()\n",
    "        output = model(data, label_mask)\n",
    "        loss = criterion(output, target)\n",
    "        # Assume loss has shape (B, S, D). Assume mask has shape (B, S)\n",
    "        # Apply label mask to the loss.\n",
    "        # In the label. Assume 1 is NOT PAD, and 0 is pad.\n",
    "        loss = (loss * label_mask.unsqueeze(-1).float())\n",
    "\n",
    "        # Average over the third dimension\n",
    "        loss = loss.mean(-1)\n",
    "\n",
    "        # Average over each sequence (dimension 1).\n",
    "        # Since each sequence has different length. We need to do this\n",
    "        loss = torch.sum(loss, dim=-1) / torch.sum(label_mask, dim=-1, keepdim=True)\n",
    "\n",
    "        # Then average over the batch\n",
    "        loss = loss.mean()\n",
    "        loss.backward()\n",
    "        optimizer.step()\n",
    "        running_loss += loss.item()\n",
    "\n",
    "    # Evaluate on validation set\n",
    "    model.eval()\n",
    "    val_running_loss = 0.0\n",
    "    val_preds = []\n",
    "    val_targets = []\n",
    "    with torch.no_grad():\n",
    "        for batch_idx, (data, target, masks) in enumerate(val_loader):\n",
    "            output = model(data, masks)\n",
    "            loss = criterion(output, target)\n",
    "            # val_running_loss += loss.item()\n",
    "            val_running_loss += loss.sum().item()\n",
    "            # val_running_loss += loss.mean().item()\n",
    "            preds = output.argmax(dim=1).cpu().numpy()\n",
    "            val_preds.extend(preds)\n",
    "            val_targets.extend(target.cpu().numpy())\n",
    "\n",
    "    # Calculate the accuracy of the model on the validation set\n",
    "    val_accuracy = accuracy_score(val_targets, val_preds)\n",
    "\n",
    "    print(f\"Epoch {epoch + 1}/{num_epochs}, \"\n",
    "          f\"Training Loss: {running_loss / len(train_loader)}, \"\n",
    "          f\"Validation Loss: {val_running_loss / len(val_loader)}, \"\n",
    "          f\"Validation Accuracy: {val_accuracy}\")\n",
    "\n",
    "    train_loss_his.append(running_loss / len(train_loader))\n",
    "    val_loss_his.append(val_running_loss / len(val_loader))\n",
    "    val_accuracy_his.append(val_accuracy)\n",
    "    if best_val_loss is None or abs(val_running_loss) < abs(best_val_loss):\n",
    "        best_val_loss = val_running_loss\n",
    "        epochs_since_best_val_loss = 0\n",
    "    else:\n",
    "        epochs_since_best_val_loss += 1\n",
    "\n",
    "    if epochs_since_best_val_loss > patience:\n",
    "        print(f\"Early stopping triggered. No improvement in validation loss for {patience} consecutive epochs.\")\n",
    "        break"
   ],
   "metadata": {
    "collapsed": false,
    "pycharm": {
     "name": "#%%\n"
    }
   }
  },
  {
   "cell_type": "code",
   "execution_count": 30,
   "outputs": [],
   "source": [
    "# torch.save(model.state_dict(), 'pre_trained_timevisit.pth')"
   ],
   "metadata": {
    "collapsed": false,
    "pycharm": {
     "name": "#%%\n"
    }
   }
  },
  {
   "cell_type": "code",
   "execution_count": 31,
   "outputs": [],
   "source": [
    "from model.survtimesurvival_model import TransformerClassifier_2"
   ],
   "metadata": {
    "collapsed": false,
    "pycharm": {
     "name": "#%%\n"
    }
   }
  },
  {
   "cell_type": "code",
   "execution_count": 32,
   "outputs": [
    {
     "data": {
      "text/plain": "<All keys matched successfully>"
     },
     "execution_count": 32,
     "metadata": {},
     "output_type": "execute_result"
    }
   ],
   "source": [
    "model = TransformerClassifier_2(input_dim, seq_length, embed_dim, num_heads, ffn_hidden_dim, num_layers, num_classes)\n",
    "pretrained_weights = torch.load('pretrained_weight/pre_trained_timevisit.pth')\n",
    "model.load_state_dict(pretrained_weights)"
   ],
   "metadata": {
    "collapsed": false,
    "pycharm": {
     "name": "#%%\n"
    }
   }
  },
  {
   "cell_type": "code",
   "execution_count": 33,
   "outputs": [
    {
     "name": "stdout",
     "output_type": "stream",
     "text": [
      "16 16\n"
     ]
    }
   ],
   "source": [
    "masks, padded_patients = padded_mask_processing(df_train)"
   ],
   "metadata": {
    "collapsed": false,
    "pycharm": {
     "name": "#%%\n"
    }
   }
  },
  {
   "cell_type": "code",
   "execution_count": 34,
   "outputs": [],
   "source": [
    "new_embedding = []\n",
    "for i in range(len(masks)):\n",
    "    a = masks[i].unsqueeze(0)\n",
    "    output = model(X_features_data_tensor[i], a)\n",
    "    new_embedding.append(output)"
   ],
   "metadata": {
    "collapsed": false,
    "pycharm": {
     "name": "#%%\n"
    }
   }
  },
  {
   "cell_type": "code",
   "execution_count": 35,
   "outputs": [],
   "source": [
    "# Convert each tensor to a numpy array and stack them\n",
    "numpy_arrays = [tensor.detach().numpy() for tensor in new_embedding]\n",
    "numpy_array = np.stack(numpy_arrays, axis=-1) # this stacks along a new third dimension"
   ],
   "metadata": {
    "collapsed": false,
    "pycharm": {
     "name": "#%%\n"
    }
   }
  },
  {
   "cell_type": "code",
   "execution_count": 36,
   "outputs": [],
   "source": [
    "new_df = pd.DataFrame(numpy_array[0])\n",
    "new_df = new_df.transpose()"
   ],
   "metadata": {
    "collapsed": false,
    "pycharm": {
     "name": "#%%\n"
    }
   }
  },
  {
   "cell_type": "code",
   "execution_count": 37,
   "outputs": [],
   "source": [
    "dataframe_for_survtrace = pd.concat([new_df, df_y_train],axis = 1)"
   ],
   "metadata": {
    "collapsed": false,
    "pycharm": {
     "name": "#%%\n"
    }
   }
  },
  {
   "cell_type": "code",
   "execution_count": 38,
   "outputs": [
    {
     "data": {
      "text/plain": "          0         1         2         3         4         5         6  \\\n0 -0.446987  1.849092  0.305368  0.931363 -2.239734 -0.338914 -2.367347   \n1 -0.672468  0.648800 -0.001764  0.503774 -0.867893  0.321905 -1.178480   \n2 -0.505319  1.637821  0.275738  0.858761 -2.032792 -0.218516 -2.214883   \n3 -0.507373  1.688821  0.228196  0.972952 -2.094252 -0.200226 -2.419747   \n4 -0.459481  1.763930  0.316549  0.938090 -2.197446 -0.269603 -2.402856   \n\n          7         8         9  ...        14        15        16        17  \\\n0 -1.310586 -1.781363  0.549300  ... -2.386981 -0.560916  1.294427 -0.953799   \n1 -0.432639 -0.447578 -0.054342  ... -0.759589 -1.005411  0.904593 -0.432616   \n2 -1.176234 -1.521159  0.429962  ... -2.156593 -0.680408  1.268441 -0.898300   \n3 -1.236168 -1.678527  0.536669  ... -2.294627 -0.697956  1.399108 -0.841116   \n4 -1.303780 -1.729299  0.551554  ... -2.365541 -0.679100  1.351720 -0.910573   \n\n         18        19        20  duration  event  proportion  \n0  0.869661  0.632084 -1.690865         3    1.0    0.006928  \n1  0.087568  0.232107 -1.048942         3    0.0    0.988915  \n2  0.740181  0.557203 -1.637736         3    1.0    0.019002  \n3  0.843930  0.487410 -1.726512         2    1.0    0.314286  \n4  0.854094  0.538138 -1.766614         3    0.0    0.263658  \n\n[5 rows x 24 columns]",
      "text/html": "<div>\n<style scoped>\n    .dataframe tbody tr th:only-of-type {\n        vertical-align: middle;\n    }\n\n    .dataframe tbody tr th {\n        vertical-align: top;\n    }\n\n    .dataframe thead th {\n        text-align: right;\n    }\n</style>\n<table border=\"1\" class=\"dataframe\">\n  <thead>\n    <tr style=\"text-align: right;\">\n      <th></th>\n      <th>0</th>\n      <th>1</th>\n      <th>2</th>\n      <th>3</th>\n      <th>4</th>\n      <th>5</th>\n      <th>6</th>\n      <th>7</th>\n      <th>8</th>\n      <th>9</th>\n      <th>...</th>\n      <th>14</th>\n      <th>15</th>\n      <th>16</th>\n      <th>17</th>\n      <th>18</th>\n      <th>19</th>\n      <th>20</th>\n      <th>duration</th>\n      <th>event</th>\n      <th>proportion</th>\n    </tr>\n  </thead>\n  <tbody>\n    <tr>\n      <th>0</th>\n      <td>-0.446987</td>\n      <td>1.849092</td>\n      <td>0.305368</td>\n      <td>0.931363</td>\n      <td>-2.239734</td>\n      <td>-0.338914</td>\n      <td>-2.367347</td>\n      <td>-1.310586</td>\n      <td>-1.781363</td>\n      <td>0.549300</td>\n      <td>...</td>\n      <td>-2.386981</td>\n      <td>-0.560916</td>\n      <td>1.294427</td>\n      <td>-0.953799</td>\n      <td>0.869661</td>\n      <td>0.632084</td>\n      <td>-1.690865</td>\n      <td>3</td>\n      <td>1.0</td>\n      <td>0.006928</td>\n    </tr>\n    <tr>\n      <th>1</th>\n      <td>-0.672468</td>\n      <td>0.648800</td>\n      <td>-0.001764</td>\n      <td>0.503774</td>\n      <td>-0.867893</td>\n      <td>0.321905</td>\n      <td>-1.178480</td>\n      <td>-0.432639</td>\n      <td>-0.447578</td>\n      <td>-0.054342</td>\n      <td>...</td>\n      <td>-0.759589</td>\n      <td>-1.005411</td>\n      <td>0.904593</td>\n      <td>-0.432616</td>\n      <td>0.087568</td>\n      <td>0.232107</td>\n      <td>-1.048942</td>\n      <td>3</td>\n      <td>0.0</td>\n      <td>0.988915</td>\n    </tr>\n    <tr>\n      <th>2</th>\n      <td>-0.505319</td>\n      <td>1.637821</td>\n      <td>0.275738</td>\n      <td>0.858761</td>\n      <td>-2.032792</td>\n      <td>-0.218516</td>\n      <td>-2.214883</td>\n      <td>-1.176234</td>\n      <td>-1.521159</td>\n      <td>0.429962</td>\n      <td>...</td>\n      <td>-2.156593</td>\n      <td>-0.680408</td>\n      <td>1.268441</td>\n      <td>-0.898300</td>\n      <td>0.740181</td>\n      <td>0.557203</td>\n      <td>-1.637736</td>\n      <td>3</td>\n      <td>1.0</td>\n      <td>0.019002</td>\n    </tr>\n    <tr>\n      <th>3</th>\n      <td>-0.507373</td>\n      <td>1.688821</td>\n      <td>0.228196</td>\n      <td>0.972952</td>\n      <td>-2.094252</td>\n      <td>-0.200226</td>\n      <td>-2.419747</td>\n      <td>-1.236168</td>\n      <td>-1.678527</td>\n      <td>0.536669</td>\n      <td>...</td>\n      <td>-2.294627</td>\n      <td>-0.697956</td>\n      <td>1.399108</td>\n      <td>-0.841116</td>\n      <td>0.843930</td>\n      <td>0.487410</td>\n      <td>-1.726512</td>\n      <td>2</td>\n      <td>1.0</td>\n      <td>0.314286</td>\n    </tr>\n    <tr>\n      <th>4</th>\n      <td>-0.459481</td>\n      <td>1.763930</td>\n      <td>0.316549</td>\n      <td>0.938090</td>\n      <td>-2.197446</td>\n      <td>-0.269603</td>\n      <td>-2.402856</td>\n      <td>-1.303780</td>\n      <td>-1.729299</td>\n      <td>0.551554</td>\n      <td>...</td>\n      <td>-2.365541</td>\n      <td>-0.679100</td>\n      <td>1.351720</td>\n      <td>-0.910573</td>\n      <td>0.854094</td>\n      <td>0.538138</td>\n      <td>-1.766614</td>\n      <td>3</td>\n      <td>0.0</td>\n      <td>0.263658</td>\n    </tr>\n  </tbody>\n</table>\n<p>5 rows × 24 columns</p>\n</div>"
     },
     "execution_count": 38,
     "metadata": {},
     "output_type": "execute_result"
    }
   ],
   "source": [
    "dataframe_for_survtrace.head()"
   ],
   "metadata": {
    "collapsed": false,
    "pycharm": {
     "name": "#%%\n"
    }
   }
  },
  {
   "cell_type": "code",
   "execution_count": 39,
   "outputs": [
    {
     "data": {
      "text/plain": "   seq_time_id  event       time\n0     1.095170    1.0   0.569489\n1    14.152338    0.0  14.152338\n2     2.770781    1.0   0.736502\n3     5.270507    1.0   0.276531\n4     4.120578    0.0   4.120578",
      "text/html": "<div>\n<style scoped>\n    .dataframe tbody tr th:only-of-type {\n        vertical-align: middle;\n    }\n\n    .dataframe tbody tr th {\n        vertical-align: top;\n    }\n\n    .dataframe thead th {\n        text-align: right;\n    }\n</style>\n<table border=\"1\" class=\"dataframe\">\n  <thead>\n    <tr style=\"text-align: right;\">\n      <th></th>\n      <th>seq_time_id</th>\n      <th>event</th>\n      <th>time</th>\n    </tr>\n  </thead>\n  <tbody>\n    <tr>\n      <th>0</th>\n      <td>1.095170</td>\n      <td>1.0</td>\n      <td>0.569489</td>\n    </tr>\n    <tr>\n      <th>1</th>\n      <td>14.152338</td>\n      <td>0.0</td>\n      <td>14.152338</td>\n    </tr>\n    <tr>\n      <th>2</th>\n      <td>2.770781</td>\n      <td>1.0</td>\n      <td>0.736502</td>\n    </tr>\n    <tr>\n      <th>3</th>\n      <td>5.270507</td>\n      <td>1.0</td>\n      <td>0.276531</td>\n    </tr>\n    <tr>\n      <th>4</th>\n      <td>4.120578</td>\n      <td>0.0</td>\n      <td>4.120578</td>\n    </tr>\n  </tbody>\n</table>\n</div>"
     },
     "execution_count": 39,
     "metadata": {},
     "output_type": "execute_result"
    }
   ],
   "source": [
    "df_temp.head()"
   ],
   "metadata": {
    "collapsed": false,
    "pycharm": {
     "name": "#%%\n"
    }
   }
  },
  {
   "cell_type": "code",
   "execution_count": 40,
   "outputs": [],
   "source": [
    "dataframe_for_survtrace = pd.concat([dataframe_for_survtrace, df_temp['seq_time_id']], axis = 1)"
   ],
   "metadata": {
    "collapsed": false,
    "pycharm": {
     "name": "#%%\n"
    }
   }
  },
  {
   "cell_type": "code",
   "execution_count": 41,
   "outputs": [],
   "source": [
    "dataframe_for_survtrace.rename(columns = {'proportion':'proportion_1'}, inplace = True)\n",
    "dataframe_for_survtrace.columns = dataframe_for_survtrace.columns.astype(str)"
   ],
   "metadata": {
    "collapsed": false,
    "pycharm": {
     "name": "#%%\n"
    }
   }
  },
  {
   "cell_type": "code",
   "execution_count": 42,
   "outputs": [],
   "source": [
    "df_2 = dataframe_for_survtrace.drop(columns=['duration', 'proportion_1'])\n",
    "df_2.rename(columns = {'seq_time_id':'duration'}, inplace = True)"
   ],
   "metadata": {
    "collapsed": false,
    "pycharm": {
     "name": "#%%\n"
    }
   }
  },
  {
   "cell_type": "code",
   "execution_count": 43,
   "outputs": [
    {
     "name": "stdout",
     "output_type": "stream",
     "text": [
      "<class 'pandas.core.frame.DataFrame'>\n",
      "RangeIndex: 312 entries, 0 to 311\n",
      "Data columns (total 23 columns):\n",
      " #   Column    Non-Null Count  Dtype  \n",
      "---  ------    --------------  -----  \n",
      " 0   0         312 non-null    float32\n",
      " 1   1         312 non-null    float32\n",
      " 2   2         312 non-null    float32\n",
      " 3   3         312 non-null    float32\n",
      " 4   4         312 non-null    float32\n",
      " 5   5         312 non-null    float32\n",
      " 6   6         312 non-null    float32\n",
      " 7   7         312 non-null    float32\n",
      " 8   8         312 non-null    float32\n",
      " 9   9         312 non-null    float32\n",
      " 10  10        312 non-null    float32\n",
      " 11  11        312 non-null    float32\n",
      " 12  12        312 non-null    float32\n",
      " 13  13        312 non-null    float32\n",
      " 14  14        312 non-null    float32\n",
      " 15  15        312 non-null    float32\n",
      " 16  16        312 non-null    float32\n",
      " 17  17        312 non-null    float32\n",
      " 18  18        312 non-null    float32\n",
      " 19  19        312 non-null    float32\n",
      " 20  20        312 non-null    float32\n",
      " 21  event     312 non-null    float32\n",
      " 22  duration  312 non-null    float64\n",
      "dtypes: float32(22), float64(1)\n",
      "memory usage: 29.4 KB\n"
     ]
    }
   ],
   "source": [
    "df_2.info()"
   ],
   "metadata": {
    "collapsed": false,
    "pycharm": {
     "name": "#%%\n"
    }
   }
  },
  {
   "cell_type": "code",
   "execution_count": 44,
   "outputs": [],
   "source": [
    "from utils.covariate_data_processing import pbc2_proccess_covariate_firstsolution"
   ],
   "metadata": {
    "collapsed": false,
    "pycharm": {
     "name": "#%%\n"
    }
   }
  },
  {
   "cell_type": "code",
   "execution_count": 45,
   "outputs": [
    {
     "name": "stdout",
     "output_type": "stream",
     "text": [
      "0\n",
      "______\n",
      "21\n",
      "______\n",
      "0\n",
      "______\n",
      "21\n",
      "______\n",
      "0\n",
      "______\n",
      "[ 0.11225496  2.06987187  3.72357902  6.68738364 14.30566203]\n",
      "______\n",
      "4\n"
     ]
    },
    {
     "name": "stderr",
     "output_type": "stream",
     "text": [
      "/Users/davidlee/Documents/GitHub/Surtimesurvival/SurvTRACE/survtrace/utils.py:78: UserWarning: Got event/censoring at start time. Should be removed! It is set s.t. it has no contribution to loss.\n",
      "  warnings.warn(\"\"\"Got event/censoring at start time. Should be removed! It is set s.t. it has no contribution to loss.\"\"\")\n"
     ]
    }
   ],
   "source": [
    "y, df, df_train, df_y_train, df_test, df_y_test, df_val, df_y_val = pbc2_proccess_covariate_firstsolution(df_2)"
   ],
   "metadata": {
    "collapsed": false,
    "pycharm": {
     "name": "#%%\n"
    }
   }
  },
  {
   "cell_type": "code",
   "execution_count": 81,
   "outputs": [],
   "source": [
    "from SurvTRACE.survtrace.utils import set_random_seed\n",
    "from SurvTRACE.survtrace.model import SurvTraceSingle\n",
    "from SurvTRACE.survtrace.config import STConfig\n",
    "from SurvTRACE.survtrace.train_utils import Trainer\n",
    "\n",
    "set_random_seed(STConfig['seed'])\n",
    "\n",
    "hparams = {\n",
    "    'batch_size': 16,\n",
    "    'weight_decay': 1e-4,\n",
    "    'learning_rate': 1e-3,\n",
    "    'epochs': 20,\n",
    "}"
   ],
   "metadata": {
    "collapsed": false,
    "pycharm": {
     "name": "#%%\n"
    }
   }
  },
  {
   "cell_type": "code",
   "execution_count": 94,
   "outputs": [
    {
     "name": "stdout",
     "output_type": "stream",
     "text": [
      "GPU not found! will use cpu for training!\n",
      "[Train-0]: 19.586162328720093\n",
      "[Val-0]: 1.7043098211288452\n",
      "[Train-1]: 14.600073754787445\n",
      "[Val-1]: 1.3601312637329102\n",
      "[Train-2]: 11.605335652828217\n",
      "[Val-2]: 4.016164779663086\n",
      "EarlyStopping counter: 1 out of 5\n",
      "[Train-3]: 9.549132376909256\n",
      "[Val-3]: 6.628468036651611\n",
      "EarlyStopping counter: 2 out of 5\n",
      "[Train-4]: 7.639098823070526\n",
      "[Val-4]: 2.69443416595459\n",
      "EarlyStopping counter: 3 out of 5\n",
      "[Train-5]: 6.343803375959396\n",
      "[Val-5]: 3.8903112411499023\n",
      "EarlyStopping counter: 4 out of 5\n",
      "[Train-6]: 5.711188033223152\n",
      "[Val-6]: 1.3377878665924072\n",
      "[Train-7]: 5.798458844423294\n",
      "[Val-7]: 1.3409076929092407\n",
      "EarlyStopping counter: 1 out of 5\n",
      "[Train-8]: 5.771785795688629\n",
      "[Val-8]: 0.9428675770759583\n",
      "[Train-9]: 5.466524764895439\n",
      "[Val-9]: 1.1508796215057373\n",
      "EarlyStopping counter: 1 out of 5\n",
      "[Train-10]: 6.2678598165512085\n",
      "[Val-10]: 0.9152215123176575\n",
      "[Train-11]: 6.1375510692596436\n",
      "[Val-11]: 1.0840933322906494\n",
      "EarlyStopping counter: 1 out of 5\n",
      "[Train-12]: 5.865513503551483\n",
      "[Val-12]: 0.9480755925178528\n",
      "EarlyStopping counter: 2 out of 5\n",
      "[Train-13]: 4.944110386073589\n",
      "[Val-13]: 1.0459644794464111\n",
      "EarlyStopping counter: 3 out of 5\n",
      "[Train-14]: 4.832498610019684\n",
      "[Val-14]: 0.9644650816917419\n",
      "EarlyStopping counter: 4 out of 5\n",
      "[Train-15]: 4.935785010457039\n",
      "[Val-15]: 1.0095516443252563\n",
      "EarlyStopping counter: 5 out of 5\n",
      "early stops at epoch 16\n"
     ]
    }
   ],
   "source": [
    "# get model\n",
    "model = SurvTraceSingle(STConfig)\n",
    "\n",
    "# initialize a trainer\n",
    "trainer = Trainer(model)\n",
    "train_loss, val_loss = trainer.fit(train_set=(df_train, df_y_train), val_set=(df_val, df_y_val),\n",
    "                                   batch_size=hparams['batch_size'],\n",
    "                                   epochs=hparams['epochs'],\n",
    "                                   learning_rate=hparams['learning_rate'],\n",
    "                                   weight_decay=hparams['weight_decay'],)"
   ],
   "metadata": {
    "collapsed": false,
    "pycharm": {
     "name": "#%%\n"
    }
   }
  },
  {
   "cell_type": "code",
   "execution_count": 95,
   "outputs": [
    {
     "name": "stdout",
     "output_type": "stream",
     "text": [
      "******************************\n",
      "start evaluation\n",
      "******************************\n",
      "For 0.25 quantile,\n",
      "TD Concordance Index - IPCW: 0.8509053798567893\n",
      "Brier Score: 0.09439263448872241\n",
      "For 0.5 quantile,\n",
      "TD Concordance Index - IPCW: 0.8409736625580714\n",
      "Brier Score: 0.1728135597120399\n",
      "For 0.75 quantile,\n",
      "TD Concordance Index - IPCW: 0.8578411350363606\n",
      "Brier Score: 0.2666990377386701\n",
      "done\n"
     ]
    }
   ],
   "source": [
    "# evaluate model\n",
    "from SurvTRACE.survtrace.evaluate_utils import Evaluator\n",
    "evaluator = Evaluator(df, df_train.index)\n",
    "evaluator.eval(model, (df_test, df_y_test))\n",
    "print(\"done\")"
   ],
   "metadata": {
    "collapsed": false,
    "pycharm": {
     "name": "#%%\n"
    }
   }
  },
  {
   "cell_type": "code",
   "execution_count": 96,
   "outputs": [
    {
     "data": {
      "text/plain": "<Figure size 640x480 with 1 Axes>",
      "image/png": "[encoded data removed]"
     },
     "metadata": {},
     "output_type": "display_data"
    }
   ],
   "source": [
    "import matplotlib.pyplot as plt\n",
    "plt.plot(train_loss, label='train')\n",
    "plt.plot(val_loss, label='val')\n",
    "plt.legend(fontsize=20)\n",
    "plt.xlabel('epoch',fontsize=20)\n",
    "plt.ylabel('loss', fontsize=20)\n",
    "plt.show()"
   ],
   "metadata": {
    "collapsed": false,
    "pycharm": {
     "name": "#%%\n"
    }
   }
  },
  {
   "cell_type": "code",
   "execution_count": null,
   "outputs": [],
   "source": [],
   "metadata": {
    "collapsed": false,
    "pycharm": {
     "name": "#%%\n"
    }
   }
  }
 ],
 "metadata": {
  "kernelspec": {
   "display_name": "Python 3",
   "language": "python",
   "name": "python3"
  },
  "language_info": {
   "codemirror_mode": {
    "name": "ipython",
    "version": 2
   },
   "file_extension": ".py",
   "mimetype": "text/x-python",
   "name": "python",
   "nbconvert_exporter": "python",
   "pygments_lexer": "ipython2",
   "version": "2.7.6"
  }
 },
 "nbformat": 4,
 "nbformat_minor": 0
}