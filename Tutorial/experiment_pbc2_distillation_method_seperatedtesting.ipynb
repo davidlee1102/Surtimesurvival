{
 "cells": [
  {
   "cell_type": "code",
   "execution_count": 424,
   "outputs": [],
   "source": [
    "import pandas as pd\n",
    "import torch\n",
    "import numpy as np\n",
    "\n",
    "from sklearn.model_selection import train_test_split\n",
    "from utils.covariate_data_processing import pbc2_proccess_covariate, padded_mask_processing"
   ],
   "metadata": {
    "collapsed": false,
    "pycharm": {
     "name": "#%%\n"
    }
   }
  },
  {
   "cell_type": "code",
   "execution_count": 478,
   "outputs": [],
   "source": [
    "df = pd.read_csv(\n",
    "    \"/Users/davidlee/Documents/GitHub/Surtimesurvival/Data Project/Pycox Lib/PBC2 Convariate Data/pbc2_data_proccessed_auton_covariate.csv\")"
   ],
   "metadata": {
    "collapsed": false,
    "pycharm": {
     "name": "#%%\n"
    }
   }
  },
  {
   "cell_type": "code",
   "execution_count": 479,
   "outputs": [
    {
     "data": {
      "text/plain": "   event       time  seq_id  seq_time_id  seq_temporal_SGOT  seq_temporal_age  \\\n0    1.0   0.569489       0     0.569489          -1.485263          0.248058   \n1    1.0   0.569489       0     1.095170           0.195488          0.248058   \n2    0.0  14.152338       1     5.319790          -0.442126          1.292856   \n3    0.0  14.152338       1     6.261636          -0.046806          1.292856   \n4    0.0  14.152338       1     7.266455           0.293680          1.292856   \n\n   seq_temporal_albumin  seq_temporal_alkaline  seq_temporal_platelets  \\\n0             -0.894575               0.195532               -0.529101   \n1             -1.570646               0.285613               -0.456022   \n2             -1.431455              -0.605844               -1.395605   \n3             -1.172958              -0.512364               -1.259888   \n4             -1.312149              -0.443529               -1.364286   \n\n   seq_temporal_prothrombin  ...  seq_temporal_drug_1.0  \\\n0                  0.136768  ...                      0   \n1                  0.813132  ...                      0   \n2                  0.339677  ...                      0   \n3                  0.339677  ...                      0   \n4                  0.339677  ...                      0   \n\n   seq_temporal_edema_1.0  seq_temporal_edema_2.0  \\\n0                       1                       0   \n1                       1                       0   \n2                       1                       0   \n3                       1                       0   \n4                       1                       0   \n\n   seq_temporal_hepatomegaly_1.0  seq_temporal_hepatomegaly_2.0  \\\n0                              1                              0   \n1                              1                              0   \n2                              1                              0   \n3                              1                              0   \n4                              1                              0   \n\n   seq_temporal_histologic_1.0  seq_temporal_histologic_2.0  \\\n0                            0                            0   \n1                            0                            0   \n2                            0                            1   \n3                            0                            1   \n4                            0                            1   \n\n   seq_temporal_histologic_3.0  seq_temporal_spiders_1.0  \\\n0                            1                         1   \n1                            1                         1   \n2                            0                         1   \n3                            0                         1   \n4                            0                         1   \n\n   seq_temporal_spiders_2.0  \n0                         0  \n1                         0  \n2                         0  \n3                         0  \n4                         0  \n\n[5 rows x 25 columns]",
      "text/html": "<div>\n<style scoped>\n    .dataframe tbody tr th:only-of-type {\n        vertical-align: middle;\n    }\n\n    .dataframe tbody tr th {\n        vertical-align: top;\n    }\n\n    .dataframe thead th {\n        text-align: right;\n    }\n</style>\n<table border=\"1\" class=\"dataframe\">\n  <thead>\n    <tr style=\"text-align: right;\">\n      <th></th>\n      <th>event</th>\n      <th>time</th>\n      <th>seq_id</th>\n      <th>seq_time_id</th>\n      <th>seq_temporal_SGOT</th>\n      <th>seq_temporal_age</th>\n      <th>seq_temporal_albumin</th>\n      <th>seq_temporal_alkaline</th>\n      <th>seq_temporal_platelets</th>\n      <th>seq_temporal_prothrombin</th>\n      <th>...</th>\n      <th>seq_temporal_drug_1.0</th>\n      <th>seq_temporal_edema_1.0</th>\n      <th>seq_temporal_edema_2.0</th>\n      <th>seq_temporal_hepatomegaly_1.0</th>\n      <th>seq_temporal_hepatomegaly_2.0</th>\n      <th>seq_temporal_histologic_1.0</th>\n      <th>seq_temporal_histologic_2.0</th>\n      <th>seq_temporal_histologic_3.0</th>\n      <th>seq_temporal_spiders_1.0</th>\n      <th>seq_temporal_spiders_2.0</th>\n    </tr>\n  </thead>\n  <tbody>\n    <tr>\n      <th>0</th>\n      <td>1.0</td>\n      <td>0.569489</td>\n      <td>0</td>\n      <td>0.569489</td>\n      <td>-1.485263</td>\n      <td>0.248058</td>\n      <td>-0.894575</td>\n      <td>0.195532</td>\n      <td>-0.529101</td>\n      <td>0.136768</td>\n      <td>...</td>\n      <td>0</td>\n      <td>1</td>\n      <td>0</td>\n      <td>1</td>\n      <td>0</td>\n      <td>0</td>\n      <td>0</td>\n      <td>1</td>\n      <td>1</td>\n      <td>0</td>\n    </tr>\n    <tr>\n      <th>1</th>\n      <td>1.0</td>\n      <td>0.569489</td>\n      <td>0</td>\n      <td>1.095170</td>\n      <td>0.195488</td>\n      <td>0.248058</td>\n      <td>-1.570646</td>\n      <td>0.285613</td>\n      <td>-0.456022</td>\n      <td>0.813132</td>\n      <td>...</td>\n      <td>0</td>\n      <td>1</td>\n      <td>0</td>\n      <td>1</td>\n      <td>0</td>\n      <td>0</td>\n      <td>0</td>\n      <td>1</td>\n      <td>1</td>\n      <td>0</td>\n    </tr>\n    <tr>\n      <th>2</th>\n      <td>0.0</td>\n      <td>14.152338</td>\n      <td>1</td>\n      <td>5.319790</td>\n      <td>-0.442126</td>\n      <td>1.292856</td>\n      <td>-1.431455</td>\n      <td>-0.605844</td>\n      <td>-1.395605</td>\n      <td>0.339677</td>\n      <td>...</td>\n      <td>0</td>\n      <td>1</td>\n      <td>0</td>\n      <td>1</td>\n      <td>0</td>\n      <td>0</td>\n      <td>1</td>\n      <td>0</td>\n      <td>1</td>\n      <td>0</td>\n    </tr>\n    <tr>\n      <th>3</th>\n      <td>0.0</td>\n      <td>14.152338</td>\n      <td>1</td>\n      <td>6.261636</td>\n      <td>-0.046806</td>\n      <td>1.292856</td>\n      <td>-1.172958</td>\n      <td>-0.512364</td>\n      <td>-1.259888</td>\n      <td>0.339677</td>\n      <td>...</td>\n      <td>0</td>\n      <td>1</td>\n      <td>0</td>\n      <td>1</td>\n      <td>0</td>\n      <td>0</td>\n      <td>1</td>\n      <td>0</td>\n      <td>1</td>\n      <td>0</td>\n    </tr>\n    <tr>\n      <th>4</th>\n      <td>0.0</td>\n      <td>14.152338</td>\n      <td>1</td>\n      <td>7.266455</td>\n      <td>0.293680</td>\n      <td>1.292856</td>\n      <td>-1.312149</td>\n      <td>-0.443529</td>\n      <td>-1.364286</td>\n      <td>0.339677</td>\n      <td>...</td>\n      <td>0</td>\n      <td>1</td>\n      <td>0</td>\n      <td>1</td>\n      <td>0</td>\n      <td>0</td>\n      <td>1</td>\n      <td>0</td>\n      <td>1</td>\n      <td>0</td>\n    </tr>\n  </tbody>\n</table>\n<p>5 rows × 25 columns</p>\n</div>"
     },
     "execution_count": 479,
     "metadata": {},
     "output_type": "execute_result"
    }
   ],
   "source": [
    "df.head()"
   ],
   "metadata": {
    "collapsed": false,
    "pycharm": {
     "name": "#%%\n"
    }
   }
  },
  {
   "cell_type": "code",
   "execution_count": 480,
   "outputs": [],
   "source": [
    "df_temp = df.loc[0:, ['seq_id', 'seq_time_id', 'event', 'time']]\n",
    "df = df.drop(columns=['seq_id', 'seq_time_id'])"
   ],
   "metadata": {
    "collapsed": false,
    "pycharm": {
     "name": "#%%\n"
    }
   }
  },
  {
   "cell_type": "code",
   "execution_count": 481,
   "outputs": [
    {
     "data": {
      "text/plain": "   event       time  seq_temporal_SGOT  seq_temporal_age  \\\n0    1.0   0.569489          -1.485263          0.248058   \n1    1.0   0.569489           0.195488          0.248058   \n2    0.0  14.152338          -0.442126          1.292856   \n3    0.0  14.152338          -0.046806          1.292856   \n4    0.0  14.152338           0.293680          1.292856   \n\n   seq_temporal_albumin  seq_temporal_alkaline  seq_temporal_platelets  \\\n0             -0.894575               0.195532               -0.529101   \n1             -1.570646               0.285613               -0.456022   \n2             -1.431455              -0.605844               -1.395605   \n3             -1.172958              -0.512364               -1.259888   \n4             -1.312149              -0.443529               -1.364286   \n\n   seq_temporal_prothrombin  seq_temporal_serBilir  seq_temporal_serChol  ...  \\\n0                  0.136768               3.281890          1.169016e-16  ...   \n1                  0.813132               2.015877         -4.694608e-01  ...   \n2                  0.339677               0.172710         -6.589138e-01  ...   \n3                  0.339677              -0.013468         -6.036567e-01  ...   \n4                  0.339677               0.098239          1.169016e-16  ...   \n\n   seq_temporal_drug_1.0  seq_temporal_edema_1.0  seq_temporal_edema_2.0  \\\n0                      0                       1                       0   \n1                      0                       1                       0   \n2                      0                       1                       0   \n3                      0                       1                       0   \n4                      0                       1                       0   \n\n   seq_temporal_hepatomegaly_1.0  seq_temporal_hepatomegaly_2.0  \\\n0                              1                              0   \n1                              1                              0   \n2                              1                              0   \n3                              1                              0   \n4                              1                              0   \n\n   seq_temporal_histologic_1.0  seq_temporal_histologic_2.0  \\\n0                            0                            0   \n1                            0                            0   \n2                            0                            1   \n3                            0                            1   \n4                            0                            1   \n\n   seq_temporal_histologic_3.0  seq_temporal_spiders_1.0  \\\n0                            1                         1   \n1                            1                         1   \n2                            0                         1   \n3                            0                         1   \n4                            0                         1   \n\n   seq_temporal_spiders_2.0  \n0                         0  \n1                         0  \n2                         0  \n3                         0  \n4                         0  \n\n[5 rows x 23 columns]",
      "text/html": "<div>\n<style scoped>\n    .dataframe tbody tr th:only-of-type {\n        vertical-align: middle;\n    }\n\n    .dataframe tbody tr th {\n        vertical-align: top;\n    }\n\n    .dataframe thead th {\n        text-align: right;\n    }\n</style>\n<table border=\"1\" class=\"dataframe\">\n  <thead>\n    <tr style=\"text-align: right;\">\n      <th></th>\n      <th>event</th>\n      <th>time</th>\n      <th>seq_temporal_SGOT</th>\n      <th>seq_temporal_age</th>\n      <th>seq_temporal_albumin</th>\n      <th>seq_temporal_alkaline</th>\n      <th>seq_temporal_platelets</th>\n      <th>seq_temporal_prothrombin</th>\n      <th>seq_temporal_serBilir</th>\n      <th>seq_temporal_serChol</th>\n      <th>...</th>\n      <th>seq_temporal_drug_1.0</th>\n      <th>seq_temporal_edema_1.0</th>\n      <th>seq_temporal_edema_2.0</th>\n      <th>seq_temporal_hepatomegaly_1.0</th>\n      <th>seq_temporal_hepatomegaly_2.0</th>\n      <th>seq_temporal_histologic_1.0</th>\n      <th>seq_temporal_histologic_2.0</th>\n      <th>seq_temporal_histologic_3.0</th>\n      <th>seq_temporal_spiders_1.0</th>\n      <th>seq_temporal_spiders_2.0</th>\n    </tr>\n  </thead>\n  <tbody>\n    <tr>\n      <th>0</th>\n      <td>1.0</td>\n      <td>0.569489</td>\n      <td>-1.485263</td>\n      <td>0.248058</td>\n      <td>-0.894575</td>\n      <td>0.195532</td>\n      <td>-0.529101</td>\n      <td>0.136768</td>\n      <td>3.281890</td>\n      <td>1.169016e-16</td>\n      <td>...</td>\n      <td>0</td>\n      <td>1</td>\n      <td>0</td>\n      <td>1</td>\n      <td>0</td>\n      <td>0</td>\n      <td>0</td>\n      <td>1</td>\n      <td>1</td>\n      <td>0</td>\n    </tr>\n    <tr>\n      <th>1</th>\n      <td>1.0</td>\n      <td>0.569489</td>\n      <td>0.195488</td>\n      <td>0.248058</td>\n      <td>-1.570646</td>\n      <td>0.285613</td>\n      <td>-0.456022</td>\n      <td>0.813132</td>\n      <td>2.015877</td>\n      <td>-4.694608e-01</td>\n      <td>...</td>\n      <td>0</td>\n      <td>1</td>\n      <td>0</td>\n      <td>1</td>\n      <td>0</td>\n      <td>0</td>\n      <td>0</td>\n      <td>1</td>\n      <td>1</td>\n      <td>0</td>\n    </tr>\n    <tr>\n      <th>2</th>\n      <td>0.0</td>\n      <td>14.152338</td>\n      <td>-0.442126</td>\n      <td>1.292856</td>\n      <td>-1.431455</td>\n      <td>-0.605844</td>\n      <td>-1.395605</td>\n      <td>0.339677</td>\n      <td>0.172710</td>\n      <td>-6.589138e-01</td>\n      <td>...</td>\n      <td>0</td>\n      <td>1</td>\n      <td>0</td>\n      <td>1</td>\n      <td>0</td>\n      <td>0</td>\n      <td>1</td>\n      <td>0</td>\n      <td>1</td>\n      <td>0</td>\n    </tr>\n    <tr>\n      <th>3</th>\n      <td>0.0</td>\n      <td>14.152338</td>\n      <td>-0.046806</td>\n      <td>1.292856</td>\n      <td>-1.172958</td>\n      <td>-0.512364</td>\n      <td>-1.259888</td>\n      <td>0.339677</td>\n      <td>-0.013468</td>\n      <td>-6.036567e-01</td>\n      <td>...</td>\n      <td>0</td>\n      <td>1</td>\n      <td>0</td>\n      <td>1</td>\n      <td>0</td>\n      <td>0</td>\n      <td>1</td>\n      <td>0</td>\n      <td>1</td>\n      <td>0</td>\n    </tr>\n    <tr>\n      <th>4</th>\n      <td>0.0</td>\n      <td>14.152338</td>\n      <td>0.293680</td>\n      <td>1.292856</td>\n      <td>-1.312149</td>\n      <td>-0.443529</td>\n      <td>-1.364286</td>\n      <td>0.339677</td>\n      <td>0.098239</td>\n      <td>1.169016e-16</td>\n      <td>...</td>\n      <td>0</td>\n      <td>1</td>\n      <td>0</td>\n      <td>1</td>\n      <td>0</td>\n      <td>0</td>\n      <td>1</td>\n      <td>0</td>\n      <td>1</td>\n      <td>0</td>\n    </tr>\n  </tbody>\n</table>\n<p>5 rows × 23 columns</p>\n</div>"
     },
     "execution_count": 481,
     "metadata": {},
     "output_type": "execute_result"
    }
   ],
   "source": [
    "df.head()"
   ],
   "metadata": {
    "collapsed": false,
    "pycharm": {
     "name": "#%%\n"
    }
   }
  },
  {
   "cell_type": "code",
   "execution_count": 482,
   "outputs": [],
   "source": [
    "df.rename(columns={'time': 'duration'}, inplace=True)"
   ],
   "metadata": {
    "collapsed": false,
    "pycharm": {
     "name": "#%%\n"
    }
   }
  },
  {
   "cell_type": "code",
   "execution_count": 483,
   "outputs": [
    {
     "name": "stdout",
     "output_type": "stream",
     "text": [
      "26.0\n",
      "______\n",
      "8\n",
      "______\n",
      "13\n",
      "______\n",
      "21\n",
      "______\n",
      "26\n",
      "______\n",
      "[2.73792575e-03 3.83309605e-02 1.86178951e-01 4.73661154e-01\n",
      " 1.43056620e+01]\n",
      "______\n",
      "4\n"
     ]
    },
    {
     "name": "stderr",
     "output_type": "stream",
     "text": [
      "/Users/davidlee/Documents/GitHub/Surtimesurvival/SurvTRACE/survtrace/utils.py:78: UserWarning: Got event/censoring at start time. Should be removed! It is set s.t. it has no contribution to loss.\n",
      "  warnings.warn(\"\"\"Got event/censoring at start time. Should be removed! It is set s.t. it has no contribution to loss.\"\"\")\n"
     ]
    }
   ],
   "source": [
    "y, df, df_train, df_y_train = pbc2_proccess_covariate(df)"
   ],
   "metadata": {
    "collapsed": false,
    "pycharm": {
     "name": "#%%\n"
    }
   }
  },
  {
   "cell_type": "code",
   "execution_count": 484,
   "outputs": [],
   "source": [
    "df_train = pd.concat([df_train, df_temp['seq_id']], axis=1, join='inner')\n",
    "df_y_train = pd.concat([df_y_train, df_temp['seq_id']], axis=1, join='inner')"
   ],
   "metadata": {
    "collapsed": false,
    "pycharm": {
     "name": "#%%\n"
    }
   }
  },
  {
   "cell_type": "code",
   "execution_count": 485,
   "outputs": [
    {
     "name": "stdout",
     "output_type": "stream",
     "text": [
      "16 16\n"
     ]
    }
   ],
   "source": [
    "masks, padded_patients = padded_mask_processing(df_train)"
   ],
   "metadata": {
    "collapsed": false,
    "pycharm": {
     "name": "#%%\n"
    }
   }
  },
  {
   "cell_type": "code",
   "execution_count": 486,
   "outputs": [
    {
     "data": {
      "text/plain": "torch.Size([312, 16, 21])"
     },
     "execution_count": 486,
     "metadata": {},
     "output_type": "execute_result"
    }
   ],
   "source": [
    "padded_patients.shape"
   ],
   "metadata": {
    "collapsed": false,
    "pycharm": {
     "name": "#%%\n"
    }
   }
  },
  {
   "cell_type": "code",
   "execution_count": 487,
   "outputs": [
    {
     "data": {
      "text/plain": "torch.Size([312, 16])"
     },
     "execution_count": 487,
     "metadata": {},
     "output_type": "execute_result"
    }
   ],
   "source": [
    "masks.shape"
   ],
   "metadata": {
    "collapsed": false,
    "pycharm": {
     "name": "#%%\n"
    }
   }
  },
  {
   "cell_type": "code",
   "execution_count": 488,
   "outputs": [],
   "source": [
    "df_y_train = df_y_train.drop_duplicates(subset='seq_id', keep='last')\n",
    "df_y_train = df_y_train.reset_index(drop=True)\n",
    "df_y_train = df_y_train.drop(columns=['seq_id'])"
   ],
   "metadata": {
    "collapsed": false,
    "pycharm": {
     "name": "#%%\n"
    }
   }
  },
  {
   "cell_type": "code",
   "execution_count": 489,
   "outputs": [
    {
     "data": {
      "text/plain": "   duration  event  proportion\n0         3    1.0    0.006928\n1         3    0.0    0.988915\n2         3    1.0    0.019002\n3         2    1.0    0.314286\n4         3    0.0    0.263658",
      "text/html": "<div>\n<style scoped>\n    .dataframe tbody tr th:only-of-type {\n        vertical-align: middle;\n    }\n\n    .dataframe tbody tr th {\n        vertical-align: top;\n    }\n\n    .dataframe thead th {\n        text-align: right;\n    }\n</style>\n<table border=\"1\" class=\"dataframe\">\n  <thead>\n    <tr style=\"text-align: right;\">\n      <th></th>\n      <th>duration</th>\n      <th>event</th>\n      <th>proportion</th>\n    </tr>\n  </thead>\n  <tbody>\n    <tr>\n      <th>0</th>\n      <td>3</td>\n      <td>1.0</td>\n      <td>0.006928</td>\n    </tr>\n    <tr>\n      <th>1</th>\n      <td>3</td>\n      <td>0.0</td>\n      <td>0.988915</td>\n    </tr>\n    <tr>\n      <th>2</th>\n      <td>3</td>\n      <td>1.0</td>\n      <td>0.019002</td>\n    </tr>\n    <tr>\n      <th>3</th>\n      <td>2</td>\n      <td>1.0</td>\n      <td>0.314286</td>\n    </tr>\n    <tr>\n      <th>4</th>\n      <td>3</td>\n      <td>0.0</td>\n      <td>0.263658</td>\n    </tr>\n  </tbody>\n</table>\n</div>"
     },
     "execution_count": 489,
     "metadata": {},
     "output_type": "execute_result"
    }
   ],
   "source": [
    "df_y_train.head()"
   ],
   "metadata": {
    "collapsed": false,
    "pycharm": {
     "name": "#%%\n"
    }
   }
  },
  {
   "cell_type": "code",
   "execution_count": 490,
   "outputs": [],
   "source": [
    "df_temp = df_temp.drop_duplicates(subset='seq_id', keep='last')\n",
    "df_temp = df_temp.reset_index(drop=True)\n",
    "df_temp = df_temp.drop(columns=['seq_id'])"
   ],
   "metadata": {
    "collapsed": false,
    "pycharm": {
     "name": "#%%\n"
    }
   }
  },
  {
   "cell_type": "code",
   "execution_count": 491,
   "outputs": [
    {
     "data": {
      "text/plain": "   seq_time_id  event       time\n0     1.095170    1.0   0.569489\n1    14.152338    0.0  14.152338\n2     2.770781    1.0   0.736502\n3     5.270507    1.0   0.276531\n4     4.120578    0.0   4.120578",
      "text/html": "<div>\n<style scoped>\n    .dataframe tbody tr th:only-of-type {\n        vertical-align: middle;\n    }\n\n    .dataframe tbody tr th {\n        vertical-align: top;\n    }\n\n    .dataframe thead th {\n        text-align: right;\n    }\n</style>\n<table border=\"1\" class=\"dataframe\">\n  <thead>\n    <tr style=\"text-align: right;\">\n      <th></th>\n      <th>seq_time_id</th>\n      <th>event</th>\n      <th>time</th>\n    </tr>\n  </thead>\n  <tbody>\n    <tr>\n      <th>0</th>\n      <td>1.095170</td>\n      <td>1.0</td>\n      <td>0.569489</td>\n    </tr>\n    <tr>\n      <th>1</th>\n      <td>14.152338</td>\n      <td>0.0</td>\n      <td>14.152338</td>\n    </tr>\n    <tr>\n      <th>2</th>\n      <td>2.770781</td>\n      <td>1.0</td>\n      <td>0.736502</td>\n    </tr>\n    <tr>\n      <th>3</th>\n      <td>5.270507</td>\n      <td>1.0</td>\n      <td>0.276531</td>\n    </tr>\n    <tr>\n      <th>4</th>\n      <td>4.120578</td>\n      <td>0.0</td>\n      <td>4.120578</td>\n    </tr>\n  </tbody>\n</table>\n</div>"
     },
     "execution_count": 491,
     "metadata": {},
     "output_type": "execute_result"
    }
   ],
   "source": [
    "df_temp.head()"
   ],
   "metadata": {
    "collapsed": false,
    "pycharm": {
     "name": "#%%\n"
    }
   }
  },
  {
   "cell_type": "code",
   "execution_count": 492,
   "outputs": [],
   "source": [
    "X_features_data_tensor = padded_patients\n",
    "Y_labels_data_tensor = torch.tensor(df_y_train.values)"
   ],
   "metadata": {
    "collapsed": false,
    "pycharm": {
     "name": "#%%\n"
    }
   }
  },
  {
   "cell_type": "code",
   "execution_count": 493,
   "outputs": [],
   "source": [
    "Y_labels = Y_labels_data_tensor[:, 1]\n",
    "Y_labels = Y_labels.long()"
   ],
   "metadata": {
    "collapsed": false,
    "pycharm": {
     "name": "#%%\n"
    }
   }
  },
  {
   "cell_type": "code",
   "execution_count": 494,
   "outputs": [
    {
     "data": {
      "text/plain": "tensor([1, 0, 1, 1, 0, 1, 0, 1, 1, 1, 1, 1, 0, 1, 1, 0, 1, 1, 0, 1, 1, 1, 1, 1,\n        0, 1, 1, 1, 1, 1, 1, 0, 1, 0, 1, 0, 1, 1, 1, 0, 1, 0, 0, 1, 0, 1, 0, 0,\n        1, 1, 1, 1, 1, 1, 1, 1, 1, 0, 1, 0, 0, 1, 1, 1, 0, 1, 1, 0, 1, 1, 0, 0,\n        0, 1, 1, 1, 1, 1, 0, 1, 1, 1, 0, 0, 1, 1, 1, 1, 1, 1, 1, 1, 0, 1, 1, 0,\n        1, 0, 0, 1, 0, 0, 1, 1, 0, 1, 0, 1, 0, 1, 0, 1, 1, 1, 0, 0, 1, 1, 1, 0,\n        1, 0, 1, 1, 0, 1, 0, 1, 0, 1, 1, 0, 1, 0, 0, 0, 0, 1, 0, 0, 0, 1, 1, 1,\n        0, 1, 1, 1, 1, 0, 0, 1, 0, 1, 0, 1, 0, 0, 1, 0, 0, 1, 1, 1, 1, 0, 1, 0,\n        1, 0, 0, 0, 0, 0, 0, 1, 0, 0, 0, 0, 0, 0, 0, 1, 1, 1, 1, 0, 0, 0, 1, 0,\n        1, 0, 0, 1, 0, 0, 0, 0, 0, 0, 0, 1, 1, 0, 0, 1, 0, 0, 0, 0, 0, 1, 1, 0,\n        1, 0, 0, 1, 0, 1, 1, 0, 0, 0, 1, 0, 1, 0, 1, 0, 0, 0, 0, 0, 0, 1, 1, 0,\n        0, 1, 1, 1, 0, 0, 0, 0, 0, 0, 0, 0, 0, 0, 0, 0, 0, 0, 0, 1, 0, 0, 0, 0,\n        0, 0, 1, 1, 1, 0, 0, 0, 0, 0, 0, 0, 0, 0, 0, 0, 1, 0, 0, 0, 0, 0, 0, 0,\n        0, 0, 0, 1, 0, 0, 0, 0, 0, 0, 0, 1, 0, 0, 1, 0, 0, 0, 0, 0, 0, 0, 0, 0])"
     },
     "execution_count": 494,
     "metadata": {},
     "output_type": "execute_result"
    }
   ],
   "source": [
    "Y_labels"
   ],
   "metadata": {
    "collapsed": false,
    "pycharm": {
     "name": "#%%\n"
    }
   }
  },
  {
   "cell_type": "code",
   "execution_count": 495,
   "outputs": [],
   "source": [
    "import torch\n",
    "from torch.utils.data import TensorDataset\n",
    "\n",
    "X_train, X_val, y_train, y_val, masks_train, masks_val, df_temp_train, df_temp_val = train_test_split(\n",
    "    X_features_data_tensor, Y_labels, masks, df_temp,\n",
    "    test_size=0.3)\n",
    "\n",
    "\n",
    "X_val, X_test, y_val, y_test, masks_val, masks_test, df_temp_val, df_temp_test = train_test_split(X_val, y_val,\n",
    "                                                                                                  masks_val,\n",
    "                                                                                                  df_temp_val,\n",
    "                                                                                                  test_size=0.7)\n",
    "train_data = TensorDataset(X_train, y_train, masks_train)\n",
    "val_data = TensorDataset(X_val, y_val, masks_val)\n",
    "test_data = TensorDataset(X_test, y_test, masks_test)"
   ],
   "metadata": {
    "collapsed": false,
    "pycharm": {
     "name": "#%%\n"
    }
   }
  },
  {
   "cell_type": "code",
   "execution_count": 496,
   "outputs": [
    {
     "name": "stdout",
     "output_type": "stream",
     "text": [
      "Input Dimension 21\n",
      "Sequence Length 16\n"
     ]
    }
   ],
   "source": [
    "from torch.utils.data import DataLoader\n",
    "from sklearn.metrics import accuracy_score\n",
    "from model.survtimesurvival_model import TransformerClassifierFirstSolution, TransformerClassifier\n",
    "\n",
    "# # Hyperparameters 1\n",
    "# # input_dim = 26\n",
    "# embed_dim = 16\n",
    "# num_heads = 2\n",
    "# ffn_hidden_dim = 64\n",
    "# num_layers = 2\n",
    "# batch_size = 8\n",
    "# num_classes = 2\n",
    "\n",
    "# Hyperparameters\n",
    "# input_dim = 26\n",
    "embed_dim = 32\n",
    "num_heads = 2\n",
    "ffn_hidden_dim = 64\n",
    "num_layers = 2\n",
    "batch_size = 4\n",
    "num_classes = 2\n",
    "\n",
    "train_loader = DataLoader(train_data, batch_size=batch_size, shuffle=True)\n",
    "val_loader = DataLoader(val_data, batch_size=batch_size, shuffle=False)\n",
    "\n",
    "# Set up training configurations\n",
    "input_dim = X_features_data_tensor.size(2)\n",
    "seq_length = X_features_data_tensor.size(1)\n",
    "\n",
    "print(\"Input Dimension\", input_dim)\n",
    "print(\"Sequence Length\", seq_length)\n",
    "\n",
    "model = TransformerClassifierFirstSolution(input_dim, seq_length, embed_dim, num_heads, ffn_hidden_dim, num_layers, 2)"
   ],
   "metadata": {
    "collapsed": false,
    "pycharm": {
     "name": "#%%\n"
    }
   }
  },
  {
   "cell_type": "code",
   "execution_count": 497,
   "outputs": [],
   "source": [
    "# HUNG: IMPORTANCE. IF YOU KEEP nn.CrossEntropyLoss(), this loss will return a number!!!!\n",
    "# criterion = torch.nn.NLLLoss(reduction=\"none\")\n",
    "criterion = torch.nn.CrossEntropyLoss(reduction=\"none\")\n",
    "optimizer = torch.optim.Adam(model.parameters(), lr=1e-3, weight_decay=1e-4)"
   ],
   "metadata": {
    "collapsed": false,
    "pycharm": {
     "name": "#%%\n"
    }
   }
  },
  {
   "cell_type": "code",
   "execution_count": 498,
   "outputs": [
    {
     "name": "stderr",
     "output_type": "stream",
     "text": [
      "/Users/davidlee/opt/anaconda3/envs/synthcity/lib/python3.9/site-packages/torch/nn/modules/activation.py:1160: UserWarning: Converting mask without torch.bool dtype to bool; this will negatively affect performance. Prefer to use a boolean mask directly. (Triggered internally at /Users/runner/work/pytorch/pytorch/pytorch/aten/src/ATen/native/transformers/attention.cpp:152.)\n",
      "  return torch._native_multi_head_attention(\n"
     ]
    },
    {
     "name": "stdout",
     "output_type": "stream",
     "text": [
      "Epoch 1/40, Training Loss: 0.9972145156426864, Validation Loss: 2.1837154115949358, Validation Accuracy: 0.8571428571428571\n"
     ]
    },
    {
     "name": "stderr",
     "output_type": "stream",
     "text": [
      "/Users/davidlee/opt/anaconda3/envs/synthcity/lib/python3.9/site-packages/torch/nn/modules/activation.py:1160: UserWarning: Converting mask without torch.bool dtype to bool; this will negatively affect performance. Prefer to use a boolean mask directly. (Triggered internally at /Users/runner/work/pytorch/pytorch/pytorch/aten/src/ATen/native/transformers/attention.cpp:152.)\n",
      "  return torch._native_multi_head_attention(\n"
     ]
    },
    {
     "name": "stdout",
     "output_type": "stream",
     "text": [
      "Epoch 2/40, Training Loss: 0.93010308471593, Validation Loss: 1.9133704049246651, Validation Accuracy: 0.8214285714285714\n"
     ]
    },
    {
     "name": "stderr",
     "output_type": "stream",
     "text": [
      "/Users/davidlee/opt/anaconda3/envs/synthcity/lib/python3.9/site-packages/torch/nn/modules/activation.py:1160: UserWarning: Converting mask without torch.bool dtype to bool; this will negatively affect performance. Prefer to use a boolean mask directly. (Triggered internally at /Users/runner/work/pytorch/pytorch/pytorch/aten/src/ATen/native/transformers/attention.cpp:152.)\n",
      "  return torch._native_multi_head_attention(\n"
     ]
    },
    {
     "name": "stdout",
     "output_type": "stream",
     "text": [
      "Epoch 3/40, Training Loss: 0.967622907595201, Validation Loss: 2.0609756878444125, Validation Accuracy: 0.8214285714285714\n"
     ]
    },
    {
     "name": "stderr",
     "output_type": "stream",
     "text": [
      "/Users/davidlee/opt/anaconda3/envs/synthcity/lib/python3.9/site-packages/torch/nn/modules/activation.py:1160: UserWarning: Converting mask without torch.bool dtype to bool; this will negatively affect performance. Prefer to use a boolean mask directly. (Triggered internally at /Users/runner/work/pytorch/pytorch/pytorch/aten/src/ATen/native/transformers/attention.cpp:152.)\n",
      "  return torch._native_multi_head_attention(\n"
     ]
    },
    {
     "name": "stdout",
     "output_type": "stream",
     "text": [
      "Epoch 4/40, Training Loss: 0.8532691917636178, Validation Loss: 1.8978992530277796, Validation Accuracy: 0.8214285714285714\n"
     ]
    },
    {
     "name": "stderr",
     "output_type": "stream",
     "text": [
      "/Users/davidlee/opt/anaconda3/envs/synthcity/lib/python3.9/site-packages/torch/nn/modules/activation.py:1160: UserWarning: Converting mask without torch.bool dtype to bool; this will negatively affect performance. Prefer to use a boolean mask directly. (Triggered internally at /Users/runner/work/pytorch/pytorch/pytorch/aten/src/ATen/native/transformers/attention.cpp:152.)\n",
      "  return torch._native_multi_head_attention(\n"
     ]
    },
    {
     "name": "stdout",
     "output_type": "stream",
     "text": [
      "Epoch 5/40, Training Loss: 0.8194473293694583, Validation Loss: 1.847433124269758, Validation Accuracy: 0.8214285714285714\n"
     ]
    },
    {
     "name": "stderr",
     "output_type": "stream",
     "text": [
      "/Users/davidlee/opt/anaconda3/envs/synthcity/lib/python3.9/site-packages/torch/nn/modules/activation.py:1160: UserWarning: Converting mask without torch.bool dtype to bool; this will negatively affect performance. Prefer to use a boolean mask directly. (Triggered internally at /Users/runner/work/pytorch/pytorch/pytorch/aten/src/ATen/native/transformers/attention.cpp:152.)\n",
      "  return torch._native_multi_head_attention(\n"
     ]
    },
    {
     "name": "stdout",
     "output_type": "stream",
     "text": [
      "Epoch 6/40, Training Loss: 0.8241260636936535, Validation Loss: 1.8009126356669836, Validation Accuracy: 0.8214285714285714\n"
     ]
    },
    {
     "name": "stderr",
     "output_type": "stream",
     "text": [
      "/Users/davidlee/opt/anaconda3/envs/synthcity/lib/python3.9/site-packages/torch/nn/modules/activation.py:1160: UserWarning: Converting mask without torch.bool dtype to bool; this will negatively affect performance. Prefer to use a boolean mask directly. (Triggered internally at /Users/runner/work/pytorch/pytorch/pytorch/aten/src/ATen/native/transformers/attention.cpp:152.)\n",
      "  return torch._native_multi_head_attention(\n"
     ]
    },
    {
     "name": "stdout",
     "output_type": "stream",
     "text": [
      "Epoch 7/40, Training Loss: 0.8355994527990168, Validation Loss: 2.027217217854091, Validation Accuracy: 0.7857142857142857\n"
     ]
    },
    {
     "name": "stderr",
     "output_type": "stream",
     "text": [
      "/Users/davidlee/opt/anaconda3/envs/synthcity/lib/python3.9/site-packages/torch/nn/modules/activation.py:1160: UserWarning: Converting mask without torch.bool dtype to bool; this will negatively affect performance. Prefer to use a boolean mask directly. (Triggered internally at /Users/runner/work/pytorch/pytorch/pytorch/aten/src/ATen/native/transformers/attention.cpp:152.)\n",
      "  return torch._native_multi_head_attention(\n"
     ]
    },
    {
     "name": "stdout",
     "output_type": "stream",
     "text": [
      "Epoch 8/40, Training Loss: 0.7677018626169725, Validation Loss: 1.8151275941303797, Validation Accuracy: 0.8214285714285714\n"
     ]
    },
    {
     "name": "stderr",
     "output_type": "stream",
     "text": [
      "/Users/davidlee/opt/anaconda3/envs/synthcity/lib/python3.9/site-packages/torch/nn/modules/activation.py:1160: UserWarning: Converting mask without torch.bool dtype to bool; this will negatively affect performance. Prefer to use a boolean mask directly. (Triggered internally at /Users/runner/work/pytorch/pytorch/pytorch/aten/src/ATen/native/transformers/attention.cpp:152.)\n",
      "  return torch._native_multi_head_attention(\n"
     ]
    },
    {
     "name": "stdout",
     "output_type": "stream",
     "text": [
      "Epoch 9/40, Training Loss: 0.8310455311428416, Validation Loss: 1.9949149915150233, Validation Accuracy: 0.7857142857142857\n"
     ]
    },
    {
     "name": "stderr",
     "output_type": "stream",
     "text": [
      "/Users/davidlee/opt/anaconda3/envs/synthcity/lib/python3.9/site-packages/torch/nn/modules/activation.py:1160: UserWarning: Converting mask without torch.bool dtype to bool; this will negatively affect performance. Prefer to use a boolean mask directly. (Triggered internally at /Users/runner/work/pytorch/pytorch/pytorch/aten/src/ATen/native/transformers/attention.cpp:152.)\n",
      "  return torch._native_multi_head_attention(\n"
     ]
    },
    {
     "name": "stdout",
     "output_type": "stream",
     "text": [
      "Epoch 10/40, Training Loss: 0.8336658412759954, Validation Loss: 1.7008791991642542, Validation Accuracy: 0.8928571428571429\n"
     ]
    },
    {
     "name": "stderr",
     "output_type": "stream",
     "text": [
      "/Users/davidlee/opt/anaconda3/envs/synthcity/lib/python3.9/site-packages/torch/nn/modules/activation.py:1160: UserWarning: Converting mask without torch.bool dtype to bool; this will negatively affect performance. Prefer to use a boolean mask directly. (Triggered internally at /Users/runner/work/pytorch/pytorch/pytorch/aten/src/ATen/native/transformers/attention.cpp:152.)\n",
      "  return torch._native_multi_head_attention(\n"
     ]
    },
    {
     "name": "stdout",
     "output_type": "stream",
     "text": [
      "Epoch 11/40, Training Loss: 0.8096562640233473, Validation Loss: 1.731506041118077, Validation Accuracy: 0.8928571428571429\n"
     ]
    },
    {
     "name": "stderr",
     "output_type": "stream",
     "text": [
      "/Users/davidlee/opt/anaconda3/envs/synthcity/lib/python3.9/site-packages/torch/nn/modules/activation.py:1160: UserWarning: Converting mask without torch.bool dtype to bool; this will negatively affect performance. Prefer to use a boolean mask directly. (Triggered internally at /Users/runner/work/pytorch/pytorch/pytorch/aten/src/ATen/native/transformers/attention.cpp:152.)\n",
      "  return torch._native_multi_head_attention(\n"
     ]
    },
    {
     "name": "stdout",
     "output_type": "stream",
     "text": [
      "Epoch 12/40, Training Loss: 0.7332844772122123, Validation Loss: 1.679926804133824, Validation Accuracy: 0.8928571428571429\n"
     ]
    },
    {
     "name": "stderr",
     "output_type": "stream",
     "text": [
      "/Users/davidlee/opt/anaconda3/envs/synthcity/lib/python3.9/site-packages/torch/nn/modules/activation.py:1160: UserWarning: Converting mask without torch.bool dtype to bool; this will negatively affect performance. Prefer to use a boolean mask directly. (Triggered internally at /Users/runner/work/pytorch/pytorch/pytorch/aten/src/ATen/native/transformers/attention.cpp:152.)\n",
      "  return torch._native_multi_head_attention(\n"
     ]
    },
    {
     "name": "stdout",
     "output_type": "stream",
     "text": [
      "Epoch 13/40, Training Loss: 0.7739439660852606, Validation Loss: 1.6324997799737113, Validation Accuracy: 0.8928571428571429\n"
     ]
    },
    {
     "name": "stderr",
     "output_type": "stream",
     "text": [
      "/Users/davidlee/opt/anaconda3/envs/synthcity/lib/python3.9/site-packages/torch/nn/modules/activation.py:1160: UserWarning: Converting mask without torch.bool dtype to bool; this will negatively affect performance. Prefer to use a boolean mask directly. (Triggered internally at /Users/runner/work/pytorch/pytorch/pytorch/aten/src/ATen/native/transformers/attention.cpp:152.)\n",
      "  return torch._native_multi_head_attention(\n"
     ]
    },
    {
     "name": "stdout",
     "output_type": "stream",
     "text": [
      "Epoch 14/40, Training Loss: 0.7425479211590507, Validation Loss: 1.6910142047064645, Validation Accuracy: 0.8928571428571429\n"
     ]
    },
    {
     "name": "stderr",
     "output_type": "stream",
     "text": [
      "/Users/davidlee/opt/anaconda3/envs/synthcity/lib/python3.9/site-packages/torch/nn/modules/activation.py:1160: UserWarning: Converting mask without torch.bool dtype to bool; this will negatively affect performance. Prefer to use a boolean mask directly. (Triggered internally at /Users/runner/work/pytorch/pytorch/pytorch/aten/src/ATen/native/transformers/attention.cpp:152.)\n",
      "  return torch._native_multi_head_attention(\n"
     ]
    },
    {
     "name": "stdout",
     "output_type": "stream",
     "text": [
      "Epoch 15/40, Training Loss: 0.7328915585171093, Validation Loss: 2.5525608403342113, Validation Accuracy: 0.6428571428571429\n"
     ]
    },
    {
     "name": "stderr",
     "output_type": "stream",
     "text": [
      "/Users/davidlee/opt/anaconda3/envs/synthcity/lib/python3.9/site-packages/torch/nn/modules/activation.py:1160: UserWarning: Converting mask without torch.bool dtype to bool; this will negatively affect performance. Prefer to use a boolean mask directly. (Triggered internally at /Users/runner/work/pytorch/pytorch/pytorch/aten/src/ATen/native/transformers/attention.cpp:152.)\n",
      "  return torch._native_multi_head_attention(\n"
     ]
    },
    {
     "name": "stdout",
     "output_type": "stream",
     "text": [
      "Epoch 16/40, Training Loss: 0.6869712618264285, Validation Loss: 1.7303889308656966, Validation Accuracy: 0.8928571428571429\n"
     ]
    },
    {
     "name": "stderr",
     "output_type": "stream",
     "text": [
      "/Users/davidlee/opt/anaconda3/envs/synthcity/lib/python3.9/site-packages/torch/nn/modules/activation.py:1160: UserWarning: Converting mask without torch.bool dtype to bool; this will negatively affect performance. Prefer to use a boolean mask directly. (Triggered internally at /Users/runner/work/pytorch/pytorch/pytorch/aten/src/ATen/native/transformers/attention.cpp:152.)\n",
      "  return torch._native_multi_head_attention(\n"
     ]
    },
    {
     "name": "stdout",
     "output_type": "stream",
     "text": [
      "Epoch 17/40, Training Loss: 0.6816967937079343, Validation Loss: 1.618260417665754, Validation Accuracy: 0.8928571428571429\n"
     ]
    },
    {
     "name": "stderr",
     "output_type": "stream",
     "text": [
      "/Users/davidlee/opt/anaconda3/envs/synthcity/lib/python3.9/site-packages/torch/nn/modules/activation.py:1160: UserWarning: Converting mask without torch.bool dtype to bool; this will negatively affect performance. Prefer to use a boolean mask directly. (Triggered internally at /Users/runner/work/pytorch/pytorch/pytorch/aten/src/ATen/native/transformers/attention.cpp:152.)\n",
      "  return torch._native_multi_head_attention(\n"
     ]
    },
    {
     "name": "stdout",
     "output_type": "stream",
     "text": [
      "Epoch 18/40, Training Loss: 0.7388393212448466, Validation Loss: 1.917988589831761, Validation Accuracy: 0.8571428571428571\n"
     ]
    },
    {
     "name": "stderr",
     "output_type": "stream",
     "text": [
      "/Users/davidlee/opt/anaconda3/envs/synthcity/lib/python3.9/site-packages/torch/nn/modules/activation.py:1160: UserWarning: Converting mask without torch.bool dtype to bool; this will negatively affect performance. Prefer to use a boolean mask directly. (Triggered internally at /Users/runner/work/pytorch/pytorch/pytorch/aten/src/ATen/native/transformers/attention.cpp:152.)\n",
      "  return torch._native_multi_head_attention(\n"
     ]
    },
    {
     "name": "stdout",
     "output_type": "stream",
     "text": [
      "Epoch 19/40, Training Loss: 0.7103340306065299, Validation Loss: 1.669463838849749, Validation Accuracy: 0.8928571428571429\n"
     ]
    },
    {
     "name": "stderr",
     "output_type": "stream",
     "text": [
      "/Users/davidlee/opt/anaconda3/envs/synthcity/lib/python3.9/site-packages/torch/nn/modules/activation.py:1160: UserWarning: Converting mask without torch.bool dtype to bool; this will negatively affect performance. Prefer to use a boolean mask directly. (Triggered internally at /Users/runner/work/pytorch/pytorch/pytorch/aten/src/ATen/native/transformers/attention.cpp:152.)\n",
      "  return torch._native_multi_head_attention(\n"
     ]
    },
    {
     "name": "stdout",
     "output_type": "stream",
     "text": [
      "Epoch 20/40, Training Loss: 0.7375855174931613, Validation Loss: 1.8967156750815255, Validation Accuracy: 0.8214285714285714\n",
      "Epoch 21/40, Training Loss: 0.7338091124187817, Validation Loss: 1.7636021716254098, Validation Accuracy: 0.8571428571428571\n",
      "Early stopping triggered. No improvement in validation loss for 3 consecutive epochs.\n"
     ]
    },
    {
     "name": "stderr",
     "output_type": "stream",
     "text": [
      "/Users/davidlee/opt/anaconda3/envs/synthcity/lib/python3.9/site-packages/torch/nn/modules/activation.py:1160: UserWarning: Converting mask without torch.bool dtype to bool; this will negatively affect performance. Prefer to use a boolean mask directly. (Triggered internally at /Users/runner/work/pytorch/pytorch/pytorch/aten/src/ATen/native/transformers/attention.cpp:152.)\n",
      "  return torch._native_multi_head_attention(\n"
     ]
    }
   ],
   "source": [
    "# Train the model\n",
    "num_epochs = 40\n",
    "train_loss_his = []\n",
    "val_loss_his = []\n",
    "val_accuracy_his = []\n",
    "\n",
    "patience = 3\n",
    "best_val_loss = None\n",
    "epochs_since_best_val_loss = 0\n",
    "\n",
    "for epoch in range(num_epochs):\n",
    "    model.train()\n",
    "    running_loss = 0.0\n",
    "    for batch_idx, (data, target, label_mask) in enumerate(train_loader):\n",
    "        optimizer.zero_grad()\n",
    "        output = model(data, label_mask)\n",
    "        loss = criterion(output, target)\n",
    "        # Assume loss has shape (B, S, D). Assume mask has shape (B, S)\n",
    "        # Apply label mask to the loss.\n",
    "        # In the label. Assume 1 is NOT PAD, and 0 is pad.\n",
    "        loss = (loss * label_mask.unsqueeze(-1).float())\n",
    "\n",
    "        # Average over the third dimension\n",
    "        loss = loss.mean(-1)\n",
    "\n",
    "        # Average over each sequence (dimension 1).\n",
    "        # Since each sequence has different length. We need to do this\n",
    "        loss = torch.sum(loss, dim=-1) / torch.sum(label_mask, dim=-1, keepdim=True)\n",
    "\n",
    "        # Then average over the batch\n",
    "        loss = loss.mean()\n",
    "        loss.backward()\n",
    "        optimizer.step()\n",
    "        running_loss += loss.item()\n",
    "\n",
    "    # Evaluate on validation set\n",
    "    model.eval()\n",
    "    val_running_loss = 0.0\n",
    "    val_preds = []\n",
    "    val_targets = []\n",
    "    with torch.no_grad():\n",
    "        for batch_idx, (data, target, masks) in enumerate(val_loader):\n",
    "            output = model(data, masks)\n",
    "            loss = criterion(output, target)\n",
    "            # val_running_loss += loss.item()\n",
    "            val_running_loss += loss.sum().item()\n",
    "            # val_running_loss += loss.mean().item()\n",
    "            preds = output.argmax(dim=1).cpu().numpy()\n",
    "            val_preds.extend(preds)\n",
    "            val_targets.extend(target.cpu().numpy())\n",
    "\n",
    "    # Calculate the accuracy of the model on the validation set\n",
    "    val_accuracy = accuracy_score(val_targets, val_preds)\n",
    "\n",
    "    print(f\"Epoch {epoch + 1}/{num_epochs}, \"\n",
    "          f\"Training Loss: {running_loss / len(train_loader)}, \"\n",
    "          f\"Validation Loss: {val_running_loss / len(val_loader)}, \"\n",
    "          f\"Validation Accuracy: {val_accuracy}\")\n",
    "\n",
    "    train_loss_his.append(running_loss / len(train_loader))\n",
    "    val_loss_his.append(val_running_loss / len(val_loader))\n",
    "    val_accuracy_his.append(val_accuracy)\n",
    "    if best_val_loss is None or abs(val_running_loss) < abs(best_val_loss):\n",
    "        best_val_loss = val_running_loss\n",
    "        epochs_since_best_val_loss = 0\n",
    "    else:\n",
    "        epochs_since_best_val_loss += 1\n",
    "\n",
    "    if epochs_since_best_val_loss > patience:\n",
    "        print(f\"Early stopping triggered. No improvement in validation loss for {patience} consecutive epochs.\")\n",
    "        break"
   ],
   "metadata": {
    "collapsed": false,
    "pycharm": {
     "name": "#%%\n"
    }
   }
  },
  {
   "cell_type": "code",
   "execution_count": 499,
   "outputs": [],
   "source": [
    "torch.save(model.state_dict(), 'pre_trained_timevisit_seperatedtesting.pth')"
   ],
   "metadata": {
    "collapsed": false,
    "pycharm": {
     "name": "#%%\n"
    }
   }
  },
  {
   "cell_type": "code",
   "execution_count": 500,
   "outputs": [],
   "source": [
    "from model.survtimesurvival_model import TransformerClassifier_2"
   ],
   "metadata": {
    "collapsed": false,
    "pycharm": {
     "name": "#%%\n"
    }
   }
  },
  {
   "cell_type": "code",
   "execution_count": 501,
   "outputs": [
    {
     "data": {
      "text/plain": "<All keys matched successfully>"
     },
     "execution_count": 501,
     "metadata": {},
     "output_type": "execute_result"
    }
   ],
   "source": [
    "model = TransformerClassifier_2(input_dim, seq_length, embed_dim, num_heads, ffn_hidden_dim, num_layers, num_classes)\n",
    "pretrained_weights = torch.load('pre_trained_timevisit_seperatedtesting.pth')\n",
    "#pretrained_weight/\n",
    "model.load_state_dict(pretrained_weights)"
   ],
   "metadata": {
    "collapsed": false,
    "pycharm": {
     "name": "#%%\n"
    }
   }
  },
  {
   "cell_type": "code",
   "execution_count": 502,
   "outputs": [
    {
     "name": "stdout",
     "output_type": "stream",
     "text": [
      "16 16\n"
     ]
    }
   ],
   "source": [
    "masks, padded_patients = padded_mask_processing(df_train)"
   ],
   "metadata": {
    "collapsed": false,
    "pycharm": {
     "name": "#%%\n"
    }
   }
  },
  {
   "cell_type": "code",
   "execution_count": 503,
   "outputs": [],
   "source": [
    "new_embedding_train = []\n",
    "new_embedding_val = []\n",
    "new_embedding_test = []\n",
    "\n",
    "for i in range(len(masks_train)):\n",
    "    a = masks_train[i].unsqueeze(0)\n",
    "    output = model(X_train[i], a)\n",
    "    new_embedding_train.append(output)\n",
    "\n",
    "for i in range(len(masks_val)):\n",
    "    a = masks_val[i].unsqueeze(0)\n",
    "    output = model(X_val[i], a)\n",
    "    new_embedding_val.append(output)\n",
    "\n",
    "for i in range(len(masks_test)):\n",
    "    a = masks_test[i].unsqueeze(0)\n",
    "    output = model(X_test[i], a)\n",
    "    new_embedding_test.append(output)"
   ],
   "metadata": {
    "collapsed": false,
    "pycharm": {
     "name": "#%%\n"
    }
   }
  },
  {
   "cell_type": "code",
   "execution_count": 504,
   "outputs": [],
   "source": [
    "# Convert each tensor to a numpy array and stack them - training\n",
    "numpy_arrays_train = [tensor.detach().numpy() for tensor in new_embedding_train]\n",
    "numpy_array_train = np.stack(numpy_arrays_train, axis=-1)  # this stacks along a new third dimension\n",
    "\n",
    "# Convert each tensor to a numpy array and stack them - validating\n",
    "numpy_arrays_val = [tensor.detach().numpy() for tensor in new_embedding_val]\n",
    "numpy_array_val = np.stack(numpy_arrays_val, axis=-1)  # this stacks along a new third dimension\n",
    "\n",
    "# Convert each tensor to a numpy array and stack them - test\n",
    "numpy_arrays_test = [tensor.detach().numpy() for tensor in new_embedding_test]\n",
    "numpy_array_test = np.stack(numpy_arrays_test, axis=-1)  # this stacks along a new third dimension"
   ],
   "metadata": {
    "collapsed": false,
    "pycharm": {
     "name": "#%%\n"
    }
   }
  },
  {
   "cell_type": "code",
   "execution_count": 505,
   "outputs": [],
   "source": [
    "new_df_train = pd.DataFrame(numpy_array_train[0])\n",
    "new_df_train = new_df_train.transpose()\n",
    "\n",
    "new_df_val = pd.DataFrame(numpy_array_val[0])\n",
    "new_df_val = new_df_val.transpose()\n",
    "\n",
    "new_df_test = pd.DataFrame(numpy_array_test[0])\n",
    "new_df_test = new_df_test.transpose()"
   ],
   "metadata": {
    "collapsed": false,
    "pycharm": {
     "name": "#%%\n"
    }
   }
  },
  {
   "cell_type": "code",
   "execution_count": 506,
   "outputs": [],
   "source": [
    "df_temp_train = df_temp_train.reset_index(drop=True)\n",
    "df_temp_val = df_temp_val.reset_index(drop=True)\n",
    "df_temp_test = df_temp_test.reset_index(drop=True)"
   ],
   "metadata": {
    "collapsed": false,
    "pycharm": {
     "name": "#%%\n"
    }
   }
  },
  {
   "cell_type": "code",
   "execution_count": 507,
   "outputs": [
    {
     "data": {
      "text/plain": "   seq_time_id  event      time\n0     2.335451    1.0  0.473661\n1     8.687438    0.0  8.687438\n2     2.658526    1.0  2.234147\n3     8.881831    1.0  0.095827\n4     4.627095    1.0  1.311466",
      "text/html": "<div>\n<style scoped>\n    .dataframe tbody tr th:only-of-type {\n        vertical-align: middle;\n    }\n\n    .dataframe tbody tr th {\n        vertical-align: top;\n    }\n\n    .dataframe thead th {\n        text-align: right;\n    }\n</style>\n<table border=\"1\" class=\"dataframe\">\n  <thead>\n    <tr style=\"text-align: right;\">\n      <th></th>\n      <th>seq_time_id</th>\n      <th>event</th>\n      <th>time</th>\n    </tr>\n  </thead>\n  <tbody>\n    <tr>\n      <th>0</th>\n      <td>2.335451</td>\n      <td>1.0</td>\n      <td>0.473661</td>\n    </tr>\n    <tr>\n      <th>1</th>\n      <td>8.687438</td>\n      <td>0.0</td>\n      <td>8.687438</td>\n    </tr>\n    <tr>\n      <th>2</th>\n      <td>2.658526</td>\n      <td>1.0</td>\n      <td>2.234147</td>\n    </tr>\n    <tr>\n      <th>3</th>\n      <td>8.881831</td>\n      <td>1.0</td>\n      <td>0.095827</td>\n    </tr>\n    <tr>\n      <th>4</th>\n      <td>4.627095</td>\n      <td>1.0</td>\n      <td>1.311466</td>\n    </tr>\n  </tbody>\n</table>\n</div>"
     },
     "execution_count": 507,
     "metadata": {},
     "output_type": "execute_result"
    }
   ],
   "source": [
    "df_temp_train.head()"
   ],
   "metadata": {
    "collapsed": false,
    "pycharm": {
     "name": "#%%\n"
    }
   }
  },
  {
   "cell_type": "code",
   "execution_count": 508,
   "outputs": [
    {
     "data": {
      "text/plain": "         0         1         2         3         4         5         6   \\\n0  1.126096  1.646644  2.172218 -1.636963  1.532910  1.346032 -1.430197   \n1 -1.209634 -1.543773 -1.981741  1.188085 -2.077871 -1.345008  1.293467   \n2  1.469509  1.940709  2.605440 -2.121652  2.022597  1.712738 -1.851819   \n3  0.407677  0.353925  0.672073 -0.300273  0.471352  0.429659 -0.495072   \n4 -0.692979 -0.826153 -1.060007  0.362258 -1.316869 -0.796186  0.868331   \n\n         7         8         9   ...        11        12        13        14  \\\n0 -0.195876 -1.533542  0.947405  ... -1.087480 -1.730880 -2.118882 -1.793941   \n1  0.188824  1.178440 -0.227062  ...  0.995066  1.418259  2.771489  1.714831   \n2 -0.362513 -1.838555  1.276778  ... -1.473474 -2.267964 -2.570660 -2.261028   \n3 -0.275170 -0.038910 -0.190123  ... -0.380610 -0.682533 -0.733835 -0.886241   \n4  0.174400  0.518022  0.215048  ...  0.664552  0.546628  1.720419  0.856709   \n\n         15        16        17        18        19        20  \n0 -1.690622 -1.845966  1.572547 -0.256498 -0.187671  0.747275  \n1  1.715206  0.722500 -1.818909  0.131576  0.596546 -0.118440  \n2 -2.055292 -2.418810  1.899886 -0.375268 -0.147550  0.921145  \n3 -0.722078 -0.067345  0.446472 -0.159605  0.105730  0.063958  \n4  1.081087  0.075821 -0.835077  0.011123  0.362890  0.182864  \n\n[5 rows x 21 columns]",
      "text/html": "<div>\n<style scoped>\n    .dataframe tbody tr th:only-of-type {\n        vertical-align: middle;\n    }\n\n    .dataframe tbody tr th {\n        vertical-align: top;\n    }\n\n    .dataframe thead th {\n        text-align: right;\n    }\n</style>\n<table border=\"1\" class=\"dataframe\">\n  <thead>\n    <tr style=\"text-align: right;\">\n      <th></th>\n      <th>0</th>\n      <th>1</th>\n      <th>2</th>\n      <th>3</th>\n      <th>4</th>\n      <th>5</th>\n      <th>6</th>\n      <th>7</th>\n      <th>8</th>\n      <th>9</th>\n      <th>...</th>\n      <th>11</th>\n      <th>12</th>\n      <th>13</th>\n      <th>14</th>\n      <th>15</th>\n      <th>16</th>\n      <th>17</th>\n      <th>18</th>\n      <th>19</th>\n      <th>20</th>\n    </tr>\n  </thead>\n  <tbody>\n    <tr>\n      <th>0</th>\n      <td>1.126096</td>\n      <td>1.646644</td>\n      <td>2.172218</td>\n      <td>-1.636963</td>\n      <td>1.532910</td>\n      <td>1.346032</td>\n      <td>-1.430197</td>\n      <td>-0.195876</td>\n      <td>-1.533542</td>\n      <td>0.947405</td>\n      <td>...</td>\n      <td>-1.087480</td>\n      <td>-1.730880</td>\n      <td>-2.118882</td>\n      <td>-1.793941</td>\n      <td>-1.690622</td>\n      <td>-1.845966</td>\n      <td>1.572547</td>\n      <td>-0.256498</td>\n      <td>-0.187671</td>\n      <td>0.747275</td>\n    </tr>\n    <tr>\n      <th>1</th>\n      <td>-1.209634</td>\n      <td>-1.543773</td>\n      <td>-1.981741</td>\n      <td>1.188085</td>\n      <td>-2.077871</td>\n      <td>-1.345008</td>\n      <td>1.293467</td>\n      <td>0.188824</td>\n      <td>1.178440</td>\n      <td>-0.227062</td>\n      <td>...</td>\n      <td>0.995066</td>\n      <td>1.418259</td>\n      <td>2.771489</td>\n      <td>1.714831</td>\n      <td>1.715206</td>\n      <td>0.722500</td>\n      <td>-1.818909</td>\n      <td>0.131576</td>\n      <td>0.596546</td>\n      <td>-0.118440</td>\n    </tr>\n    <tr>\n      <th>2</th>\n      <td>1.469509</td>\n      <td>1.940709</td>\n      <td>2.605440</td>\n      <td>-2.121652</td>\n      <td>2.022597</td>\n      <td>1.712738</td>\n      <td>-1.851819</td>\n      <td>-0.362513</td>\n      <td>-1.838555</td>\n      <td>1.276778</td>\n      <td>...</td>\n      <td>-1.473474</td>\n      <td>-2.267964</td>\n      <td>-2.570660</td>\n      <td>-2.261028</td>\n      <td>-2.055292</td>\n      <td>-2.418810</td>\n      <td>1.899886</td>\n      <td>-0.375268</td>\n      <td>-0.147550</td>\n      <td>0.921145</td>\n    </tr>\n    <tr>\n      <th>3</th>\n      <td>0.407677</td>\n      <td>0.353925</td>\n      <td>0.672073</td>\n      <td>-0.300273</td>\n      <td>0.471352</td>\n      <td>0.429659</td>\n      <td>-0.495072</td>\n      <td>-0.275170</td>\n      <td>-0.038910</td>\n      <td>-0.190123</td>\n      <td>...</td>\n      <td>-0.380610</td>\n      <td>-0.682533</td>\n      <td>-0.733835</td>\n      <td>-0.886241</td>\n      <td>-0.722078</td>\n      <td>-0.067345</td>\n      <td>0.446472</td>\n      <td>-0.159605</td>\n      <td>0.105730</td>\n      <td>0.063958</td>\n    </tr>\n    <tr>\n      <th>4</th>\n      <td>-0.692979</td>\n      <td>-0.826153</td>\n      <td>-1.060007</td>\n      <td>0.362258</td>\n      <td>-1.316869</td>\n      <td>-0.796186</td>\n      <td>0.868331</td>\n      <td>0.174400</td>\n      <td>0.518022</td>\n      <td>0.215048</td>\n      <td>...</td>\n      <td>0.664552</td>\n      <td>0.546628</td>\n      <td>1.720419</td>\n      <td>0.856709</td>\n      <td>1.081087</td>\n      <td>0.075821</td>\n      <td>-0.835077</td>\n      <td>0.011123</td>\n      <td>0.362890</td>\n      <td>0.182864</td>\n    </tr>\n  </tbody>\n</table>\n<p>5 rows × 21 columns</p>\n</div>"
     },
     "execution_count": 508,
     "metadata": {},
     "output_type": "execute_result"
    }
   ],
   "source": [
    "new_df_train.head()"
   ],
   "metadata": {
    "collapsed": false,
    "pycharm": {
     "name": "#%%\n"
    }
   }
  },
  {
   "cell_type": "code",
   "execution_count": 509,
   "outputs": [],
   "source": [
    "dataframe_for_survtrace_train = pd.concat([new_df_train, df_temp_train], axis=1)\n",
    "dataframe_for_survtrace_val = pd.concat([new_df_val, df_temp_val], axis=1)\n",
    "dataframe_for_survtrace_test = pd.concat([new_df_test, df_temp_test], axis=1)"
   ],
   "metadata": {
    "collapsed": false,
    "pycharm": {
     "name": "#%%\n"
    }
   }
  },
  {
   "cell_type": "code",
   "execution_count": 510,
   "outputs": [],
   "source": [
    "# new_embedding = []\n",
    "# for i in range(len(masks)):\n",
    "#     a = masks[i].unsqueeze(0)\n",
    "#     output = model(X_features_data_tensor[i], a)\n",
    "#     new_embedding.append(output)"
   ],
   "metadata": {
    "collapsed": false,
    "pycharm": {
     "name": "#%%\n"
    }
   }
  },
  {
   "cell_type": "code",
   "execution_count": 511,
   "outputs": [],
   "source": [
    "# # Convert each tensor to a numpy array and stack them\n",
    "# numpy_arrays = [tensor.detach().numpy() for tensor in new_embedding]\n",
    "# numpy_array = np.stack(numpy_arrays, axis=-1) # this stacks along a new third dimension"
   ],
   "metadata": {
    "collapsed": false,
    "pycharm": {
     "name": "#%%\n"
    }
   }
  },
  {
   "cell_type": "code",
   "execution_count": 512,
   "outputs": [],
   "source": [
    "# new_df = pd.DataFrame(numpy_array[0])\n",
    "# new_df = new_df.transpose()"
   ],
   "metadata": {
    "collapsed": false,
    "pycharm": {
     "name": "#%%\n"
    }
   }
  },
  {
   "cell_type": "code",
   "execution_count": 513,
   "outputs": [],
   "source": [
    "# dataframe_for_survtrace = pd.concat([new_df, df_y_train], axis=1)"
   ],
   "metadata": {
    "collapsed": false,
    "pycharm": {
     "name": "#%%\n"
    }
   }
  },
  {
   "cell_type": "code",
   "execution_count": 514,
   "outputs": [],
   "source": [
    "# dataframe_for_survtrace.head()"
   ],
   "metadata": {
    "collapsed": false,
    "pycharm": {
     "name": "#%%\n"
    }
   }
  },
  {
   "cell_type": "code",
   "execution_count": 515,
   "outputs": [],
   "source": [
    "# df_temp.head()"
   ],
   "metadata": {
    "collapsed": false,
    "pycharm": {
     "name": "#%%\n"
    }
   }
  },
  {
   "cell_type": "code",
   "execution_count": 516,
   "outputs": [
    {
     "data": {
      "text/plain": "          0         1         2         3         4         5         6  \\\n0  1.126096  1.646644  2.172218 -1.636963  1.532910  1.346032 -1.430197   \n1 -1.209634 -1.543773 -1.981741  1.188085 -2.077871 -1.345008  1.293467   \n2  1.469509  1.940709  2.605440 -2.121652  2.022597  1.712738 -1.851819   \n3  0.407677  0.353925  0.672073 -0.300273  0.471352  0.429659 -0.495072   \n4 -0.692979 -0.826153 -1.060007  0.362258 -1.316869 -0.796186  0.868331   \n\n          7         8         9  ...        14        15        16        17  \\\n0 -0.195876 -1.533542  0.947405  ... -1.793941 -1.690622 -1.845966  1.572547   \n1  0.188824  1.178440 -0.227062  ...  1.714831  1.715206  0.722500 -1.818909   \n2 -0.362513 -1.838555  1.276778  ... -2.261028 -2.055292 -2.418810  1.899886   \n3 -0.275170 -0.038910 -0.190123  ... -0.886241 -0.722078 -0.067345  0.446472   \n4  0.174400  0.518022  0.215048  ...  0.856709  1.081087  0.075821 -0.835077   \n\n         18        19        20  seq_time_id  event      time  \n0 -0.256498 -0.187671  0.747275     2.335451    1.0  0.473661  \n1  0.131576  0.596546 -0.118440     8.687438    0.0  8.687438  \n2 -0.375268 -0.147550  0.921145     2.658526    1.0  2.234147  \n3 -0.159605  0.105730  0.063958     8.881831    1.0  0.095827  \n4  0.011123  0.362890  0.182864     4.627095    1.0  1.311466  \n\n[5 rows x 24 columns]",
      "text/html": "<div>\n<style scoped>\n    .dataframe tbody tr th:only-of-type {\n        vertical-align: middle;\n    }\n\n    .dataframe tbody tr th {\n        vertical-align: top;\n    }\n\n    .dataframe thead th {\n        text-align: right;\n    }\n</style>\n<table border=\"1\" class=\"dataframe\">\n  <thead>\n    <tr style=\"text-align: right;\">\n      <th></th>\n      <th>0</th>\n      <th>1</th>\n      <th>2</th>\n      <th>3</th>\n      <th>4</th>\n      <th>5</th>\n      <th>6</th>\n      <th>7</th>\n      <th>8</th>\n      <th>9</th>\n      <th>...</th>\n      <th>14</th>\n      <th>15</th>\n      <th>16</th>\n      <th>17</th>\n      <th>18</th>\n      <th>19</th>\n      <th>20</th>\n      <th>seq_time_id</th>\n      <th>event</th>\n      <th>time</th>\n    </tr>\n  </thead>\n  <tbody>\n    <tr>\n      <th>0</th>\n      <td>1.126096</td>\n      <td>1.646644</td>\n      <td>2.172218</td>\n      <td>-1.636963</td>\n      <td>1.532910</td>\n      <td>1.346032</td>\n      <td>-1.430197</td>\n      <td>-0.195876</td>\n      <td>-1.533542</td>\n      <td>0.947405</td>\n      <td>...</td>\n      <td>-1.793941</td>\n      <td>-1.690622</td>\n      <td>-1.845966</td>\n      <td>1.572547</td>\n      <td>-0.256498</td>\n      <td>-0.187671</td>\n      <td>0.747275</td>\n      <td>2.335451</td>\n      <td>1.0</td>\n      <td>0.473661</td>\n    </tr>\n    <tr>\n      <th>1</th>\n      <td>-1.209634</td>\n      <td>-1.543773</td>\n      <td>-1.981741</td>\n      <td>1.188085</td>\n      <td>-2.077871</td>\n      <td>-1.345008</td>\n      <td>1.293467</td>\n      <td>0.188824</td>\n      <td>1.178440</td>\n      <td>-0.227062</td>\n      <td>...</td>\n      <td>1.714831</td>\n      <td>1.715206</td>\n      <td>0.722500</td>\n      <td>-1.818909</td>\n      <td>0.131576</td>\n      <td>0.596546</td>\n      <td>-0.118440</td>\n      <td>8.687438</td>\n      <td>0.0</td>\n      <td>8.687438</td>\n    </tr>\n    <tr>\n      <th>2</th>\n      <td>1.469509</td>\n      <td>1.940709</td>\n      <td>2.605440</td>\n      <td>-2.121652</td>\n      <td>2.022597</td>\n      <td>1.712738</td>\n      <td>-1.851819</td>\n      <td>-0.362513</td>\n      <td>-1.838555</td>\n      <td>1.276778</td>\n      <td>...</td>\n      <td>-2.261028</td>\n      <td>-2.055292</td>\n      <td>-2.418810</td>\n      <td>1.899886</td>\n      <td>-0.375268</td>\n      <td>-0.147550</td>\n      <td>0.921145</td>\n      <td>2.658526</td>\n      <td>1.0</td>\n      <td>2.234147</td>\n    </tr>\n    <tr>\n      <th>3</th>\n      <td>0.407677</td>\n      <td>0.353925</td>\n      <td>0.672073</td>\n      <td>-0.300273</td>\n      <td>0.471352</td>\n      <td>0.429659</td>\n      <td>-0.495072</td>\n      <td>-0.275170</td>\n      <td>-0.038910</td>\n      <td>-0.190123</td>\n      <td>...</td>\n      <td>-0.886241</td>\n      <td>-0.722078</td>\n      <td>-0.067345</td>\n      <td>0.446472</td>\n      <td>-0.159605</td>\n      <td>0.105730</td>\n      <td>0.063958</td>\n      <td>8.881831</td>\n      <td>1.0</td>\n      <td>0.095827</td>\n    </tr>\n    <tr>\n      <th>4</th>\n      <td>-0.692979</td>\n      <td>-0.826153</td>\n      <td>-1.060007</td>\n      <td>0.362258</td>\n      <td>-1.316869</td>\n      <td>-0.796186</td>\n      <td>0.868331</td>\n      <td>0.174400</td>\n      <td>0.518022</td>\n      <td>0.215048</td>\n      <td>...</td>\n      <td>0.856709</td>\n      <td>1.081087</td>\n      <td>0.075821</td>\n      <td>-0.835077</td>\n      <td>0.011123</td>\n      <td>0.362890</td>\n      <td>0.182864</td>\n      <td>4.627095</td>\n      <td>1.0</td>\n      <td>1.311466</td>\n    </tr>\n  </tbody>\n</table>\n<p>5 rows × 24 columns</p>\n</div>"
     },
     "execution_count": 516,
     "metadata": {},
     "output_type": "execute_result"
    }
   ],
   "source": [
    "dataframe_for_survtrace_train.head()"
   ],
   "metadata": {
    "collapsed": false,
    "pycharm": {
     "name": "#%%\n"
    }
   }
  },
  {
   "cell_type": "code",
   "execution_count": 517,
   "outputs": [
    {
     "name": "stdout",
     "output_type": "stream",
     "text": [
      "66\n"
     ]
    }
   ],
   "source": [
    "location_test = dataframe_for_survtrace_test.shape[0]\n",
    "print(location_test)"
   ],
   "metadata": {
    "collapsed": false,
    "pycharm": {
     "name": "#%%\n"
    }
   }
  },
  {
   "cell_type": "code",
   "execution_count": 518,
   "outputs": [],
   "source": [
    "dataframe_for_survtrace = pd.concat([dataframe_for_survtrace_test, dataframe_for_survtrace_val, dataframe_for_survtrace_train])\n",
    "dataframe_for_survtrace.columns = dataframe_for_survtrace.columns.astype(str)\n",
    "dataframe_for_survtrace = dataframe_for_survtrace.drop(columns=['seq_time_id'])\n",
    "dataframe_for_survtrace.rename(columns={'time': 'duration'}, inplace=True)"
   ],
   "metadata": {
    "collapsed": false,
    "pycharm": {
     "name": "#%%\n"
    }
   }
  },
  {
   "cell_type": "code",
   "execution_count": 519,
   "outputs": [
    {
     "data": {
      "text/plain": "Index(['0', '1', '2', '3', '4', '5', '6', '7', '8', '9', '10', '11', '12',\n       '13', '14', '15', '16', '17', '18', '19', '20', 'event', 'duration'],\n      dtype='object')"
     },
     "execution_count": 519,
     "metadata": {},
     "output_type": "execute_result"
    }
   ],
   "source": [
    "dataframe_for_survtrace.columns"
   ],
   "metadata": {
    "collapsed": false,
    "pycharm": {
     "name": "#%%\n"
    }
   }
  },
  {
   "cell_type": "code",
   "execution_count": 520,
   "outputs": [],
   "source": [
    "dataframe_for_survtrace = dataframe_for_survtrace.reset_index(drop=True)"
   ],
   "metadata": {
    "collapsed": false,
    "pycharm": {
     "name": "#%%\n"
    }
   }
  },
  {
   "cell_type": "code",
   "execution_count": 521,
   "outputs": [],
   "source": [
    "# dataframe_for_survtrace = pd.concat([dataframe_for_survtrace, df_temp['seq_time_id']], axis=1)"
   ],
   "metadata": {
    "collapsed": false,
    "pycharm": {
     "name": "#%%\n"
    }
   }
  },
  {
   "cell_type": "code",
   "execution_count": 522,
   "outputs": [],
   "source": [
    "# dataframe_for_survtrace.rename(columns={'proportion': 'proportion_1'}, inplace=True)\n",
    "# dataframe_for_survtrace.columns = dataframe_for_survtrace.columns.astype(str)"
   ],
   "metadata": {
    "collapsed": false,
    "pycharm": {
     "name": "#%%\n"
    }
   }
  },
  {
   "cell_type": "code",
   "execution_count": 523,
   "outputs": [],
   "source": [
    "# df_2 = dataframe_for_survtrace.drop(columns=['duration', 'proportion_1'])\n",
    "# df_2.rename(columns={'seq_time_id': 'duration'}, inplace=True)"
   ],
   "metadata": {
    "collapsed": false,
    "pycharm": {
     "name": "#%%\n"
    }
   }
  },
  {
   "cell_type": "code",
   "execution_count": 524,
   "outputs": [],
   "source": [
    "# df_2.info()"
   ],
   "metadata": {
    "collapsed": false,
    "pycharm": {
     "name": "#%%\n"
    }
   }
  },
  {
   "cell_type": "code",
   "execution_count": 525,
   "outputs": [],
   "source": [
    "from utils.covariate_data_processing import pbc2_proccess_covariate_firstsolution"
   ],
   "metadata": {
    "collapsed": false,
    "pycharm": {
     "name": "#%%\n"
    }
   }
  },
  {
   "cell_type": "code",
   "execution_count": 526,
   "outputs": [
    {
     "name": "stdout",
     "output_type": "stream",
     "text": [
      "0\n",
      "______\n",
      "21\n",
      "______\n",
      "0\n",
      "______\n",
      "21\n",
      "______\n",
      "0\n",
      "______\n",
      "[2.73792575e-03 1.00618771e-01 2.72423612e-01 7.07753806e-01\n",
      " 1.43056620e+01]\n",
      "______\n",
      "4\n"
     ]
    },
    {
     "name": "stderr",
     "output_type": "stream",
     "text": [
      "/Users/davidlee/Documents/GitHub/Surtimesurvival/SurvTRACE/survtrace/utils.py:78: UserWarning: Got event/censoring at start time. Should be removed! It is set s.t. it has no contribution to loss.\n",
      "  warnings.warn(\"\"\"Got event/censoring at start time. Should be removed! It is set s.t. it has no contribution to loss.\"\"\")\n"
     ]
    }
   ],
   "source": [
    "y, df, df_train, df_y_train, df_test, df_y_test, df_val, df_y_val = pbc2_proccess_covariate_firstsolution(dataframe_for_survtrace, location_test)"
   ],
   "metadata": {
    "collapsed": false,
    "pycharm": {
     "name": "#%%\n"
    }
   }
  },
  {
   "cell_type": "code",
   "execution_count": 527,
   "outputs": [],
   "source": [
    "from SurvTRACE.survtrace.utils import set_random_seed\n",
    "from SurvTRACE.survtrace.model import SurvTraceSingle\n",
    "from SurvTRACE.survtrace.config import STConfig\n",
    "from SurvTRACE.survtrace.train_utils import Trainer\n",
    "\n",
    "set_random_seed(STConfig['seed'])\n",
    "\n",
    "hparams = {\n",
    "    'batch_size': 16,\n",
    "    'weight_decay': 1e-4,\n",
    "    'learning_rate': 1e-3,\n",
    "    'epochs': 20,\n",
    "}"
   ],
   "metadata": {
    "collapsed": false,
    "pycharm": {
     "name": "#%%\n"
    }
   }
  },
  {
   "cell_type": "code",
   "execution_count": 528,
   "outputs": [
    {
     "name": "stdout",
     "output_type": "stream",
     "text": [
      "GPU not found! will use cpu for training!\n",
      "[Train-0]: 14.285359501838684\n",
      "[Val-0]: 1.176551342010498\n",
      "[Train-1]: 12.504767298698425\n",
      "[Val-1]: 1.2878910303115845\n",
      "EarlyStopping counter: 1 out of 5\n",
      "[Train-2]: 11.05053973197937\n",
      "[Val-2]: 1.2315373420715332\n",
      "EarlyStopping counter: 2 out of 5\n",
      "[Train-3]: 9.83653712272644\n",
      "[Val-3]: 1.4384995698928833\n",
      "EarlyStopping counter: 3 out of 5\n",
      "[Train-4]: 8.661112785339355\n",
      "[Val-4]: 1.2549031972885132\n",
      "EarlyStopping counter: 4 out of 5\n",
      "[Train-5]: 8.170238494873047\n",
      "[Val-5]: 0.9292528629302979\n",
      "[Train-6]: 7.0829132199287415\n",
      "[Val-6]: 0.8872213363647461\n",
      "[Train-7]: 7.209944307804108\n",
      "[Val-7]: 0.8698325753211975\n",
      "[Train-8]: 6.887489378452301\n",
      "[Val-8]: 0.9541940689086914\n",
      "EarlyStopping counter: 1 out of 5\n",
      "[Train-9]: 6.968976318836212\n",
      "[Val-9]: 0.8996212482452393\n",
      "EarlyStopping counter: 2 out of 5\n",
      "[Train-10]: 7.186865270137787\n",
      "[Val-10]: 0.849778413772583\n",
      "[Train-11]: 6.8765586614608765\n",
      "[Val-11]: 0.8309640288352966\n",
      "[Train-12]: 6.555235147476196\n",
      "[Val-12]: 0.8112810850143433\n",
      "[Train-13]: 6.9120999574661255\n",
      "[Val-13]: 0.8099890351295471\n",
      "[Train-14]: 6.98519903421402\n",
      "[Val-14]: 0.8840831518173218\n",
      "EarlyStopping counter: 1 out of 5\n",
      "[Train-15]: 6.744961261749268\n",
      "[Val-15]: 0.8699934482574463\n",
      "EarlyStopping counter: 2 out of 5\n",
      "[Train-16]: 6.4111118614673615\n",
      "[Val-16]: 0.8591532707214355\n",
      "EarlyStopping counter: 3 out of 5\n",
      "[Train-17]: 6.463803321123123\n",
      "[Val-17]: 0.8490291237831116\n",
      "EarlyStopping counter: 4 out of 5\n",
      "[Train-18]: 7.114910364151001\n",
      "[Val-18]: 0.8418734073638916\n",
      "EarlyStopping counter: 5 out of 5\n",
      "early stops at epoch 19\n"
     ]
    }
   ],
   "source": [
    "# get model\n",
    "model = SurvTraceSingle(STConfig)\n",
    "\n",
    "# initialize a trainer\n",
    "trainer = Trainer(model)\n",
    "train_loss, val_loss = trainer.fit(train_set=(df_train, df_y_train), val_set=(df_val, df_y_val),\n",
    "                                   batch_size=hparams['batch_size'],\n",
    "                                   epochs=hparams['epochs'],\n",
    "                                   learning_rate=hparams['learning_rate'],\n",
    "                                   weight_decay=hparams['weight_decay'], )"
   ],
   "metadata": {
    "collapsed": false,
    "pycharm": {
     "name": "#%%\n"
    }
   }
  },
  {
   "cell_type": "code",
   "execution_count": 529,
   "outputs": [
    {
     "name": "stdout",
     "output_type": "stream",
     "text": [
      "******************************\n",
      "start evaluation\n",
      "******************************\n",
      "For 0.25 quantile,\n",
      "TD Concordance Index - IPCW: 0.9846153846153847\n",
      "Brier Score: 0.030192033552973015\n",
      "For 0.5 quantile,\n",
      "TD Concordance Index - IPCW: 0.8214936247723132\n",
      "Brier Score: 0.10959206462068709\n",
      "For 0.75 quantile,\n",
      "TD Concordance Index - IPCW: 0.8435462842242504\n",
      "Brier Score: 0.15762614726877233\n",
      "done\n"
     ]
    }
   ],
   "source": [
    "# evaluate model\n",
    "from SurvTRACE.survtrace.evaluate_utils import Evaluator\n",
    "\n",
    "evaluator = Evaluator(df, df_train.index)\n",
    "evaluator.eval(model, (df_test, df_y_test))\n",
    "print(\"done\")"
   ],
   "metadata": {
    "collapsed": false,
    "pycharm": {
     "name": "#%%\n"
    }
   }
  },
  {
   "cell_type": "code",
   "execution_count": 530,
   "outputs": [
    {
     "data": {
      "text/plain": "<Figure size 640x480 with 1 Axes>",
      "image/png": "[encoded data removed]"
     },
     "metadata": {},
     "output_type": "display_data"
    }
   ],
   "source": [
    "import matplotlib.pyplot as plt\n",
    "\n",
    "plt.plot(train_loss, label='train')\n",
    "plt.plot(val_loss, label='val')\n",
    "plt.legend(fontsize=20)\n",
    "plt.xlabel('epoch', fontsize=20)\n",
    "plt.ylabel('loss', fontsize=20)\n",
    "plt.show()"
   ],
   "metadata": {
    "collapsed": false,
    "pycharm": {
     "name": "#%%\n"
    }
   }
  },
  {
   "cell_type": "code",
   "execution_count": null,
   "outputs": [],
   "source": [],
   "metadata": {
    "collapsed": false,
    "pycharm": {
     "name": "#%%\n"
    }
   }
  }
 ],
 "metadata": {
  "kernelspec": {
   "display_name": "Python 3",
   "language": "python",
   "name": "python3"
  },
  "language_info": {
   "codemirror_mode": {
    "name": "ipython",
    "version": 2
   },
   "file_extension": ".py",
   "mimetype": "text/x-python",
   "name": "python",
   "nbconvert_exporter": "python",
   "pygments_lexer": "ipython2",
   "version": "2.7.6"
  }
 },
 "nbformat": 4,
 "nbformat_minor": 0
}