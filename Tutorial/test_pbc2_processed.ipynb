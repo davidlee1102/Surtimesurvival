{
 "cells": [
  {
   "cell_type": "code",
   "execution_count": 1,
   "metadata": {
    "collapsed": true,
    "pycharm": {
     "name": "#%%\n"
    }
   },
   "outputs": [],
   "source": [
    "import math\n",
    "import os\n",
    "import random\n",
    "import itertools\n",
    "\n",
    "import numpy as np\n",
    "import pandas as pd\n",
    "import tensorflow as tf\n",
    "import matplotlib.pyplot as plt\n",
    "\n",
    "from tensorflow.keras import layers\n",
    "from tensorflow.keras.callbacks import EarlyStopping\n",
    "from tensorflow.keras.models import Model, Sequential\n",
    "from tensorflow.keras.preprocessing.sequence import pad_sequences\n",
    "from IPython.display import clear_output\n",
    "from auton_survival import datasets, preprocessing, models\n",
    "from sklearn.model_selection import train_test_split\n",
    "\n",
    "import torch\n",
    "from torch import nn, matmul\n",
    "from torch.nn.functional import softmax\n",
    "\n",
    "clear_output()"
   ]
  },
  {
   "cell_type": "code",
   "execution_count": 2,
   "outputs": [],
   "source": [
    "# define the setup parameters\n",
    "import matplotlib.pyplot as plt\n",
    "\n",
    "from SurvTRACE.survtrace.dataset import load_data\n",
    "from SurvTRACE.survtrace.evaluate_utils import Evaluator\n",
    "from SurvTRACE.survtrace.utils import set_random_seed\n",
    "from SurvTRACE.survtrace.model import SurvTraceSingle\n",
    "from SurvTRACE.survtrace.train_utils import Trainer\n",
    "from SurvTRACE.survtrace.config import STConfig\n",
    "\n",
    "STConfig['data'] = 'metabric'\n",
    "# STConfig['duration_index'] = [0.11225496, 2.06987187, 3.72357902, 6.68738364, 14.30566203]\n",
    "\n",
    "\n",
    "set_random_seed(STConfig['seed'])\n",
    "\n",
    "hparams = {\n",
    "    'batch_size': 2,\n",
    "    'weight_decay': 1e-4,\n",
    "    'learning_rate': 1e-3,\n",
    "    'epochs': 1,\n",
    "}"
   ],
   "metadata": {
    "collapsed": false,
    "pycharm": {
     "name": "#%%\n"
    }
   }
  },
  {
   "cell_type": "code",
   "execution_count": 3,
   "outputs": [],
   "source": [
    "df = pd.read_csv('/Users/davidlee/Downloads/PBC2_embedded.csv')"
   ],
   "metadata": {
    "collapsed": false,
    "pycharm": {
     "name": "#%%\n"
    }
   }
  },
  {
   "cell_type": "code",
   "execution_count": 4,
   "outputs": [
    {
     "data": {
      "text/plain": "          0         1         2         3         4         5         6  \\\n0 -0.640790  8.601443 -0.821111 -0.821115 -0.821100 -0.821370 -0.821102   \n1  2.690124  6.514240 -1.052684 -1.052686 -1.052673 -1.052895 -1.052674   \n2  0.362566  7.969614 -0.890715 -0.890719 -0.890704 -0.890959 -0.890706   \n3  1.734989  7.121678 -0.987260 -0.987262 -0.987248 -0.987484 -0.987250   \n4  1.305060  7.377329 -0.955973 -0.955976 -0.955962 -0.956203 -0.955964   \n\n          7         8         9  ...        13        14        15        16  \\\n0 -0.821252 -0.821242 -0.821124  ... -0.821124 -0.821170 -0.821111 -0.821121   \n1 -1.052777 -1.052789 -1.052690  ... -1.052690 -1.052723 -1.052681 -1.052690   \n2 -0.890842 -0.890838 -0.890726  ... -0.890726 -0.890769 -0.890714 -0.890724   \n3 -0.987367 -0.987372 -0.987268  ... -0.987267 -0.987305 -0.987257 -0.987267   \n4 -0.956086 -0.956089 -0.955982  ... -0.955982 -0.956021 -0.955971 -0.955980   \n\n         17        18        19        20  event   duration  \n0 -0.821300 -0.821092 -0.821129 -0.821197    1.0   1.095170  \n1 -1.052828 -1.052666 -1.052695 -1.052747    0.0  14.152338  \n2 -0.890891 -0.890697 -0.890731 -0.890795    1.0   2.770781  \n3 -0.987417 -0.987242 -0.987273 -0.987329    1.0   5.270507  \n4 -0.956136 -0.955955 -0.955987 -0.956046    0.0   4.120578  \n\n[5 rows x 23 columns]",
      "text/html": "<div>\n<style scoped>\n    .dataframe tbody tr th:only-of-type {\n        vertical-align: middle;\n    }\n\n    .dataframe tbody tr th {\n        vertical-align: top;\n    }\n\n    .dataframe thead th {\n        text-align: right;\n    }\n</style>\n<table border=\"1\" class=\"dataframe\">\n  <thead>\n    <tr style=\"text-align: right;\">\n      <th></th>\n      <th>0</th>\n      <th>1</th>\n      <th>2</th>\n      <th>3</th>\n      <th>4</th>\n      <th>5</th>\n      <th>6</th>\n      <th>7</th>\n      <th>8</th>\n      <th>9</th>\n      <th>...</th>\n      <th>13</th>\n      <th>14</th>\n      <th>15</th>\n      <th>16</th>\n      <th>17</th>\n      <th>18</th>\n      <th>19</th>\n      <th>20</th>\n      <th>event</th>\n      <th>duration</th>\n    </tr>\n  </thead>\n  <tbody>\n    <tr>\n      <th>0</th>\n      <td>-0.640790</td>\n      <td>8.601443</td>\n      <td>-0.821111</td>\n      <td>-0.821115</td>\n      <td>-0.821100</td>\n      <td>-0.821370</td>\n      <td>-0.821102</td>\n      <td>-0.821252</td>\n      <td>-0.821242</td>\n      <td>-0.821124</td>\n      <td>...</td>\n      <td>-0.821124</td>\n      <td>-0.821170</td>\n      <td>-0.821111</td>\n      <td>-0.821121</td>\n      <td>-0.821300</td>\n      <td>-0.821092</td>\n      <td>-0.821129</td>\n      <td>-0.821197</td>\n      <td>1.0</td>\n      <td>1.095170</td>\n    </tr>\n    <tr>\n      <th>1</th>\n      <td>2.690124</td>\n      <td>6.514240</td>\n      <td>-1.052684</td>\n      <td>-1.052686</td>\n      <td>-1.052673</td>\n      <td>-1.052895</td>\n      <td>-1.052674</td>\n      <td>-1.052777</td>\n      <td>-1.052789</td>\n      <td>-1.052690</td>\n      <td>...</td>\n      <td>-1.052690</td>\n      <td>-1.052723</td>\n      <td>-1.052681</td>\n      <td>-1.052690</td>\n      <td>-1.052828</td>\n      <td>-1.052666</td>\n      <td>-1.052695</td>\n      <td>-1.052747</td>\n      <td>0.0</td>\n      <td>14.152338</td>\n    </tr>\n    <tr>\n      <th>2</th>\n      <td>0.362566</td>\n      <td>7.969614</td>\n      <td>-0.890715</td>\n      <td>-0.890719</td>\n      <td>-0.890704</td>\n      <td>-0.890959</td>\n      <td>-0.890706</td>\n      <td>-0.890842</td>\n      <td>-0.890838</td>\n      <td>-0.890726</td>\n      <td>...</td>\n      <td>-0.890726</td>\n      <td>-0.890769</td>\n      <td>-0.890714</td>\n      <td>-0.890724</td>\n      <td>-0.890891</td>\n      <td>-0.890697</td>\n      <td>-0.890731</td>\n      <td>-0.890795</td>\n      <td>1.0</td>\n      <td>2.770781</td>\n    </tr>\n    <tr>\n      <th>3</th>\n      <td>1.734989</td>\n      <td>7.121678</td>\n      <td>-0.987260</td>\n      <td>-0.987262</td>\n      <td>-0.987248</td>\n      <td>-0.987484</td>\n      <td>-0.987250</td>\n      <td>-0.987367</td>\n      <td>-0.987372</td>\n      <td>-0.987268</td>\n      <td>...</td>\n      <td>-0.987267</td>\n      <td>-0.987305</td>\n      <td>-0.987257</td>\n      <td>-0.987267</td>\n      <td>-0.987417</td>\n      <td>-0.987242</td>\n      <td>-0.987273</td>\n      <td>-0.987329</td>\n      <td>1.0</td>\n      <td>5.270507</td>\n    </tr>\n    <tr>\n      <th>4</th>\n      <td>1.305060</td>\n      <td>7.377329</td>\n      <td>-0.955973</td>\n      <td>-0.955976</td>\n      <td>-0.955962</td>\n      <td>-0.956203</td>\n      <td>-0.955964</td>\n      <td>-0.956086</td>\n      <td>-0.956089</td>\n      <td>-0.955982</td>\n      <td>...</td>\n      <td>-0.955982</td>\n      <td>-0.956021</td>\n      <td>-0.955971</td>\n      <td>-0.955980</td>\n      <td>-0.956136</td>\n      <td>-0.955955</td>\n      <td>-0.955987</td>\n      <td>-0.956046</td>\n      <td>0.0</td>\n      <td>4.120578</td>\n    </tr>\n  </tbody>\n</table>\n<p>5 rows × 23 columns</p>\n</div>"
     },
     "execution_count": 4,
     "metadata": {},
     "output_type": "execute_result"
    }
   ],
   "source": [
    "df.head()"
   ],
   "metadata": {
    "collapsed": false,
    "pycharm": {
     "name": "#%%\n"
    }
   }
  },
  {
   "cell_type": "code",
   "execution_count": 5,
   "outputs": [],
   "source": [
    "import pandas as pd\n",
    "from SurvTRACE.survtrace.utils import LabelTransform\n",
    "from sklearn.preprocessing import KBinsDiscretizer, LabelEncoder, StandardScaler"
   ],
   "metadata": {
    "collapsed": false,
    "pycharm": {
     "name": "#%%\n"
    }
   }
  },
  {
   "cell_type": "code",
   "execution_count": 6,
   "outputs": [],
   "source": [
    "import numpy as np\n",
    "from SurvTRACE.survtrace.config import STConfig\n",
    "def test_pbc2(df):\n",
    "  get_target = lambda df: (df['duration'].values, df['event'].values)\n",
    "  horizons = [.25, .5, .75]\n",
    "  times = np.quantile(df[\"duration\"][df[\"event\"]==1.0], horizons).tolist()\n",
    "\n",
    "  # cols_standardize = [\"seq_temporal_SGOT\", \"seq_temporal_age\", \"seq_temporal_albumin\", \"seq_temporal_alkaline\", \"seq_temporal_platelets\", \"seq_temporal_prothrombin\", \"seq_temporal_serBilir\", \"seq_temporal_serChol\"]\n",
    "  # cols_categorical = [\"seq_static_sex\", \"seq_temporal_ascites\", \"seq_temporal_drug\", \"seq_temporal_edema\", \"seq_temporal_hepatomegaly\", \"seq_temporal_histologic\", \"seq_temporal_spiders\"]\n",
    "\n",
    "  # cols_standardize = [\"seq_temporal_SGOT\", \"seq_temporal_age\", \"seq_temporal_albumin\", \"seq_temporal_alkaline\", \"seq_temporal_platelets\", \"seq_temporal_prothrombin\", \"seq_temporal_serBilir\", \"seq_temporal_serChol\"]\n",
    "  # cols_categorical = ['seq_static_sex_1.0', 'seq_temporal_ascites_1.0', 'seq_temporal_ascites_2.0', 'seq_temporal_drug_1.0', 'seq_temporal_edema_1.0', 'seq_temporal_edema_2.0', 'seq_temporal_hepatomegaly_1.0', 'seq_temporal_hepatomegaly_2.0', 'seq_temporal_histologic_1.0', 'seq_temporal_histologic_2.0', 'seq_temporal_histologic_3.0', 'seq_temporal_spiders_1.0', 'seq_temporal_spiders_2.0']\n",
    "\n",
    "  cols_standardize = ['0','1','2','3','4','5','6','7','8','9','10','11','12','13','14','15','16','17','18','19','20']\n",
    "  cols_categorical = []\n",
    "\n",
    "  df_feat = df.drop([\"duration\",\"event\"],axis=1)\n",
    "  df_feat_standardize = df_feat[cols_standardize]\n",
    "  df_feat_standardize_disc = StandardScaler().fit_transform(df_feat_standardize)\n",
    "  df_feat_standardize_disc = pd.DataFrame(df_feat_standardize_disc, columns=cols_standardize)\n",
    "\n",
    "  # must be categorical feature ahead of numerical features!\n",
    "  df_feat = pd.concat([df_feat[cols_categorical], df_feat_standardize_disc], axis=1)\n",
    "\n",
    "  vocab_size = 0\n",
    "  for _,feat in enumerate(cols_categorical):\n",
    "      df_feat[feat] = LabelEncoder().fit_transform(df_feat[feat]).astype(float) + vocab_size\n",
    "      vocab_size = df_feat[feat].max() + 1\n",
    "  print(vocab_size)\n",
    "\n",
    "  # get the largest duraiton time\n",
    "  max_duration_idx = df[\"duration\"].argmax()\n",
    "  # df_test = df_feat.drop(max_duration_idx).sample(frac=0.2)\n",
    "  # df_train = df_feat.drop(df_test.index)\n",
    "  # df_val = df_train.drop(max_duration_idx).sample(frac=0.2)\n",
    "  # df_train = df_train.drop(df_val.index)\n",
    "\n",
    "\n",
    "  # # Hung edited here\n",
    "  df_train = df_feat.iloc[125:] #\n",
    "  df_train = df_train.sample(frac=1)\n",
    "\n",
    "  df_remaining = df_feat.iloc[:124] #\n",
    "  df_remaining = df_remaining.sample(frac=1)\n",
    "\n",
    "  # Now let's say you want to split the remaining data into test and validation sets\n",
    "  df_test = df_remaining.sample(frac=0.5) # 20% of the training data for testing\n",
    "  df_val = df_remaining.drop(df_test.index) # 20% of the training data for validating\n",
    "\n",
    "\n",
    "  # assign cuts\n",
    "  labtrans = LabelTransform(cuts=np.array([df[\"duration\"].min()]+times+[df[\"duration\"].max()]))\n",
    "  labtrans.fit(*get_target(df.loc[df_train.index]))\n",
    "  y = labtrans.transform(*get_target(df)) # y = (discrete duration, event indicator)\n",
    "  df_y_train = pd.DataFrame({\"duration\": y[0][df_train.index], \"event\": y[1][df_train.index], \"proportion\": y[2][df_train.index]}, index=df_train.index)\n",
    "  df_y_val = pd.DataFrame({\"duration\": y[0][df_val.index], \"event\": y[1][df_val.index],  \"proportion\": y[2][df_val.index]}, index=df_val.index)\n",
    "  # df_y_test = pd.DataFrame({\"duration\": y[0][df_test.index], \"event\": y[1][df_test.index],  \"proportion\": y[2][df_test.index]}, index=df_test.index)\n",
    "  df_y_test = pd.DataFrame({\"duration\": df['duration'].loc[df_test.index], \"event\": df['event'].loc[df_test.index]})\n",
    "  STConfig['labtrans'] = labtrans\n",
    "  STConfig['num_numerical_feature'] = int(len(cols_standardize))\n",
    "  STConfig['num_categorical_feature'] = int(len(cols_categorical))\n",
    "  STConfig['num_feature'] = int(len(df_train.columns))\n",
    "  STConfig['vocab_size'] = int(vocab_size)\n",
    "  STConfig['duration_index'] = labtrans.cuts\n",
    "  STConfig['out_feature'] = int(labtrans.out_features)\n",
    "  print(\"______\")\n",
    "  print(int(len(cols_standardize)))\n",
    "  print(\"______\")\n",
    "  print(int(len(cols_categorical)))\n",
    "  print(\"______\")\n",
    "  print(int(len(df_train.columns)))\n",
    "  print(\"______\")\n",
    "  print(int(vocab_size))\n",
    "  print(\"______\")\n",
    "  print(labtrans.cuts)\n",
    "  print(\"______\")\n",
    "  print(int(labtrans.out_features))\n",
    "\n",
    "  return y, df, df_train, df_y_train, df_test, df_y_test, df_val, df_y_val"
   ],
   "metadata": {
    "collapsed": false,
    "pycharm": {
     "name": "#%%\n"
    }
   }
  },
  {
   "cell_type": "code",
   "execution_count": 7,
   "outputs": [
    {
     "name": "stdout",
     "output_type": "stream",
     "text": [
      "0\n",
      "______\n",
      "21\n",
      "______\n",
      "0\n",
      "______\n",
      "21\n",
      "______\n",
      "0\n",
      "______\n",
      "[ 0.11225496  2.06987187  3.72357902  6.68738364 14.30566203]\n",
      "______\n",
      "4\n"
     ]
    },
    {
     "name": "stderr",
     "output_type": "stream",
     "text": [
      "/Users/davidlee/Documents/GitHub/Surtimesurvival/SurvTRACE/survtrace/utils.py:78: UserWarning: Got event/censoring at start time. Should be removed! It is set s.t. it has no contribution to loss.\n",
      "  warnings.warn(\"\"\"Got event/censoring at start time. Should be removed! It is set s.t. it has no contribution to loss.\"\"\")\n"
     ]
    }
   ],
   "source": [
    "y, df, df_train, df_y_train, df_test, df_y_test, df_val, df_y_val = test_pbc2(df)"
   ],
   "metadata": {
    "collapsed": false,
    "pycharm": {
     "name": "#%%\n"
    }
   }
  },
  {
   "cell_type": "code",
   "execution_count": 8,
   "outputs": [
    {
     "name": "stdout",
     "output_type": "stream",
     "text": [
      "GPU not found! will use cpu for training!\n",
      "train with single event\n",
      "torch.Size([16, 0])\n",
      "torch.Size([16, 21])\n",
      "torch.Size([16, 0])\n",
      "torch.Size([16, 21])\n",
      "torch.Size([16, 0])\n",
      "torch.Size([16, 21])\n",
      "torch.Size([16, 0])\n",
      "torch.Size([16, 21])\n",
      "torch.Size([16, 0])\n",
      "torch.Size([16, 21])\n",
      "torch.Size([16, 0])\n",
      "torch.Size([16, 21])\n",
      "torch.Size([16, 0])\n",
      "torch.Size([16, 21])\n",
      "torch.Size([16, 0])\n",
      "torch.Size([16, 21])\n",
      "torch.Size([16, 0])\n",
      "torch.Size([16, 21])\n",
      "torch.Size([16, 0])\n",
      "torch.Size([16, 21])\n",
      "torch.Size([16, 0])\n",
      "torch.Size([16, 21])\n",
      "torch.Size([11, 0])\n",
      "torch.Size([11, 21])\n",
      "[Train-0]: 21.360479593276978\n",
      "[Val-0]: 1.9090708494186401\n"
     ]
    },
    {
     "name": "stderr",
     "output_type": "stream",
     "text": [
      "/Users/davidlee/Documents/GitHub/Surtimesurvival/SurvTRACE/survtrace/train_utils.py:216: UserWarning: This overload of add_ is deprecated:\n",
      "\tadd_(Number alpha, Tensor other)\n",
      "Consider using one of the following signatures instead:\n",
      "\tadd_(Tensor other, *, Number alpha) (Triggered internally at /Users/runner/work/pytorch/pytorch/pytorch/torch/csrc/utils/python_arg_parser.cpp:1485.)\n",
      "  next_m.mul_(beta1).add_(1 - beta1, grad)\n"
     ]
    }
   ],
   "source": [
    "# get model\n",
    "model = SurvTraceSingle(STConfig)\n",
    "\n",
    "# initialize a trainer\n",
    "trainer = Trainer(model)\n",
    "train_loss, val_loss = trainer.fit((df_train, df_y_train), (df_val, df_y_val),\n",
    "        batch_size=16,\n",
    "        epochs=hparams['epochs'],\n",
    "        learning_rate=hparams['learning_rate'],\n",
    "        weight_decay=hparams['weight_decay'],)"
   ],
   "metadata": {
    "collapsed": false,
    "pycharm": {
     "name": "#%%\n"
    }
   }
  },
  {
   "cell_type": "code",
   "execution_count": null,
   "outputs": [],
   "source": [],
   "metadata": {
    "collapsed": false,
    "pycharm": {
     "name": "#%%\n"
    }
   }
  }
 ],
 "metadata": {
  "kernelspec": {
   "display_name": "Python 3",
   "language": "python",
   "name": "python3"
  },
  "language_info": {
   "codemirror_mode": {
    "name": "ipython",
    "version": 2
   },
   "file_extension": ".py",
   "mimetype": "text/x-python",
   "name": "python",
   "nbconvert_exporter": "python",
   "pygments_lexer": "ipython2",
   "version": "2.7.6"
  }
 },
 "nbformat": 4,
 "nbformat_minor": 0
}