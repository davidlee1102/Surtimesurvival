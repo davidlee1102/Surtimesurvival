{
 "cells": [
  {
   "cell_type": "code",
   "execution_count": 26,
   "metadata": {
    "collapsed": true
   },
   "outputs": [],
   "source": [
    "import torch\n",
    "import pandas as pd\n",
    "\n",
    "from torch.utils.data import TensorDataset, DataLoader\n",
    "from sklearn.model_selection import train_test_split\n",
    "\n",
    "from SurvTRACE.survtrace.utils import set_random_seed\n",
    "from SurvTRACE.survtrace.config import STConfig\n",
    "\n",
    "\n",
    "from utils.covariate_data_processing import pbc2_proccess_covariate, padded_mask_processing"
   ]
  },
  {
   "cell_type": "code",
   "execution_count": 7,
   "outputs": [],
   "source": [
    "# define the setup parameters - we want to extend the metabric config to save the time, all different in PBC2 will be changed by our functions\n",
    "STConfig['data'] = 'metabric'\n",
    "\n",
    "set_random_seed(STConfig['seed'])\n",
    "\n",
    "hparams = {\n",
    "    'batch_size': 64,\n",
    "    'weight_decay': 1e-4,\n",
    "    'learning_rate': 1e-3,\n",
    "    'epochs': 20,\n",
    "}"
   ],
   "metadata": {
    "collapsed": false
   }
  },
  {
   "cell_type": "code",
   "execution_count": 8,
   "outputs": [],
   "source": [
    "df = pd.read_csv(\"/Users/davidlee/Documents/GitHub/Surtimesurvival/Data Project/Pycox Lib/PBC2 Convariate Data/pbc2_data_proccessed_auton_covariate.csv\")"
   ],
   "metadata": {
    "collapsed": false
   }
  },
  {
   "cell_type": "code",
   "execution_count": 9,
   "outputs": [],
   "source": [
    "df_temp = df.loc[0:, ['seq_id', 'seq_time_id']]\n",
    "df_event_time_temp = df.loc[0:, ['event', 'time']]\n",
    "df = df.drop(columns=['seq_id', 'seq_time_id'])"
   ],
   "metadata": {
    "collapsed": false
   }
  },
  {
   "cell_type": "code",
   "execution_count": 10,
   "outputs": [
    {
     "data": {
      "text/plain": "   seq_id  seq_time_id\n0       0     0.569489\n1       0     1.095170\n2       1     5.319790\n3       1     6.261636\n4       1     7.266455",
      "text/html": "<div>\n<style scoped>\n    .dataframe tbody tr th:only-of-type {\n        vertical-align: middle;\n    }\n\n    .dataframe tbody tr th {\n        vertical-align: top;\n    }\n\n    .dataframe thead th {\n        text-align: right;\n    }\n</style>\n<table border=\"1\" class=\"dataframe\">\n  <thead>\n    <tr style=\"text-align: right;\">\n      <th></th>\n      <th>seq_id</th>\n      <th>seq_time_id</th>\n    </tr>\n  </thead>\n  <tbody>\n    <tr>\n      <th>0</th>\n      <td>0</td>\n      <td>0.569489</td>\n    </tr>\n    <tr>\n      <th>1</th>\n      <td>0</td>\n      <td>1.095170</td>\n    </tr>\n    <tr>\n      <th>2</th>\n      <td>1</td>\n      <td>5.319790</td>\n    </tr>\n    <tr>\n      <th>3</th>\n      <td>1</td>\n      <td>6.261636</td>\n    </tr>\n    <tr>\n      <th>4</th>\n      <td>1</td>\n      <td>7.266455</td>\n    </tr>\n  </tbody>\n</table>\n</div>"
     },
     "execution_count": 10,
     "metadata": {},
     "output_type": "execute_result"
    }
   ],
   "source": [
    "df_temp.head()"
   ],
   "metadata": {
    "collapsed": false
   }
  },
  {
   "cell_type": "code",
   "execution_count": 11,
   "outputs": [
    {
     "name": "stdout",
     "output_type": "stream",
     "text": [
      "<class 'pandas.core.frame.DataFrame'>\n",
      "RangeIndex: 1945 entries, 0 to 1944\n",
      "Data columns (total 23 columns):\n",
      " #   Column                         Non-Null Count  Dtype  \n",
      "---  ------                         --------------  -----  \n",
      " 0   event                          1945 non-null   float64\n",
      " 1   time                           1945 non-null   float64\n",
      " 2   seq_temporal_SGOT              1945 non-null   float64\n",
      " 3   seq_temporal_age               1945 non-null   float64\n",
      " 4   seq_temporal_albumin           1945 non-null   float64\n",
      " 5   seq_temporal_alkaline          1945 non-null   float64\n",
      " 6   seq_temporal_platelets         1945 non-null   float64\n",
      " 7   seq_temporal_prothrombin       1945 non-null   float64\n",
      " 8   seq_temporal_serBilir          1945 non-null   float64\n",
      " 9   seq_temporal_serChol           1945 non-null   float64\n",
      " 10  seq_static_sex_1.0             1945 non-null   int64  \n",
      " 11  seq_temporal_ascites_1.0       1945 non-null   int64  \n",
      " 12  seq_temporal_ascites_2.0       1945 non-null   int64  \n",
      " 13  seq_temporal_drug_1.0          1945 non-null   int64  \n",
      " 14  seq_temporal_edema_1.0         1945 non-null   int64  \n",
      " 15  seq_temporal_edema_2.0         1945 non-null   int64  \n",
      " 16  seq_temporal_hepatomegaly_1.0  1945 non-null   int64  \n",
      " 17  seq_temporal_hepatomegaly_2.0  1945 non-null   int64  \n",
      " 18  seq_temporal_histologic_1.0    1945 non-null   int64  \n",
      " 19  seq_temporal_histologic_2.0    1945 non-null   int64  \n",
      " 20  seq_temporal_histologic_3.0    1945 non-null   int64  \n",
      " 21  seq_temporal_spiders_1.0       1945 non-null   int64  \n",
      " 22  seq_temporal_spiders_2.0       1945 non-null   int64  \n",
      "dtypes: float64(10), int64(13)\n",
      "memory usage: 349.6 KB\n"
     ]
    }
   ],
   "source": [
    "df.info()"
   ],
   "metadata": {
    "collapsed": false
   }
  },
  {
   "cell_type": "code",
   "execution_count": 12,
   "outputs": [],
   "source": [
    "# for noauton processing\n",
    "# df.rename(columns = {'seq_out_time_to_event':'duration', 'seq_out_event':'event'}, inplace = True)\n",
    "\n",
    "#for auton processing\n",
    "df.rename(columns = {'time':'duration'}, inplace = True)"
   ],
   "metadata": {
    "collapsed": false
   }
  },
  {
   "cell_type": "code",
   "execution_count": 13,
   "outputs": [
    {
     "name": "stdout",
     "output_type": "stream",
     "text": [
      "26.0\n",
      "______\n",
      "8\n",
      "______\n",
      "13\n",
      "______\n",
      "21\n",
      "______\n",
      "26\n",
      "______\n",
      "[2.73792575e-03 3.83309605e-02 1.86178951e-01 4.73661154e-01\n",
      " 1.43056620e+01]\n",
      "______\n",
      "4\n"
     ]
    },
    {
     "name": "stderr",
     "output_type": "stream",
     "text": [
      "/Users/davidlee/Documents/GitHub/Surtimesurvival/SurvTRACE/survtrace/utils.py:78: UserWarning: Got event/censoring at start time. Should be removed! It is set s.t. it has no contribution to loss.\n",
      "  warnings.warn(\"\"\"Got event/censoring at start time. Should be removed! It is set s.t. it has no contribution to loss.\"\"\")\n"
     ]
    }
   ],
   "source": [
    "y, df, df_train, df_y_train = pbc2_proccess_covariate(df)"
   ],
   "metadata": {
    "collapsed": false
   }
  },
  {
   "cell_type": "code",
   "execution_count": 14,
   "outputs": [
    {
     "data": {
      "text/plain": "   seq_static_sex_1.0  seq_temporal_ascites_1.0  seq_temporal_ascites_2.0  \\\n0                 0.0                       3.0                       4.0   \n1                 0.0                       3.0                       4.0   \n2                 0.0                       3.0                       4.0   \n3                 0.0                       3.0                       4.0   \n4                 0.0                       3.0                       4.0   \n\n   seq_temporal_drug_1.0  seq_temporal_edema_1.0  seq_temporal_edema_2.0  \\\n0                    6.0                     9.0                    10.0   \n1                    6.0                     9.0                    10.0   \n2                    6.0                     9.0                    10.0   \n3                    6.0                     9.0                    10.0   \n4                    6.0                     9.0                    10.0   \n\n   seq_temporal_hepatomegaly_1.0  seq_temporal_hepatomegaly_2.0  \\\n0                           13.0                           14.0   \n1                           13.0                           14.0   \n2                           13.0                           14.0   \n3                           13.0                           14.0   \n4                           13.0                           14.0   \n\n   seq_temporal_histologic_1.0  seq_temporal_histologic_2.0  ...  \\\n0                         16.0                         18.0  ...   \n1                         16.0                         18.0  ...   \n2                         16.0                         19.0  ...   \n3                         16.0                         19.0  ...   \n4                         16.0                         19.0  ...   \n\n   seq_temporal_spiders_1.0  seq_temporal_spiders_2.0  seq_temporal_SGOT  \\\n0                      23.0                      24.0          -1.485263   \n1                      23.0                      24.0           0.195488   \n2                      23.0                      24.0          -0.442126   \n3                      23.0                      24.0          -0.046806   \n4                      23.0                      24.0           0.293680   \n\n   seq_temporal_age  seq_temporal_albumin  seq_temporal_alkaline  \\\n0          0.248058             -0.894575               0.195532   \n1          0.248058             -1.570646               0.285613   \n2          1.292856             -1.431455              -0.605844   \n3          1.292856             -1.172958              -0.512364   \n4          1.292856             -1.312149              -0.443529   \n\n   seq_temporal_platelets  seq_temporal_prothrombin  seq_temporal_serBilir  \\\n0               -0.529101                  0.136768               3.281890   \n1               -0.456022                  0.813132               2.015877   \n2               -1.395605                  0.339677               0.172710   \n3               -1.259888                  0.339677              -0.013468   \n4               -1.364286                  0.339677               0.098239   \n\n   seq_temporal_serChol  \n0          1.242080e-16  \n1         -4.694608e-01  \n2         -6.589138e-01  \n3         -6.036567e-01  \n4          1.242080e-16  \n\n[5 rows x 21 columns]",
      "text/html": "<div>\n<style scoped>\n    .dataframe tbody tr th:only-of-type {\n        vertical-align: middle;\n    }\n\n    .dataframe tbody tr th {\n        vertical-align: top;\n    }\n\n    .dataframe thead th {\n        text-align: right;\n    }\n</style>\n<table border=\"1\" class=\"dataframe\">\n  <thead>\n    <tr style=\"text-align: right;\">\n      <th></th>\n      <th>seq_static_sex_1.0</th>\n      <th>seq_temporal_ascites_1.0</th>\n      <th>seq_temporal_ascites_2.0</th>\n      <th>seq_temporal_drug_1.0</th>\n      <th>seq_temporal_edema_1.0</th>\n      <th>seq_temporal_edema_2.0</th>\n      <th>seq_temporal_hepatomegaly_1.0</th>\n      <th>seq_temporal_hepatomegaly_2.0</th>\n      <th>seq_temporal_histologic_1.0</th>\n      <th>seq_temporal_histologic_2.0</th>\n      <th>...</th>\n      <th>seq_temporal_spiders_1.0</th>\n      <th>seq_temporal_spiders_2.0</th>\n      <th>seq_temporal_SGOT</th>\n      <th>seq_temporal_age</th>\n      <th>seq_temporal_albumin</th>\n      <th>seq_temporal_alkaline</th>\n      <th>seq_temporal_platelets</th>\n      <th>seq_temporal_prothrombin</th>\n      <th>seq_temporal_serBilir</th>\n      <th>seq_temporal_serChol</th>\n    </tr>\n  </thead>\n  <tbody>\n    <tr>\n      <th>0</th>\n      <td>0.0</td>\n      <td>3.0</td>\n      <td>4.0</td>\n      <td>6.0</td>\n      <td>9.0</td>\n      <td>10.0</td>\n      <td>13.0</td>\n      <td>14.0</td>\n      <td>16.0</td>\n      <td>18.0</td>\n      <td>...</td>\n      <td>23.0</td>\n      <td>24.0</td>\n      <td>-1.485263</td>\n      <td>0.248058</td>\n      <td>-0.894575</td>\n      <td>0.195532</td>\n      <td>-0.529101</td>\n      <td>0.136768</td>\n      <td>3.281890</td>\n      <td>1.242080e-16</td>\n    </tr>\n    <tr>\n      <th>1</th>\n      <td>0.0</td>\n      <td>3.0</td>\n      <td>4.0</td>\n      <td>6.0</td>\n      <td>9.0</td>\n      <td>10.0</td>\n      <td>13.0</td>\n      <td>14.0</td>\n      <td>16.0</td>\n      <td>18.0</td>\n      <td>...</td>\n      <td>23.0</td>\n      <td>24.0</td>\n      <td>0.195488</td>\n      <td>0.248058</td>\n      <td>-1.570646</td>\n      <td>0.285613</td>\n      <td>-0.456022</td>\n      <td>0.813132</td>\n      <td>2.015877</td>\n      <td>-4.694608e-01</td>\n    </tr>\n    <tr>\n      <th>2</th>\n      <td>0.0</td>\n      <td>3.0</td>\n      <td>4.0</td>\n      <td>6.0</td>\n      <td>9.0</td>\n      <td>10.0</td>\n      <td>13.0</td>\n      <td>14.0</td>\n      <td>16.0</td>\n      <td>19.0</td>\n      <td>...</td>\n      <td>23.0</td>\n      <td>24.0</td>\n      <td>-0.442126</td>\n      <td>1.292856</td>\n      <td>-1.431455</td>\n      <td>-0.605844</td>\n      <td>-1.395605</td>\n      <td>0.339677</td>\n      <td>0.172710</td>\n      <td>-6.589138e-01</td>\n    </tr>\n    <tr>\n      <th>3</th>\n      <td>0.0</td>\n      <td>3.0</td>\n      <td>4.0</td>\n      <td>6.0</td>\n      <td>9.0</td>\n      <td>10.0</td>\n      <td>13.0</td>\n      <td>14.0</td>\n      <td>16.0</td>\n      <td>19.0</td>\n      <td>...</td>\n      <td>23.0</td>\n      <td>24.0</td>\n      <td>-0.046806</td>\n      <td>1.292856</td>\n      <td>-1.172958</td>\n      <td>-0.512364</td>\n      <td>-1.259888</td>\n      <td>0.339677</td>\n      <td>-0.013468</td>\n      <td>-6.036567e-01</td>\n    </tr>\n    <tr>\n      <th>4</th>\n      <td>0.0</td>\n      <td>3.0</td>\n      <td>4.0</td>\n      <td>6.0</td>\n      <td>9.0</td>\n      <td>10.0</td>\n      <td>13.0</td>\n      <td>14.0</td>\n      <td>16.0</td>\n      <td>19.0</td>\n      <td>...</td>\n      <td>23.0</td>\n      <td>24.0</td>\n      <td>0.293680</td>\n      <td>1.292856</td>\n      <td>-1.312149</td>\n      <td>-0.443529</td>\n      <td>-1.364286</td>\n      <td>0.339677</td>\n      <td>0.098239</td>\n      <td>1.242080e-16</td>\n    </tr>\n  </tbody>\n</table>\n<p>5 rows × 21 columns</p>\n</div>"
     },
     "execution_count": 14,
     "metadata": {},
     "output_type": "execute_result"
    }
   ],
   "source": [
    "df_train.head()"
   ],
   "metadata": {
    "collapsed": false
   }
  },
  {
   "cell_type": "code",
   "execution_count": 15,
   "outputs": [
    {
     "data": {
      "text/plain": "   duration  event  proportion\n0         3    1.0    0.006928\n1         3    1.0    0.006928\n2         3    0.0    0.988915\n3         3    0.0    0.988915\n4         3    0.0    0.988915",
      "text/html": "<div>\n<style scoped>\n    .dataframe tbody tr th:only-of-type {\n        vertical-align: middle;\n    }\n\n    .dataframe tbody tr th {\n        vertical-align: top;\n    }\n\n    .dataframe thead th {\n        text-align: right;\n    }\n</style>\n<table border=\"1\" class=\"dataframe\">\n  <thead>\n    <tr style=\"text-align: right;\">\n      <th></th>\n      <th>duration</th>\n      <th>event</th>\n      <th>proportion</th>\n    </tr>\n  </thead>\n  <tbody>\n    <tr>\n      <th>0</th>\n      <td>3</td>\n      <td>1.0</td>\n      <td>0.006928</td>\n    </tr>\n    <tr>\n      <th>1</th>\n      <td>3</td>\n      <td>1.0</td>\n      <td>0.006928</td>\n    </tr>\n    <tr>\n      <th>2</th>\n      <td>3</td>\n      <td>0.0</td>\n      <td>0.988915</td>\n    </tr>\n    <tr>\n      <th>3</th>\n      <td>3</td>\n      <td>0.0</td>\n      <td>0.988915</td>\n    </tr>\n    <tr>\n      <th>4</th>\n      <td>3</td>\n      <td>0.0</td>\n      <td>0.988915</td>\n    </tr>\n  </tbody>\n</table>\n</div>"
     },
     "execution_count": 15,
     "metadata": {},
     "output_type": "execute_result"
    }
   ],
   "source": [
    "df_y_train.head()"
   ],
   "metadata": {
    "collapsed": false
   }
  },
  {
   "cell_type": "code",
   "execution_count": 16,
   "outputs": [],
   "source": [
    "df_train = pd.concat([df_train, df_temp['seq_id']], axis=1, join='inner')\n",
    "df_y_train = pd.concat([df_y_train, df_temp['seq_id']], axis=1, join='inner')"
   ],
   "metadata": {
    "collapsed": false
   }
  },
  {
   "cell_type": "code",
   "execution_count": 18,
   "outputs": [
    {
     "name": "stdout",
     "output_type": "stream",
     "text": [
      "16 16\n"
     ]
    }
   ],
   "source": [
    "masks, padded_patients = padded_mask_processing(df_train)"
   ],
   "metadata": {
    "collapsed": false
   }
  },
  {
   "cell_type": "code",
   "execution_count": 30,
   "outputs": [
    {
     "name": "stdout",
     "output_type": "stream",
     "text": [
      "torch.Size([312, 16, 21])\n",
      "torch.Size([312, 16])\n"
     ]
    }
   ],
   "source": [
    "print(padded_patients.shape)\n",
    "print(masks.shape)"
   ],
   "metadata": {
    "collapsed": false
   }
  },
  {
   "cell_type": "code",
   "execution_count": 21,
   "outputs": [
    {
     "data": {
      "text/plain": "     duration  event  proportion\n0           3    1.0    0.006928\n1           3    0.0    0.988915\n2           3    1.0    0.019002\n3           2    1.0    0.314286\n4           3    0.0    0.263658\n..        ...    ...         ...\n307         3    0.0    0.326405\n308         3    0.0    0.294933\n309         3    0.0    0.284046\n310         3    0.0    0.264252\n311         3    0.0    0.254157\n\n[312 rows x 3 columns]",
      "text/html": "<div>\n<style scoped>\n    .dataframe tbody tr th:only-of-type {\n        vertical-align: middle;\n    }\n\n    .dataframe tbody tr th {\n        vertical-align: top;\n    }\n\n    .dataframe thead th {\n        text-align: right;\n    }\n</style>\n<table border=\"1\" class=\"dataframe\">\n  <thead>\n    <tr style=\"text-align: right;\">\n      <th></th>\n      <th>duration</th>\n      <th>event</th>\n      <th>proportion</th>\n    </tr>\n  </thead>\n  <tbody>\n    <tr>\n      <th>0</th>\n      <td>3</td>\n      <td>1.0</td>\n      <td>0.006928</td>\n    </tr>\n    <tr>\n      <th>1</th>\n      <td>3</td>\n      <td>0.0</td>\n      <td>0.988915</td>\n    </tr>\n    <tr>\n      <th>2</th>\n      <td>3</td>\n      <td>1.0</td>\n      <td>0.019002</td>\n    </tr>\n    <tr>\n      <th>3</th>\n      <td>2</td>\n      <td>1.0</td>\n      <td>0.314286</td>\n    </tr>\n    <tr>\n      <th>4</th>\n      <td>3</td>\n      <td>0.0</td>\n      <td>0.263658</td>\n    </tr>\n    <tr>\n      <th>...</th>\n      <td>...</td>\n      <td>...</td>\n      <td>...</td>\n    </tr>\n    <tr>\n      <th>307</th>\n      <td>3</td>\n      <td>0.0</td>\n      <td>0.326405</td>\n    </tr>\n    <tr>\n      <th>308</th>\n      <td>3</td>\n      <td>0.0</td>\n      <td>0.294933</td>\n    </tr>\n    <tr>\n      <th>309</th>\n      <td>3</td>\n      <td>0.0</td>\n      <td>0.284046</td>\n    </tr>\n    <tr>\n      <th>310</th>\n      <td>3</td>\n      <td>0.0</td>\n      <td>0.264252</td>\n    </tr>\n    <tr>\n      <th>311</th>\n      <td>3</td>\n      <td>0.0</td>\n      <td>0.254157</td>\n    </tr>\n  </tbody>\n</table>\n<p>312 rows × 3 columns</p>\n</div>"
     },
     "execution_count": 21,
     "metadata": {},
     "output_type": "execute_result"
    }
   ],
   "source": [
    "df_y_train = df_y_train.drop_duplicates(subset='seq_id', keep='last')\n",
    "df_y_train = df_y_train.reset_index(drop=True)\n",
    "df_y_train = df_y_train.drop(columns=['seq_id'])\n",
    "df_y_train"
   ],
   "metadata": {
    "collapsed": false
   }
  },
  {
   "cell_type": "code",
   "execution_count": 22,
   "outputs": [],
   "source": [
    "X_features_data_tensor = padded_patients\n",
    "Y_labels_data_tensor = torch.tensor(df_y_train.values)"
   ],
   "metadata": {
    "collapsed": false
   }
  },
  {
   "cell_type": "code",
   "execution_count": 24,
   "outputs": [],
   "source": [
    "X_train, X_val, y_train, y_val, masks_train, masks_val = train_test_split(X_features_data_tensor, Y_labels_data_tensor, masks, test_size=0.1)\n",
    "train_data = TensorDataset(X_train, y_train, masks_train)\n",
    "val_data = TensorDataset(X_val, y_val, masks_val)"
   ],
   "metadata": {
    "collapsed": false
   }
  },
  {
   "cell_type": "code",
   "execution_count": 27,
   "outputs": [],
   "source": [
    "from model.survtimesurvival_model import TransformerClassifier\n",
    "# Hyperparameters\n",
    "embed_dim = 32\n",
    "num_heads = 2\n",
    "ffn_hidden_dim = 64\n",
    "num_layers = 2\n",
    "\n",
    "\n",
    "batch_size = 1\n",
    "train_loader = DataLoader(train_data, batch_size=batch_size, shuffle=True)\n",
    "val_loader = DataLoader(val_data, batch_size=batch_size, shuffle=False)\n",
    "\n",
    "# Set up training configurations\n",
    "input_dim = X_features_data_tensor.size(2)\n",
    "seq_length = X_features_data_tensor.size(1)\n",
    "model = TransformerClassifier(input_dim, seq_length, embed_dim, num_heads, ffn_hidden_dim, num_layers)"
   ],
   "metadata": {
    "collapsed": false
   }
  },
  {
   "cell_type": "code",
   "execution_count": 28,
   "outputs": [],
   "source": [
    "a = masks_train[0].unsqueeze(0)\n",
    "output = model(X_train[0], a)"
   ],
   "metadata": {
    "collapsed": false
   }
  },
  {
   "cell_type": "code",
   "execution_count": 29,
   "outputs": [
    {
     "data": {
      "text/plain": "torch.Size([1, 21])"
     },
     "execution_count": 29,
     "metadata": {},
     "output_type": "execute_result"
    }
   ],
   "source": [
    "output.shape"
   ],
   "metadata": {
    "collapsed": false
   }
  }
 ],
 "metadata": {
  "kernelspec": {
   "display_name": "Python 3",
   "language": "python",
   "name": "python3"
  },
  "language_info": {
   "codemirror_mode": {
    "name": "ipython",
    "version": 2
   },
   "file_extension": ".py",
   "mimetype": "text/x-python",
   "name": "python",
   "nbconvert_exporter": "python",
   "pygments_lexer": "ipython2",
   "version": "2.7.6"
  }
 },
 "nbformat": 4,
 "nbformat_minor": 0
}
