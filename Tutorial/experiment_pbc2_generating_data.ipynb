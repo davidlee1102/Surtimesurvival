{
 "cells": [
  {
   "cell_type": "code",
   "execution_count": 1,
   "metadata": {
    "collapsed": true,
    "pycharm": {
     "name": "#%%\n"
    }
   },
   "outputs": [
    {
     "name": "stderr",
     "output_type": "stream",
     "text": [
      "2023-07-15 21:34:16.941485: I tensorflow/core/platform/cpu_feature_guard.cc:182] This TensorFlow binary is optimized to use available CPU instructions in performance-critical operations.\n",
      "To enable the following instructions: AVX2 FMA, in other operations, rebuild TensorFlow with the appropriate compiler flags.\n"
     ]
    }
   ],
   "source": [
    "import math\n",
    "import os\n",
    "import random\n",
    "import itertools\n",
    "\n",
    "import torch\n",
    "import numpy as np\n",
    "import pandas as pd\n",
    "import tensorflow as tf\n",
    "import matplotlib.pyplot as plt"
   ]
  },
  {
   "cell_type": "code",
   "execution_count": 2,
   "outputs": [
    {
     "ename": "ImportError",
     "evalue": "Numba needs NumPy 1.24 or less",
     "output_type": "error",
     "traceback": [
      "\u001B[0;31m---------------------------------------------------------------------------\u001B[0m",
      "\u001B[0;31mImportError\u001B[0m                               Traceback (most recent call last)",
      "Cell \u001B[0;32mIn[2], line 8\u001B[0m\n\u001B[1;32m      6\u001B[0m \u001B[38;5;28;01mfrom\u001B[39;00m \u001B[38;5;21;01mtorch\u001B[39;00m \u001B[38;5;28;01mimport\u001B[39;00m mps\n\u001B[1;32m      7\u001B[0m \u001B[38;5;28;01mimport\u001B[39;00m \u001B[38;5;21;01msynthcity\u001B[39;00m\u001B[38;5;21;01m.\u001B[39;00m\u001B[38;5;21;01mlogger\u001B[39;00m \u001B[38;5;28;01mas\u001B[39;00m \u001B[38;5;21;01mlog\u001B[39;00m\n\u001B[0;32m----> 8\u001B[0m \u001B[38;5;28;01mfrom\u001B[39;00m \u001B[38;5;21;01msynthcity\u001B[39;00m\u001B[38;5;21;01m.\u001B[39;00m\u001B[38;5;21;01mplugins\u001B[39;00m \u001B[38;5;28;01mimport\u001B[39;00m Plugins\n\u001B[1;32m      9\u001B[0m \u001B[38;5;28;01mfrom\u001B[39;00m \u001B[38;5;21;01msynthcity\u001B[39;00m\u001B[38;5;21;01m.\u001B[39;00m\u001B[38;5;21;01mplugins\u001B[39;00m\u001B[38;5;21;01m.\u001B[39;00m\u001B[38;5;21;01mcore\u001B[39;00m\u001B[38;5;21;01m.\u001B[39;00m\u001B[38;5;21;01mdataloader\u001B[39;00m \u001B[38;5;28;01mimport\u001B[39;00m TimeSeriesSurvivalDataLoader\n\u001B[1;32m     12\u001B[0m log\u001B[38;5;241m.\u001B[39madd(sink\u001B[38;5;241m=\u001B[39msys\u001B[38;5;241m.\u001B[39mstderr, level\u001B[38;5;241m=\u001B[39m\u001B[38;5;124m\"\u001B[39m\u001B[38;5;124mINFO\u001B[39m\u001B[38;5;124m\"\u001B[39m)\n",
      "File \u001B[0;32m~/opt/anaconda3/envs/synthcity/lib/python3.9/site-packages/synthcity/plugins/__init__.py:9\u001B[0m\n\u001B[1;32m      6\u001B[0m \u001B[38;5;28;01mfrom\u001B[39;00m \u001B[38;5;21;01mpydantic\u001B[39;00m \u001B[38;5;28;01mimport\u001B[39;00m validate_arguments\n\u001B[1;32m      8\u001B[0m \u001B[38;5;66;03m# synthcity absolute\u001B[39;00m\n\u001B[0;32m----> 9\u001B[0m \u001B[38;5;28;01mfrom\u001B[39;00m \u001B[38;5;21;01msynthcity\u001B[39;00m\u001B[38;5;21;01m.\u001B[39;00m\u001B[38;5;21;01mplugins\u001B[39;00m\u001B[38;5;21;01m.\u001B[39;00m\u001B[38;5;21;01mcore\u001B[39;00m\u001B[38;5;21;01m.\u001B[39;00m\u001B[38;5;21;01mplugin\u001B[39;00m \u001B[38;5;28;01mimport\u001B[39;00m Plugin, PluginLoader  \u001B[38;5;66;03m# noqa: F401,E402\u001B[39;00m\n\u001B[1;32m     11\u001B[0m def_categories \u001B[38;5;241m=\u001B[39m [\n\u001B[1;32m     12\u001B[0m     \u001B[38;5;124m\"\u001B[39m\u001B[38;5;124mgeneric\u001B[39m\u001B[38;5;124m\"\u001B[39m,\n\u001B[1;32m     13\u001B[0m     \u001B[38;5;124m\"\u001B[39m\u001B[38;5;124mprivacy\u001B[39m\u001B[38;5;124m\"\u001B[39m,\n\u001B[0;32m   (...)\u001B[0m\n\u001B[1;32m     17\u001B[0m     \u001B[38;5;124m\"\u001B[39m\u001B[38;5;124mimages\u001B[39m\u001B[38;5;124m\"\u001B[39m,\n\u001B[1;32m     18\u001B[0m ]\n\u001B[1;32m     19\u001B[0m plugins \u001B[38;5;241m=\u001B[39m {}\n",
      "File \u001B[0;32m~/opt/anaconda3/envs/synthcity/lib/python3.9/site-packages/synthcity/plugins/core/plugin.py:16\u001B[0m\n\u001B[1;32m     14\u001B[0m \u001B[38;5;66;03m# synthcity absolute\u001B[39;00m\n\u001B[1;32m     15\u001B[0m \u001B[38;5;28;01mimport\u001B[39;00m \u001B[38;5;21;01msynthcity\u001B[39;00m\u001B[38;5;21;01m.\u001B[39;00m\u001B[38;5;21;01mlogger\u001B[39;00m \u001B[38;5;28;01mas\u001B[39;00m \u001B[38;5;21;01mlog\u001B[39;00m\n\u001B[0;32m---> 16\u001B[0m \u001B[38;5;28;01mfrom\u001B[39;00m \u001B[38;5;21;01msynthcity\u001B[39;00m\u001B[38;5;21;01m.\u001B[39;00m\u001B[38;5;21;01mmetrics\u001B[39;00m\u001B[38;5;21;01m.\u001B[39;00m\u001B[38;5;21;01mplots\u001B[39;00m \u001B[38;5;28;01mimport\u001B[39;00m plot_marginal_comparison, plot_tsne\n\u001B[1;32m     17\u001B[0m \u001B[38;5;28;01mfrom\u001B[39;00m \u001B[38;5;21;01msynthcity\u001B[39;00m\u001B[38;5;21;01m.\u001B[39;00m\u001B[38;5;21;01mplugins\u001B[39;00m\u001B[38;5;21;01m.\u001B[39;00m\u001B[38;5;21;01mcore\u001B[39;00m\u001B[38;5;21;01m.\u001B[39;00m\u001B[38;5;21;01mconstraints\u001B[39;00m \u001B[38;5;28;01mimport\u001B[39;00m Constraints\n\u001B[1;32m     18\u001B[0m \u001B[38;5;28;01mfrom\u001B[39;00m \u001B[38;5;21;01msynthcity\u001B[39;00m\u001B[38;5;21;01m.\u001B[39;00m\u001B[38;5;21;01mplugins\u001B[39;00m\u001B[38;5;21;01m.\u001B[39;00m\u001B[38;5;21;01mcore\u001B[39;00m\u001B[38;5;21;01m.\u001B[39;00m\u001B[38;5;21;01mdataloader\u001B[39;00m \u001B[38;5;28;01mimport\u001B[39;00m (\n\u001B[1;32m     19\u001B[0m     DataLoader,\n\u001B[1;32m     20\u001B[0m     GenericDataLoader,\n\u001B[0;32m   (...)\u001B[0m\n\u001B[1;32m     23\u001B[0m     create_from_info,\n\u001B[1;32m     24\u001B[0m )\n",
      "File \u001B[0;32m~/opt/anaconda3/envs/synthcity/lib/python3.9/site-packages/synthcity/metrics/__init__.py:2\u001B[0m\n\u001B[1;32m      1\u001B[0m \u001B[38;5;66;03m# synthcity relative\u001B[39;00m\n\u001B[0;32m----> 2\u001B[0m \u001B[38;5;28;01mfrom\u001B[39;00m \u001B[38;5;21;01m.\u001B[39;00m\u001B[38;5;21;01meval\u001B[39;00m \u001B[38;5;28;01mimport\u001B[39;00m Metrics  \u001B[38;5;66;03m# noqa: F401\u001B[39;00m\n\u001B[1;32m      3\u001B[0m \u001B[38;5;28;01mfrom\u001B[39;00m \u001B[38;5;21;01m.\u001B[39;00m\u001B[38;5;21;01mweighted_metrics\u001B[39;00m \u001B[38;5;28;01mimport\u001B[39;00m WeightedMetrics\n",
      "File \u001B[0;32m~/opt/anaconda3/envs/synthcity/lib/python3.9/site-packages/synthcity/metrics/eval.py:23\u001B[0m\n\u001B[1;32m     16\u001B[0m \u001B[38;5;66;03m# synthcity relative\u001B[39;00m\n\u001B[1;32m     17\u001B[0m \u001B[38;5;28;01mfrom\u001B[39;00m \u001B[38;5;21;01m.\u001B[39;00m\u001B[38;5;21;01meval_detection\u001B[39;00m \u001B[38;5;28;01mimport\u001B[39;00m (\n\u001B[1;32m     18\u001B[0m     SyntheticDetectionGMM,\n\u001B[1;32m     19\u001B[0m     SyntheticDetectionLinear,\n\u001B[1;32m     20\u001B[0m     SyntheticDetectionMLP,\n\u001B[1;32m     21\u001B[0m     SyntheticDetectionXGB,\n\u001B[1;32m     22\u001B[0m )\n\u001B[0;32m---> 23\u001B[0m \u001B[38;5;28;01mfrom\u001B[39;00m \u001B[38;5;21;01m.\u001B[39;00m\u001B[38;5;21;01meval_performance\u001B[39;00m \u001B[38;5;28;01mimport\u001B[39;00m (\n\u001B[1;32m     24\u001B[0m     AugmentationPerformanceEvaluatorLinear,\n\u001B[1;32m     25\u001B[0m     AugmentationPerformanceEvaluatorMLP,\n\u001B[1;32m     26\u001B[0m     AugmentationPerformanceEvaluatorXGB,\n\u001B[1;32m     27\u001B[0m     FeatureImportanceRankDistance,\n\u001B[1;32m     28\u001B[0m     PerformanceEvaluatorLinear,\n\u001B[1;32m     29\u001B[0m     PerformanceEvaluatorMLP,\n\u001B[1;32m     30\u001B[0m     PerformanceEvaluatorXGB,\n\u001B[1;32m     31\u001B[0m )\n\u001B[1;32m     32\u001B[0m \u001B[38;5;28;01mfrom\u001B[39;00m \u001B[38;5;21;01m.\u001B[39;00m\u001B[38;5;21;01meval_privacy\u001B[39;00m \u001B[38;5;28;01mimport\u001B[39;00m (\n\u001B[1;32m     33\u001B[0m     DeltaPresence,\n\u001B[1;32m     34\u001B[0m     IdentifiabilityScore,\n\u001B[0;32m   (...)\u001B[0m\n\u001B[1;32m     37\u001B[0m     lDiversityDistinct,\n\u001B[1;32m     38\u001B[0m )\n\u001B[1;32m     39\u001B[0m \u001B[38;5;28;01mfrom\u001B[39;00m \u001B[38;5;21;01m.\u001B[39;00m\u001B[38;5;21;01meval_sanity\u001B[39;00m \u001B[38;5;28;01mimport\u001B[39;00m (\n\u001B[1;32m     40\u001B[0m     CloseValuesProbability,\n\u001B[1;32m     41\u001B[0m     CommonRowsProportion,\n\u001B[0;32m   (...)\u001B[0m\n\u001B[1;32m     44\u001B[0m     NearestSyntheticNeighborDistance,\n\u001B[1;32m     45\u001B[0m )\n",
      "File \u001B[0;32m~/opt/anaconda3/envs/synthcity/lib/python3.9/site-packages/synthcity/metrics/eval_performance.py:9\u001B[0m\n\u001B[1;32m      7\u001B[0m \u001B[38;5;28;01mimport\u001B[39;00m \u001B[38;5;21;01mnumpy\u001B[39;00m \u001B[38;5;28;01mas\u001B[39;00m \u001B[38;5;21;01mnp\u001B[39;00m\n\u001B[1;32m      8\u001B[0m \u001B[38;5;28;01mimport\u001B[39;00m \u001B[38;5;21;01mpandas\u001B[39;00m \u001B[38;5;28;01mas\u001B[39;00m \u001B[38;5;21;01mpd\u001B[39;00m\n\u001B[0;32m----> 9\u001B[0m \u001B[38;5;28;01mimport\u001B[39;00m \u001B[38;5;21;01mshap\u001B[39;00m\n\u001B[1;32m     10\u001B[0m \u001B[38;5;28;01mimport\u001B[39;00m \u001B[38;5;21;01mtorch\u001B[39;00m\n\u001B[1;32m     11\u001B[0m \u001B[38;5;28;01mfrom\u001B[39;00m \u001B[38;5;21;01mpydantic\u001B[39;00m \u001B[38;5;28;01mimport\u001B[39;00m validate_arguments\n",
      "File \u001B[0;32m~/opt/anaconda3/envs/synthcity/lib/python3.9/site-packages/shap/__init__.py:5\u001B[0m\n\u001B[1;32m      1\u001B[0m \u001B[38;5;66;03m# flake8: noqa\u001B[39;00m\n\u001B[1;32m      3\u001B[0m __version__ \u001B[38;5;241m=\u001B[39m \u001B[38;5;124m\"\u001B[39m\u001B[38;5;124m0.42.1\u001B[39m\u001B[38;5;124m\"\u001B[39m\n\u001B[0;32m----> 5\u001B[0m \u001B[38;5;28;01mfrom\u001B[39;00m \u001B[38;5;21;01m.\u001B[39;00m\u001B[38;5;21;01m_explanation\u001B[39;00m \u001B[38;5;28;01mimport\u001B[39;00m Explanation, Cohorts\n\u001B[1;32m      7\u001B[0m \u001B[38;5;66;03m# explainers\u001B[39;00m\n\u001B[1;32m      8\u001B[0m \u001B[38;5;28;01mfrom\u001B[39;00m \u001B[38;5;21;01m.\u001B[39;00m\u001B[38;5;21;01mexplainers\u001B[39;00m\u001B[38;5;21;01m.\u001B[39;00m\u001B[38;5;21;01m_explainer\u001B[39;00m \u001B[38;5;28;01mimport\u001B[39;00m Explainer\n",
      "File \u001B[0;32m~/opt/anaconda3/envs/synthcity/lib/python3.9/site-packages/shap/_explanation.py:13\u001B[0m\n\u001B[1;32m     10\u001B[0m \u001B[38;5;28;01mimport\u001B[39;00m \u001B[38;5;21;01msklearn\u001B[39;00m\n\u001B[1;32m     11\u001B[0m \u001B[38;5;28;01mfrom\u001B[39;00m \u001B[38;5;21;01mslicer\u001B[39;00m \u001B[38;5;28;01mimport\u001B[39;00m Alias, Obj, Slicer\n\u001B[0;32m---> 13\u001B[0m \u001B[38;5;28;01mfrom\u001B[39;00m \u001B[38;5;21;01m.\u001B[39;00m\u001B[38;5;21;01mutils\u001B[39;00m\u001B[38;5;21;01m.\u001B[39;00m\u001B[38;5;21;01m_exceptions\u001B[39;00m \u001B[38;5;28;01mimport\u001B[39;00m DimensionError\n\u001B[1;32m     14\u001B[0m \u001B[38;5;28;01mfrom\u001B[39;00m \u001B[38;5;21;01m.\u001B[39;00m\u001B[38;5;21;01mutils\u001B[39;00m\u001B[38;5;21;01m.\u001B[39;00m\u001B[38;5;21;01m_general\u001B[39;00m \u001B[38;5;28;01mimport\u001B[39;00m OpChain\n\u001B[1;32m     16\u001B[0m \u001B[38;5;66;03m# slicer confuses pylint...\u001B[39;00m\n\u001B[1;32m     17\u001B[0m \u001B[38;5;66;03m# pylint: disable=no-member\u001B[39;00m\n",
      "File \u001B[0;32m~/opt/anaconda3/envs/synthcity/lib/python3.9/site-packages/shap/utils/__init__.py:1\u001B[0m\n\u001B[0;32m----> 1\u001B[0m \u001B[38;5;28;01mfrom\u001B[39;00m \u001B[38;5;21;01m.\u001B[39;00m\u001B[38;5;21;01m_clustering\u001B[39;00m \u001B[38;5;28;01mimport\u001B[39;00m (\n\u001B[1;32m      2\u001B[0m     delta_minimization_order,\n\u001B[1;32m      3\u001B[0m     hclust,\n\u001B[1;32m      4\u001B[0m     hclust_ordering,\n\u001B[1;32m      5\u001B[0m     partition_tree,\n\u001B[1;32m      6\u001B[0m     partition_tree_shuffle,\n\u001B[1;32m      7\u001B[0m )\n\u001B[1;32m      8\u001B[0m \u001B[38;5;28;01mfrom\u001B[39;00m \u001B[38;5;21;01m.\u001B[39;00m\u001B[38;5;21;01m_general\u001B[39;00m \u001B[38;5;28;01mimport\u001B[39;00m (\n\u001B[1;32m      9\u001B[0m     OpChain,\n\u001B[1;32m     10\u001B[0m     approximate_interactions,\n\u001B[0;32m   (...)\u001B[0m\n\u001B[1;32m     20\u001B[0m     suppress_stderr,\n\u001B[1;32m     21\u001B[0m )\n\u001B[1;32m     22\u001B[0m \u001B[38;5;28;01mfrom\u001B[39;00m \u001B[38;5;21;01m.\u001B[39;00m\u001B[38;5;21;01m_masked_model\u001B[39;00m \u001B[38;5;28;01mimport\u001B[39;00m MaskedModel, make_masks\n",
      "File \u001B[0;32m~/opt/anaconda3/envs/synthcity/lib/python3.9/site-packages/shap/utils/_clustering.py:7\u001B[0m\n\u001B[1;32m      5\u001B[0m \u001B[38;5;28;01mimport\u001B[39;00m \u001B[38;5;21;01mscipy\u001B[39;00m\u001B[38;5;21;01m.\u001B[39;00m\u001B[38;5;21;01mspatial\u001B[39;00m\n\u001B[1;32m      6\u001B[0m \u001B[38;5;28;01mimport\u001B[39;00m \u001B[38;5;21;01msklearn\u001B[39;00m\n\u001B[0;32m----> 7\u001B[0m \u001B[38;5;28;01mfrom\u001B[39;00m \u001B[38;5;21;01mnumba\u001B[39;00m \u001B[38;5;28;01mimport\u001B[39;00m njit\n\u001B[1;32m      9\u001B[0m \u001B[38;5;28;01mfrom\u001B[39;00m \u001B[38;5;21;01m.\u001B[39;00m\u001B[38;5;21;01m_general\u001B[39;00m \u001B[38;5;28;01mimport\u001B[39;00m safe_isinstance\n\u001B[1;32m     10\u001B[0m \u001B[38;5;28;01mfrom\u001B[39;00m \u001B[38;5;21;01m.\u001B[39;00m\u001B[38;5;21;01m_show_progress\u001B[39;00m \u001B[38;5;28;01mimport\u001B[39;00m show_progress\n",
      "File \u001B[0;32m~/opt/anaconda3/envs/synthcity/lib/python3.9/site-packages/numba/__init__.py:55\u001B[0m\n\u001B[1;32m     50\u001B[0m             msg \u001B[38;5;241m=\u001B[39m (\u001B[38;5;124m\"\u001B[39m\u001B[38;5;124mNumba requires SciPy version 1.0 or greater. Got SciPy \u001B[39m\u001B[38;5;124m\"\u001B[39m\n\u001B[1;32m     51\u001B[0m                    \u001B[38;5;124mf\u001B[39m\u001B[38;5;124m\"\u001B[39m\u001B[38;5;132;01m{\u001B[39;00mscipy\u001B[38;5;241m.\u001B[39m__version__\u001B[38;5;132;01m}\u001B[39;00m\u001B[38;5;124m.\u001B[39m\u001B[38;5;124m\"\u001B[39m)\n\u001B[1;32m     52\u001B[0m             \u001B[38;5;28;01mraise\u001B[39;00m \u001B[38;5;167;01mImportError\u001B[39;00m(msg)\n\u001B[0;32m---> 55\u001B[0m \u001B[43m_ensure_critical_deps\u001B[49m\u001B[43m(\u001B[49m\u001B[43m)\u001B[49m\n\u001B[1;32m     56\u001B[0m \u001B[38;5;66;03m# END DO NOT MOVE\u001B[39;00m\n\u001B[1;32m     57\u001B[0m \u001B[38;5;66;03m# ---------------------- WARNING WARNING WARNING ----------------------------\u001B[39;00m\n\u001B[1;32m     60\u001B[0m \u001B[38;5;28;01mfrom\u001B[39;00m \u001B[38;5;21;01m.\u001B[39;00m\u001B[38;5;21;01m_version\u001B[39;00m \u001B[38;5;28;01mimport\u001B[39;00m get_versions\n",
      "File \u001B[0;32m~/opt/anaconda3/envs/synthcity/lib/python3.9/site-packages/numba/__init__.py:42\u001B[0m, in \u001B[0;36m_ensure_critical_deps\u001B[0;34m()\u001B[0m\n\u001B[1;32m     40\u001B[0m     \u001B[38;5;28;01mraise\u001B[39;00m \u001B[38;5;167;01mImportError\u001B[39;00m(msg)\n\u001B[1;32m     41\u001B[0m \u001B[38;5;28;01melif\u001B[39;00m numpy_version \u001B[38;5;241m>\u001B[39m (\u001B[38;5;241m1\u001B[39m, \u001B[38;5;241m24\u001B[39m):\n\u001B[0;32m---> 42\u001B[0m     \u001B[38;5;28;01mraise\u001B[39;00m \u001B[38;5;167;01mImportError\u001B[39;00m(\u001B[38;5;124m\"\u001B[39m\u001B[38;5;124mNumba needs NumPy 1.24 or less\u001B[39m\u001B[38;5;124m\"\u001B[39m)\n\u001B[1;32m     43\u001B[0m \u001B[38;5;28;01mtry\u001B[39;00m:\n\u001B[1;32m     44\u001B[0m     \u001B[38;5;28;01mimport\u001B[39;00m \u001B[38;5;21;01mscipy\u001B[39;00m\n",
      "\u001B[0;31mImportError\u001B[0m: Numba needs NumPy 1.24 or less"
     ]
    }
   ],
   "source": [
    "# stdlib\n",
    "import sys\n",
    "import warnings\n",
    "\n",
    "# synthcity absolute\n",
    "from torch import mps\n",
    "import synthcity.logger as log\n",
    "from synthcity.plugins import Plugins\n",
    "from synthcity.plugins.core.dataloader import TimeSeriesSurvivalDataLoader\n",
    "\n",
    "\n",
    "log.add(sink=sys.stderr, level=\"INFO\")\n",
    "warnings.filterwarnings(\"ignore\")"
   ],
   "metadata": {
    "collapsed": false,
    "pycharm": {
     "name": "#%%\n"
    }
   }
  },
  {
   "cell_type": "code",
   "execution_count": null,
   "outputs": [],
   "source": [
    "import numpy as np\n",
    "from synthcity.utils.datasets.time_series.pbc import PBCDataloader\n",
    "\n",
    "(\n",
    "    static_surv,\n",
    "    temporal_surv,\n",
    "    temporal_surv_horizons,\n",
    "    outcome_surv,\n",
    ") = PBCDataloader().load()\n",
    "T, E = outcome_surv\n",
    "\n",
    "horizons = [0.25, 0.5, 0.75]\n",
    "time_horizons = np.quantile(T, horizons).tolist()\n",
    "\n",
    "loader = TimeSeriesSurvivalDataLoader(\n",
    "    temporal_data=temporal_surv,\n",
    "    observation_times=temporal_surv_horizons,\n",
    "    static_data=static_surv,\n",
    "    T=T,\n",
    "    E=E,\n",
    "    time_horizons=time_horizons,\n",
    ")"
   ],
   "metadata": {
    "collapsed": false,
    "pycharm": {
     "name": "#%%\n"
    }
   }
  },
  {
   "cell_type": "code",
   "execution_count": null,
   "outputs": [],
   "source": [
    "df_synthcity = loader.dataframe()"
   ],
   "metadata": {
    "collapsed": false,
    "pycharm": {
     "name": "#%%\n"
    }
   }
  },
  {
   "cell_type": "code",
   "execution_count": null,
   "outputs": [],
   "source": [
    "df_synthcity.head()"
   ],
   "metadata": {
    "collapsed": false,
    "pycharm": {
     "name": "#%%\n"
    }
   }
  },
  {
   "cell_type": "code",
   "execution_count": null,
   "outputs": [],
   "source": [
    "# synthcity absolute\n",
    "from synthcity.plugins import Plugins\n",
    "\n",
    "Plugins(categories=[\"generic\", \"time_series\"]).list()"
   ],
   "metadata": {
    "collapsed": false,
    "pycharm": {
     "name": "#%%\n"
    }
   }
  },
  {
   "cell_type": "code",
   "execution_count": null,
   "outputs": [],
   "source": [
    "# synthcity absolute\n",
    "from synthcity.plugins import Plugins\n",
    "\n",
    "syn_model = Plugins().get(\"timegan\")\n",
    "\n",
    "syn_model.fit(loader)"
   ],
   "metadata": {
    "collapsed": false,
    "pycharm": {
     "name": "#%%\n"
    }
   }
  },
  {
   "cell_type": "code",
   "execution_count": null,
   "outputs": [],
   "source": [
    "pbc2_data_generated = syn_model.generate(count=188).dataframe()"
   ],
   "metadata": {
    "collapsed": false,
    "pycharm": {
     "name": "#%%\n"
    }
   }
  },
  {
   "cell_type": "code",
   "execution_count": null,
   "outputs": [],
   "source": [
    "pbc2_data_merged = pd.concat([df_synthcity, pbc2_data_generated], ignore_index=True)"
   ],
   "metadata": {
    "collapsed": false,
    "pycharm": {
     "name": "#%%\n"
    }
   }
  },
  {
   "cell_type": "code",
   "execution_count": null,
   "outputs": [],
   "source": [
    "def load_pbc2():\n",
    "\n",
    "  \"\"\"Helper function to load and preprocess the SUPPORT dataset.\n",
    "  The SUPPORT Dataset comes from the Vanderbilt University study\n",
    "  to estimate survival for seriously ill hospitalized adults [1].\n",
    "  Please refer to http://biostat.mc.vanderbilt.edu/wiki/Main/SupportDesc.\n",
    "  for the original datasource.\n",
    "\n",
    "  References\n",
    "  ----------\n",
    "  [1]: Knaus WA, Harrell FE, Lynn J et al. (1995): The SUPPORT prognostic\n",
    "  model: Objective estimates of survival for seriously ill hospitalized\n",
    "  adults. Annals of Internal Medicine 122:191-203.\n",
    "  \"\"\"\n",
    "\n",
    "  # data = pkgutil.get_data(__name__, '')\n",
    "  data = pbc2_data_merged\n",
    "\n",
    "  drop_cols = ['seq_out_time_to_event', 'seq_out_event', 'seq_id', 'seq_time_id']\n",
    "\n",
    "  outcomes = data.copy()\n",
    "  outcomes['event'] =  data['seq_out_event']\n",
    "  outcomes['time'] = data['seq_out_time_to_event']\n",
    "  outcomes['seq_id'] = data['seq_id']\n",
    "  outcomes['seq_time_id'] = data['seq_time_id']\n",
    "  outcomes = outcomes[['event', 'time', 'seq_id', 'seq_time_id']]\n",
    "\n",
    "  cat_feats = [\"seq_static_sex\", \"seq_temporal_ascites\", \"seq_temporal_drug\", \"seq_temporal_edema\", \"seq_temporal_hepatomegaly\", \"seq_temporal_histologic\", \"seq_temporal_spiders\"]\n",
    "  num_feats = [\"seq_temporal_SGOT\", \"seq_temporal_age\", \"seq_temporal_albumin\", \"seq_temporal_alkaline\", \"seq_temporal_platelets\", \"seq_temporal_prothrombin\", \"seq_temporal_serBilir\", \"seq_temporal_serChol\"]\n",
    "\n",
    "  return outcomes, data[cat_feats+num_feats]"
   ],
   "metadata": {
    "collapsed": false,
    "pycharm": {
     "name": "#%%\n"
    }
   }
  },
  {
   "cell_type": "code",
   "execution_count": null,
   "outputs": [],
   "source": [],
   "metadata": {
    "collapsed": false,
    "pycharm": {
     "name": "#%%\n"
    }
   }
  }
 ],
 "metadata": {
  "kernelspec": {
   "display_name": "Python 3",
   "language": "python",
   "name": "python3"
  },
  "language_info": {
   "codemirror_mode": {
    "name": "ipython",
    "version": 2
   },
   "file_extension": ".py",
   "mimetype": "text/x-python",
   "name": "python",
   "nbconvert_exporter": "python",
   "pygments_lexer": "ipython2",
   "version": "2.7.6"
  }
 },
 "nbformat": 4,
 "nbformat_minor": 0
}