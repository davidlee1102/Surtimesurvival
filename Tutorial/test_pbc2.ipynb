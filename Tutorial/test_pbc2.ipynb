{
 "cells": [
  {
   "cell_type": "code",
   "execution_count": 1,
   "metadata": {
    "collapsed": true,
    "pycharm": {
     "name": "#%%\n"
    }
   },
   "outputs": [],
   "source": [
    "import math\n",
    "import os\n",
    "import random\n",
    "import itertools\n",
    "\n",
    "import numpy as np\n",
    "import pandas as pd\n",
    "import tensorflow as tf\n",
    "import matplotlib.pyplot as plt\n",
    "\n",
    "from tensorflow.keras import layers\n",
    "from tensorflow.keras.callbacks import EarlyStopping\n",
    "from tensorflow.keras.models import Model, Sequential\n",
    "from tensorflow.keras.preprocessing.sequence import pad_sequences\n",
    "from IPython.display import clear_output\n",
    "from auton_survival import datasets, preprocessing, models\n",
    "from sklearn.model_selection import train_test_split\n",
    "\n",
    "import torch\n",
    "from torch import nn, matmul\n",
    "from torch.nn.functional import softmax\n",
    "\n",
    "clear_output()"
   ]
  },
  {
   "cell_type": "code",
   "execution_count": 2,
   "outputs": [],
   "source": [
    "# define the setup parameters\n",
    "import matplotlib.pyplot as plt\n",
    "\n",
    "from SurvTRACE.survtrace.dataset import load_data\n",
    "from SurvTRACE.survtrace.evaluate_utils import Evaluator\n",
    "from SurvTRACE.survtrace.utils import set_random_seed\n",
    "from SurvTRACE.survtrace.model import SurvTraceSingle\n",
    "from SurvTRACE.survtrace.train_utils import Trainer\n",
    "from SurvTRACE.survtrace.config import STConfig\n",
    "\n",
    "STConfig['data'] = 'metabric'\n",
    "STConfig['duration_index'] = [0.11225496, 2.06987187, 3.72357902, 6.68738364, 14.30566203]\n",
    "\n",
    "\n",
    "STConfig['num_numerical_feature'] = 21\n",
    "STConfig['num_categorical_feature'] = 0\n",
    "STConfig['num_feature'] = 21\n",
    "STConfig['vocab_size'] = 0\n",
    "STConfig['out_feature'] = 4\n",
    "\n",
    "set_random_seed(STConfig['seed'])\n",
    "\n",
    "hparams = {\n",
    "    'batch_size': 2,\n",
    "    'weight_decay': 1e-4,\n",
    "    'learning_rate': 1e-3,\n",
    "    'epochs': 1,\n",
    "}"
   ],
   "metadata": {
    "collapsed": false,
    "pycharm": {
     "name": "#%%\n"
    }
   }
  },
  {
   "cell_type": "code",
   "execution_count": 3,
   "outputs": [],
   "source": [
    "df = pd.read_csv('/Users/davidlee/Documents/GitHub/Surtimesurvival/Data Project/Pycox Lib/PBC2 Convariate Data/pbc2_data_proccessed_auton_covariate.csv')"
   ],
   "metadata": {
    "collapsed": false,
    "pycharm": {
     "name": "#%%\n"
    }
   }
  },
  {
   "cell_type": "code",
   "execution_count": 4,
   "outputs": [
    {
     "data": {
      "text/plain": "   event       time  seq_id  seq_time_id  seq_temporal_SGOT  seq_temporal_age  \\\n0    1.0   0.569489       0     0.569489          -1.485263          0.248058   \n1    1.0   0.569489       0     1.095170           0.195488          0.248058   \n2    0.0  14.152338       1     5.319790          -0.442126          1.292856   \n3    0.0  14.152338       1     6.261636          -0.046806          1.292856   \n4    0.0  14.152338       1     7.266455           0.293680          1.292856   \n\n   seq_temporal_albumin  seq_temporal_alkaline  seq_temporal_platelets  \\\n0             -0.894575               0.195532               -0.529101   \n1             -1.570646               0.285613               -0.456022   \n2             -1.431455              -0.605844               -1.395605   \n3             -1.172958              -0.512364               -1.259888   \n4             -1.312149              -0.443529               -1.364286   \n\n   seq_temporal_prothrombin  ...  seq_temporal_drug_1.0  \\\n0                  0.136768  ...                      0   \n1                  0.813132  ...                      0   \n2                  0.339677  ...                      0   \n3                  0.339677  ...                      0   \n4                  0.339677  ...                      0   \n\n   seq_temporal_edema_1.0  seq_temporal_edema_2.0  \\\n0                       1                       0   \n1                       1                       0   \n2                       1                       0   \n3                       1                       0   \n4                       1                       0   \n\n   seq_temporal_hepatomegaly_1.0  seq_temporal_hepatomegaly_2.0  \\\n0                              1                              0   \n1                              1                              0   \n2                              1                              0   \n3                              1                              0   \n4                              1                              0   \n\n   seq_temporal_histologic_1.0  seq_temporal_histologic_2.0  \\\n0                            0                            0   \n1                            0                            0   \n2                            0                            1   \n3                            0                            1   \n4                            0                            1   \n\n   seq_temporal_histologic_3.0  seq_temporal_spiders_1.0  \\\n0                            1                         1   \n1                            1                         1   \n2                            0                         1   \n3                            0                         1   \n4                            0                         1   \n\n   seq_temporal_spiders_2.0  \n0                         0  \n1                         0  \n2                         0  \n3                         0  \n4                         0  \n\n[5 rows x 25 columns]",
      "text/html": "<div>\n<style scoped>\n    .dataframe tbody tr th:only-of-type {\n        vertical-align: middle;\n    }\n\n    .dataframe tbody tr th {\n        vertical-align: top;\n    }\n\n    .dataframe thead th {\n        text-align: right;\n    }\n</style>\n<table border=\"1\" class=\"dataframe\">\n  <thead>\n    <tr style=\"text-align: right;\">\n      <th></th>\n      <th>event</th>\n      <th>time</th>\n      <th>seq_id</th>\n      <th>seq_time_id</th>\n      <th>seq_temporal_SGOT</th>\n      <th>seq_temporal_age</th>\n      <th>seq_temporal_albumin</th>\n      <th>seq_temporal_alkaline</th>\n      <th>seq_temporal_platelets</th>\n      <th>seq_temporal_prothrombin</th>\n      <th>...</th>\n      <th>seq_temporal_drug_1.0</th>\n      <th>seq_temporal_edema_1.0</th>\n      <th>seq_temporal_edema_2.0</th>\n      <th>seq_temporal_hepatomegaly_1.0</th>\n      <th>seq_temporal_hepatomegaly_2.0</th>\n      <th>seq_temporal_histologic_1.0</th>\n      <th>seq_temporal_histologic_2.0</th>\n      <th>seq_temporal_histologic_3.0</th>\n      <th>seq_temporal_spiders_1.0</th>\n      <th>seq_temporal_spiders_2.0</th>\n    </tr>\n  </thead>\n  <tbody>\n    <tr>\n      <th>0</th>\n      <td>1.0</td>\n      <td>0.569489</td>\n      <td>0</td>\n      <td>0.569489</td>\n      <td>-1.485263</td>\n      <td>0.248058</td>\n      <td>-0.894575</td>\n      <td>0.195532</td>\n      <td>-0.529101</td>\n      <td>0.136768</td>\n      <td>...</td>\n      <td>0</td>\n      <td>1</td>\n      <td>0</td>\n      <td>1</td>\n      <td>0</td>\n      <td>0</td>\n      <td>0</td>\n      <td>1</td>\n      <td>1</td>\n      <td>0</td>\n    </tr>\n    <tr>\n      <th>1</th>\n      <td>1.0</td>\n      <td>0.569489</td>\n      <td>0</td>\n      <td>1.095170</td>\n      <td>0.195488</td>\n      <td>0.248058</td>\n      <td>-1.570646</td>\n      <td>0.285613</td>\n      <td>-0.456022</td>\n      <td>0.813132</td>\n      <td>...</td>\n      <td>0</td>\n      <td>1</td>\n      <td>0</td>\n      <td>1</td>\n      <td>0</td>\n      <td>0</td>\n      <td>0</td>\n      <td>1</td>\n      <td>1</td>\n      <td>0</td>\n    </tr>\n    <tr>\n      <th>2</th>\n      <td>0.0</td>\n      <td>14.152338</td>\n      <td>1</td>\n      <td>5.319790</td>\n      <td>-0.442126</td>\n      <td>1.292856</td>\n      <td>-1.431455</td>\n      <td>-0.605844</td>\n      <td>-1.395605</td>\n      <td>0.339677</td>\n      <td>...</td>\n      <td>0</td>\n      <td>1</td>\n      <td>0</td>\n      <td>1</td>\n      <td>0</td>\n      <td>0</td>\n      <td>1</td>\n      <td>0</td>\n      <td>1</td>\n      <td>0</td>\n    </tr>\n    <tr>\n      <th>3</th>\n      <td>0.0</td>\n      <td>14.152338</td>\n      <td>1</td>\n      <td>6.261636</td>\n      <td>-0.046806</td>\n      <td>1.292856</td>\n      <td>-1.172958</td>\n      <td>-0.512364</td>\n      <td>-1.259888</td>\n      <td>0.339677</td>\n      <td>...</td>\n      <td>0</td>\n      <td>1</td>\n      <td>0</td>\n      <td>1</td>\n      <td>0</td>\n      <td>0</td>\n      <td>1</td>\n      <td>0</td>\n      <td>1</td>\n      <td>0</td>\n    </tr>\n    <tr>\n      <th>4</th>\n      <td>0.0</td>\n      <td>14.152338</td>\n      <td>1</td>\n      <td>7.266455</td>\n      <td>0.293680</td>\n      <td>1.292856</td>\n      <td>-1.312149</td>\n      <td>-0.443529</td>\n      <td>-1.364286</td>\n      <td>0.339677</td>\n      <td>...</td>\n      <td>0</td>\n      <td>1</td>\n      <td>0</td>\n      <td>1</td>\n      <td>0</td>\n      <td>0</td>\n      <td>1</td>\n      <td>0</td>\n      <td>1</td>\n      <td>0</td>\n    </tr>\n  </tbody>\n</table>\n<p>5 rows × 25 columns</p>\n</div>"
     },
     "execution_count": 4,
     "metadata": {},
     "output_type": "execute_result"
    }
   ],
   "source": [
    "df.head()"
   ],
   "metadata": {
    "collapsed": false,
    "pycharm": {
     "name": "#%%\n"
    }
   }
  },
  {
   "cell_type": "code",
   "execution_count": 5,
   "outputs": [],
   "source": [
    "df_temp = df.loc[0:, ['seq_id', 'time']]\n",
    "df_event_time_temp = df.loc[0:, ['seq_id' ,'event', 'time']]\n",
    "df = df.drop(columns=['seq_time_id', 'event', 'time'])"
   ],
   "metadata": {
    "collapsed": false,
    "pycharm": {
     "name": "#%%\n"
    }
   }
  },
  {
   "cell_type": "code",
   "execution_count": 6,
   "outputs": [],
   "source": [
    "# df.rename(columns = {'seq_out_time_to_event':'duration', 'seq_out_event':'event'}, inplace = True)\n",
    "df.rename(columns = {'time':'duration'}, inplace = True)"
   ],
   "metadata": {
    "collapsed": false,
    "pycharm": {
     "name": "#%%\n"
    }
   }
  },
  {
   "cell_type": "code",
   "execution_count": 7,
   "outputs": [],
   "source": [
    "# Check sequence length\n",
    "def padded_mask_processing(df_train):\n",
    "  max_seq_length = df_train.groupby(\"seq_id\").size().max()\n",
    "  num_patients = len(df_train[\"seq_id\"].unique())\n",
    "  print(max_seq_length, max_seq_length)\n",
    "  padded_patients = []\n",
    "  masks = []\n",
    "  for patient_id, patient_data in df_train.groupby(\"seq_id\"):\n",
    "      padding_rows = max_seq_length - len(patient_data)\n",
    "\n",
    "      current_patients = torch.zeros(max_seq_length, df_train.shape[1])\n",
    "      curent_masks = torch.zeros(max_seq_length)\n",
    "      current_patients[:len(patient_data)] = torch.tensor(patient_data.to_numpy())\n",
    "      curent_masks[:len(patient_data)] = 1\n",
    "      masks.append(curent_masks)\n",
    "      padded_patients.append(current_patients)\n",
    "  padded_patients = torch.stack(padded_patients)\n",
    "  masks = torch.stack(masks)\n",
    "  padded_patients = padded_patients[:,:,1:]\n",
    "  return masks, padded_patients\n"
   ],
   "metadata": {
    "collapsed": false,
    "pycharm": {
     "name": "#%%\n"
    }
   }
  },
  {
   "cell_type": "code",
   "execution_count": 8,
   "outputs": [
    {
     "data": {
      "text/plain": "   seq_id  seq_temporal_SGOT  seq_temporal_age  seq_temporal_albumin  \\\n0       0          -1.485263          0.248058             -0.894575   \n1       0           0.195488          0.248058             -1.570646   \n2       1          -0.442126          1.292856             -1.431455   \n3       1          -0.046806          1.292856             -1.172958   \n4       1           0.293680          1.292856             -1.312149   \n\n   seq_temporal_alkaline  seq_temporal_platelets  seq_temporal_prothrombin  \\\n0               0.195532               -0.529101                  0.136768   \n1               0.285613               -0.456022                  0.813132   \n2              -0.605844               -1.395605                  0.339677   \n3              -0.512364               -1.259888                  0.339677   \n4              -0.443529               -1.364286                  0.339677   \n\n   seq_temporal_serBilir  seq_temporal_serChol  seq_static_sex_1.0  ...  \\\n0               3.281890          1.169016e-16                   0  ...   \n1               2.015877         -4.694608e-01                   0  ...   \n2               0.172710         -6.589138e-01                   0  ...   \n3              -0.013468         -6.036567e-01                   0  ...   \n4               0.098239          1.169016e-16                   0  ...   \n\n   seq_temporal_drug_1.0  seq_temporal_edema_1.0  seq_temporal_edema_2.0  \\\n0                      0                       1                       0   \n1                      0                       1                       0   \n2                      0                       1                       0   \n3                      0                       1                       0   \n4                      0                       1                       0   \n\n   seq_temporal_hepatomegaly_1.0  seq_temporal_hepatomegaly_2.0  \\\n0                              1                              0   \n1                              1                              0   \n2                              1                              0   \n3                              1                              0   \n4                              1                              0   \n\n   seq_temporal_histologic_1.0  seq_temporal_histologic_2.0  \\\n0                            0                            0   \n1                            0                            0   \n2                            0                            1   \n3                            0                            1   \n4                            0                            1   \n\n   seq_temporal_histologic_3.0  seq_temporal_spiders_1.0  \\\n0                            1                         1   \n1                            1                         1   \n2                            0                         1   \n3                            0                         1   \n4                            0                         1   \n\n   seq_temporal_spiders_2.0  \n0                         0  \n1                         0  \n2                         0  \n3                         0  \n4                         0  \n\n[5 rows x 22 columns]",
      "text/html": "<div>\n<style scoped>\n    .dataframe tbody tr th:only-of-type {\n        vertical-align: middle;\n    }\n\n    .dataframe tbody tr th {\n        vertical-align: top;\n    }\n\n    .dataframe thead th {\n        text-align: right;\n    }\n</style>\n<table border=\"1\" class=\"dataframe\">\n  <thead>\n    <tr style=\"text-align: right;\">\n      <th></th>\n      <th>seq_id</th>\n      <th>seq_temporal_SGOT</th>\n      <th>seq_temporal_age</th>\n      <th>seq_temporal_albumin</th>\n      <th>seq_temporal_alkaline</th>\n      <th>seq_temporal_platelets</th>\n      <th>seq_temporal_prothrombin</th>\n      <th>seq_temporal_serBilir</th>\n      <th>seq_temporal_serChol</th>\n      <th>seq_static_sex_1.0</th>\n      <th>...</th>\n      <th>seq_temporal_drug_1.0</th>\n      <th>seq_temporal_edema_1.0</th>\n      <th>seq_temporal_edema_2.0</th>\n      <th>seq_temporal_hepatomegaly_1.0</th>\n      <th>seq_temporal_hepatomegaly_2.0</th>\n      <th>seq_temporal_histologic_1.0</th>\n      <th>seq_temporal_histologic_2.0</th>\n      <th>seq_temporal_histologic_3.0</th>\n      <th>seq_temporal_spiders_1.0</th>\n      <th>seq_temporal_spiders_2.0</th>\n    </tr>\n  </thead>\n  <tbody>\n    <tr>\n      <th>0</th>\n      <td>0</td>\n      <td>-1.485263</td>\n      <td>0.248058</td>\n      <td>-0.894575</td>\n      <td>0.195532</td>\n      <td>-0.529101</td>\n      <td>0.136768</td>\n      <td>3.281890</td>\n      <td>1.169016e-16</td>\n      <td>0</td>\n      <td>...</td>\n      <td>0</td>\n      <td>1</td>\n      <td>0</td>\n      <td>1</td>\n      <td>0</td>\n      <td>0</td>\n      <td>0</td>\n      <td>1</td>\n      <td>1</td>\n      <td>0</td>\n    </tr>\n    <tr>\n      <th>1</th>\n      <td>0</td>\n      <td>0.195488</td>\n      <td>0.248058</td>\n      <td>-1.570646</td>\n      <td>0.285613</td>\n      <td>-0.456022</td>\n      <td>0.813132</td>\n      <td>2.015877</td>\n      <td>-4.694608e-01</td>\n      <td>0</td>\n      <td>...</td>\n      <td>0</td>\n      <td>1</td>\n      <td>0</td>\n      <td>1</td>\n      <td>0</td>\n      <td>0</td>\n      <td>0</td>\n      <td>1</td>\n      <td>1</td>\n      <td>0</td>\n    </tr>\n    <tr>\n      <th>2</th>\n      <td>1</td>\n      <td>-0.442126</td>\n      <td>1.292856</td>\n      <td>-1.431455</td>\n      <td>-0.605844</td>\n      <td>-1.395605</td>\n      <td>0.339677</td>\n      <td>0.172710</td>\n      <td>-6.589138e-01</td>\n      <td>0</td>\n      <td>...</td>\n      <td>0</td>\n      <td>1</td>\n      <td>0</td>\n      <td>1</td>\n      <td>0</td>\n      <td>0</td>\n      <td>1</td>\n      <td>0</td>\n      <td>1</td>\n      <td>0</td>\n    </tr>\n    <tr>\n      <th>3</th>\n      <td>1</td>\n      <td>-0.046806</td>\n      <td>1.292856</td>\n      <td>-1.172958</td>\n      <td>-0.512364</td>\n      <td>-1.259888</td>\n      <td>0.339677</td>\n      <td>-0.013468</td>\n      <td>-6.036567e-01</td>\n      <td>0</td>\n      <td>...</td>\n      <td>0</td>\n      <td>1</td>\n      <td>0</td>\n      <td>1</td>\n      <td>0</td>\n      <td>0</td>\n      <td>1</td>\n      <td>0</td>\n      <td>1</td>\n      <td>0</td>\n    </tr>\n    <tr>\n      <th>4</th>\n      <td>1</td>\n      <td>0.293680</td>\n      <td>1.292856</td>\n      <td>-1.312149</td>\n      <td>-0.443529</td>\n      <td>-1.364286</td>\n      <td>0.339677</td>\n      <td>0.098239</td>\n      <td>1.169016e-16</td>\n      <td>0</td>\n      <td>...</td>\n      <td>0</td>\n      <td>1</td>\n      <td>0</td>\n      <td>1</td>\n      <td>0</td>\n      <td>0</td>\n      <td>1</td>\n      <td>0</td>\n      <td>1</td>\n      <td>0</td>\n    </tr>\n  </tbody>\n</table>\n<p>5 rows × 22 columns</p>\n</div>"
     },
     "execution_count": 8,
     "metadata": {},
     "output_type": "execute_result"
    }
   ],
   "source": [
    "df.head()"
   ],
   "metadata": {
    "collapsed": false,
    "pycharm": {
     "name": "#%%\n"
    }
   }
  },
  {
   "cell_type": "code",
   "execution_count": 9,
   "outputs": [
    {
     "name": "stdout",
     "output_type": "stream",
     "text": [
      "16 16\n"
     ]
    }
   ],
   "source": [
    "masks, padded_patients = padded_mask_processing(df)"
   ],
   "metadata": {
    "collapsed": false,
    "pycharm": {
     "name": "#%%\n"
    }
   }
  },
  {
   "cell_type": "code",
   "execution_count": 10,
   "outputs": [
    {
     "data": {
      "text/plain": "torch.Size([312, 16, 21])"
     },
     "execution_count": 10,
     "metadata": {},
     "output_type": "execute_result"
    }
   ],
   "source": [
    "padded_patients.shape"
   ],
   "metadata": {
    "collapsed": false,
    "pycharm": {
     "name": "#%%\n"
    }
   }
  },
  {
   "cell_type": "code",
   "execution_count": 11,
   "outputs": [
    {
     "data": {
      "text/plain": "torch.Size([312, 16])"
     },
     "execution_count": 11,
     "metadata": {},
     "output_type": "execute_result"
    }
   ],
   "source": [
    "masks.shape"
   ],
   "metadata": {
    "collapsed": false,
    "pycharm": {
     "name": "#%%\n"
    }
   }
  },
  {
   "cell_type": "code",
   "execution_count": 12,
   "outputs": [
    {
     "data": {
      "text/plain": "tensor([[-1.4853e+00,  2.4806e-01, -8.9458e-01,  1.9553e-01, -5.2910e-01,\n          1.3677e-01,  3.2819e+00,  1.1690e-16,  0.0000e+00,  1.0000e+00,\n          0.0000e+00,  0.0000e+00,  1.0000e+00,  0.0000e+00,  1.0000e+00,\n          0.0000e+00,  0.0000e+00,  0.0000e+00,  1.0000e+00,  1.0000e+00,\n          0.0000e+00],\n        [ 1.9549e-01,  2.4806e-01, -1.5706e+00,  2.8561e-01, -4.5602e-01,\n          8.1313e-01,  2.0159e+00, -4.6946e-01,  0.0000e+00,  1.0000e+00,\n          0.0000e+00,  0.0000e+00,  1.0000e+00,  0.0000e+00,  1.0000e+00,\n          0.0000e+00,  0.0000e+00,  0.0000e+00,  1.0000e+00,  1.0000e+00,\n          0.0000e+00],\n        [ 0.0000e+00,  0.0000e+00,  0.0000e+00,  0.0000e+00,  0.0000e+00,\n          0.0000e+00,  0.0000e+00,  0.0000e+00,  0.0000e+00,  0.0000e+00,\n          0.0000e+00,  0.0000e+00,  0.0000e+00,  0.0000e+00,  0.0000e+00,\n          0.0000e+00,  0.0000e+00,  0.0000e+00,  0.0000e+00,  0.0000e+00,\n          0.0000e+00],\n        [ 0.0000e+00,  0.0000e+00,  0.0000e+00,  0.0000e+00,  0.0000e+00,\n          0.0000e+00,  0.0000e+00,  0.0000e+00,  0.0000e+00,  0.0000e+00,\n          0.0000e+00,  0.0000e+00,  0.0000e+00,  0.0000e+00,  0.0000e+00,\n          0.0000e+00,  0.0000e+00,  0.0000e+00,  0.0000e+00,  0.0000e+00,\n          0.0000e+00],\n        [ 0.0000e+00,  0.0000e+00,  0.0000e+00,  0.0000e+00,  0.0000e+00,\n          0.0000e+00,  0.0000e+00,  0.0000e+00,  0.0000e+00,  0.0000e+00,\n          0.0000e+00,  0.0000e+00,  0.0000e+00,  0.0000e+00,  0.0000e+00,\n          0.0000e+00,  0.0000e+00,  0.0000e+00,  0.0000e+00,  0.0000e+00,\n          0.0000e+00],\n        [ 0.0000e+00,  0.0000e+00,  0.0000e+00,  0.0000e+00,  0.0000e+00,\n          0.0000e+00,  0.0000e+00,  0.0000e+00,  0.0000e+00,  0.0000e+00,\n          0.0000e+00,  0.0000e+00,  0.0000e+00,  0.0000e+00,  0.0000e+00,\n          0.0000e+00,  0.0000e+00,  0.0000e+00,  0.0000e+00,  0.0000e+00,\n          0.0000e+00],\n        [ 0.0000e+00,  0.0000e+00,  0.0000e+00,  0.0000e+00,  0.0000e+00,\n          0.0000e+00,  0.0000e+00,  0.0000e+00,  0.0000e+00,  0.0000e+00,\n          0.0000e+00,  0.0000e+00,  0.0000e+00,  0.0000e+00,  0.0000e+00,\n          0.0000e+00,  0.0000e+00,  0.0000e+00,  0.0000e+00,  0.0000e+00,\n          0.0000e+00],\n        [ 0.0000e+00,  0.0000e+00,  0.0000e+00,  0.0000e+00,  0.0000e+00,\n          0.0000e+00,  0.0000e+00,  0.0000e+00,  0.0000e+00,  0.0000e+00,\n          0.0000e+00,  0.0000e+00,  0.0000e+00,  0.0000e+00,  0.0000e+00,\n          0.0000e+00,  0.0000e+00,  0.0000e+00,  0.0000e+00,  0.0000e+00,\n          0.0000e+00],\n        [ 0.0000e+00,  0.0000e+00,  0.0000e+00,  0.0000e+00,  0.0000e+00,\n          0.0000e+00,  0.0000e+00,  0.0000e+00,  0.0000e+00,  0.0000e+00,\n          0.0000e+00,  0.0000e+00,  0.0000e+00,  0.0000e+00,  0.0000e+00,\n          0.0000e+00,  0.0000e+00,  0.0000e+00,  0.0000e+00,  0.0000e+00,\n          0.0000e+00],\n        [ 0.0000e+00,  0.0000e+00,  0.0000e+00,  0.0000e+00,  0.0000e+00,\n          0.0000e+00,  0.0000e+00,  0.0000e+00,  0.0000e+00,  0.0000e+00,\n          0.0000e+00,  0.0000e+00,  0.0000e+00,  0.0000e+00,  0.0000e+00,\n          0.0000e+00,  0.0000e+00,  0.0000e+00,  0.0000e+00,  0.0000e+00,\n          0.0000e+00],\n        [ 0.0000e+00,  0.0000e+00,  0.0000e+00,  0.0000e+00,  0.0000e+00,\n          0.0000e+00,  0.0000e+00,  0.0000e+00,  0.0000e+00,  0.0000e+00,\n          0.0000e+00,  0.0000e+00,  0.0000e+00,  0.0000e+00,  0.0000e+00,\n          0.0000e+00,  0.0000e+00,  0.0000e+00,  0.0000e+00,  0.0000e+00,\n          0.0000e+00],\n        [ 0.0000e+00,  0.0000e+00,  0.0000e+00,  0.0000e+00,  0.0000e+00,\n          0.0000e+00,  0.0000e+00,  0.0000e+00,  0.0000e+00,  0.0000e+00,\n          0.0000e+00,  0.0000e+00,  0.0000e+00,  0.0000e+00,  0.0000e+00,\n          0.0000e+00,  0.0000e+00,  0.0000e+00,  0.0000e+00,  0.0000e+00,\n          0.0000e+00],\n        [ 0.0000e+00,  0.0000e+00,  0.0000e+00,  0.0000e+00,  0.0000e+00,\n          0.0000e+00,  0.0000e+00,  0.0000e+00,  0.0000e+00,  0.0000e+00,\n          0.0000e+00,  0.0000e+00,  0.0000e+00,  0.0000e+00,  0.0000e+00,\n          0.0000e+00,  0.0000e+00,  0.0000e+00,  0.0000e+00,  0.0000e+00,\n          0.0000e+00],\n        [ 0.0000e+00,  0.0000e+00,  0.0000e+00,  0.0000e+00,  0.0000e+00,\n          0.0000e+00,  0.0000e+00,  0.0000e+00,  0.0000e+00,  0.0000e+00,\n          0.0000e+00,  0.0000e+00,  0.0000e+00,  0.0000e+00,  0.0000e+00,\n          0.0000e+00,  0.0000e+00,  0.0000e+00,  0.0000e+00,  0.0000e+00,\n          0.0000e+00],\n        [ 0.0000e+00,  0.0000e+00,  0.0000e+00,  0.0000e+00,  0.0000e+00,\n          0.0000e+00,  0.0000e+00,  0.0000e+00,  0.0000e+00,  0.0000e+00,\n          0.0000e+00,  0.0000e+00,  0.0000e+00,  0.0000e+00,  0.0000e+00,\n          0.0000e+00,  0.0000e+00,  0.0000e+00,  0.0000e+00,  0.0000e+00,\n          0.0000e+00],\n        [ 0.0000e+00,  0.0000e+00,  0.0000e+00,  0.0000e+00,  0.0000e+00,\n          0.0000e+00,  0.0000e+00,  0.0000e+00,  0.0000e+00,  0.0000e+00,\n          0.0000e+00,  0.0000e+00,  0.0000e+00,  0.0000e+00,  0.0000e+00,\n          0.0000e+00,  0.0000e+00,  0.0000e+00,  0.0000e+00,  0.0000e+00,\n          0.0000e+00]])"
     },
     "execution_count": 12,
     "metadata": {},
     "output_type": "execute_result"
    }
   ],
   "source": [
    "padded_patients[0]"
   ],
   "metadata": {
    "collapsed": false,
    "pycharm": {
     "name": "#%%\n"
    }
   }
  },
  {
   "cell_type": "code",
   "execution_count": 13,
   "outputs": [],
   "source": [
    "df_y = df_event_time_temp.drop_duplicates(subset='seq_id', keep='last')"
   ],
   "metadata": {
    "collapsed": false,
    "pycharm": {
     "name": "#%%\n"
    }
   }
  },
  {
   "cell_type": "code",
   "execution_count": 14,
   "outputs": [],
   "source": [
    "df_y = df_y.reset_index(drop=True)"
   ],
   "metadata": {
    "collapsed": false,
    "pycharm": {
     "name": "#%%\n"
    }
   }
  },
  {
   "cell_type": "code",
   "execution_count": 15,
   "outputs": [],
   "source": [
    "df_y = df_y.drop(columns=['seq_id'])"
   ],
   "metadata": {
    "collapsed": false,
    "pycharm": {
     "name": "#%%\n"
    }
   }
  },
  {
   "cell_type": "code",
   "execution_count": 16,
   "outputs": [
    {
     "data": {
      "text/plain": "   event       time\n0    1.0   0.569489\n1    0.0  14.152338\n2    1.0   0.736502\n3    1.0   0.276531\n4    0.0   4.120578",
      "text/html": "<div>\n<style scoped>\n    .dataframe tbody tr th:only-of-type {\n        vertical-align: middle;\n    }\n\n    .dataframe tbody tr th {\n        vertical-align: top;\n    }\n\n    .dataframe thead th {\n        text-align: right;\n    }\n</style>\n<table border=\"1\" class=\"dataframe\">\n  <thead>\n    <tr style=\"text-align: right;\">\n      <th></th>\n      <th>event</th>\n      <th>time</th>\n    </tr>\n  </thead>\n  <tbody>\n    <tr>\n      <th>0</th>\n      <td>1.0</td>\n      <td>0.569489</td>\n    </tr>\n    <tr>\n      <th>1</th>\n      <td>0.0</td>\n      <td>14.152338</td>\n    </tr>\n    <tr>\n      <th>2</th>\n      <td>1.0</td>\n      <td>0.736502</td>\n    </tr>\n    <tr>\n      <th>3</th>\n      <td>1.0</td>\n      <td>0.276531</td>\n    </tr>\n    <tr>\n      <th>4</th>\n      <td>0.0</td>\n      <td>4.120578</td>\n    </tr>\n  </tbody>\n</table>\n</div>"
     },
     "execution_count": 16,
     "metadata": {},
     "output_type": "execute_result"
    }
   ],
   "source": [
    "df_y.head()"
   ],
   "metadata": {
    "collapsed": false,
    "pycharm": {
     "name": "#%%\n"
    }
   }
  },
  {
   "cell_type": "code",
   "execution_count": 17,
   "outputs": [],
   "source": [
    "X_features_data_tensor = padded_patients\n",
    "Y_labels_data_tensor = torch.Tensor(df_y.values)"
   ],
   "metadata": {
    "collapsed": false,
    "pycharm": {
     "name": "#%%\n"
    }
   }
  },
  {
   "cell_type": "code",
   "execution_count": 18,
   "outputs": [],
   "source": [
    "import torch\n",
    "from torch.utils.data import TensorDataset\n",
    "\n",
    "X_train, X_val, y_train, y_val, masks_train, masks_val = train_test_split(X_features_data_tensor, Y_labels_data_tensor,\n",
    "                                                                          masks, test_size=0.3)\n",
    "train_data = TensorDataset(X_train, y_train, masks_train)\n",
    "val_data = TensorDataset(X_val, y_val, masks_val)"
   ],
   "metadata": {
    "collapsed": false,
    "pycharm": {
     "name": "#%%\n"
    }
   }
  },
  {
   "cell_type": "code",
   "execution_count": 19,
   "outputs": [
    {
     "data": {
      "text/plain": "torch.Size([218, 16, 21])"
     },
     "execution_count": 19,
     "metadata": {},
     "output_type": "execute_result"
    }
   ],
   "source": [
    "X_train.shape"
   ],
   "metadata": {
    "collapsed": false,
    "pycharm": {
     "name": "#%%\n"
    }
   }
  },
  {
   "cell_type": "code",
   "execution_count": 20,
   "outputs": [
    {
     "data": {
      "text/plain": "torch.Size([218, 2])"
     },
     "execution_count": 20,
     "metadata": {},
     "output_type": "execute_result"
    }
   ],
   "source": [
    "y_train.shape"
   ],
   "metadata": {
    "collapsed": false,
    "pycharm": {
     "name": "#%%\n"
    }
   }
  },
  {
   "cell_type": "code",
   "execution_count": 21,
   "outputs": [
    {
     "name": "stdout",
     "output_type": "stream",
     "text": [
      "torch.Size([4, 21])\n"
     ]
    }
   ],
   "source": [
    "from model.custom_model_survtrace import Custom_SurvTrace\n",
    "\n",
    "model = Custom_SurvTrace(STConfig)\n",
    "a = masks_train[0:4]\n",
    "# print(X_train[0].shape)\n",
    "# print(X_train[0].unsqueeze(0).shape)\n",
    "output = model(input_nums = X_train[0:4], our_mask = a)"
   ],
   "metadata": {
    "collapsed": false,
    "pycharm": {
     "name": "#%%\n"
    }
   }
  },
  {
   "cell_type": "code",
   "execution_count": 22,
   "outputs": [
    {
     "data": {
      "text/plain": "((tensor([[[-1.7078e-04,  1.3087e-05, -7.9956e-05,  ..., -1.1270e-04,\n             7.1550e-05, -3.5457e-05],\n           [-1.6163e-04,  1.9880e-05,  1.9303e-04,  ...,  5.0802e-05,\n            -6.5775e-05,  3.3731e-04],\n           [ 1.0822e-04,  3.5568e-05,  9.1149e-05,  ...,  3.6070e-05,\n             5.0647e-05, -2.2794e-05],\n           ...,\n           [ 2.0328e-03,  1.9553e-03, -1.4191e-03,  ...,  3.7438e-04,\n            -1.0329e-04, -2.4697e-03],\n           [ 8.4235e-05,  2.5445e-04,  5.9989e-04,  ...,  4.2486e-04,\n            -3.4781e-04, -7.8210e-04],\n           [-2.3195e-04, -5.2743e-05,  1.2989e-03,  ...,  6.6997e-05,\n            -1.7274e-04,  4.5446e-04]],\n  \n          [[ 5.3063e-04, -4.0662e-05,  2.4843e-04,  ...,  3.5016e-04,\n            -2.2231e-04,  1.1017e-04],\n           [ 3.6755e-04, -4.5205e-05, -4.3895e-04,  ..., -1.1552e-04,\n             1.4957e-04, -7.6702e-04],\n           [-1.3747e-04, -4.5180e-05, -1.1578e-04,  ..., -4.5818e-05,\n            -6.4335e-05,  2.8954e-05],\n           ...,\n           [ 4.5528e-04,  4.3792e-04, -3.1783e-04,  ...,  8.3849e-05,\n            -2.3134e-05, -5.5313e-04],\n           [ 7.1483e-05,  2.1593e-04,  5.0907e-04,  ...,  3.6054e-04,\n            -2.9516e-04, -6.6370e-04],\n           [-1.9259e-04, -4.3794e-05,  1.0785e-03,  ...,  5.5629e-05,\n            -1.4343e-04,  3.7735e-04]],\n  \n          [[-1.5292e-04,  1.1719e-05, -7.1597e-05,  ..., -1.0091e-04,\n             6.4070e-05, -3.1750e-05],\n           [ 6.2120e-04, -7.6403e-05, -7.4189e-04,  ..., -1.9524e-04,\n             2.5279e-04, -1.2964e-03],\n           [ 8.5507e-05,  2.8102e-05,  7.2017e-05,  ...,  2.8499e-05,\n             4.0016e-05, -1.8009e-05],\n           ...,\n           [ 2.1674e-04,  2.0848e-04, -1.5131e-04,  ...,  3.9918e-05,\n            -1.1013e-05, -2.6333e-04],\n           [ 1.6948e-04,  5.1195e-04,  1.2070e-03,  ...,  8.5482e-04,\n            -6.9981e-04, -1.5736e-03],\n           [-2.2175e-04, -5.0425e-05,  1.2418e-03,  ...,  6.4052e-05,\n            -1.6515e-04,  4.3448e-04]],\n  \n          [[-7.3896e-05,  5.6627e-06, -3.4597e-05,  ..., -4.8764e-05,\n             3.0960e-05, -1.5342e-05],\n           [ 2.1548e-04, -2.6502e-05, -2.5734e-04,  ..., -6.7725e-05,\n             8.7686e-05, -4.4967e-04],\n           [ 9.9025e-05,  3.2545e-05,  8.3402e-05,  ...,  3.3004e-05,\n             4.6342e-05, -2.0856e-05],\n           ...,\n           [ 1.2198e-03,  1.1733e-03, -8.5158e-04,  ...,  2.2466e-04,\n            -6.1983e-05, -1.4820e-03],\n           [ 1.2005e-04,  3.6263e-04,  8.5493e-04,  ...,  6.0549e-04,\n            -4.9569e-04, -1.1146e-03],\n           [-2.3843e-04, -5.4217e-05,  1.3352e-03,  ...,  6.8870e-05,\n            -1.7757e-04,  4.6716e-04]]], grad_fn=<CatBackward0>),\n  tensor([[[-1.5233e+00,  5.4537e-01, -5.0144e-01,  ..., -8.6971e-01,\n             1.2032e+00, -6.9235e-04],\n           [-1.1507e+00,  1.5517e-01,  1.4008e+00,  ...,  3.7766e-01,\n            -4.6102e-01,  2.4388e+00],\n           [ 7.8104e-01, -5.9342e-02,  5.8356e-01,  ..., -5.3402e-02,\n             1.1513e-01, -7.3429e-01],\n           ...,\n           [ 1.5065e+00,  1.4571e+00, -6.9241e-01,  ...,  4.5005e-01,\n             1.4576e-01, -1.3616e+00],\n           [ 1.1945e-01,  5.1933e-01,  1.3310e+00,  ...,  9.1973e-01,\n            -8.9564e-01, -1.9159e+00],\n           [-3.4964e-01, -1.7145e-01,  1.1726e+00,  ..., -5.2378e-02,\n            -2.9075e-01,  3.3293e-01]],\n  \n          [[ 1.5232e+00, -5.4541e-01,  5.0139e-01,  ...,  8.6978e-01,\n            -1.2032e+00,  7.4196e-04],\n           [ 1.1507e+00, -1.5519e-01, -1.4009e+00,  ..., -3.7761e-01,\n             4.6104e-01, -2.4388e+00],\n           [-7.8108e-01,  5.9303e-02, -5.8362e-01,  ...,  5.3485e-02,\n            -1.1508e-01,  7.3435e-01],\n           ...,\n           [ 1.5065e+00,  1.4571e+00, -6.9242e-01,  ...,  4.5005e-01,\n             1.4576e-01, -1.3616e+00],\n           [ 1.1945e-01,  5.1933e-01,  1.3310e+00,  ...,  9.1973e-01,\n            -8.9563e-01, -1.9159e+00],\n           [-3.4964e-01, -1.7144e-01,  1.1726e+00,  ..., -5.2380e-02,\n            -2.9075e-01,  3.3293e-01]],\n  \n          [[-1.5232e+00,  5.4539e-01, -5.0139e-01,  ..., -8.6976e-01,\n             1.2032e+00, -7.4172e-04],\n           [ 1.1506e+00, -1.5520e-01, -1.4009e+00,  ..., -3.7761e-01,\n             4.6104e-01, -2.4388e+00],\n           [ 7.8104e-01, -5.9313e-02,  5.8358e-01,  ..., -5.3428e-02,\n             1.1512e-01, -7.3432e-01],\n           ...,\n           [ 1.5065e+00,  1.4571e+00, -6.9242e-01,  ...,  4.5007e-01,\n             1.4576e-01, -1.3616e+00],\n           [ 1.1945e-01,  5.1933e-01,  1.3310e+00,  ...,  9.1973e-01,\n            -8.9564e-01, -1.9159e+00],\n           [-3.4964e-01, -1.7144e-01,  1.1726e+00,  ..., -5.2380e-02,\n            -2.9075e-01,  3.3293e-01]],\n  \n          [[-1.5233e+00,  5.4534e-01, -5.0147e-01,  ..., -8.6964e-01,\n             1.2032e+00, -6.5193e-04],\n           [ 1.1506e+00, -1.5520e-01, -1.4009e+00,  ..., -3.7759e-01,\n             4.6104e-01, -2.4388e+00],\n           [ 7.8105e-01, -5.9329e-02,  5.8359e-01,  ..., -5.3427e-02,\n             1.1512e-01, -7.3432e-01],\n           ...,\n           [ 1.5065e+00,  1.4571e+00, -6.9241e-01,  ...,  4.5005e-01,\n             1.4576e-01, -1.3616e+00],\n           [ 1.1945e-01,  5.1933e-01,  1.3310e+00,  ...,  9.1973e-01,\n            -8.9564e-01, -1.9159e+00],\n           [-3.4964e-01, -1.7145e-01,  1.1726e+00,  ..., -5.2379e-02,\n            -2.9075e-01,  3.3293e-01]]], grad_fn=<NativeLayerNormBackward0>),\n  tensor([[[-1.5233e+00,  5.4535e-01, -5.0143e-01,  ..., -8.6971e-01,\n             1.2032e+00, -6.7153e-04],\n           [-1.1507e+00,  1.5519e-01,  1.4008e+00,  ...,  3.7768e-01,\n            -4.6102e-01,  2.4388e+00],\n           [ 7.8105e-01, -5.9372e-02,  5.8354e-01,  ..., -5.3402e-02,\n             1.1513e-01, -7.3428e-01],\n           ...,\n           [ 1.5065e+00,  1.4570e+00, -6.9241e-01,  ...,  4.5002e-01,\n             1.4575e-01, -1.3616e+00],\n           [ 1.1946e-01,  5.1929e-01,  1.3310e+00,  ...,  9.1971e-01,\n            -8.9564e-01, -1.9159e+00],\n           [-3.4961e-01, -1.7148e-01,  1.1726e+00,  ..., -5.2385e-02,\n            -2.9073e-01,  3.3293e-01]],\n  \n          [[ 1.5232e+00, -5.4539e-01,  5.0136e-01,  ...,  8.6979e-01,\n            -1.2032e+00,  7.1605e-04],\n           [ 1.1507e+00, -1.5522e-01, -1.4009e+00,  ..., -3.7763e-01,\n             4.6105e-01, -2.4388e+00],\n           [-7.8109e-01,  5.9327e-02, -5.8361e-01,  ...,  5.3489e-02,\n            -1.1509e-01,  7.3433e-01],\n           ...,\n           [ 1.5065e+00,  1.4571e+00, -6.9242e-01,  ...,  4.5001e-01,\n             1.4576e-01, -1.3616e+00],\n           [ 1.1946e-01,  5.1931e-01,  1.3310e+00,  ...,  9.1971e-01,\n            -8.9564e-01, -1.9160e+00],\n           [-3.4961e-01, -1.7147e-01,  1.1726e+00,  ..., -5.2392e-02,\n            -2.9073e-01,  3.3293e-01]],\n  \n          [[-1.5233e+00,  5.4537e-01, -5.0137e-01,  ..., -8.6977e-01,\n             1.2032e+00, -7.2095e-04],\n           [ 1.1507e+00, -1.5523e-01, -1.4009e+00,  ..., -3.7762e-01,\n             4.6104e-01, -2.4388e+00],\n           [ 7.8104e-01, -5.9337e-02,  5.8356e-01,  ..., -5.3432e-02,\n             1.1513e-01, -7.3431e-01],\n           ...,\n           [ 1.5065e+00,  1.4570e+00, -6.9242e-01,  ...,  4.5003e-01,\n             1.4576e-01, -1.3616e+00],\n           [ 1.1946e-01,  5.1930e-01,  1.3310e+00,  ...,  9.1971e-01,\n            -8.9564e-01, -1.9160e+00],\n           [-3.4961e-01, -1.7147e-01,  1.1727e+00,  ..., -5.2389e-02,\n            -2.9073e-01,  3.3293e-01]],\n  \n          [[-1.5233e+00,  5.4532e-01, -5.0146e-01,  ..., -8.6964e-01,\n             1.2032e+00, -6.2951e-04],\n           [ 1.1506e+00, -1.5524e-01, -1.4009e+00,  ..., -3.7760e-01,\n             4.6104e-01, -2.4388e+00],\n           [ 7.8105e-01, -5.9359e-02,  5.8357e-01,  ..., -5.3429e-02,\n             1.1512e-01, -7.3431e-01],\n           ...,\n           [ 1.5065e+00,  1.4570e+00, -6.9241e-01,  ...,  4.5002e-01,\n             1.4575e-01, -1.3616e+00],\n           [ 1.1946e-01,  5.1929e-01,  1.3310e+00,  ...,  9.1971e-01,\n            -8.9564e-01, -1.9159e+00],\n           [-3.4961e-01, -1.7148e-01,  1.1727e+00,  ..., -5.2388e-02,\n            -2.9073e-01,  3.3293e-01]]], grad_fn=<NativeLayerNormBackward0>),\n  tensor([[[-1.5233e+00,  5.4533e-01, -5.0142e-01,  ..., -8.6972e-01,\n             1.2032e+00, -6.4830e-04],\n           [-1.1507e+00,  1.5520e-01,  1.4008e+00,  ...,  3.7768e-01,\n            -4.6100e-01,  2.4388e+00],\n           [ 7.8107e-01, -5.9368e-02,  5.8352e-01,  ..., -5.3393e-02,\n             1.1512e-01, -7.3427e-01],\n           ...,\n           [ 1.5066e+00,  1.4571e+00, -6.9243e-01,  ...,  4.5001e-01,\n             1.4575e-01, -1.3616e+00],\n           [ 1.1953e-01,  5.1931e-01,  1.3309e+00,  ...,  9.1971e-01,\n            -8.9564e-01, -1.9159e+00],\n           [-3.4965e-01, -1.7149e-01,  1.1726e+00,  ..., -5.2415e-02,\n            -2.9069e-01,  3.3297e-01]],\n  \n          [[ 1.5233e+00, -5.4535e-01,  5.0134e-01,  ...,  8.6980e-01,\n            -1.2032e+00,  6.9352e-04],\n           [ 1.1507e+00, -1.5521e-01, -1.4009e+00,  ..., -3.7762e-01,\n             4.6103e-01, -2.4388e+00],\n           [-7.8111e-01,  5.9344e-02, -5.8361e-01,  ...,  5.3487e-02,\n            -1.1508e-01,  7.3433e-01],\n           ...,\n           [ 1.5065e+00,  1.4571e+00, -6.9244e-01,  ...,  4.5001e-01,\n             1.4576e-01, -1.3616e+00],\n           [ 1.1952e-01,  5.1933e-01,  1.3309e+00,  ...,  9.1971e-01,\n            -8.9563e-01, -1.9159e+00],\n           [-3.4965e-01, -1.7148e-01,  1.1726e+00,  ..., -5.2420e-02,\n            -2.9069e-01,  3.3297e-01]],\n  \n          [[-1.5233e+00,  5.4534e-01, -5.0137e-01,  ..., -8.6978e-01,\n             1.2032e+00, -7.0105e-04],\n           [ 1.1507e+00, -1.5523e-01, -1.4009e+00,  ..., -3.7762e-01,\n             4.6102e-01, -2.4388e+00],\n           [ 7.8106e-01, -5.9341e-02,  5.8355e-01,  ..., -5.3430e-02,\n             1.1512e-01, -7.3431e-01],\n           ...,\n           [ 1.5065e+00,  1.4570e+00, -6.9244e-01,  ...,  4.5002e-01,\n             1.4576e-01, -1.3616e+00],\n           [ 1.1952e-01,  5.1931e-01,  1.3309e+00,  ...,  9.1970e-01,\n            -8.9563e-01, -1.9160e+00],\n           [-3.4965e-01, -1.7149e-01,  1.1726e+00,  ..., -5.2423e-02,\n            -2.9069e-01,  3.3296e-01]],\n  \n          [[-1.5234e+00,  5.4529e-01, -5.0144e-01,  ..., -8.6965e-01,\n             1.2032e+00, -6.1087e-04],\n           [ 1.1507e+00, -1.5524e-01, -1.4009e+00,  ..., -3.7760e-01,\n             4.6102e-01, -2.4387e+00],\n           [ 7.8108e-01, -5.9356e-02,  5.8356e-01,  ..., -5.3422e-02,\n             1.1511e-01, -7.3431e-01],\n           ...,\n           [ 1.5066e+00,  1.4570e+00, -6.9243e-01,  ...,  4.5001e-01,\n             1.4575e-01, -1.3616e+00],\n           [ 1.1952e-01,  5.1931e-01,  1.3309e+00,  ...,  9.1970e-01,\n            -8.9563e-01, -1.9159e+00],\n           [-3.4965e-01, -1.7150e-01,  1.1726e+00,  ..., -5.2418e-02,\n            -2.9069e-01,  3.3297e-01]]], grad_fn=<NativeLayerNormBackward0>)),\n tensor([[-2.6518e-03, -1.8539e-03,  4.0956e-03, -4.4364e-03],\n         [ 1.0526e-02, -2.6305e-03, -6.7438e-03, -1.1785e-02],\n         [-4.3477e-03,  1.0967e-02, -3.9019e-05,  6.8764e-03],\n         [-3.5260e-03, -6.4828e-03,  2.6872e-03,  9.3446e-03]],\n        grad_fn=<AddmmBackward0>))"
     },
     "execution_count": 22,
     "metadata": {},
     "output_type": "execute_result"
    }
   ],
   "source": [
    "output"
   ],
   "metadata": {
    "collapsed": false,
    "pycharm": {
     "name": "#%%\n"
    }
   }
  },
  {
   "cell_type": "code",
   "execution_count": 71,
   "outputs": [
    {
     "data": {
      "text/plain": "dict_keys(['data', 'num_durations', 'horizons', 'seed', 'checkpoint', 'vocab_size', 'hidden_size', 'intermediate_size', 'num_hidden_layers', 'num_attention_heads', 'hidden_dropout_prob', 'num_feature', 'num_numerical_feature', 'num_categorical_feature', 'out_feature', 'num_event', 'hidden_act', 'attention_probs_dropout_prob', 'early_stop_patience', 'initializer_range', 'layer_norm_eps', 'max_position_embeddings', 'chunk_size_feed_forward', 'output_attentions', 'output_hidden_states', 'tie_word_embeddings', 'pruned_heads'])"
     },
     "execution_count": 71,
     "metadata": {},
     "output_type": "execute_result"
    }
   ],
   "source": [
    "STConfig.keys()"
   ],
   "metadata": {
    "collapsed": false,
    "pycharm": {
     "name": "#%%\n"
    }
   }
  },
  {
   "cell_type": "code",
   "execution_count": 22,
   "outputs": [],
   "source": [
    "df_train=X_train\n",
    "df_y_train=y_train\n",
    "df_val=X_val\n",
    "df_y_val=y_val"
   ],
   "metadata": {
    "collapsed": false,
    "pycharm": {
     "name": "#%%\n"
    }
   }
  },
  {
   "cell_type": "code",
   "execution_count": null,
   "outputs": [],
   "source": [],
   "metadata": {
    "collapsed": false,
    "pycharm": {
     "name": "#%%\n"
    }
   }
  },
  {
   "cell_type": "code",
   "execution_count": 23,
   "outputs": [
    {
     "name": "stdout",
     "output_type": "stream",
     "text": [
      "GPU not found! will use cpu for training!\n",
      "train with single event\n"
     ]
    },
    {
     "ename": "IndexError",
     "evalue": "too many indices for tensor of dimension 2",
     "output_type": "error",
     "traceback": [
      "\u001B[0;31m---------------------------------------------------------------------------\u001B[0m",
      "\u001B[0;31mIndexError\u001B[0m                                Traceback (most recent call last)",
      "Cell \u001B[0;32mIn[23], line 6\u001B[0m\n\u001B[1;32m      4\u001B[0m \u001B[38;5;66;03m# initialize a trainer\u001B[39;00m\n\u001B[1;32m      5\u001B[0m trainer \u001B[38;5;241m=\u001B[39m Trainer(model)\n\u001B[0;32m----> 6\u001B[0m train_loss, val_loss \u001B[38;5;241m=\u001B[39m \u001B[43mtrainer\u001B[49m\u001B[38;5;241;43m.\u001B[39;49m\u001B[43mfit\u001B[49m\u001B[43m(\u001B[49m\u001B[43m(\u001B[49m\u001B[43mdf_train\u001B[49m\u001B[43m,\u001B[49m\u001B[43m \u001B[49m\u001B[43mdf_y_train\u001B[49m\u001B[43m)\u001B[49m\u001B[43m,\u001B[49m\u001B[43m \u001B[49m\u001B[43m(\u001B[49m\u001B[43mdf_val\u001B[49m\u001B[43m,\u001B[49m\u001B[43m \u001B[49m\u001B[43mdf_y_val\u001B[49m\u001B[43m)\u001B[49m\u001B[43m,\u001B[49m\n\u001B[1;32m      7\u001B[0m \u001B[43m        \u001B[49m\u001B[43mbatch_size\u001B[49m\u001B[38;5;241;43m=\u001B[39;49m\u001B[38;5;241;43m16\u001B[39;49m\u001B[43m,\u001B[49m\n\u001B[1;32m      8\u001B[0m \u001B[43m        \u001B[49m\u001B[43mepochs\u001B[49m\u001B[38;5;241;43m=\u001B[39;49m\u001B[43mhparams\u001B[49m\u001B[43m[\u001B[49m\u001B[38;5;124;43m'\u001B[39;49m\u001B[38;5;124;43mepochs\u001B[39;49m\u001B[38;5;124;43m'\u001B[39;49m\u001B[43m]\u001B[49m\u001B[43m,\u001B[49m\n\u001B[1;32m      9\u001B[0m \u001B[43m        \u001B[49m\u001B[43mlearning_rate\u001B[49m\u001B[38;5;241;43m=\u001B[39;49m\u001B[43mhparams\u001B[49m\u001B[43m[\u001B[49m\u001B[38;5;124;43m'\u001B[39;49m\u001B[38;5;124;43mlearning_rate\u001B[39;49m\u001B[38;5;124;43m'\u001B[39;49m\u001B[43m]\u001B[49m\u001B[43m,\u001B[49m\n\u001B[1;32m     10\u001B[0m \u001B[43m        \u001B[49m\u001B[43mweight_decay\u001B[49m\u001B[38;5;241;43m=\u001B[39;49m\u001B[43mhparams\u001B[49m\u001B[43m[\u001B[49m\u001B[38;5;124;43m'\u001B[39;49m\u001B[38;5;124;43mweight_decay\u001B[39;49m\u001B[38;5;124;43m'\u001B[39;49m\u001B[43m]\u001B[49m\u001B[43m,\u001B[49m\u001B[43m)\u001B[49m\n",
      "File \u001B[0;32m~/Documents/GitHub/Surtimesurvival/SurvTRACE/survtrace/train_utils.py:508\u001B[0m, in \u001B[0;36mTrainer.fit\u001B[0;34m(self, train_set, val_set, batch_size, epochs, learning_rate, weight_decay, val_batch_size, **kwargs)\u001B[0m\n\u001B[1;32m    506\u001B[0m \u001B[38;5;28;01mif\u001B[39;00m \u001B[38;5;28mself\u001B[39m\u001B[38;5;241m.\u001B[39mmodel\u001B[38;5;241m.\u001B[39mconfig\u001B[38;5;241m.\u001B[39mnum_event \u001B[38;5;241m==\u001B[39m \u001B[38;5;241m1\u001B[39m:\n\u001B[1;32m    507\u001B[0m     \u001B[38;5;28mprint\u001B[39m(\u001B[38;5;124m\"\u001B[39m\u001B[38;5;124mtrain with single event\u001B[39m\u001B[38;5;124m\"\u001B[39m)\n\u001B[0;32m--> 508\u001B[0m     \u001B[38;5;28;01mreturn\u001B[39;00m \u001B[38;5;28;43mself\u001B[39;49m\u001B[38;5;241;43m.\u001B[39;49m\u001B[43mtrain_single_event\u001B[49m\u001B[43m(\u001B[49m\n\u001B[1;32m    509\u001B[0m \u001B[43m        \u001B[49m\u001B[43mtrain_set\u001B[49m\u001B[38;5;241;43m=\u001B[39;49m\u001B[43mtrain_set\u001B[49m\u001B[43m,\u001B[49m\n\u001B[1;32m    510\u001B[0m \u001B[43m        \u001B[49m\u001B[43mval_set\u001B[49m\u001B[38;5;241;43m=\u001B[39;49m\u001B[43mval_set\u001B[49m\u001B[43m,\u001B[49m\n\u001B[1;32m    511\u001B[0m \u001B[43m        \u001B[49m\u001B[43mbatch_size\u001B[49m\u001B[38;5;241;43m=\u001B[39;49m\u001B[43mbatch_size\u001B[49m\u001B[43m,\u001B[49m\n\u001B[1;32m    512\u001B[0m \u001B[43m        \u001B[49m\u001B[43mepochs\u001B[49m\u001B[38;5;241;43m=\u001B[39;49m\u001B[43mepochs\u001B[49m\u001B[43m,\u001B[49m\n\u001B[1;32m    513\u001B[0m \u001B[43m        \u001B[49m\u001B[43mlearning_rate\u001B[49m\u001B[38;5;241;43m=\u001B[39;49m\u001B[43mlearning_rate\u001B[49m\u001B[43m,\u001B[49m\n\u001B[1;32m    514\u001B[0m \u001B[43m        \u001B[49m\u001B[43mweight_decay\u001B[49m\u001B[38;5;241;43m=\u001B[39;49m\u001B[43mweight_decay\u001B[49m\u001B[43m,\u001B[49m\n\u001B[1;32m    515\u001B[0m \u001B[43m        \u001B[49m\u001B[43mval_batch_size\u001B[49m\u001B[38;5;241;43m=\u001B[39;49m\u001B[43mval_batch_size\u001B[49m\u001B[43m,\u001B[49m\n\u001B[1;32m    516\u001B[0m \u001B[43m        \u001B[49m\u001B[38;5;241;43m*\u001B[39;49m\u001B[38;5;241;43m*\u001B[39;49m\u001B[43mkwargs\u001B[49m\u001B[43m,\u001B[49m\n\u001B[1;32m    517\u001B[0m \u001B[43m    \u001B[49m\u001B[43m)\u001B[49m\n\u001B[1;32m    519\u001B[0m \u001B[38;5;28;01melif\u001B[39;00m \u001B[38;5;28mself\u001B[39m\u001B[38;5;241m.\u001B[39mmodel\u001B[38;5;241m.\u001B[39mconfig\u001B[38;5;241m.\u001B[39mnum_event \u001B[38;5;241m>\u001B[39m \u001B[38;5;241m1\u001B[39m:\n\u001B[1;32m    520\u001B[0m     \u001B[38;5;28mprint\u001B[39m(\u001B[38;5;124m\"\u001B[39m\u001B[38;5;124mtrain with multiple events\u001B[39m\u001B[38;5;124m\"\u001B[39m)\n",
      "File \u001B[0;32m~/Documents/GitHub/Surtimesurvival/SurvTRACE/survtrace/train_utils.py:287\u001B[0m, in \u001B[0;36mTrainer.train_single_event\u001B[0;34m(self, train_set, val_set, batch_size, epochs, learning_rate, weight_decay, val_batch_size, **kwargs)\u001B[0m\n\u001B[1;32m    275\u001B[0m \u001B[38;5;28;01mdef\u001B[39;00m \u001B[38;5;21mtrain_single_event\u001B[39m(\u001B[38;5;28mself\u001B[39m,\n\u001B[1;32m    276\u001B[0m                        train_set,\n\u001B[1;32m    277\u001B[0m                        val_set\u001B[38;5;241m=\u001B[39m\u001B[38;5;28;01mNone\u001B[39;00m,\n\u001B[0;32m   (...)\u001B[0m\n\u001B[1;32m    283\u001B[0m                        \u001B[38;5;241m*\u001B[39m\u001B[38;5;241m*\u001B[39mkwargs,\n\u001B[1;32m    284\u001B[0m                        ):\n\u001B[1;32m    286\u001B[0m     df_train, df_y_train \u001B[38;5;241m=\u001B[39m train_set\n\u001B[0;32m--> 287\u001B[0m     durations_train, events_train \u001B[38;5;241m=\u001B[39m \u001B[38;5;28;43mself\u001B[39;49m\u001B[38;5;241;43m.\u001B[39;49m\u001B[43mget_target\u001B[49m\u001B[43m(\u001B[49m\u001B[43mdf_y_train\u001B[49m\u001B[43m)\u001B[49m\n\u001B[1;32m    289\u001B[0m     \u001B[38;5;28;01mif\u001B[39;00m val_set \u001B[38;5;129;01mis\u001B[39;00m \u001B[38;5;129;01mnot\u001B[39;00m \u001B[38;5;28;01mNone\u001B[39;00m:\n\u001B[1;32m    290\u001B[0m         df_val, df_y_val \u001B[38;5;241m=\u001B[39m val_set\n",
      "File \u001B[0;32m~/Documents/GitHub/Surtimesurvival/SurvTRACE/survtrace/train_utils.py:261\u001B[0m, in \u001B[0;36mTrainer.__init__.<locals>.<lambda>\u001B[0;34m(df)\u001B[0m\n\u001B[1;32m    258\u001B[0m     \u001B[38;5;28mself\u001B[39m\u001B[38;5;241m.\u001B[39mmetrics \u001B[38;5;241m=\u001B[39m [NLLPCHazardLoss(), ]\n\u001B[1;32m    260\u001B[0m \u001B[38;5;28mself\u001B[39m\u001B[38;5;241m.\u001B[39mtrain_logs \u001B[38;5;241m=\u001B[39m defaultdict(\u001B[38;5;28mlist\u001B[39m)\n\u001B[0;32m--> 261\u001B[0m \u001B[38;5;28mself\u001B[39m\u001B[38;5;241m.\u001B[39mget_target \u001B[38;5;241m=\u001B[39m \u001B[38;5;28;01mlambda\u001B[39;00m df: (\u001B[43mdf\u001B[49m\u001B[43m[\u001B[49m\u001B[38;5;124;43m'\u001B[39;49m\u001B[38;5;124;43mduration\u001B[39;49m\u001B[38;5;124;43m'\u001B[39;49m\u001B[43m]\u001B[49m\u001B[38;5;241m.\u001B[39mvalues, df[\u001B[38;5;124m'\u001B[39m\u001B[38;5;124mevent\u001B[39m\u001B[38;5;124m'\u001B[39m]\u001B[38;5;241m.\u001B[39mvalues)\n\u001B[1;32m    262\u001B[0m \u001B[38;5;28mself\u001B[39m\u001B[38;5;241m.\u001B[39muse_gpu \u001B[38;5;241m=\u001B[39m \u001B[38;5;28;01mTrue\u001B[39;00m \u001B[38;5;28;01mif\u001B[39;00m torch\u001B[38;5;241m.\u001B[39mcuda\u001B[38;5;241m.\u001B[39mis_available() \u001B[38;5;28;01melse\u001B[39;00m \u001B[38;5;28;01mFalse\u001B[39;00m\n\u001B[1;32m    263\u001B[0m \u001B[38;5;28;01mif\u001B[39;00m \u001B[38;5;28mself\u001B[39m\u001B[38;5;241m.\u001B[39muse_gpu:\n",
      "\u001B[0;31mIndexError\u001B[0m: too many indices for tensor of dimension 2"
     ]
    }
   ],
   "source": [
    "# get model\n",
    "model = SurvTraceSingle(STConfig)\n",
    "\n",
    "# initialize a trainer\n",
    "trainer = Trainer(model)\n",
    "train_loss, val_loss = trainer.fit((df_train, df_y_train), (df_val, df_y_val),\n",
    "        batch_size=16,\n",
    "        epochs=hparams['epochs'],\n",
    "        learning_rate=hparams['learning_rate'],\n",
    "        weight_decay=hparams['weight_decay'],)"
   ],
   "metadata": {
    "collapsed": false,
    "pycharm": {
     "name": "#%%\n"
    }
   }
  },
  {
   "cell_type": "code",
   "execution_count": null,
   "outputs": [],
   "source": [],
   "metadata": {
    "collapsed": false,
    "pycharm": {
     "name": "#%%\n"
    }
   }
  }
 ],
 "metadata": {
  "kernelspec": {
   "display_name": "Python 3",
   "language": "python",
   "name": "python3"
  },
  "language_info": {
   "codemirror_mode": {
    "name": "ipython",
    "version": 2
   },
   "file_extension": ".py",
   "mimetype": "text/x-python",
   "name": "python",
   "nbconvert_exporter": "python",
   "pygments_lexer": "ipython2",
   "version": "2.7.6"
  }
 },
 "nbformat": 4,
 "nbformat_minor": 0
}