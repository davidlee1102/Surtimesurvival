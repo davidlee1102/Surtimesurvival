{
 "cells": [
  {
   "cell_type": "code",
   "execution_count": 134,
   "metadata": {
    "pycharm": {
     "name": "#%%\n"
    }
   },
   "outputs": [],
   "source": [
    "import numpy as np\n",
    "import pandas as pd\n",
    "\n",
    "from utils.cox_hazard_generating import time_failure_calculation"
   ]
  },
  {
   "cell_type": "code",
   "execution_count": 135,
   "metadata": {
    "pycharm": {
     "name": "#%%\n"
    }
   },
   "outputs": [],
   "source": [
    "PATH = \"/Users/davidlee/Documents/GitHub/Surtimesurvival/Data Project/Pycox Lib/support2_data_pycox_processed.csv\""
   ]
  },
  {
   "cell_type": "code",
   "execution_count": 136,
   "outputs": [],
   "source": [
    "df = pd.read_csv(PATH)"
   ],
   "metadata": {
    "collapsed": false,
    "pycharm": {
     "name": "#%%\n"
    }
   }
  },
  {
   "cell_type": "code",
   "execution_count": 137,
   "outputs": [
    {
     "data": {
      "text/plain": "   event    time        x0        x7        x8        x9       x10       x11  \\\n0      1    30.0  1.285896  2.712545 -1.340135 -0.764142  0.862546  0.730526   \n1      0  1527.0  1.090666 -1.097247 -0.961532 -0.764142  0.707008  0.730526   \n2      1    96.0 -2.511770  0.088821  1.467837  2.248417  0.147064 -1.246333   \n3      0   892.0 -0.611591 -1.061305  0.079626 -0.556379 -0.885730 -0.422642   \n4      1     7.0  0.587001 -0.701891  1.183885  1.729010  1.179852  1.389479   \n\n        x12       x13  ...  x2_9.0  x3_1.0  x3_2.0  x3_3.0  x3_4.0  x3_5.0  \\\n0  0.716630 -0.399353  ...       0       1       0       0       0       0   \n1 -0.253960 -0.517393  ...       0       1       0       0       0       0   \n2 -0.771692 -0.340261  ...       0       0       0       1       0       0   \n3 -0.394241 -0.576414  ...       0       0       0       1       0       0   \n4 -1.321610 -0.812530  ...       0       1       0       0       0       0   \n\n   x4_1.0  x5_1.0  x6_1.0  x6_2.0  \n0       0       0       0       0  \n1       0       0       1       0  \n2       0       0       1       0  \n3       0       0       0       0  \n4       0       0       0       0  \n\n[5 rows x 29 columns]",
      "text/html": "<div>\n<style scoped>\n    .dataframe tbody tr th:only-of-type {\n        vertical-align: middle;\n    }\n\n    .dataframe tbody tr th {\n        vertical-align: top;\n    }\n\n    .dataframe thead th {\n        text-align: right;\n    }\n</style>\n<table border=\"1\" class=\"dataframe\">\n  <thead>\n    <tr style=\"text-align: right;\">\n      <th></th>\n      <th>event</th>\n      <th>time</th>\n      <th>x0</th>\n      <th>x7</th>\n      <th>x8</th>\n      <th>x9</th>\n      <th>x10</th>\n      <th>x11</th>\n      <th>x12</th>\n      <th>x13</th>\n      <th>...</th>\n      <th>x2_9.0</th>\n      <th>x3_1.0</th>\n      <th>x3_2.0</th>\n      <th>x3_3.0</th>\n      <th>x3_4.0</th>\n      <th>x3_5.0</th>\n      <th>x4_1.0</th>\n      <th>x5_1.0</th>\n      <th>x6_1.0</th>\n      <th>x6_2.0</th>\n    </tr>\n  </thead>\n  <tbody>\n    <tr>\n      <th>0</th>\n      <td>1</td>\n      <td>30.0</td>\n      <td>1.285896</td>\n      <td>2.712545</td>\n      <td>-1.340135</td>\n      <td>-0.764142</td>\n      <td>0.862546</td>\n      <td>0.730526</td>\n      <td>0.716630</td>\n      <td>-0.399353</td>\n      <td>...</td>\n      <td>0</td>\n      <td>1</td>\n      <td>0</td>\n      <td>0</td>\n      <td>0</td>\n      <td>0</td>\n      <td>0</td>\n      <td>0</td>\n      <td>0</td>\n      <td>0</td>\n    </tr>\n    <tr>\n      <th>1</th>\n      <td>0</td>\n      <td>1527.0</td>\n      <td>1.090666</td>\n      <td>-1.097247</td>\n      <td>-0.961532</td>\n      <td>-0.764142</td>\n      <td>0.707008</td>\n      <td>0.730526</td>\n      <td>-0.253960</td>\n      <td>-0.517393</td>\n      <td>...</td>\n      <td>0</td>\n      <td>1</td>\n      <td>0</td>\n      <td>0</td>\n      <td>0</td>\n      <td>0</td>\n      <td>0</td>\n      <td>0</td>\n      <td>1</td>\n      <td>0</td>\n    </tr>\n    <tr>\n      <th>2</th>\n      <td>1</td>\n      <td>96.0</td>\n      <td>-2.511770</td>\n      <td>0.088821</td>\n      <td>1.467837</td>\n      <td>2.248417</td>\n      <td>0.147064</td>\n      <td>-1.246333</td>\n      <td>-0.771692</td>\n      <td>-0.340261</td>\n      <td>...</td>\n      <td>0</td>\n      <td>0</td>\n      <td>0</td>\n      <td>1</td>\n      <td>0</td>\n      <td>0</td>\n      <td>0</td>\n      <td>0</td>\n      <td>1</td>\n      <td>0</td>\n    </tr>\n    <tr>\n      <th>3</th>\n      <td>0</td>\n      <td>892.0</td>\n      <td>-0.611591</td>\n      <td>-1.061305</td>\n      <td>0.079626</td>\n      <td>-0.556379</td>\n      <td>-0.885730</td>\n      <td>-0.422642</td>\n      <td>-0.394241</td>\n      <td>-0.576414</td>\n      <td>...</td>\n      <td>0</td>\n      <td>0</td>\n      <td>0</td>\n      <td>1</td>\n      <td>0</td>\n      <td>0</td>\n      <td>0</td>\n      <td>0</td>\n      <td>0</td>\n      <td>0</td>\n    </tr>\n    <tr>\n      <th>4</th>\n      <td>1</td>\n      <td>7.0</td>\n      <td>0.587001</td>\n      <td>-0.701891</td>\n      <td>1.183885</td>\n      <td>1.729010</td>\n      <td>1.179852</td>\n      <td>1.389479</td>\n      <td>-1.321610</td>\n      <td>-0.812530</td>\n      <td>...</td>\n      <td>0</td>\n      <td>1</td>\n      <td>0</td>\n      <td>0</td>\n      <td>0</td>\n      <td>0</td>\n      <td>0</td>\n      <td>0</td>\n      <td>0</td>\n      <td>0</td>\n    </tr>\n  </tbody>\n</table>\n<p>5 rows × 29 columns</p>\n</div>"
     },
     "execution_count": 137,
     "metadata": {},
     "output_type": "execute_result"
    }
   ],
   "source": [
    "df.head()"
   ],
   "metadata": {
    "collapsed": false,
    "pycharm": {
     "name": "#%%\n"
    }
   }
  },
  {
   "cell_type": "code",
   "execution_count": 138,
   "outputs": [
    {
     "data": {
      "text/plain": "      event    time        x0        x7        x8        x9       x10  \\\n0         1    30.0  1.285896  2.712545 -1.340135 -0.764142  0.862546   \n1         0  1527.0  1.090666 -1.097247 -0.961532 -0.764142  0.707008   \n2         1    96.0 -2.511770  0.088821  1.467837  2.248417  0.147064   \n3         0   892.0 -0.611591 -1.061305  0.079626 -0.556379 -0.885730   \n4         1     7.0  0.587001 -0.701891  1.183885  1.729010  1.179852   \n...     ...     ...       ...       ...       ...       ...       ...   \n8868      1    36.0  1.180564  0.951415  0.395129  1.105722  1.976221   \n8869      1    49.0  0.636048 -1.133188 -0.740680  0.482434 -1.924746   \n8870      1     6.0  0.038450  0.376352  0.395129 -0.140854  1.260730   \n8871      1    10.0  0.818214  0.879532  0.395129  0.690197 -0.730192   \n8872      0   879.0 -1.478634 -0.270594  0.710631  0.066909  0.707008   \n\n           x11       x12       x13  ...  x2_9.0  x3_1.0  x3_2.0  x3_3.0  \\\n0     0.730526  0.716630 -0.399353  ...       0       1       0       0   \n1     0.730526 -0.253960 -0.517393  ...       0       1       0       0   \n2    -1.246333 -0.771692 -0.340261  ...       0       0       0       1   \n3    -0.422642 -0.394241 -0.576414  ...       0       0       0       1   \n4     1.389479 -1.321610 -0.812530  ...       0       1       0       0   \n...        ...       ...       ...  ...     ...     ...     ...     ...   \n8868 -0.422642  0.069570 -0.163129  ...       0       1       0       0   \n8869  0.236311 -0.480494  0.072951  ...       0       1       0       0   \n8870 -0.916857 -0.491236 -0.163129  ...       0       1       0       0   \n8871  0.401049  0.328226 -0.517393  ...       0       1       0       0   \n8872 -0.422642  0.867442 -0.281313  ...       0       0       1       0   \n\n      x3_4.0  x3_5.0  x4_1.0  x5_1.0  x6_1.0  x6_2.0  \n0          0       0       0       0       0       0  \n1          0       0       0       0       1       0  \n2          0       0       0       0       1       0  \n3          0       0       0       0       0       0  \n4          0       0       0       0       0       0  \n...      ...     ...     ...     ...     ...     ...  \n8868       0       0       0       0       1       0  \n8869       0       0       0       0       1       0  \n8870       0       0       0       0       0       1  \n8871       0       0       1       0       0       1  \n8872       0       0       0       0       1       0  \n\n[8873 rows x 29 columns]",
      "text/html": "<div>\n<style scoped>\n    .dataframe tbody tr th:only-of-type {\n        vertical-align: middle;\n    }\n\n    .dataframe tbody tr th {\n        vertical-align: top;\n    }\n\n    .dataframe thead th {\n        text-align: right;\n    }\n</style>\n<table border=\"1\" class=\"dataframe\">\n  <thead>\n    <tr style=\"text-align: right;\">\n      <th></th>\n      <th>event</th>\n      <th>time</th>\n      <th>x0</th>\n      <th>x7</th>\n      <th>x8</th>\n      <th>x9</th>\n      <th>x10</th>\n      <th>x11</th>\n      <th>x12</th>\n      <th>x13</th>\n      <th>...</th>\n      <th>x2_9.0</th>\n      <th>x3_1.0</th>\n      <th>x3_2.0</th>\n      <th>x3_3.0</th>\n      <th>x3_4.0</th>\n      <th>x3_5.0</th>\n      <th>x4_1.0</th>\n      <th>x5_1.0</th>\n      <th>x6_1.0</th>\n      <th>x6_2.0</th>\n    </tr>\n  </thead>\n  <tbody>\n    <tr>\n      <th>0</th>\n      <td>1</td>\n      <td>30.0</td>\n      <td>1.285896</td>\n      <td>2.712545</td>\n      <td>-1.340135</td>\n      <td>-0.764142</td>\n      <td>0.862546</td>\n      <td>0.730526</td>\n      <td>0.716630</td>\n      <td>-0.399353</td>\n      <td>...</td>\n      <td>0</td>\n      <td>1</td>\n      <td>0</td>\n      <td>0</td>\n      <td>0</td>\n      <td>0</td>\n      <td>0</td>\n      <td>0</td>\n      <td>0</td>\n      <td>0</td>\n    </tr>\n    <tr>\n      <th>1</th>\n      <td>0</td>\n      <td>1527.0</td>\n      <td>1.090666</td>\n      <td>-1.097247</td>\n      <td>-0.961532</td>\n      <td>-0.764142</td>\n      <td>0.707008</td>\n      <td>0.730526</td>\n      <td>-0.253960</td>\n      <td>-0.517393</td>\n      <td>...</td>\n      <td>0</td>\n      <td>1</td>\n      <td>0</td>\n      <td>0</td>\n      <td>0</td>\n      <td>0</td>\n      <td>0</td>\n      <td>0</td>\n      <td>1</td>\n      <td>0</td>\n    </tr>\n    <tr>\n      <th>2</th>\n      <td>1</td>\n      <td>96.0</td>\n      <td>-2.511770</td>\n      <td>0.088821</td>\n      <td>1.467837</td>\n      <td>2.248417</td>\n      <td>0.147064</td>\n      <td>-1.246333</td>\n      <td>-0.771692</td>\n      <td>-0.340261</td>\n      <td>...</td>\n      <td>0</td>\n      <td>0</td>\n      <td>0</td>\n      <td>1</td>\n      <td>0</td>\n      <td>0</td>\n      <td>0</td>\n      <td>0</td>\n      <td>1</td>\n      <td>0</td>\n    </tr>\n    <tr>\n      <th>3</th>\n      <td>0</td>\n      <td>892.0</td>\n      <td>-0.611591</td>\n      <td>-1.061305</td>\n      <td>0.079626</td>\n      <td>-0.556379</td>\n      <td>-0.885730</td>\n      <td>-0.422642</td>\n      <td>-0.394241</td>\n      <td>-0.576414</td>\n      <td>...</td>\n      <td>0</td>\n      <td>0</td>\n      <td>0</td>\n      <td>1</td>\n      <td>0</td>\n      <td>0</td>\n      <td>0</td>\n      <td>0</td>\n      <td>0</td>\n      <td>0</td>\n    </tr>\n    <tr>\n      <th>4</th>\n      <td>1</td>\n      <td>7.0</td>\n      <td>0.587001</td>\n      <td>-0.701891</td>\n      <td>1.183885</td>\n      <td>1.729010</td>\n      <td>1.179852</td>\n      <td>1.389479</td>\n      <td>-1.321610</td>\n      <td>-0.812530</td>\n      <td>...</td>\n      <td>0</td>\n      <td>1</td>\n      <td>0</td>\n      <td>0</td>\n      <td>0</td>\n      <td>0</td>\n      <td>0</td>\n      <td>0</td>\n      <td>0</td>\n      <td>0</td>\n    </tr>\n    <tr>\n      <th>...</th>\n      <td>...</td>\n      <td>...</td>\n      <td>...</td>\n      <td>...</td>\n      <td>...</td>\n      <td>...</td>\n      <td>...</td>\n      <td>...</td>\n      <td>...</td>\n      <td>...</td>\n      <td>...</td>\n      <td>...</td>\n      <td>...</td>\n      <td>...</td>\n      <td>...</td>\n      <td>...</td>\n      <td>...</td>\n      <td>...</td>\n      <td>...</td>\n      <td>...</td>\n      <td>...</td>\n    </tr>\n    <tr>\n      <th>8868</th>\n      <td>1</td>\n      <td>36.0</td>\n      <td>1.180564</td>\n      <td>0.951415</td>\n      <td>0.395129</td>\n      <td>1.105722</td>\n      <td>1.976221</td>\n      <td>-0.422642</td>\n      <td>0.069570</td>\n      <td>-0.163129</td>\n      <td>...</td>\n      <td>0</td>\n      <td>1</td>\n      <td>0</td>\n      <td>0</td>\n      <td>0</td>\n      <td>0</td>\n      <td>0</td>\n      <td>0</td>\n      <td>1</td>\n      <td>0</td>\n    </tr>\n    <tr>\n      <th>8869</th>\n      <td>1</td>\n      <td>49.0</td>\n      <td>0.636048</td>\n      <td>-1.133188</td>\n      <td>-0.740680</td>\n      <td>0.482434</td>\n      <td>-1.924746</td>\n      <td>0.236311</td>\n      <td>-0.480494</td>\n      <td>0.072951</td>\n      <td>...</td>\n      <td>0</td>\n      <td>1</td>\n      <td>0</td>\n      <td>0</td>\n      <td>0</td>\n      <td>0</td>\n      <td>0</td>\n      <td>0</td>\n      <td>1</td>\n      <td>0</td>\n    </tr>\n    <tr>\n      <th>8870</th>\n      <td>1</td>\n      <td>6.0</td>\n      <td>0.038450</td>\n      <td>0.376352</td>\n      <td>0.395129</td>\n      <td>-0.140854</td>\n      <td>1.260730</td>\n      <td>-0.916857</td>\n      <td>-0.491236</td>\n      <td>-0.163129</td>\n      <td>...</td>\n      <td>0</td>\n      <td>1</td>\n      <td>0</td>\n      <td>0</td>\n      <td>0</td>\n      <td>0</td>\n      <td>0</td>\n      <td>0</td>\n      <td>0</td>\n      <td>1</td>\n    </tr>\n    <tr>\n      <th>8871</th>\n      <td>1</td>\n      <td>10.0</td>\n      <td>0.818214</td>\n      <td>0.879532</td>\n      <td>0.395129</td>\n      <td>0.690197</td>\n      <td>-0.730192</td>\n      <td>0.401049</td>\n      <td>0.328226</td>\n      <td>-0.517393</td>\n      <td>...</td>\n      <td>0</td>\n      <td>1</td>\n      <td>0</td>\n      <td>0</td>\n      <td>0</td>\n      <td>0</td>\n      <td>1</td>\n      <td>0</td>\n      <td>0</td>\n      <td>1</td>\n    </tr>\n    <tr>\n      <th>8872</th>\n      <td>0</td>\n      <td>879.0</td>\n      <td>-1.478634</td>\n      <td>-0.270594</td>\n      <td>0.710631</td>\n      <td>0.066909</td>\n      <td>0.707008</td>\n      <td>-0.422642</td>\n      <td>0.867442</td>\n      <td>-0.281313</td>\n      <td>...</td>\n      <td>0</td>\n      <td>0</td>\n      <td>1</td>\n      <td>0</td>\n      <td>0</td>\n      <td>0</td>\n      <td>0</td>\n      <td>0</td>\n      <td>1</td>\n      <td>0</td>\n    </tr>\n  </tbody>\n</table>\n<p>8873 rows × 29 columns</p>\n</div>"
     },
     "execution_count": 138,
     "metadata": {},
     "output_type": "execute_result"
    }
   ],
   "source": [
    "df"
   ],
   "metadata": {
    "collapsed": false,
    "pycharm": {
     "name": "#%%\n"
    }
   }
  },
  {
   "cell_type": "code",
   "execution_count": 139,
   "outputs": [],
   "source": [
    "df_temp = df.loc[0:, ['event', 'time']]\n",
    "df = df.drop(columns=['event', 'time'])"
   ],
   "metadata": {
    "collapsed": false,
    "pycharm": {
     "name": "#%%\n"
    }
   }
  },
  {
   "cell_type": "code",
   "execution_count": 140,
   "outputs": [
    {
     "data": {
      "text/plain": "27"
     },
     "execution_count": 140,
     "metadata": {},
     "output_type": "execute_result"
    }
   ],
   "source": [
    "len(list(df.columns))"
   ],
   "metadata": {
    "collapsed": false,
    "pycharm": {
     "name": "#%%\n"
    }
   }
  },
  {
   "cell_type": "code",
   "execution_count": 141,
   "metadata": {
    "pycharm": {
     "name": "#%%\n"
    }
   },
   "outputs": [],
   "source": [
    "# For testing - we can do generate a list of Beta in this function\n",
    "beta_list = np.random.uniform(-1, 5,\n",
    "                              27)  # because SUPPORT2 have 14 features - to save time we have generated random 14 numbers between -3 and 20"
   ]
  },
  {
   "cell_type": "code",
   "execution_count": 142,
   "outputs": [],
   "source": [
    "k = 1.5  # Sharp para\n",
    "g = 1.0  # Scale para or called lambda"
   ],
   "metadata": {
    "collapsed": false,
    "pycharm": {
     "name": "#%%\n"
    }
   }
  },
  {
   "cell_type": "code",
   "execution_count": 143,
   "metadata": {
    "pycharm": {
     "name": "#%%\n"
    }
   },
   "outputs": [],
   "source": [
    "z_generated, features_df, list_failure_time, full_generated_data = time_failure_calculation(n_generate=9000,\n",
    "                                                                                            features=[], path=PATH,\n",
    "                                                                                            beta_list=beta_list, k=k,\n",
    "                                                                                            g=g)"
   ]
  },
  {
   "cell_type": "code",
   "execution_count": 144,
   "metadata": {
    "pycharm": {
     "name": "#%%\n"
    }
   },
   "outputs": [
    {
     "data": {
      "text/plain": "             0         1         2         3         4         5          6  \\\n0    -2.174019  2.541770  2.349985  1.926541  2.113214  5.361990   9.042348   \n1     1.181788  3.000506  0.967159  0.639758 -3.555890 -1.011684  -0.827339   \n2     0.937591 -1.199875  5.551287  3.440422  2.380196 -3.164747  19.229477   \n3    -0.015757  0.465161  5.091430  5.269735  1.681885 -2.523305   5.497145   \n4     1.507253  2.842584  1.257552 -0.169341 -3.501084  4.360047  11.552862   \n...        ...       ...       ...       ...       ...       ...        ...   \n8995  2.113111  0.264590 -2.275328  6.802495  3.047447  1.640089  12.422183   \n8996  1.824633  1.691854  0.764278  1.107757 -0.966757 -3.586250  12.048950   \n8997  1.821471 -0.593212  0.672314 -2.034121 -0.560442  1.538469   2.735402   \n8998 -1.070891  0.180700 -0.400908 -1.217131  0.949634  4.199508   3.740246   \n8999 -2.060382  3.688655  5.201204  5.493176 -3.394140 -2.052958  13.368843   \n\n              7    8    9  ...   18   19   20   21   22   23   24   25   26  \\\n0     10.623112  1.0  1.0  ...  1.0  1.0  0.0  1.0  0.0  1.0  0.0  1.0  0.0   \n1      7.708757  0.0  0.0  ...  0.0  1.0  1.0  1.0  1.0  0.0  1.0  0.0  1.0   \n2      4.414279  1.0  0.0  ...  1.0  0.0  1.0  1.0  1.0  0.0  1.0  0.0  1.0   \n3     -0.428923  0.0  1.0  ...  1.0  1.0  1.0  0.0  0.0  0.0  1.0  0.0  1.0   \n4      3.603461  1.0  0.0  ...  0.0  0.0  1.0  0.0  1.0  1.0  1.0  1.0  1.0   \n...         ...  ...  ...  ...  ...  ...  ...  ...  ...  ...  ...  ...  ...   \n8995   0.120226  1.0  0.0  ...  1.0  1.0  1.0  1.0  0.0  0.0  1.0  1.0  0.0   \n8996   2.395340  0.0  0.0  ...  1.0  1.0  0.0  1.0  1.0  1.0  1.0  0.0  1.0   \n8997   6.342619  1.0  1.0  ...  1.0  0.0  1.0  0.0  0.0  0.0  1.0  1.0  0.0   \n8998   9.081050  0.0  1.0  ...  1.0  1.0  0.0  0.0  1.0  0.0  1.0  0.0  0.0   \n8999   3.016799  1.0  0.0  ...  0.0  1.0  0.0  1.0  0.0  1.0  1.0  0.0  1.0   \n\n          duration  \n0     9.144183e-36  \n1     1.018664e-09  \n2     9.686803e-38  \n3     4.194444e-19  \n4     1.093607e-30  \n...            ...  \n8995  2.423417e-34  \n8996  1.700814e-20  \n8997  1.951702e-16  \n8998  4.898401e-18  \n8999  8.434441e-26  \n\n[9000 rows x 28 columns]",
      "text/html": "<div>\n<style scoped>\n    .dataframe tbody tr th:only-of-type {\n        vertical-align: middle;\n    }\n\n    .dataframe tbody tr th {\n        vertical-align: top;\n    }\n\n    .dataframe thead th {\n        text-align: right;\n    }\n</style>\n<table border=\"1\" class=\"dataframe\">\n  <thead>\n    <tr style=\"text-align: right;\">\n      <th></th>\n      <th>0</th>\n      <th>1</th>\n      <th>2</th>\n      <th>3</th>\n      <th>4</th>\n      <th>5</th>\n      <th>6</th>\n      <th>7</th>\n      <th>8</th>\n      <th>9</th>\n      <th>...</th>\n      <th>18</th>\n      <th>19</th>\n      <th>20</th>\n      <th>21</th>\n      <th>22</th>\n      <th>23</th>\n      <th>24</th>\n      <th>25</th>\n      <th>26</th>\n      <th>duration</th>\n    </tr>\n  </thead>\n  <tbody>\n    <tr>\n      <th>0</th>\n      <td>-2.174019</td>\n      <td>2.541770</td>\n      <td>2.349985</td>\n      <td>1.926541</td>\n      <td>2.113214</td>\n      <td>5.361990</td>\n      <td>9.042348</td>\n      <td>10.623112</td>\n      <td>1.0</td>\n      <td>1.0</td>\n      <td>...</td>\n      <td>1.0</td>\n      <td>1.0</td>\n      <td>0.0</td>\n      <td>1.0</td>\n      <td>0.0</td>\n      <td>1.0</td>\n      <td>0.0</td>\n      <td>1.0</td>\n      <td>0.0</td>\n      <td>9.144183e-36</td>\n    </tr>\n    <tr>\n      <th>1</th>\n      <td>1.181788</td>\n      <td>3.000506</td>\n      <td>0.967159</td>\n      <td>0.639758</td>\n      <td>-3.555890</td>\n      <td>-1.011684</td>\n      <td>-0.827339</td>\n      <td>7.708757</td>\n      <td>0.0</td>\n      <td>0.0</td>\n      <td>...</td>\n      <td>0.0</td>\n      <td>1.0</td>\n      <td>1.0</td>\n      <td>1.0</td>\n      <td>1.0</td>\n      <td>0.0</td>\n      <td>1.0</td>\n      <td>0.0</td>\n      <td>1.0</td>\n      <td>1.018664e-09</td>\n    </tr>\n    <tr>\n      <th>2</th>\n      <td>0.937591</td>\n      <td>-1.199875</td>\n      <td>5.551287</td>\n      <td>3.440422</td>\n      <td>2.380196</td>\n      <td>-3.164747</td>\n      <td>19.229477</td>\n      <td>4.414279</td>\n      <td>1.0</td>\n      <td>0.0</td>\n      <td>...</td>\n      <td>1.0</td>\n      <td>0.0</td>\n      <td>1.0</td>\n      <td>1.0</td>\n      <td>1.0</td>\n      <td>0.0</td>\n      <td>1.0</td>\n      <td>0.0</td>\n      <td>1.0</td>\n      <td>9.686803e-38</td>\n    </tr>\n    <tr>\n      <th>3</th>\n      <td>-0.015757</td>\n      <td>0.465161</td>\n      <td>5.091430</td>\n      <td>5.269735</td>\n      <td>1.681885</td>\n      <td>-2.523305</td>\n      <td>5.497145</td>\n      <td>-0.428923</td>\n      <td>0.0</td>\n      <td>1.0</td>\n      <td>...</td>\n      <td>1.0</td>\n      <td>1.0</td>\n      <td>1.0</td>\n      <td>0.0</td>\n      <td>0.0</td>\n      <td>0.0</td>\n      <td>1.0</td>\n      <td>0.0</td>\n      <td>1.0</td>\n      <td>4.194444e-19</td>\n    </tr>\n    <tr>\n      <th>4</th>\n      <td>1.507253</td>\n      <td>2.842584</td>\n      <td>1.257552</td>\n      <td>-0.169341</td>\n      <td>-3.501084</td>\n      <td>4.360047</td>\n      <td>11.552862</td>\n      <td>3.603461</td>\n      <td>1.0</td>\n      <td>0.0</td>\n      <td>...</td>\n      <td>0.0</td>\n      <td>0.0</td>\n      <td>1.0</td>\n      <td>0.0</td>\n      <td>1.0</td>\n      <td>1.0</td>\n      <td>1.0</td>\n      <td>1.0</td>\n      <td>1.0</td>\n      <td>1.093607e-30</td>\n    </tr>\n    <tr>\n      <th>...</th>\n      <td>...</td>\n      <td>...</td>\n      <td>...</td>\n      <td>...</td>\n      <td>...</td>\n      <td>...</td>\n      <td>...</td>\n      <td>...</td>\n      <td>...</td>\n      <td>...</td>\n      <td>...</td>\n      <td>...</td>\n      <td>...</td>\n      <td>...</td>\n      <td>...</td>\n      <td>...</td>\n      <td>...</td>\n      <td>...</td>\n      <td>...</td>\n      <td>...</td>\n      <td>...</td>\n    </tr>\n    <tr>\n      <th>8995</th>\n      <td>2.113111</td>\n      <td>0.264590</td>\n      <td>-2.275328</td>\n      <td>6.802495</td>\n      <td>3.047447</td>\n      <td>1.640089</td>\n      <td>12.422183</td>\n      <td>0.120226</td>\n      <td>1.0</td>\n      <td>0.0</td>\n      <td>...</td>\n      <td>1.0</td>\n      <td>1.0</td>\n      <td>1.0</td>\n      <td>1.0</td>\n      <td>0.0</td>\n      <td>0.0</td>\n      <td>1.0</td>\n      <td>1.0</td>\n      <td>0.0</td>\n      <td>2.423417e-34</td>\n    </tr>\n    <tr>\n      <th>8996</th>\n      <td>1.824633</td>\n      <td>1.691854</td>\n      <td>0.764278</td>\n      <td>1.107757</td>\n      <td>-0.966757</td>\n      <td>-3.586250</td>\n      <td>12.048950</td>\n      <td>2.395340</td>\n      <td>0.0</td>\n      <td>0.0</td>\n      <td>...</td>\n      <td>1.0</td>\n      <td>1.0</td>\n      <td>0.0</td>\n      <td>1.0</td>\n      <td>1.0</td>\n      <td>1.0</td>\n      <td>1.0</td>\n      <td>0.0</td>\n      <td>1.0</td>\n      <td>1.700814e-20</td>\n    </tr>\n    <tr>\n      <th>8997</th>\n      <td>1.821471</td>\n      <td>-0.593212</td>\n      <td>0.672314</td>\n      <td>-2.034121</td>\n      <td>-0.560442</td>\n      <td>1.538469</td>\n      <td>2.735402</td>\n      <td>6.342619</td>\n      <td>1.0</td>\n      <td>1.0</td>\n      <td>...</td>\n      <td>1.0</td>\n      <td>0.0</td>\n      <td>1.0</td>\n      <td>0.0</td>\n      <td>0.0</td>\n      <td>0.0</td>\n      <td>1.0</td>\n      <td>1.0</td>\n      <td>0.0</td>\n      <td>1.951702e-16</td>\n    </tr>\n    <tr>\n      <th>8998</th>\n      <td>-1.070891</td>\n      <td>0.180700</td>\n      <td>-0.400908</td>\n      <td>-1.217131</td>\n      <td>0.949634</td>\n      <td>4.199508</td>\n      <td>3.740246</td>\n      <td>9.081050</td>\n      <td>0.0</td>\n      <td>1.0</td>\n      <td>...</td>\n      <td>1.0</td>\n      <td>1.0</td>\n      <td>0.0</td>\n      <td>0.0</td>\n      <td>1.0</td>\n      <td>0.0</td>\n      <td>1.0</td>\n      <td>0.0</td>\n      <td>0.0</td>\n      <td>4.898401e-18</td>\n    </tr>\n    <tr>\n      <th>8999</th>\n      <td>-2.060382</td>\n      <td>3.688655</td>\n      <td>5.201204</td>\n      <td>5.493176</td>\n      <td>-3.394140</td>\n      <td>-2.052958</td>\n      <td>13.368843</td>\n      <td>3.016799</td>\n      <td>1.0</td>\n      <td>0.0</td>\n      <td>...</td>\n      <td>0.0</td>\n      <td>1.0</td>\n      <td>0.0</td>\n      <td>1.0</td>\n      <td>0.0</td>\n      <td>1.0</td>\n      <td>1.0</td>\n      <td>0.0</td>\n      <td>1.0</td>\n      <td>8.434441e-26</td>\n    </tr>\n  </tbody>\n</table>\n<p>9000 rows × 28 columns</p>\n</div>"
     },
     "execution_count": 144,
     "metadata": {},
     "output_type": "execute_result"
    }
   ],
   "source": [
    "full_generated_data"
   ]
  },
  {
   "cell_type": "code",
   "execution_count": 145,
   "outputs": [],
   "source": [
    "# def generate_event_time_random(df):\n"
   ],
   "metadata": {
    "collapsed": false,
    "pycharm": {
     "name": "#%%\n"
    }
   }
  },
  {
   "cell_type": "code",
   "execution_count": 146,
   "outputs": [
    {
     "data": {
      "text/plain": "0    9.144183e-36\n1    1.018664e-09\n2    9.686803e-38\n3    4.194444e-19\n4    1.093607e-30\nName: duration, dtype: float64"
     },
     "execution_count": 146,
     "metadata": {},
     "output_type": "execute_result"
    }
   ],
   "source": [
    "df_new = full_generated_data\n",
    "df_new['duration'].head()"
   ],
   "metadata": {
    "collapsed": false,
    "pycharm": {
     "name": "#%%\n"
    }
   }
  },
  {
   "cell_type": "code",
   "execution_count": 147,
   "outputs": [
    {
     "name": "stdout",
     "output_type": "stream",
     "text": [
      "9000\n"
     ]
    }
   ],
   "source": [
    "print(len(df_new['duration']))"
   ],
   "metadata": {
    "collapsed": false,
    "pycharm": {
     "name": "#%%\n"
    }
   }
  },
  {
   "cell_type": "code",
   "execution_count": 148,
   "outputs": [],
   "source": [
    "df_new['duration_new'] = df_new['duration']\n",
    "df_new['event'] = df_new['duration']"
   ],
   "metadata": {
    "collapsed": false,
    "pycharm": {
     "name": "#%%\n"
    }
   }
  },
  {
   "cell_type": "code",
   "execution_count": 149,
   "outputs": [],
   "source": [
    "for i in range(len(df_new['duration'])):\n",
    "    value_min = df_new['duration'][i] - (df_new['duration'][i]/2)\n",
    "    value_max = df_new['duration'][i] + (df_new['duration'][i]/5)\n",
    "    df_new['duration_new'][i] = np.random.uniform(low=value_min, high=value_max)\n",
    "    if df_new['duration_new'][i] > df_new['duration'][i]:\n",
    "        df_new['event'][i] = 0\n",
    "    else:\n",
    "        df_new['event'][i] = 1\n",
    "    df_new['duration_new'][i] = df_new['duration_new'][i]*10000"
   ],
   "metadata": {
    "collapsed": false,
    "pycharm": {
     "name": "#%%\n"
    }
   }
  },
  {
   "cell_type": "code",
   "execution_count": 150,
   "outputs": [
    {
     "data": {
      "text/plain": "          0         1         2         3         4         5          6  \\\n0 -2.174019  2.541770  2.349985  1.926541  2.113214  5.361990   9.042348   \n1  1.181788  3.000506  0.967159  0.639758 -3.555890 -1.011684  -0.827339   \n2  0.937591 -1.199875  5.551287  3.440422  2.380196 -3.164747  19.229477   \n3 -0.015757  0.465161  5.091430  5.269735  1.681885 -2.523305   5.497145   \n4  1.507253  2.842584  1.257552 -0.169341 -3.501084  4.360047  11.552862   \n\n           7    8    9  ...   20   21   22   23   24   25   26      duration  \\\n0  10.623112  1.0  1.0  ...  0.0  1.0  0.0  1.0  0.0  1.0  0.0  9.144183e-36   \n1   7.708757  0.0  0.0  ...  1.0  1.0  1.0  0.0  1.0  0.0  1.0  1.018664e-09   \n2   4.414279  1.0  0.0  ...  1.0  1.0  1.0  0.0  1.0  0.0  1.0  9.686803e-38   \n3  -0.428923  0.0  1.0  ...  1.0  0.0  0.0  0.0  1.0  0.0  1.0  4.194444e-19   \n4   3.603461  1.0  0.0  ...  1.0  0.0  1.0  1.0  1.0  1.0  1.0  1.093607e-30   \n\n   duration_new  event  \n0  5.138749e-32    1.0  \n1  8.375505e-06    1.0  \n2  1.019636e-33    0.0  \n3  4.992521e-15    0.0  \n4  1.196882e-26    0.0  \n\n[5 rows x 30 columns]",
      "text/html": "<div>\n<style scoped>\n    .dataframe tbody tr th:only-of-type {\n        vertical-align: middle;\n    }\n\n    .dataframe tbody tr th {\n        vertical-align: top;\n    }\n\n    .dataframe thead th {\n        text-align: right;\n    }\n</style>\n<table border=\"1\" class=\"dataframe\">\n  <thead>\n    <tr style=\"text-align: right;\">\n      <th></th>\n      <th>0</th>\n      <th>1</th>\n      <th>2</th>\n      <th>3</th>\n      <th>4</th>\n      <th>5</th>\n      <th>6</th>\n      <th>7</th>\n      <th>8</th>\n      <th>9</th>\n      <th>...</th>\n      <th>20</th>\n      <th>21</th>\n      <th>22</th>\n      <th>23</th>\n      <th>24</th>\n      <th>25</th>\n      <th>26</th>\n      <th>duration</th>\n      <th>duration_new</th>\n      <th>event</th>\n    </tr>\n  </thead>\n  <tbody>\n    <tr>\n      <th>0</th>\n      <td>-2.174019</td>\n      <td>2.541770</td>\n      <td>2.349985</td>\n      <td>1.926541</td>\n      <td>2.113214</td>\n      <td>5.361990</td>\n      <td>9.042348</td>\n      <td>10.623112</td>\n      <td>1.0</td>\n      <td>1.0</td>\n      <td>...</td>\n      <td>0.0</td>\n      <td>1.0</td>\n      <td>0.0</td>\n      <td>1.0</td>\n      <td>0.0</td>\n      <td>1.0</td>\n      <td>0.0</td>\n      <td>9.144183e-36</td>\n      <td>5.138749e-32</td>\n      <td>1.0</td>\n    </tr>\n    <tr>\n      <th>1</th>\n      <td>1.181788</td>\n      <td>3.000506</td>\n      <td>0.967159</td>\n      <td>0.639758</td>\n      <td>-3.555890</td>\n      <td>-1.011684</td>\n      <td>-0.827339</td>\n      <td>7.708757</td>\n      <td>0.0</td>\n      <td>0.0</td>\n      <td>...</td>\n      <td>1.0</td>\n      <td>1.0</td>\n      <td>1.0</td>\n      <td>0.0</td>\n      <td>1.0</td>\n      <td>0.0</td>\n      <td>1.0</td>\n      <td>1.018664e-09</td>\n      <td>8.375505e-06</td>\n      <td>1.0</td>\n    </tr>\n    <tr>\n      <th>2</th>\n      <td>0.937591</td>\n      <td>-1.199875</td>\n      <td>5.551287</td>\n      <td>3.440422</td>\n      <td>2.380196</td>\n      <td>-3.164747</td>\n      <td>19.229477</td>\n      <td>4.414279</td>\n      <td>1.0</td>\n      <td>0.0</td>\n      <td>...</td>\n      <td>1.0</td>\n      <td>1.0</td>\n      <td>1.0</td>\n      <td>0.0</td>\n      <td>1.0</td>\n      <td>0.0</td>\n      <td>1.0</td>\n      <td>9.686803e-38</td>\n      <td>1.019636e-33</td>\n      <td>0.0</td>\n    </tr>\n    <tr>\n      <th>3</th>\n      <td>-0.015757</td>\n      <td>0.465161</td>\n      <td>5.091430</td>\n      <td>5.269735</td>\n      <td>1.681885</td>\n      <td>-2.523305</td>\n      <td>5.497145</td>\n      <td>-0.428923</td>\n      <td>0.0</td>\n      <td>1.0</td>\n      <td>...</td>\n      <td>1.0</td>\n      <td>0.0</td>\n      <td>0.0</td>\n      <td>0.0</td>\n      <td>1.0</td>\n      <td>0.0</td>\n      <td>1.0</td>\n      <td>4.194444e-19</td>\n      <td>4.992521e-15</td>\n      <td>0.0</td>\n    </tr>\n    <tr>\n      <th>4</th>\n      <td>1.507253</td>\n      <td>2.842584</td>\n      <td>1.257552</td>\n      <td>-0.169341</td>\n      <td>-3.501084</td>\n      <td>4.360047</td>\n      <td>11.552862</td>\n      <td>3.603461</td>\n      <td>1.0</td>\n      <td>0.0</td>\n      <td>...</td>\n      <td>1.0</td>\n      <td>0.0</td>\n      <td>1.0</td>\n      <td>1.0</td>\n      <td>1.0</td>\n      <td>1.0</td>\n      <td>1.0</td>\n      <td>1.093607e-30</td>\n      <td>1.196882e-26</td>\n      <td>0.0</td>\n    </tr>\n  </tbody>\n</table>\n<p>5 rows × 30 columns</p>\n</div>"
     },
     "execution_count": 150,
     "metadata": {},
     "output_type": "execute_result"
    }
   ],
   "source": [
    "df_new.head()"
   ],
   "metadata": {
    "collapsed": false,
    "pycharm": {
     "name": "#%%\n"
    }
   }
  },
  {
   "cell_type": "code",
   "execution_count": 151,
   "outputs": [
    {
     "data": {
      "text/plain": "6483"
     },
     "execution_count": 151,
     "metadata": {},
     "output_type": "execute_result"
    }
   ],
   "source": [
    "len(df_new.loc[df_new['event'] == 1])"
   ],
   "metadata": {
    "collapsed": false,
    "pycharm": {
     "name": "#%%\n"
    }
   }
  },
  {
   "cell_type": "code",
   "execution_count": 152,
   "outputs": [],
   "source": [
    "df_new['duration'] = df_new['duration_new']\n",
    "df_new = df_new.drop(columns=['duration_new'])"
   ],
   "metadata": {
    "collapsed": false,
    "pycharm": {
     "name": "#%%\n"
    }
   }
  },
  {
   "cell_type": "code",
   "execution_count": 153,
   "outputs": [],
   "source": [
    "df_new.columns = df_new.columns.astype(str)"
   ],
   "metadata": {
    "collapsed": false,
    "pycharm": {
     "name": "#%%\n"
    }
   }
  },
  {
   "cell_type": "code",
   "execution_count": 154,
   "outputs": [
    {
     "data": {
      "text/plain": "          0         1         2         3         4         5          6  \\\n0 -2.174019  2.541770  2.349985  1.926541  2.113214  5.361990   9.042348   \n1  1.181788  3.000506  0.967159  0.639758 -3.555890 -1.011684  -0.827339   \n2  0.937591 -1.199875  5.551287  3.440422  2.380196 -3.164747  19.229477   \n3 -0.015757  0.465161  5.091430  5.269735  1.681885 -2.523305   5.497145   \n4  1.507253  2.842584  1.257552 -0.169341 -3.501084  4.360047  11.552862   \n\n           7    8    9  ...   19   20   21   22   23   24   25   26  \\\n0  10.623112  1.0  1.0  ...  1.0  0.0  1.0  0.0  1.0  0.0  1.0  0.0   \n1   7.708757  0.0  0.0  ...  1.0  1.0  1.0  1.0  0.0  1.0  0.0  1.0   \n2   4.414279  1.0  0.0  ...  0.0  1.0  1.0  1.0  0.0  1.0  0.0  1.0   \n3  -0.428923  0.0  1.0  ...  1.0  1.0  0.0  0.0  0.0  1.0  0.0  1.0   \n4   3.603461  1.0  0.0  ...  0.0  1.0  0.0  1.0  1.0  1.0  1.0  1.0   \n\n       duration  event  \n0  5.138749e-32    1.0  \n1  8.375505e-06    1.0  \n2  1.019636e-33    0.0  \n3  4.992521e-15    0.0  \n4  1.196882e-26    0.0  \n\n[5 rows x 29 columns]",
      "text/html": "<div>\n<style scoped>\n    .dataframe tbody tr th:only-of-type {\n        vertical-align: middle;\n    }\n\n    .dataframe tbody tr th {\n        vertical-align: top;\n    }\n\n    .dataframe thead th {\n        text-align: right;\n    }\n</style>\n<table border=\"1\" class=\"dataframe\">\n  <thead>\n    <tr style=\"text-align: right;\">\n      <th></th>\n      <th>0</th>\n      <th>1</th>\n      <th>2</th>\n      <th>3</th>\n      <th>4</th>\n      <th>5</th>\n      <th>6</th>\n      <th>7</th>\n      <th>8</th>\n      <th>9</th>\n      <th>...</th>\n      <th>19</th>\n      <th>20</th>\n      <th>21</th>\n      <th>22</th>\n      <th>23</th>\n      <th>24</th>\n      <th>25</th>\n      <th>26</th>\n      <th>duration</th>\n      <th>event</th>\n    </tr>\n  </thead>\n  <tbody>\n    <tr>\n      <th>0</th>\n      <td>-2.174019</td>\n      <td>2.541770</td>\n      <td>2.349985</td>\n      <td>1.926541</td>\n      <td>2.113214</td>\n      <td>5.361990</td>\n      <td>9.042348</td>\n      <td>10.623112</td>\n      <td>1.0</td>\n      <td>1.0</td>\n      <td>...</td>\n      <td>1.0</td>\n      <td>0.0</td>\n      <td>1.0</td>\n      <td>0.0</td>\n      <td>1.0</td>\n      <td>0.0</td>\n      <td>1.0</td>\n      <td>0.0</td>\n      <td>5.138749e-32</td>\n      <td>1.0</td>\n    </tr>\n    <tr>\n      <th>1</th>\n      <td>1.181788</td>\n      <td>3.000506</td>\n      <td>0.967159</td>\n      <td>0.639758</td>\n      <td>-3.555890</td>\n      <td>-1.011684</td>\n      <td>-0.827339</td>\n      <td>7.708757</td>\n      <td>0.0</td>\n      <td>0.0</td>\n      <td>...</td>\n      <td>1.0</td>\n      <td>1.0</td>\n      <td>1.0</td>\n      <td>1.0</td>\n      <td>0.0</td>\n      <td>1.0</td>\n      <td>0.0</td>\n      <td>1.0</td>\n      <td>8.375505e-06</td>\n      <td>1.0</td>\n    </tr>\n    <tr>\n      <th>2</th>\n      <td>0.937591</td>\n      <td>-1.199875</td>\n      <td>5.551287</td>\n      <td>3.440422</td>\n      <td>2.380196</td>\n      <td>-3.164747</td>\n      <td>19.229477</td>\n      <td>4.414279</td>\n      <td>1.0</td>\n      <td>0.0</td>\n      <td>...</td>\n      <td>0.0</td>\n      <td>1.0</td>\n      <td>1.0</td>\n      <td>1.0</td>\n      <td>0.0</td>\n      <td>1.0</td>\n      <td>0.0</td>\n      <td>1.0</td>\n      <td>1.019636e-33</td>\n      <td>0.0</td>\n    </tr>\n    <tr>\n      <th>3</th>\n      <td>-0.015757</td>\n      <td>0.465161</td>\n      <td>5.091430</td>\n      <td>5.269735</td>\n      <td>1.681885</td>\n      <td>-2.523305</td>\n      <td>5.497145</td>\n      <td>-0.428923</td>\n      <td>0.0</td>\n      <td>1.0</td>\n      <td>...</td>\n      <td>1.0</td>\n      <td>1.0</td>\n      <td>0.0</td>\n      <td>0.0</td>\n      <td>0.0</td>\n      <td>1.0</td>\n      <td>0.0</td>\n      <td>1.0</td>\n      <td>4.992521e-15</td>\n      <td>0.0</td>\n    </tr>\n    <tr>\n      <th>4</th>\n      <td>1.507253</td>\n      <td>2.842584</td>\n      <td>1.257552</td>\n      <td>-0.169341</td>\n      <td>-3.501084</td>\n      <td>4.360047</td>\n      <td>11.552862</td>\n      <td>3.603461</td>\n      <td>1.0</td>\n      <td>0.0</td>\n      <td>...</td>\n      <td>0.0</td>\n      <td>1.0</td>\n      <td>0.0</td>\n      <td>1.0</td>\n      <td>1.0</td>\n      <td>1.0</td>\n      <td>1.0</td>\n      <td>1.0</td>\n      <td>1.196882e-26</td>\n      <td>0.0</td>\n    </tr>\n  </tbody>\n</table>\n<p>5 rows × 29 columns</p>\n</div>"
     },
     "execution_count": 154,
     "metadata": {},
     "output_type": "execute_result"
    }
   ],
   "source": [
    "df_new.head()"
   ],
   "metadata": {
    "collapsed": false,
    "pycharm": {
     "name": "#%%\n"
    }
   }
  },
  {
   "cell_type": "code",
   "execution_count": 155,
   "outputs": [],
   "source": [
    "import pdb\n",
    "from collections import defaultdict\n",
    "import matplotlib.pyplot as plt\n",
    "\n",
    "from SurvTRACE.survtrace.dataset import load_data\n",
    "from SurvTRACE.survtrace.evaluate_utils import Evaluator\n",
    "from SurvTRACE.survtrace.utils import set_random_seed\n",
    "from SurvTRACE.survtrace.model import SurvTraceSingle\n",
    "from SurvTRACE.survtrace.train_utils import Trainer\n",
    "from SurvTRACE.survtrace.config import STConfig\n",
    "\n",
    "# define the setup parameters\n",
    "STConfig['data'] = 'support'\n",
    "\n",
    "set_random_seed(STConfig['seed'])\n",
    "\n",
    "hparams = {\n",
    "    'batch_size': 128,\n",
    "    'weight_decay': 0,\n",
    "    'learning_rate': 1e-3,\n",
    "    'epochs': 20,\n",
    "}"
   ],
   "metadata": {
    "collapsed": false,
    "pycharm": {
     "name": "#%%\n"
    }
   }
  },
  {
   "cell_type": "code",
   "execution_count": 156,
   "outputs": [],
   "source": [
    "import numpy as np\n",
    "from SurvTRACE.survtrace.config import STConfig\n",
    "from SurvTRACE.survtrace.utils import LabelTransform\n",
    "from sklearn.preprocessing import KBinsDiscretizer, LabelEncoder, StandardScaler\n",
    "\n",
    "\n",
    "def test_support2_pycox(df):\n",
    "    get_target = lambda df: (df['duration'].values, df['event'].values)\n",
    "    horizons = [.25, .5, .75]\n",
    "    times = np.quantile(df[\"duration\"][df[\"event\"] == 1.0], horizons).tolist()\n",
    "    # cols_categorical = ['x1_1.0','x2_1.0','x2_2.0','x2_3.0','x2_4.0','x2_5.0','x2_6.0','x2_7.0','x2_8.0','x2_9.0','x3_1.0','x3_2.0','x3_3.0','x3_4.0','x3_5.0','x4_1.0','x5_1.0','x6_1.0','x6_2.0']\n",
    "    # cols_standardize = ['x0', 'x7', 'x8', 'x9', 'x10', 'x11', 'x12', 'x13']\n",
    "\n",
    "    cols_standardize = [\"1\", \"2\", \"3\", \"4\", \"5\", \"6\"]\n",
    "    cols_categorical = [\"7\", \"8\", \"9\", \"10\", \"11\", \"12\", \"13\", \"14\", \"15\", \"16\", \"17\", \"18\", \"19\", \"20\", \"21\", \"22\",\n",
    "                        \"23\", \"24\", \"25\", \"26\"]\n",
    "\n",
    "    df_feat = df.drop([\"duration\", \"event\"], axis=1)\n",
    "    df_feat_standardize = df_feat[cols_standardize]\n",
    "    df_feat_standardize_disc = StandardScaler().fit_transform(df_feat_standardize)\n",
    "    df_feat_standardize_disc = pd.DataFrame(df_feat_standardize_disc, columns=cols_standardize)\n",
    "\n",
    "    df_feat = pd.concat([df_feat[cols_categorical], df_feat_standardize], axis=1)\n",
    "\n",
    "    vocab_size = 0\n",
    "    for i, feat in enumerate(cols_categorical):\n",
    "        df_feat[feat] = LabelEncoder().fit_transform(df_feat[feat]).astype(float) + vocab_size\n",
    "        vocab_size = df_feat[feat].max() + 1\n",
    "\n",
    "    # get the largest duraiton time\n",
    "    max_duration_idx = df[\"duration\"].argmax()\n",
    "    # df_test = df_feat.drop(max_duration_idx).sample(frac=0.2)\n",
    "    # df_train = df_feat.drop(df_test.index)\n",
    "    # df_val = df_train.drop(max_duration_idx).sample(frac=0.2)\n",
    "    # df_train = df_train.drop(df_val.index)\n",
    "\n",
    "    # # Hung edited here\n",
    "    df_train = df_feat.iloc[3550:]  #\n",
    "    df_train = df_train.sample(frac=1)\n",
    "\n",
    "    df_remaining = df_feat.iloc[:3549]  #\n",
    "    df_remaining = df_remaining.sample(frac=1)\n",
    "\n",
    "    # Now let's say you want to split the remaining data into test and validation sets\n",
    "    df_test = df_remaining.sample(frac=0.5)  # 20% of the training data for testing\n",
    "    df_val = df_remaining.drop(df_test.index)  # 20% of the training data for validating\n",
    "\n",
    "    # assign cuts\n",
    "    # labtrans = LabTransDiscreteTime(cuts=np.array([0]+times+[df[\"duration\"].max()]))\n",
    "    labtrans = LabelTransform(cuts=np.array([0] + times + [df[\"duration\"].max()]))\n",
    "\n",
    "    labtrans.fit(*get_target(df.loc[df_train.index]))\n",
    "    # y = labtrans.fit_transform(*get_target(df)) # y = (discrete duration, event indicator)\n",
    "    y = labtrans.transform(*get_target(df))  # y = (discrete duration, event indicator)\n",
    "    df_y_train = pd.DataFrame(\n",
    "        {\"duration\": y[0][df_train.index], \"event\": y[1][df_train.index], \"proportion\": y[2][df_train.index]},\n",
    "        index=df_train.index)\n",
    "    df_y_val = pd.DataFrame(\n",
    "        {\"duration\": y[0][df_val.index], \"event\": y[1][df_val.index], \"proportion\": y[2][df_val.index]},\n",
    "        index=df_val.index)\n",
    "    # df_y_test = pd.DataFrame({\"duration\": y[0][df_test.index], \"event\": y[1][df_test.index], \"proportion\":y[2][df_test.index]}, index=df_test.index)\n",
    "    df_y_test = pd.DataFrame({\"duration\": df['duration'].loc[df_test.index], \"event\": df['event'].loc[df_test.index]})\n",
    "    STConfig['labtrans'] = labtrans\n",
    "    STConfig['num_numerical_feature'] = int(len(cols_standardize))\n",
    "    STConfig['num_categorical_feature'] = int(len(cols_categorical))\n",
    "    STConfig['num_feature'] = int(len(df_train.columns))\n",
    "    STConfig['vocab_size'] = int(vocab_size)\n",
    "    STConfig['duration_index'] = labtrans.cuts\n",
    "    STConfig['out_feature'] = int(labtrans.out_features)\n",
    "    print(\"______\")\n",
    "    print(int(len(cols_standardize)))\n",
    "    print(\"______\")\n",
    "    print(int(len(cols_categorical)))\n",
    "    print(\"______\")\n",
    "    print(int(len(df_train.columns)))\n",
    "    print(\"______\")\n",
    "    print(int(vocab_size))\n",
    "    print(\"______\")\n",
    "    print(labtrans.cuts)\n",
    "    print(\"______\")\n",
    "    print(int(labtrans.out_features))\n",
    "\n",
    "    return y, df, df_train, df_y_train, df_test, df_y_test, df_val, df_y_val"
   ],
   "metadata": {
    "collapsed": false,
    "pycharm": {
     "name": "#%%\n"
    }
   }
  },
  {
   "cell_type": "code",
   "execution_count": 157,
   "outputs": [
    {
     "name": "stdout",
     "output_type": "stream",
     "text": [
      "______\n",
      "6\n",
      "______\n",
      "20\n",
      "______\n",
      "26\n",
      "______\n",
      "9038\n",
      "______\n",
      "[0.00000000e+00 6.46160308e-28 8.42286404e-21 9.39341566e-14\n",
      " 2.05574769e+14]\n",
      "______\n",
      "4\n"
     ]
    }
   ],
   "source": [
    "y, df, df_train, df_y_train, df_test, df_y_test, df_val, df_y_val = test_support2_pycox(df_new)"
   ],
   "metadata": {
    "collapsed": false,
    "pycharm": {
     "name": "#%%\n"
    }
   }
  },
  {
   "cell_type": "code",
   "execution_count": 160,
   "outputs": [
    {
     "name": "stdout",
     "output_type": "stream",
     "text": [
      "GPU not found! will use cpu for training!\n",
      "[Train-0]: 17.876666424795985\n",
      "[Val-0]: 0.06883726269006729\n",
      "[Train-1]: -20.29337038192898\n",
      "[Val-1]: -0.28298062086105347\n",
      "[Train-2]: -41.93057310581207\n",
      "[Val-2]: -0.20924939215183258\n",
      "EarlyStopping counter: 1 out of 5\n",
      "[Train-3]: -56.607221841812134\n",
      "[Val-3]: -0.24401992559432983\n",
      "EarlyStopping counter: 2 out of 5\n",
      "[Train-4]: -64.49850898981094\n",
      "[Val-4]: -0.13463546335697174\n",
      "EarlyStopping counter: 3 out of 5\n",
      "[Train-5]: -70.05593740940094\n",
      "[Val-5]: -0.06522385030984879\n",
      "EarlyStopping counter: 4 out of 5\n",
      "[Train-6]: -75.87351036071777\n",
      "[Val-6]: 1.1514232158660889\n",
      "EarlyStopping counter: 5 out of 5\n",
      "early stops at epoch 7\n"
     ]
    }
   ],
   "source": [
    "# get model\n",
    "model = SurvTraceSingle(STConfig)\n",
    "\n",
    "# initialize a trainer\n",
    "trainer = Trainer(model)\n",
    "train_loss, val_loss = trainer.fit((df_train, df_y_train), (df_val, df_y_val),\n",
    "        batch_size=hparams['batch_size'],\n",
    "        epochs=hparams['epochs'],\n",
    "        learning_rate=hparams['learning_rate'],\n",
    "        weight_decay=hparams['weight_decay'],)"
   ],
   "metadata": {
    "collapsed": false,
    "pycharm": {
     "name": "#%%\n"
    }
   }
  },
  {
   "cell_type": "code",
   "execution_count": 161,
   "outputs": [
    {
     "name": "stdout",
     "output_type": "stream",
     "text": [
      "******************************\n",
      "start evaluation\n",
      "******************************\n",
      "For 0.25 quantile,\n",
      "TD Concordance Index - IPCW: 0.9379852015650768\n",
      "Brier Score: 0.055575547721831264\n",
      "For 0.5 quantile,\n",
      "TD Concordance Index - IPCW: 0.9039584334017075\n",
      "Brier Score: 0.09316603277539362\n",
      "For 0.75 quantile,\n",
      "TD Concordance Index - IPCW: 0.874134699309465\n",
      "Brier Score: 0.09222816790421103\n",
      "done\n"
     ]
    }
   ],
   "source": [
    "# evaluate model\n",
    "evaluator = Evaluator(df, df_train.index)\n",
    "evaluator.eval(model, (df_test, df_y_test))\n",
    "print(\"done\")"
   ],
   "metadata": {
    "collapsed": false,
    "pycharm": {
     "name": "#%%\n"
    }
   }
  },
  {
   "cell_type": "code",
   "execution_count": 162,
   "outputs": [
    {
     "data": {
      "text/plain": "<Figure size 640x480 with 1 Axes>",
      "image/png": "[encoded data removed]"
     },
     "metadata": {},
     "output_type": "display_data"
    }
   ],
   "source": [
    "plt.plot(train_loss, label='train')\n",
    "plt.plot(val_loss, label='val')\n",
    "plt.legend(fontsize=20)\n",
    "plt.xlabel('epoch',fontsize=20)\n",
    "plt.ylabel('loss', fontsize=20)\n",
    "plt.show()"
   ],
   "metadata": {
    "collapsed": false,
    "pycharm": {
     "name": "#%%\n"
    }
   }
  },
  {
   "cell_type": "code",
   "execution_count": null,
   "outputs": [],
   "source": [],
   "metadata": {
    "collapsed": false,
    "pycharm": {
     "name": "#%%\n"
    }
   }
  }
 ],
 "metadata": {
  "kernelspec": {
   "display_name": "Python 3 (ipykernel)",
   "language": "python",
   "name": "python3"
  },
  "language_info": {
   "codemirror_mode": {
    "name": "ipython",
    "version": 3
   },
   "file_extension": ".py",
   "mimetype": "text/x-python",
   "name": "python",
   "nbconvert_exporter": "python",
   "pygments_lexer": "ipython3",
   "version": "3.9.16"
  }
 },
 "nbformat": 4,
 "nbformat_minor": 1
}