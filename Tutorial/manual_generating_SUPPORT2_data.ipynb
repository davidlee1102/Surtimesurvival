{
 "cells": [
  {
   "cell_type": "code",
   "execution_count": 3,
   "metadata": {
    "pycharm": {
     "name": "#%%\n"
    }
   },
   "outputs": [],
   "source": [
    "import numpy as np\n",
    "import pandas as pd\n",
    "\n",
    "from utils.cox_hazard_generating import time_failure_calculation"
   ]
  },
  {
   "cell_type": "code",
   "execution_count": 4,
   "metadata": {
    "pycharm": {
     "name": "#%%\n"
    }
   },
   "outputs": [],
   "source": [
    "PATH = \"/Users/davidlee/Documents/GitHub/Surtimesurvival/Data Project/Pycox Lib/support2_data_pycox_processed.csv\""
   ]
  },
  {
   "cell_type": "code",
   "execution_count": 5,
   "outputs": [],
   "source": [
    "df = pd.read_csv(PATH)"
   ],
   "metadata": {
    "collapsed": false,
    "pycharm": {
     "name": "#%%\n"
    }
   }
  },
  {
   "cell_type": "code",
   "execution_count": 6,
   "outputs": [
    {
     "data": {
      "text/plain": "   event    time        x0        x7        x8        x9       x10       x11  \\\n0      1    30.0  1.285896  2.712545 -1.340135 -0.764142  0.862546  0.730526   \n1      0  1527.0  1.090666 -1.097247 -0.961532 -0.764142  0.707008  0.730526   \n2      1    96.0 -2.511770  0.088821  1.467837  2.248417  0.147064 -1.246333   \n3      0   892.0 -0.611591 -1.061305  0.079626 -0.556379 -0.885730 -0.422642   \n4      1     7.0  0.587001 -0.701891  1.183885  1.729010  1.179852  1.389479   \n\n        x12       x13  ...  x2_9.0  x3_1.0  x3_2.0  x3_3.0  x3_4.0  x3_5.0  \\\n0  0.716630 -0.399353  ...       0       1       0       0       0       0   \n1 -0.253960 -0.517393  ...       0       1       0       0       0       0   \n2 -0.771692 -0.340261  ...       0       0       0       1       0       0   \n3 -0.394241 -0.576414  ...       0       0       0       1       0       0   \n4 -1.321610 -0.812530  ...       0       1       0       0       0       0   \n\n   x4_1.0  x5_1.0  x6_1.0  x6_2.0  \n0       0       0       0       0  \n1       0       0       1       0  \n2       0       0       1       0  \n3       0       0       0       0  \n4       0       0       0       0  \n\n[5 rows x 29 columns]",
      "text/html": "<div>\n<style scoped>\n    .dataframe tbody tr th:only-of-type {\n        vertical-align: middle;\n    }\n\n    .dataframe tbody tr th {\n        vertical-align: top;\n    }\n\n    .dataframe thead th {\n        text-align: right;\n    }\n</style>\n<table border=\"1\" class=\"dataframe\">\n  <thead>\n    <tr style=\"text-align: right;\">\n      <th></th>\n      <th>event</th>\n      <th>time</th>\n      <th>x0</th>\n      <th>x7</th>\n      <th>x8</th>\n      <th>x9</th>\n      <th>x10</th>\n      <th>x11</th>\n      <th>x12</th>\n      <th>x13</th>\n      <th>...</th>\n      <th>x2_9.0</th>\n      <th>x3_1.0</th>\n      <th>x3_2.0</th>\n      <th>x3_3.0</th>\n      <th>x3_4.0</th>\n      <th>x3_5.0</th>\n      <th>x4_1.0</th>\n      <th>x5_1.0</th>\n      <th>x6_1.0</th>\n      <th>x6_2.0</th>\n    </tr>\n  </thead>\n  <tbody>\n    <tr>\n      <th>0</th>\n      <td>1</td>\n      <td>30.0</td>\n      <td>1.285896</td>\n      <td>2.712545</td>\n      <td>-1.340135</td>\n      <td>-0.764142</td>\n      <td>0.862546</td>\n      <td>0.730526</td>\n      <td>0.716630</td>\n      <td>-0.399353</td>\n      <td>...</td>\n      <td>0</td>\n      <td>1</td>\n      <td>0</td>\n      <td>0</td>\n      <td>0</td>\n      <td>0</td>\n      <td>0</td>\n      <td>0</td>\n      <td>0</td>\n      <td>0</td>\n    </tr>\n    <tr>\n      <th>1</th>\n      <td>0</td>\n      <td>1527.0</td>\n      <td>1.090666</td>\n      <td>-1.097247</td>\n      <td>-0.961532</td>\n      <td>-0.764142</td>\n      <td>0.707008</td>\n      <td>0.730526</td>\n      <td>-0.253960</td>\n      <td>-0.517393</td>\n      <td>...</td>\n      <td>0</td>\n      <td>1</td>\n      <td>0</td>\n      <td>0</td>\n      <td>0</td>\n      <td>0</td>\n      <td>0</td>\n      <td>0</td>\n      <td>1</td>\n      <td>0</td>\n    </tr>\n    <tr>\n      <th>2</th>\n      <td>1</td>\n      <td>96.0</td>\n      <td>-2.511770</td>\n      <td>0.088821</td>\n      <td>1.467837</td>\n      <td>2.248417</td>\n      <td>0.147064</td>\n      <td>-1.246333</td>\n      <td>-0.771692</td>\n      <td>-0.340261</td>\n      <td>...</td>\n      <td>0</td>\n      <td>0</td>\n      <td>0</td>\n      <td>1</td>\n      <td>0</td>\n      <td>0</td>\n      <td>0</td>\n      <td>0</td>\n      <td>1</td>\n      <td>0</td>\n    </tr>\n    <tr>\n      <th>3</th>\n      <td>0</td>\n      <td>892.0</td>\n      <td>-0.611591</td>\n      <td>-1.061305</td>\n      <td>0.079626</td>\n      <td>-0.556379</td>\n      <td>-0.885730</td>\n      <td>-0.422642</td>\n      <td>-0.394241</td>\n      <td>-0.576414</td>\n      <td>...</td>\n      <td>0</td>\n      <td>0</td>\n      <td>0</td>\n      <td>1</td>\n      <td>0</td>\n      <td>0</td>\n      <td>0</td>\n      <td>0</td>\n      <td>0</td>\n      <td>0</td>\n    </tr>\n    <tr>\n      <th>4</th>\n      <td>1</td>\n      <td>7.0</td>\n      <td>0.587001</td>\n      <td>-0.701891</td>\n      <td>1.183885</td>\n      <td>1.729010</td>\n      <td>1.179852</td>\n      <td>1.389479</td>\n      <td>-1.321610</td>\n      <td>-0.812530</td>\n      <td>...</td>\n      <td>0</td>\n      <td>1</td>\n      <td>0</td>\n      <td>0</td>\n      <td>0</td>\n      <td>0</td>\n      <td>0</td>\n      <td>0</td>\n      <td>0</td>\n      <td>0</td>\n    </tr>\n  </tbody>\n</table>\n<p>5 rows × 29 columns</p>\n</div>"
     },
     "execution_count": 6,
     "metadata": {},
     "output_type": "execute_result"
    }
   ],
   "source": [
    "df.head()"
   ],
   "metadata": {
    "collapsed": false,
    "pycharm": {
     "name": "#%%\n"
    }
   }
  },
  {
   "cell_type": "code",
   "execution_count": 7,
   "outputs": [
    {
     "data": {
      "text/plain": "      event    time        x0        x7        x8        x9       x10  \\\n0         1    30.0  1.285896  2.712545 -1.340135 -0.764142  0.862546   \n1         0  1527.0  1.090666 -1.097247 -0.961532 -0.764142  0.707008   \n2         1    96.0 -2.511770  0.088821  1.467837  2.248417  0.147064   \n3         0   892.0 -0.611591 -1.061305  0.079626 -0.556379 -0.885730   \n4         1     7.0  0.587001 -0.701891  1.183885  1.729010  1.179852   \n...     ...     ...       ...       ...       ...       ...       ...   \n8868      1    36.0  1.180564  0.951415  0.395129  1.105722  1.976221   \n8869      1    49.0  0.636048 -1.133188 -0.740680  0.482434 -1.924746   \n8870      1     6.0  0.038450  0.376352  0.395129 -0.140854  1.260730   \n8871      1    10.0  0.818214  0.879532  0.395129  0.690197 -0.730192   \n8872      0   879.0 -1.478634 -0.270594  0.710631  0.066909  0.707008   \n\n           x11       x12       x13  ...  x2_9.0  x3_1.0  x3_2.0  x3_3.0  \\\n0     0.730526  0.716630 -0.399353  ...       0       1       0       0   \n1     0.730526 -0.253960 -0.517393  ...       0       1       0       0   \n2    -1.246333 -0.771692 -0.340261  ...       0       0       0       1   \n3    -0.422642 -0.394241 -0.576414  ...       0       0       0       1   \n4     1.389479 -1.321610 -0.812530  ...       0       1       0       0   \n...        ...       ...       ...  ...     ...     ...     ...     ...   \n8868 -0.422642  0.069570 -0.163129  ...       0       1       0       0   \n8869  0.236311 -0.480494  0.072951  ...       0       1       0       0   \n8870 -0.916857 -0.491236 -0.163129  ...       0       1       0       0   \n8871  0.401049  0.328226 -0.517393  ...       0       1       0       0   \n8872 -0.422642  0.867442 -0.281313  ...       0       0       1       0   \n\n      x3_4.0  x3_5.0  x4_1.0  x5_1.0  x6_1.0  x6_2.0  \n0          0       0       0       0       0       0  \n1          0       0       0       0       1       0  \n2          0       0       0       0       1       0  \n3          0       0       0       0       0       0  \n4          0       0       0       0       0       0  \n...      ...     ...     ...     ...     ...     ...  \n8868       0       0       0       0       1       0  \n8869       0       0       0       0       1       0  \n8870       0       0       0       0       0       1  \n8871       0       0       1       0       0       1  \n8872       0       0       0       0       1       0  \n\n[8873 rows x 29 columns]",
      "text/html": "<div>\n<style scoped>\n    .dataframe tbody tr th:only-of-type {\n        vertical-align: middle;\n    }\n\n    .dataframe tbody tr th {\n        vertical-align: top;\n    }\n\n    .dataframe thead th {\n        text-align: right;\n    }\n</style>\n<table border=\"1\" class=\"dataframe\">\n  <thead>\n    <tr style=\"text-align: right;\">\n      <th></th>\n      <th>event</th>\n      <th>time</th>\n      <th>x0</th>\n      <th>x7</th>\n      <th>x8</th>\n      <th>x9</th>\n      <th>x10</th>\n      <th>x11</th>\n      <th>x12</th>\n      <th>x13</th>\n      <th>...</th>\n      <th>x2_9.0</th>\n      <th>x3_1.0</th>\n      <th>x3_2.0</th>\n      <th>x3_3.0</th>\n      <th>x3_4.0</th>\n      <th>x3_5.0</th>\n      <th>x4_1.0</th>\n      <th>x5_1.0</th>\n      <th>x6_1.0</th>\n      <th>x6_2.0</th>\n    </tr>\n  </thead>\n  <tbody>\n    <tr>\n      <th>0</th>\n      <td>1</td>\n      <td>30.0</td>\n      <td>1.285896</td>\n      <td>2.712545</td>\n      <td>-1.340135</td>\n      <td>-0.764142</td>\n      <td>0.862546</td>\n      <td>0.730526</td>\n      <td>0.716630</td>\n      <td>-0.399353</td>\n      <td>...</td>\n      <td>0</td>\n      <td>1</td>\n      <td>0</td>\n      <td>0</td>\n      <td>0</td>\n      <td>0</td>\n      <td>0</td>\n      <td>0</td>\n      <td>0</td>\n      <td>0</td>\n    </tr>\n    <tr>\n      <th>1</th>\n      <td>0</td>\n      <td>1527.0</td>\n      <td>1.090666</td>\n      <td>-1.097247</td>\n      <td>-0.961532</td>\n      <td>-0.764142</td>\n      <td>0.707008</td>\n      <td>0.730526</td>\n      <td>-0.253960</td>\n      <td>-0.517393</td>\n      <td>...</td>\n      <td>0</td>\n      <td>1</td>\n      <td>0</td>\n      <td>0</td>\n      <td>0</td>\n      <td>0</td>\n      <td>0</td>\n      <td>0</td>\n      <td>1</td>\n      <td>0</td>\n    </tr>\n    <tr>\n      <th>2</th>\n      <td>1</td>\n      <td>96.0</td>\n      <td>-2.511770</td>\n      <td>0.088821</td>\n      <td>1.467837</td>\n      <td>2.248417</td>\n      <td>0.147064</td>\n      <td>-1.246333</td>\n      <td>-0.771692</td>\n      <td>-0.340261</td>\n      <td>...</td>\n      <td>0</td>\n      <td>0</td>\n      <td>0</td>\n      <td>1</td>\n      <td>0</td>\n      <td>0</td>\n      <td>0</td>\n      <td>0</td>\n      <td>1</td>\n      <td>0</td>\n    </tr>\n    <tr>\n      <th>3</th>\n      <td>0</td>\n      <td>892.0</td>\n      <td>-0.611591</td>\n      <td>-1.061305</td>\n      <td>0.079626</td>\n      <td>-0.556379</td>\n      <td>-0.885730</td>\n      <td>-0.422642</td>\n      <td>-0.394241</td>\n      <td>-0.576414</td>\n      <td>...</td>\n      <td>0</td>\n      <td>0</td>\n      <td>0</td>\n      <td>1</td>\n      <td>0</td>\n      <td>0</td>\n      <td>0</td>\n      <td>0</td>\n      <td>0</td>\n      <td>0</td>\n    </tr>\n    <tr>\n      <th>4</th>\n      <td>1</td>\n      <td>7.0</td>\n      <td>0.587001</td>\n      <td>-0.701891</td>\n      <td>1.183885</td>\n      <td>1.729010</td>\n      <td>1.179852</td>\n      <td>1.389479</td>\n      <td>-1.321610</td>\n      <td>-0.812530</td>\n      <td>...</td>\n      <td>0</td>\n      <td>1</td>\n      <td>0</td>\n      <td>0</td>\n      <td>0</td>\n      <td>0</td>\n      <td>0</td>\n      <td>0</td>\n      <td>0</td>\n      <td>0</td>\n    </tr>\n    <tr>\n      <th>...</th>\n      <td>...</td>\n      <td>...</td>\n      <td>...</td>\n      <td>...</td>\n      <td>...</td>\n      <td>...</td>\n      <td>...</td>\n      <td>...</td>\n      <td>...</td>\n      <td>...</td>\n      <td>...</td>\n      <td>...</td>\n      <td>...</td>\n      <td>...</td>\n      <td>...</td>\n      <td>...</td>\n      <td>...</td>\n      <td>...</td>\n      <td>...</td>\n      <td>...</td>\n      <td>...</td>\n    </tr>\n    <tr>\n      <th>8868</th>\n      <td>1</td>\n      <td>36.0</td>\n      <td>1.180564</td>\n      <td>0.951415</td>\n      <td>0.395129</td>\n      <td>1.105722</td>\n      <td>1.976221</td>\n      <td>-0.422642</td>\n      <td>0.069570</td>\n      <td>-0.163129</td>\n      <td>...</td>\n      <td>0</td>\n      <td>1</td>\n      <td>0</td>\n      <td>0</td>\n      <td>0</td>\n      <td>0</td>\n      <td>0</td>\n      <td>0</td>\n      <td>1</td>\n      <td>0</td>\n    </tr>\n    <tr>\n      <th>8869</th>\n      <td>1</td>\n      <td>49.0</td>\n      <td>0.636048</td>\n      <td>-1.133188</td>\n      <td>-0.740680</td>\n      <td>0.482434</td>\n      <td>-1.924746</td>\n      <td>0.236311</td>\n      <td>-0.480494</td>\n      <td>0.072951</td>\n      <td>...</td>\n      <td>0</td>\n      <td>1</td>\n      <td>0</td>\n      <td>0</td>\n      <td>0</td>\n      <td>0</td>\n      <td>0</td>\n      <td>0</td>\n      <td>1</td>\n      <td>0</td>\n    </tr>\n    <tr>\n      <th>8870</th>\n      <td>1</td>\n      <td>6.0</td>\n      <td>0.038450</td>\n      <td>0.376352</td>\n      <td>0.395129</td>\n      <td>-0.140854</td>\n      <td>1.260730</td>\n      <td>-0.916857</td>\n      <td>-0.491236</td>\n      <td>-0.163129</td>\n      <td>...</td>\n      <td>0</td>\n      <td>1</td>\n      <td>0</td>\n      <td>0</td>\n      <td>0</td>\n      <td>0</td>\n      <td>0</td>\n      <td>0</td>\n      <td>0</td>\n      <td>1</td>\n    </tr>\n    <tr>\n      <th>8871</th>\n      <td>1</td>\n      <td>10.0</td>\n      <td>0.818214</td>\n      <td>0.879532</td>\n      <td>0.395129</td>\n      <td>0.690197</td>\n      <td>-0.730192</td>\n      <td>0.401049</td>\n      <td>0.328226</td>\n      <td>-0.517393</td>\n      <td>...</td>\n      <td>0</td>\n      <td>1</td>\n      <td>0</td>\n      <td>0</td>\n      <td>0</td>\n      <td>0</td>\n      <td>1</td>\n      <td>0</td>\n      <td>0</td>\n      <td>1</td>\n    </tr>\n    <tr>\n      <th>8872</th>\n      <td>0</td>\n      <td>879.0</td>\n      <td>-1.478634</td>\n      <td>-0.270594</td>\n      <td>0.710631</td>\n      <td>0.066909</td>\n      <td>0.707008</td>\n      <td>-0.422642</td>\n      <td>0.867442</td>\n      <td>-0.281313</td>\n      <td>...</td>\n      <td>0</td>\n      <td>0</td>\n      <td>1</td>\n      <td>0</td>\n      <td>0</td>\n      <td>0</td>\n      <td>0</td>\n      <td>0</td>\n      <td>1</td>\n      <td>0</td>\n    </tr>\n  </tbody>\n</table>\n<p>8873 rows × 29 columns</p>\n</div>"
     },
     "execution_count": 7,
     "metadata": {},
     "output_type": "execute_result"
    }
   ],
   "source": [
    "df"
   ],
   "metadata": {
    "collapsed": false,
    "pycharm": {
     "name": "#%%\n"
    }
   }
  },
  {
   "cell_type": "code",
   "execution_count": 8,
   "outputs": [],
   "source": [
    "df_temp = df.loc[0:, ['event', 'time']]\n",
    "df = df.drop(columns=['event', 'time'])"
   ],
   "metadata": {
    "collapsed": false,
    "pycharm": {
     "name": "#%%\n"
    }
   }
  },
  {
   "cell_type": "code",
   "execution_count": 9,
   "outputs": [
    {
     "data": {
      "text/plain": "27"
     },
     "execution_count": 9,
     "metadata": {},
     "output_type": "execute_result"
    }
   ],
   "source": [
    "len(list(df.columns))"
   ],
   "metadata": {
    "collapsed": false,
    "pycharm": {
     "name": "#%%\n"
    }
   }
  },
  {
   "cell_type": "code",
   "execution_count": 10,
   "metadata": {
    "pycharm": {
     "name": "#%%\n"
    }
   },
   "outputs": [],
   "source": [
    "# For testing - we can do generate a list of Beta in this function\n",
    "beta_list = np.random.uniform(-1, 5, 27) # because SUPPORT2 have 14 features - to save time we have generated random 14 numbers between -3 and 20"
   ]
  },
  {
   "cell_type": "code",
   "execution_count": 11,
   "outputs": [],
   "source": [
    "k = 1.5 # Sharp para\n",
    "g = 1.0 # Scale para or called lambda"
   ],
   "metadata": {
    "collapsed": false,
    "pycharm": {
     "name": "#%%\n"
    }
   }
  },
  {
   "cell_type": "code",
   "execution_count": 12,
   "metadata": {
    "pycharm": {
     "name": "#%%\n"
    }
   },
   "outputs": [],
   "source": [
    "z_generated, features_df, list_failure_time, full_generated_data = time_failure_calculation(n_generate = 100, features=[], path=PATH, beta_list=beta_list, k=k, g=g)"
   ]
  },
  {
   "cell_type": "code",
   "execution_count": 13,
   "metadata": {
    "pycharm": {
     "name": "#%%\n"
    }
   },
   "outputs": [
    {
     "data": {
      "text/plain": "           0         1         2         3         4         5          6  \\\n0  -2.790394  0.188932  5.731123  2.543614  0.045928  1.667384   4.473147   \n1   2.005266  1.416223  0.094403  5.448078 -1.061694  3.160479   5.484452   \n2   0.847497  1.674845 -1.321235  5.987590  1.738322  4.913542  16.584501   \n3  -1.070874  0.248704  3.641416  2.358004 -1.882882 -0.278745   4.298053   \n4   2.011373 -2.362116 -2.233492  2.825181 -2.278014 -2.475320  18.879549   \n..       ...       ...       ...       ...       ...       ...        ...   \n95 -2.160419  1.442338 -0.101626  5.665991 -3.127989  3.855753   8.859251   \n96  1.163537 -2.643665  2.948392  1.951474  0.885698 -2.200257   0.326456   \n97  2.078686  2.339247  5.035755  4.725287 -0.841341 -2.862995  18.823756   \n98 -0.059287  2.596780  3.038510 -2.250350 -1.048548  2.653562   2.438877   \n99  0.898294  1.165255  4.287863  3.300662 -1.075645  6.341456  -0.234552   \n\n            7    8    9  ...   18   19   20   21   22   23   24   25   26  \\\n0    8.666325  1.0  0.0  ...  1.0  0.0  1.0  1.0  0.0  1.0  0.0  1.0  0.0   \n1    6.371410  1.0  0.0  ...  0.0  0.0  0.0  1.0  1.0  0.0  0.0  0.0  1.0   \n2    2.974380  1.0  0.0  ...  0.0  1.0  1.0  0.0  1.0  1.0  1.0  1.0  0.0   \n3    0.811230  1.0  0.0  ...  1.0  0.0  0.0  1.0  0.0  0.0  0.0  0.0  1.0   \n4    9.613815  0.0  0.0  ...  1.0  0.0  0.0  0.0  0.0  1.0  0.0  0.0  0.0   \n..        ...  ...  ...  ...  ...  ...  ...  ...  ...  ...  ...  ...  ...   \n95   7.154842  1.0  1.0  ...  0.0  0.0  1.0  1.0  1.0  0.0  0.0  0.0  0.0   \n96   7.151915  0.0  0.0  ...  1.0  1.0  0.0  0.0  1.0  0.0  1.0  1.0  0.0   \n97  10.891514  0.0  1.0  ...  0.0  1.0  1.0  0.0  0.0  0.0  1.0  0.0  0.0   \n98  -0.693329  1.0  1.0  ...  1.0  1.0  1.0  0.0  1.0  0.0  0.0  1.0  0.0   \n99   3.007282  1.0  0.0  ...  1.0  1.0  1.0  0.0  0.0  0.0  0.0  1.0  1.0   \n\n        duration  \n0   2.607150e-19  \n1   6.647783e-11  \n2   2.338371e-27  \n3   2.276538e-12  \n4   7.684362e-10  \n..           ...  \n95  4.324200e-11  \n96  4.773297e-11  \n97  1.237943e-24  \n98  1.011178e-16  \n99  2.759545e-19  \n\n[100 rows x 28 columns]",
      "text/html": "<div>\n<style scoped>\n    .dataframe tbody tr th:only-of-type {\n        vertical-align: middle;\n    }\n\n    .dataframe tbody tr th {\n        vertical-align: top;\n    }\n\n    .dataframe thead th {\n        text-align: right;\n    }\n</style>\n<table border=\"1\" class=\"dataframe\">\n  <thead>\n    <tr style=\"text-align: right;\">\n      <th></th>\n      <th>0</th>\n      <th>1</th>\n      <th>2</th>\n      <th>3</th>\n      <th>4</th>\n      <th>5</th>\n      <th>6</th>\n      <th>7</th>\n      <th>8</th>\n      <th>9</th>\n      <th>...</th>\n      <th>18</th>\n      <th>19</th>\n      <th>20</th>\n      <th>21</th>\n      <th>22</th>\n      <th>23</th>\n      <th>24</th>\n      <th>25</th>\n      <th>26</th>\n      <th>duration</th>\n    </tr>\n  </thead>\n  <tbody>\n    <tr>\n      <th>0</th>\n      <td>-2.790394</td>\n      <td>0.188932</td>\n      <td>5.731123</td>\n      <td>2.543614</td>\n      <td>0.045928</td>\n      <td>1.667384</td>\n      <td>4.473147</td>\n      <td>8.666325</td>\n      <td>1.0</td>\n      <td>0.0</td>\n      <td>...</td>\n      <td>1.0</td>\n      <td>0.0</td>\n      <td>1.0</td>\n      <td>1.0</td>\n      <td>0.0</td>\n      <td>1.0</td>\n      <td>0.0</td>\n      <td>1.0</td>\n      <td>0.0</td>\n      <td>2.607150e-19</td>\n    </tr>\n    <tr>\n      <th>1</th>\n      <td>2.005266</td>\n      <td>1.416223</td>\n      <td>0.094403</td>\n      <td>5.448078</td>\n      <td>-1.061694</td>\n      <td>3.160479</td>\n      <td>5.484452</td>\n      <td>6.371410</td>\n      <td>1.0</td>\n      <td>0.0</td>\n      <td>...</td>\n      <td>0.0</td>\n      <td>0.0</td>\n      <td>0.0</td>\n      <td>1.0</td>\n      <td>1.0</td>\n      <td>0.0</td>\n      <td>0.0</td>\n      <td>0.0</td>\n      <td>1.0</td>\n      <td>6.647783e-11</td>\n    </tr>\n    <tr>\n      <th>2</th>\n      <td>0.847497</td>\n      <td>1.674845</td>\n      <td>-1.321235</td>\n      <td>5.987590</td>\n      <td>1.738322</td>\n      <td>4.913542</td>\n      <td>16.584501</td>\n      <td>2.974380</td>\n      <td>1.0</td>\n      <td>0.0</td>\n      <td>...</td>\n      <td>0.0</td>\n      <td>1.0</td>\n      <td>1.0</td>\n      <td>0.0</td>\n      <td>1.0</td>\n      <td>1.0</td>\n      <td>1.0</td>\n      <td>1.0</td>\n      <td>0.0</td>\n      <td>2.338371e-27</td>\n    </tr>\n    <tr>\n      <th>3</th>\n      <td>-1.070874</td>\n      <td>0.248704</td>\n      <td>3.641416</td>\n      <td>2.358004</td>\n      <td>-1.882882</td>\n      <td>-0.278745</td>\n      <td>4.298053</td>\n      <td>0.811230</td>\n      <td>1.0</td>\n      <td>0.0</td>\n      <td>...</td>\n      <td>1.0</td>\n      <td>0.0</td>\n      <td>0.0</td>\n      <td>1.0</td>\n      <td>0.0</td>\n      <td>0.0</td>\n      <td>0.0</td>\n      <td>0.0</td>\n      <td>1.0</td>\n      <td>2.276538e-12</td>\n    </tr>\n    <tr>\n      <th>4</th>\n      <td>2.011373</td>\n      <td>-2.362116</td>\n      <td>-2.233492</td>\n      <td>2.825181</td>\n      <td>-2.278014</td>\n      <td>-2.475320</td>\n      <td>18.879549</td>\n      <td>9.613815</td>\n      <td>0.0</td>\n      <td>0.0</td>\n      <td>...</td>\n      <td>1.0</td>\n      <td>0.0</td>\n      <td>0.0</td>\n      <td>0.0</td>\n      <td>0.0</td>\n      <td>1.0</td>\n      <td>0.0</td>\n      <td>0.0</td>\n      <td>0.0</td>\n      <td>7.684362e-10</td>\n    </tr>\n    <tr>\n      <th>...</th>\n      <td>...</td>\n      <td>...</td>\n      <td>...</td>\n      <td>...</td>\n      <td>...</td>\n      <td>...</td>\n      <td>...</td>\n      <td>...</td>\n      <td>...</td>\n      <td>...</td>\n      <td>...</td>\n      <td>...</td>\n      <td>...</td>\n      <td>...</td>\n      <td>...</td>\n      <td>...</td>\n      <td>...</td>\n      <td>...</td>\n      <td>...</td>\n      <td>...</td>\n      <td>...</td>\n    </tr>\n    <tr>\n      <th>95</th>\n      <td>-2.160419</td>\n      <td>1.442338</td>\n      <td>-0.101626</td>\n      <td>5.665991</td>\n      <td>-3.127989</td>\n      <td>3.855753</td>\n      <td>8.859251</td>\n      <td>7.154842</td>\n      <td>1.0</td>\n      <td>1.0</td>\n      <td>...</td>\n      <td>0.0</td>\n      <td>0.0</td>\n      <td>1.0</td>\n      <td>1.0</td>\n      <td>1.0</td>\n      <td>0.0</td>\n      <td>0.0</td>\n      <td>0.0</td>\n      <td>0.0</td>\n      <td>4.324200e-11</td>\n    </tr>\n    <tr>\n      <th>96</th>\n      <td>1.163537</td>\n      <td>-2.643665</td>\n      <td>2.948392</td>\n      <td>1.951474</td>\n      <td>0.885698</td>\n      <td>-2.200257</td>\n      <td>0.326456</td>\n      <td>7.151915</td>\n      <td>0.0</td>\n      <td>0.0</td>\n      <td>...</td>\n      <td>1.0</td>\n      <td>1.0</td>\n      <td>0.0</td>\n      <td>0.0</td>\n      <td>1.0</td>\n      <td>0.0</td>\n      <td>1.0</td>\n      <td>1.0</td>\n      <td>0.0</td>\n      <td>4.773297e-11</td>\n    </tr>\n    <tr>\n      <th>97</th>\n      <td>2.078686</td>\n      <td>2.339247</td>\n      <td>5.035755</td>\n      <td>4.725287</td>\n      <td>-0.841341</td>\n      <td>-2.862995</td>\n      <td>18.823756</td>\n      <td>10.891514</td>\n      <td>0.0</td>\n      <td>1.0</td>\n      <td>...</td>\n      <td>0.0</td>\n      <td>1.0</td>\n      <td>1.0</td>\n      <td>0.0</td>\n      <td>0.0</td>\n      <td>0.0</td>\n      <td>1.0</td>\n      <td>0.0</td>\n      <td>0.0</td>\n      <td>1.237943e-24</td>\n    </tr>\n    <tr>\n      <th>98</th>\n      <td>-0.059287</td>\n      <td>2.596780</td>\n      <td>3.038510</td>\n      <td>-2.250350</td>\n      <td>-1.048548</td>\n      <td>2.653562</td>\n      <td>2.438877</td>\n      <td>-0.693329</td>\n      <td>1.0</td>\n      <td>1.0</td>\n      <td>...</td>\n      <td>1.0</td>\n      <td>1.0</td>\n      <td>1.0</td>\n      <td>0.0</td>\n      <td>1.0</td>\n      <td>0.0</td>\n      <td>0.0</td>\n      <td>1.0</td>\n      <td>0.0</td>\n      <td>1.011178e-16</td>\n    </tr>\n    <tr>\n      <th>99</th>\n      <td>0.898294</td>\n      <td>1.165255</td>\n      <td>4.287863</td>\n      <td>3.300662</td>\n      <td>-1.075645</td>\n      <td>6.341456</td>\n      <td>-0.234552</td>\n      <td>3.007282</td>\n      <td>1.0</td>\n      <td>0.0</td>\n      <td>...</td>\n      <td>1.0</td>\n      <td>1.0</td>\n      <td>1.0</td>\n      <td>0.0</td>\n      <td>0.0</td>\n      <td>0.0</td>\n      <td>0.0</td>\n      <td>1.0</td>\n      <td>1.0</td>\n      <td>2.759545e-19</td>\n    </tr>\n  </tbody>\n</table>\n<p>100 rows × 28 columns</p>\n</div>"
     },
     "execution_count": 13,
     "metadata": {},
     "output_type": "execute_result"
    }
   ],
   "source": [
    "full_generated_data"
   ]
  },
  {
   "cell_type": "code",
   "execution_count": 14,
   "outputs": [
    {
     "ename": "IndentationError",
     "evalue": "expected an indented block (597562085.py, line 1)",
     "output_type": "error",
     "traceback": [
      "\u001B[0;36m  Cell \u001B[0;32mIn[14], line 1\u001B[0;36m\u001B[0m\n\u001B[0;31m    def generate_event_time_random(df):\u001B[0m\n\u001B[0m                                       ^\u001B[0m\n\u001B[0;31mIndentationError\u001B[0m\u001B[0;31m:\u001B[0m expected an indented block\n"
     ]
    }
   ],
   "source": [
    "# def generate_event_time_random(df):\n"
   ],
   "metadata": {
    "collapsed": false,
    "pycharm": {
     "name": "#%%\n"
    }
   }
  },
  {
   "cell_type": "code",
   "execution_count": null,
   "outputs": [],
   "source": [],
   "metadata": {
    "collapsed": false,
    "pycharm": {
     "name": "#%%\n"
    }
   }
  }
 ],
 "metadata": {
  "kernelspec": {
   "display_name": "Python 3 (ipykernel)",
   "language": "python",
   "name": "python3"
  },
  "language_info": {
   "codemirror_mode": {
    "name": "ipython",
    "version": 3
   },
   "file_extension": ".py",
   "mimetype": "text/x-python",
   "name": "python",
   "nbconvert_exporter": "python",
   "pygments_lexer": "ipython3",
   "version": "3.9.16"
  }
 },
 "nbformat": 4,
 "nbformat_minor": 1
}