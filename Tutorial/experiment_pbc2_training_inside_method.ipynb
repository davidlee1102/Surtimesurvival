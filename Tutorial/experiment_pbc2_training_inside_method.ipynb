{
 "cells": [
  {
   "cell_type": "code",
   "execution_count": 58,
   "metadata": {
    "collapsed": true,
    "pycharm": {
     "name": "#%%\n"
    }
   },
   "outputs": [],
   "source": [
    "import torch\n",
    "import pandas as pd\n",
    "\n",
    "\n",
    "from sklearn.model_selection import train_test_split\n",
    "from IPython.display import clear_output\n",
    "\n",
    "from SurvTRACE.survtrace.model import SurvTraceSingle\n",
    "from SurvTRACE.survtrace.train_utils import Trainer\n",
    "from SurvTRACE.survtrace.config import STConfig\n",
    "\n",
    "clear_output()"
   ]
  },
  {
   "cell_type": "code",
   "execution_count": 59,
   "outputs": [],
   "source": [
    "# We want to demostrate the processed data first -\n",
    "df = pd.read_csv('/Users/davidlee/Documents/GitHub/Surtimesurvival/Data Project/Pycox Lib/PBC2 Convariate Data/pbc2_data_proccessed_auton_covariate.csv')"
   ],
   "metadata": {
    "collapsed": false,
    "pycharm": {
     "name": "#%%\n"
    }
   }
  },
  {
   "cell_type": "code",
   "execution_count": 60,
   "outputs": [
    {
     "data": {
      "text/plain": "   event       time  seq_id  seq_time_id  seq_temporal_SGOT  seq_temporal_age  \\\n0    1.0   0.569489       0     0.569489          -1.485263          0.248058   \n1    1.0   0.569489       0     1.095170           0.195488          0.248058   \n2    0.0  14.152338       1     5.319790          -0.442126          1.292856   \n3    0.0  14.152338       1     6.261636          -0.046806          1.292856   \n4    0.0  14.152338       1     7.266455           0.293680          1.292856   \n\n   seq_temporal_albumin  seq_temporal_alkaline  seq_temporal_platelets  \\\n0             -0.894575               0.195532               -0.529101   \n1             -1.570646               0.285613               -0.456022   \n2             -1.431455              -0.605844               -1.395605   \n3             -1.172958              -0.512364               -1.259888   \n4             -1.312149              -0.443529               -1.364286   \n\n   seq_temporal_prothrombin  ...  seq_temporal_drug_1.0  \\\n0                  0.136768  ...                      0   \n1                  0.813132  ...                      0   \n2                  0.339677  ...                      0   \n3                  0.339677  ...                      0   \n4                  0.339677  ...                      0   \n\n   seq_temporal_edema_1.0  seq_temporal_edema_2.0  \\\n0                       1                       0   \n1                       1                       0   \n2                       1                       0   \n3                       1                       0   \n4                       1                       0   \n\n   seq_temporal_hepatomegaly_1.0  seq_temporal_hepatomegaly_2.0  \\\n0                              1                              0   \n1                              1                              0   \n2                              1                              0   \n3                              1                              0   \n4                              1                              0   \n\n   seq_temporal_histologic_1.0  seq_temporal_histologic_2.0  \\\n0                            0                            0   \n1                            0                            0   \n2                            0                            1   \n3                            0                            1   \n4                            0                            1   \n\n   seq_temporal_histologic_3.0  seq_temporal_spiders_1.0  \\\n0                            1                         1   \n1                            1                         1   \n2                            0                         1   \n3                            0                         1   \n4                            0                         1   \n\n   seq_temporal_spiders_2.0  \n0                         0  \n1                         0  \n2                         0  \n3                         0  \n4                         0  \n\n[5 rows x 25 columns]",
      "text/html": "<div>\n<style scoped>\n    .dataframe tbody tr th:only-of-type {\n        vertical-align: middle;\n    }\n\n    .dataframe tbody tr th {\n        vertical-align: top;\n    }\n\n    .dataframe thead th {\n        text-align: right;\n    }\n</style>\n<table border=\"1\" class=\"dataframe\">\n  <thead>\n    <tr style=\"text-align: right;\">\n      <th></th>\n      <th>event</th>\n      <th>time</th>\n      <th>seq_id</th>\n      <th>seq_time_id</th>\n      <th>seq_temporal_SGOT</th>\n      <th>seq_temporal_age</th>\n      <th>seq_temporal_albumin</th>\n      <th>seq_temporal_alkaline</th>\n      <th>seq_temporal_platelets</th>\n      <th>seq_temporal_prothrombin</th>\n      <th>...</th>\n      <th>seq_temporal_drug_1.0</th>\n      <th>seq_temporal_edema_1.0</th>\n      <th>seq_temporal_edema_2.0</th>\n      <th>seq_temporal_hepatomegaly_1.0</th>\n      <th>seq_temporal_hepatomegaly_2.0</th>\n      <th>seq_temporal_histologic_1.0</th>\n      <th>seq_temporal_histologic_2.0</th>\n      <th>seq_temporal_histologic_3.0</th>\n      <th>seq_temporal_spiders_1.0</th>\n      <th>seq_temporal_spiders_2.0</th>\n    </tr>\n  </thead>\n  <tbody>\n    <tr>\n      <th>0</th>\n      <td>1.0</td>\n      <td>0.569489</td>\n      <td>0</td>\n      <td>0.569489</td>\n      <td>-1.485263</td>\n      <td>0.248058</td>\n      <td>-0.894575</td>\n      <td>0.195532</td>\n      <td>-0.529101</td>\n      <td>0.136768</td>\n      <td>...</td>\n      <td>0</td>\n      <td>1</td>\n      <td>0</td>\n      <td>1</td>\n      <td>0</td>\n      <td>0</td>\n      <td>0</td>\n      <td>1</td>\n      <td>1</td>\n      <td>0</td>\n    </tr>\n    <tr>\n      <th>1</th>\n      <td>1.0</td>\n      <td>0.569489</td>\n      <td>0</td>\n      <td>1.095170</td>\n      <td>0.195488</td>\n      <td>0.248058</td>\n      <td>-1.570646</td>\n      <td>0.285613</td>\n      <td>-0.456022</td>\n      <td>0.813132</td>\n      <td>...</td>\n      <td>0</td>\n      <td>1</td>\n      <td>0</td>\n      <td>1</td>\n      <td>0</td>\n      <td>0</td>\n      <td>0</td>\n      <td>1</td>\n      <td>1</td>\n      <td>0</td>\n    </tr>\n    <tr>\n      <th>2</th>\n      <td>0.0</td>\n      <td>14.152338</td>\n      <td>1</td>\n      <td>5.319790</td>\n      <td>-0.442126</td>\n      <td>1.292856</td>\n      <td>-1.431455</td>\n      <td>-0.605844</td>\n      <td>-1.395605</td>\n      <td>0.339677</td>\n      <td>...</td>\n      <td>0</td>\n      <td>1</td>\n      <td>0</td>\n      <td>1</td>\n      <td>0</td>\n      <td>0</td>\n      <td>1</td>\n      <td>0</td>\n      <td>1</td>\n      <td>0</td>\n    </tr>\n    <tr>\n      <th>3</th>\n      <td>0.0</td>\n      <td>14.152338</td>\n      <td>1</td>\n      <td>6.261636</td>\n      <td>-0.046806</td>\n      <td>1.292856</td>\n      <td>-1.172958</td>\n      <td>-0.512364</td>\n      <td>-1.259888</td>\n      <td>0.339677</td>\n      <td>...</td>\n      <td>0</td>\n      <td>1</td>\n      <td>0</td>\n      <td>1</td>\n      <td>0</td>\n      <td>0</td>\n      <td>1</td>\n      <td>0</td>\n      <td>1</td>\n      <td>0</td>\n    </tr>\n    <tr>\n      <th>4</th>\n      <td>0.0</td>\n      <td>14.152338</td>\n      <td>1</td>\n      <td>7.266455</td>\n      <td>0.293680</td>\n      <td>1.292856</td>\n      <td>-1.312149</td>\n      <td>-0.443529</td>\n      <td>-1.364286</td>\n      <td>0.339677</td>\n      <td>...</td>\n      <td>0</td>\n      <td>1</td>\n      <td>0</td>\n      <td>1</td>\n      <td>0</td>\n      <td>0</td>\n      <td>1</td>\n      <td>0</td>\n      <td>1</td>\n      <td>0</td>\n    </tr>\n  </tbody>\n</table>\n<p>5 rows × 25 columns</p>\n</div>"
     },
     "execution_count": 60,
     "metadata": {},
     "output_type": "execute_result"
    }
   ],
   "source": [
    "df.head()"
   ],
   "metadata": {
    "collapsed": false,
    "pycharm": {
     "name": "#%%\n"
    }
   }
  },
  {
   "cell_type": "code",
   "execution_count": 61,
   "outputs": [],
   "source": [
    "df_temp = df.loc[0:, ['seq_id', 'time']]\n",
    "df_event_time_temp = df.loc[0:, ['seq_id' ,'event', 'time']]\n",
    "df = df.drop(columns=['seq_time_id'])"
   ],
   "metadata": {
    "collapsed": false,
    "pycharm": {
     "name": "#%%\n"
    }
   }
  },
  {
   "cell_type": "code",
   "execution_count": 62,
   "outputs": [],
   "source": [
    "# df.rename(columns = {'seq_out_time_to_event':'duration', 'seq_out_event':'event'}, inplace = True)\n",
    "df.rename(columns = {'time':'duration'}, inplace = True)"
   ],
   "metadata": {
    "collapsed": false,
    "pycharm": {
     "name": "#%%\n"
    }
   }
  },
  {
   "cell_type": "code",
   "execution_count": 63,
   "outputs": [],
   "source": [
    "from utils.covariate_data_processing import pbc2_proccess_covariate"
   ],
   "metadata": {
    "collapsed": false,
    "pycharm": {
     "name": "#%%\n"
    }
   }
  },
  {
   "cell_type": "code",
   "execution_count": 64,
   "outputs": [
    {
     "name": "stdout",
     "output_type": "stream",
     "text": [
      "26.0\n",
      "______\n",
      "8\n",
      "______\n",
      "13\n",
      "______\n",
      "21\n",
      "______\n",
      "26\n",
      "______\n",
      "[2.73792575e-03 3.83309605e-02 1.86178951e-01 4.73661154e-01\n",
      " 1.43056620e+01]\n",
      "______\n",
      "4\n"
     ]
    },
    {
     "name": "stderr",
     "output_type": "stream",
     "text": [
      "/Users/davidlee/Documents/GitHub/Surtimesurvival/SurvTRACE/survtrace/utils.py:78: UserWarning: Got event/censoring at start time. Should be removed! It is set s.t. it has no contribution to loss.\n",
      "  warnings.warn(\"\"\"Got event/censoring at start time. Should be removed! It is set s.t. it has no contribution to loss.\"\"\")\n"
     ]
    }
   ],
   "source": [
    "y, df, df_train, df_y_train = pbc2_proccess_covariate(df)"
   ],
   "metadata": {
    "collapsed": false,
    "pycharm": {
     "name": "#%%\n"
    }
   }
  },
  {
   "cell_type": "code",
   "execution_count": 65,
   "outputs": [
    {
     "data": {
      "text/plain": "   seq_static_sex_1.0  seq_temporal_ascites_1.0  seq_temporal_ascites_2.0  \\\n0                 0.0                       3.0                       4.0   \n1                 0.0                       3.0                       4.0   \n2                 0.0                       3.0                       4.0   \n3                 0.0                       3.0                       4.0   \n4                 0.0                       3.0                       4.0   \n\n   seq_temporal_drug_1.0  seq_temporal_edema_1.0  seq_temporal_edema_2.0  \\\n0                    6.0                     9.0                    10.0   \n1                    6.0                     9.0                    10.0   \n2                    6.0                     9.0                    10.0   \n3                    6.0                     9.0                    10.0   \n4                    6.0                     9.0                    10.0   \n\n   seq_temporal_hepatomegaly_1.0  seq_temporal_hepatomegaly_2.0  \\\n0                           13.0                           14.0   \n1                           13.0                           14.0   \n2                           13.0                           14.0   \n3                           13.0                           14.0   \n4                           13.0                           14.0   \n\n   seq_temporal_histologic_1.0  seq_temporal_histologic_2.0  ...  \\\n0                         16.0                         18.0  ...   \n1                         16.0                         18.0  ...   \n2                         16.0                         19.0  ...   \n3                         16.0                         19.0  ...   \n4                         16.0                         19.0  ...   \n\n   seq_temporal_spiders_1.0  seq_temporal_spiders_2.0  seq_temporal_SGOT  \\\n0                      23.0                      24.0          -1.485263   \n1                      23.0                      24.0           0.195488   \n2                      23.0                      24.0          -0.442126   \n3                      23.0                      24.0          -0.046806   \n4                      23.0                      24.0           0.293680   \n\n   seq_temporal_age  seq_temporal_albumin  seq_temporal_alkaline  \\\n0          0.248058             -0.894575               0.195532   \n1          0.248058             -1.570646               0.285613   \n2          1.292856             -1.431455              -0.605844   \n3          1.292856             -1.172958              -0.512364   \n4          1.292856             -1.312149              -0.443529   \n\n   seq_temporal_platelets  seq_temporal_prothrombin  seq_temporal_serBilir  \\\n0               -0.529101                  0.136768               3.281890   \n1               -0.456022                  0.813132               2.015877   \n2               -1.395605                  0.339677               0.172710   \n3               -1.259888                  0.339677              -0.013468   \n4               -1.364286                  0.339677               0.098239   \n\n   seq_temporal_serChol  \n0          1.242080e-16  \n1         -4.694608e-01  \n2         -6.589138e-01  \n3         -6.036567e-01  \n4          1.242080e-16  \n\n[5 rows x 21 columns]",
      "text/html": "<div>\n<style scoped>\n    .dataframe tbody tr th:only-of-type {\n        vertical-align: middle;\n    }\n\n    .dataframe tbody tr th {\n        vertical-align: top;\n    }\n\n    .dataframe thead th {\n        text-align: right;\n    }\n</style>\n<table border=\"1\" class=\"dataframe\">\n  <thead>\n    <tr style=\"text-align: right;\">\n      <th></th>\n      <th>seq_static_sex_1.0</th>\n      <th>seq_temporal_ascites_1.0</th>\n      <th>seq_temporal_ascites_2.0</th>\n      <th>seq_temporal_drug_1.0</th>\n      <th>seq_temporal_edema_1.0</th>\n      <th>seq_temporal_edema_2.0</th>\n      <th>seq_temporal_hepatomegaly_1.0</th>\n      <th>seq_temporal_hepatomegaly_2.0</th>\n      <th>seq_temporal_histologic_1.0</th>\n      <th>seq_temporal_histologic_2.0</th>\n      <th>...</th>\n      <th>seq_temporal_spiders_1.0</th>\n      <th>seq_temporal_spiders_2.0</th>\n      <th>seq_temporal_SGOT</th>\n      <th>seq_temporal_age</th>\n      <th>seq_temporal_albumin</th>\n      <th>seq_temporal_alkaline</th>\n      <th>seq_temporal_platelets</th>\n      <th>seq_temporal_prothrombin</th>\n      <th>seq_temporal_serBilir</th>\n      <th>seq_temporal_serChol</th>\n    </tr>\n  </thead>\n  <tbody>\n    <tr>\n      <th>0</th>\n      <td>0.0</td>\n      <td>3.0</td>\n      <td>4.0</td>\n      <td>6.0</td>\n      <td>9.0</td>\n      <td>10.0</td>\n      <td>13.0</td>\n      <td>14.0</td>\n      <td>16.0</td>\n      <td>18.0</td>\n      <td>...</td>\n      <td>23.0</td>\n      <td>24.0</td>\n      <td>-1.485263</td>\n      <td>0.248058</td>\n      <td>-0.894575</td>\n      <td>0.195532</td>\n      <td>-0.529101</td>\n      <td>0.136768</td>\n      <td>3.281890</td>\n      <td>1.242080e-16</td>\n    </tr>\n    <tr>\n      <th>1</th>\n      <td>0.0</td>\n      <td>3.0</td>\n      <td>4.0</td>\n      <td>6.0</td>\n      <td>9.0</td>\n      <td>10.0</td>\n      <td>13.0</td>\n      <td>14.0</td>\n      <td>16.0</td>\n      <td>18.0</td>\n      <td>...</td>\n      <td>23.0</td>\n      <td>24.0</td>\n      <td>0.195488</td>\n      <td>0.248058</td>\n      <td>-1.570646</td>\n      <td>0.285613</td>\n      <td>-0.456022</td>\n      <td>0.813132</td>\n      <td>2.015877</td>\n      <td>-4.694608e-01</td>\n    </tr>\n    <tr>\n      <th>2</th>\n      <td>0.0</td>\n      <td>3.0</td>\n      <td>4.0</td>\n      <td>6.0</td>\n      <td>9.0</td>\n      <td>10.0</td>\n      <td>13.0</td>\n      <td>14.0</td>\n      <td>16.0</td>\n      <td>19.0</td>\n      <td>...</td>\n      <td>23.0</td>\n      <td>24.0</td>\n      <td>-0.442126</td>\n      <td>1.292856</td>\n      <td>-1.431455</td>\n      <td>-0.605844</td>\n      <td>-1.395605</td>\n      <td>0.339677</td>\n      <td>0.172710</td>\n      <td>-6.589138e-01</td>\n    </tr>\n    <tr>\n      <th>3</th>\n      <td>0.0</td>\n      <td>3.0</td>\n      <td>4.0</td>\n      <td>6.0</td>\n      <td>9.0</td>\n      <td>10.0</td>\n      <td>13.0</td>\n      <td>14.0</td>\n      <td>16.0</td>\n      <td>19.0</td>\n      <td>...</td>\n      <td>23.0</td>\n      <td>24.0</td>\n      <td>-0.046806</td>\n      <td>1.292856</td>\n      <td>-1.172958</td>\n      <td>-0.512364</td>\n      <td>-1.259888</td>\n      <td>0.339677</td>\n      <td>-0.013468</td>\n      <td>-6.036567e-01</td>\n    </tr>\n    <tr>\n      <th>4</th>\n      <td>0.0</td>\n      <td>3.0</td>\n      <td>4.0</td>\n      <td>6.0</td>\n      <td>9.0</td>\n      <td>10.0</td>\n      <td>13.0</td>\n      <td>14.0</td>\n      <td>16.0</td>\n      <td>19.0</td>\n      <td>...</td>\n      <td>23.0</td>\n      <td>24.0</td>\n      <td>0.293680</td>\n      <td>1.292856</td>\n      <td>-1.312149</td>\n      <td>-0.443529</td>\n      <td>-1.364286</td>\n      <td>0.339677</td>\n      <td>0.098239</td>\n      <td>1.242080e-16</td>\n    </tr>\n  </tbody>\n</table>\n<p>5 rows × 21 columns</p>\n</div>"
     },
     "execution_count": 65,
     "metadata": {},
     "output_type": "execute_result"
    }
   ],
   "source": [
    "df_train.head()"
   ],
   "metadata": {
    "collapsed": false,
    "pycharm": {
     "name": "#%%\n"
    }
   }
  },
  {
   "cell_type": "code",
   "execution_count": 66,
   "outputs": [
    {
     "data": {
      "text/plain": "   duration  event  proportion\n0         3    1.0    0.006928\n1         3    1.0    0.006928\n2         3    0.0    0.988915\n3         3    0.0    0.988915\n4         3    0.0    0.988915",
      "text/html": "<div>\n<style scoped>\n    .dataframe tbody tr th:only-of-type {\n        vertical-align: middle;\n    }\n\n    .dataframe tbody tr th {\n        vertical-align: top;\n    }\n\n    .dataframe thead th {\n        text-align: right;\n    }\n</style>\n<table border=\"1\" class=\"dataframe\">\n  <thead>\n    <tr style=\"text-align: right;\">\n      <th></th>\n      <th>duration</th>\n      <th>event</th>\n      <th>proportion</th>\n    </tr>\n  </thead>\n  <tbody>\n    <tr>\n      <th>0</th>\n      <td>3</td>\n      <td>1.0</td>\n      <td>0.006928</td>\n    </tr>\n    <tr>\n      <th>1</th>\n      <td>3</td>\n      <td>1.0</td>\n      <td>0.006928</td>\n    </tr>\n    <tr>\n      <th>2</th>\n      <td>3</td>\n      <td>0.0</td>\n      <td>0.988915</td>\n    </tr>\n    <tr>\n      <th>3</th>\n      <td>3</td>\n      <td>0.0</td>\n      <td>0.988915</td>\n    </tr>\n    <tr>\n      <th>4</th>\n      <td>3</td>\n      <td>0.0</td>\n      <td>0.988915</td>\n    </tr>\n  </tbody>\n</table>\n</div>"
     },
     "execution_count": 66,
     "metadata": {},
     "output_type": "execute_result"
    }
   ],
   "source": [
    "df_y_train.head()"
   ],
   "metadata": {
    "collapsed": false,
    "pycharm": {
     "name": "#%%\n"
    }
   }
  },
  {
   "cell_type": "code",
   "execution_count": 67,
   "outputs": [],
   "source": [
    "df = pd.concat([df_train, df_temp['seq_id']],axis = 1)\n",
    "df_y = pd.concat([df_y_train, df_temp['seq_id']],axis = 1)"
   ],
   "metadata": {
    "collapsed": false,
    "pycharm": {
     "name": "#%%\n"
    }
   }
  },
  {
   "cell_type": "code",
   "execution_count": 68,
   "outputs": [
    {
     "data": {
      "text/plain": "   seq_static_sex_1.0  seq_temporal_ascites_1.0  seq_temporal_ascites_2.0  \\\n0                 0.0                       3.0                       4.0   \n1                 0.0                       3.0                       4.0   \n2                 0.0                       3.0                       4.0   \n3                 0.0                       3.0                       4.0   \n4                 0.0                       3.0                       4.0   \n\n   seq_temporal_drug_1.0  seq_temporal_edema_1.0  seq_temporal_edema_2.0  \\\n0                    6.0                     9.0                    10.0   \n1                    6.0                     9.0                    10.0   \n2                    6.0                     9.0                    10.0   \n3                    6.0                     9.0                    10.0   \n4                    6.0                     9.0                    10.0   \n\n   seq_temporal_hepatomegaly_1.0  seq_temporal_hepatomegaly_2.0  \\\n0                           13.0                           14.0   \n1                           13.0                           14.0   \n2                           13.0                           14.0   \n3                           13.0                           14.0   \n4                           13.0                           14.0   \n\n   seq_temporal_histologic_1.0  seq_temporal_histologic_2.0  ...  \\\n0                         16.0                         18.0  ...   \n1                         16.0                         18.0  ...   \n2                         16.0                         19.0  ...   \n3                         16.0                         19.0  ...   \n4                         16.0                         19.0  ...   \n\n   seq_temporal_spiders_2.0  seq_temporal_SGOT  seq_temporal_age  \\\n0                      24.0          -1.485263          0.248058   \n1                      24.0           0.195488          0.248058   \n2                      24.0          -0.442126          1.292856   \n3                      24.0          -0.046806          1.292856   \n4                      24.0           0.293680          1.292856   \n\n   seq_temporal_albumin  seq_temporal_alkaline  seq_temporal_platelets  \\\n0             -0.894575               0.195532               -0.529101   \n1             -1.570646               0.285613               -0.456022   \n2             -1.431455              -0.605844               -1.395605   \n3             -1.172958              -0.512364               -1.259888   \n4             -1.312149              -0.443529               -1.364286   \n\n   seq_temporal_prothrombin  seq_temporal_serBilir  seq_temporal_serChol  \\\n0                  0.136768               3.281890          1.242080e-16   \n1                  0.813132               2.015877         -4.694608e-01   \n2                  0.339677               0.172710         -6.589138e-01   \n3                  0.339677              -0.013468         -6.036567e-01   \n4                  0.339677               0.098239          1.242080e-16   \n\n   seq_id  \n0       0  \n1       0  \n2       1  \n3       1  \n4       1  \n\n[5 rows x 22 columns]",
      "text/html": "<div>\n<style scoped>\n    .dataframe tbody tr th:only-of-type {\n        vertical-align: middle;\n    }\n\n    .dataframe tbody tr th {\n        vertical-align: top;\n    }\n\n    .dataframe thead th {\n        text-align: right;\n    }\n</style>\n<table border=\"1\" class=\"dataframe\">\n  <thead>\n    <tr style=\"text-align: right;\">\n      <th></th>\n      <th>seq_static_sex_1.0</th>\n      <th>seq_temporal_ascites_1.0</th>\n      <th>seq_temporal_ascites_2.0</th>\n      <th>seq_temporal_drug_1.0</th>\n      <th>seq_temporal_edema_1.0</th>\n      <th>seq_temporal_edema_2.0</th>\n      <th>seq_temporal_hepatomegaly_1.0</th>\n      <th>seq_temporal_hepatomegaly_2.0</th>\n      <th>seq_temporal_histologic_1.0</th>\n      <th>seq_temporal_histologic_2.0</th>\n      <th>...</th>\n      <th>seq_temporal_spiders_2.0</th>\n      <th>seq_temporal_SGOT</th>\n      <th>seq_temporal_age</th>\n      <th>seq_temporal_albumin</th>\n      <th>seq_temporal_alkaline</th>\n      <th>seq_temporal_platelets</th>\n      <th>seq_temporal_prothrombin</th>\n      <th>seq_temporal_serBilir</th>\n      <th>seq_temporal_serChol</th>\n      <th>seq_id</th>\n    </tr>\n  </thead>\n  <tbody>\n    <tr>\n      <th>0</th>\n      <td>0.0</td>\n      <td>3.0</td>\n      <td>4.0</td>\n      <td>6.0</td>\n      <td>9.0</td>\n      <td>10.0</td>\n      <td>13.0</td>\n      <td>14.0</td>\n      <td>16.0</td>\n      <td>18.0</td>\n      <td>...</td>\n      <td>24.0</td>\n      <td>-1.485263</td>\n      <td>0.248058</td>\n      <td>-0.894575</td>\n      <td>0.195532</td>\n      <td>-0.529101</td>\n      <td>0.136768</td>\n      <td>3.281890</td>\n      <td>1.242080e-16</td>\n      <td>0</td>\n    </tr>\n    <tr>\n      <th>1</th>\n      <td>0.0</td>\n      <td>3.0</td>\n      <td>4.0</td>\n      <td>6.0</td>\n      <td>9.0</td>\n      <td>10.0</td>\n      <td>13.0</td>\n      <td>14.0</td>\n      <td>16.0</td>\n      <td>18.0</td>\n      <td>...</td>\n      <td>24.0</td>\n      <td>0.195488</td>\n      <td>0.248058</td>\n      <td>-1.570646</td>\n      <td>0.285613</td>\n      <td>-0.456022</td>\n      <td>0.813132</td>\n      <td>2.015877</td>\n      <td>-4.694608e-01</td>\n      <td>0</td>\n    </tr>\n    <tr>\n      <th>2</th>\n      <td>0.0</td>\n      <td>3.0</td>\n      <td>4.0</td>\n      <td>6.0</td>\n      <td>9.0</td>\n      <td>10.0</td>\n      <td>13.0</td>\n      <td>14.0</td>\n      <td>16.0</td>\n      <td>19.0</td>\n      <td>...</td>\n      <td>24.0</td>\n      <td>-0.442126</td>\n      <td>1.292856</td>\n      <td>-1.431455</td>\n      <td>-0.605844</td>\n      <td>-1.395605</td>\n      <td>0.339677</td>\n      <td>0.172710</td>\n      <td>-6.589138e-01</td>\n      <td>1</td>\n    </tr>\n    <tr>\n      <th>3</th>\n      <td>0.0</td>\n      <td>3.0</td>\n      <td>4.0</td>\n      <td>6.0</td>\n      <td>9.0</td>\n      <td>10.0</td>\n      <td>13.0</td>\n      <td>14.0</td>\n      <td>16.0</td>\n      <td>19.0</td>\n      <td>...</td>\n      <td>24.0</td>\n      <td>-0.046806</td>\n      <td>1.292856</td>\n      <td>-1.172958</td>\n      <td>-0.512364</td>\n      <td>-1.259888</td>\n      <td>0.339677</td>\n      <td>-0.013468</td>\n      <td>-6.036567e-01</td>\n      <td>1</td>\n    </tr>\n    <tr>\n      <th>4</th>\n      <td>0.0</td>\n      <td>3.0</td>\n      <td>4.0</td>\n      <td>6.0</td>\n      <td>9.0</td>\n      <td>10.0</td>\n      <td>13.0</td>\n      <td>14.0</td>\n      <td>16.0</td>\n      <td>19.0</td>\n      <td>...</td>\n      <td>24.0</td>\n      <td>0.293680</td>\n      <td>1.292856</td>\n      <td>-1.312149</td>\n      <td>-0.443529</td>\n      <td>-1.364286</td>\n      <td>0.339677</td>\n      <td>0.098239</td>\n      <td>1.242080e-16</td>\n      <td>1</td>\n    </tr>\n  </tbody>\n</table>\n<p>5 rows × 22 columns</p>\n</div>"
     },
     "execution_count": 68,
     "metadata": {},
     "output_type": "execute_result"
    }
   ],
   "source": [
    "df.head()"
   ],
   "metadata": {
    "collapsed": false,
    "pycharm": {
     "name": "#%%\n"
    }
   }
  },
  {
   "cell_type": "code",
   "execution_count": 69,
   "outputs": [
    {
     "data": {
      "text/plain": "   duration  event  proportion  seq_id\n0         3    1.0    0.006928       0\n1         3    1.0    0.006928       0\n2         3    0.0    0.988915       1\n3         3    0.0    0.988915       1\n4         3    0.0    0.988915       1",
      "text/html": "<div>\n<style scoped>\n    .dataframe tbody tr th:only-of-type {\n        vertical-align: middle;\n    }\n\n    .dataframe tbody tr th {\n        vertical-align: top;\n    }\n\n    .dataframe thead th {\n        text-align: right;\n    }\n</style>\n<table border=\"1\" class=\"dataframe\">\n  <thead>\n    <tr style=\"text-align: right;\">\n      <th></th>\n      <th>duration</th>\n      <th>event</th>\n      <th>proportion</th>\n      <th>seq_id</th>\n    </tr>\n  </thead>\n  <tbody>\n    <tr>\n      <th>0</th>\n      <td>3</td>\n      <td>1.0</td>\n      <td>0.006928</td>\n      <td>0</td>\n    </tr>\n    <tr>\n      <th>1</th>\n      <td>3</td>\n      <td>1.0</td>\n      <td>0.006928</td>\n      <td>0</td>\n    </tr>\n    <tr>\n      <th>2</th>\n      <td>3</td>\n      <td>0.0</td>\n      <td>0.988915</td>\n      <td>1</td>\n    </tr>\n    <tr>\n      <th>3</th>\n      <td>3</td>\n      <td>0.0</td>\n      <td>0.988915</td>\n      <td>1</td>\n    </tr>\n    <tr>\n      <th>4</th>\n      <td>3</td>\n      <td>0.0</td>\n      <td>0.988915</td>\n      <td>1</td>\n    </tr>\n  </tbody>\n</table>\n</div>"
     },
     "execution_count": 69,
     "metadata": {},
     "output_type": "execute_result"
    }
   ],
   "source": [
    "df_y.head()"
   ],
   "metadata": {
    "collapsed": false,
    "pycharm": {
     "name": "#%%\n"
    }
   }
  },
  {
   "cell_type": "code",
   "execution_count": 70,
   "outputs": [],
   "source": [
    "from utils.covariate_data_processing import padded_mask_processing"
   ],
   "metadata": {
    "collapsed": false,
    "pycharm": {
     "name": "#%%\n"
    }
   }
  },
  {
   "cell_type": "code",
   "execution_count": 71,
   "outputs": [
    {
     "name": "stdout",
     "output_type": "stream",
     "text": [
      "16 16\n"
     ]
    }
   ],
   "source": [
    "masks, padded_patients = padded_mask_processing(df)"
   ],
   "metadata": {
    "collapsed": false,
    "pycharm": {
     "name": "#%%\n"
    }
   }
  },
  {
   "cell_type": "code",
   "execution_count": 72,
   "outputs": [
    {
     "data": {
      "text/plain": "torch.Size([312, 16, 21])"
     },
     "execution_count": 72,
     "metadata": {},
     "output_type": "execute_result"
    }
   ],
   "source": [
    "padded_patients.shape"
   ],
   "metadata": {
    "collapsed": false,
    "pycharm": {
     "name": "#%%\n"
    }
   }
  },
  {
   "cell_type": "code",
   "execution_count": 73,
   "outputs": [
    {
     "data": {
      "text/plain": "torch.Size([312, 16])"
     },
     "execution_count": 73,
     "metadata": {},
     "output_type": "execute_result"
    }
   ],
   "source": [
    "masks.shape"
   ],
   "metadata": {
    "collapsed": false,
    "pycharm": {
     "name": "#%%\n"
    }
   }
  },
  {
   "cell_type": "code",
   "execution_count": 74,
   "outputs": [
    {
     "data": {
      "text/plain": "tensor([[ 3.0000e+00,  4.0000e+00,  6.0000e+00,  9.0000e+00,  1.0000e+01,\n          1.3000e+01,  1.4000e+01,  1.6000e+01,  1.8000e+01,  2.1000e+01,\n          2.3000e+01,  2.4000e+01, -1.4853e+00,  2.4806e-01, -8.9458e-01,\n          1.9553e-01, -5.2910e-01,  1.3677e-01,  3.2819e+00,  1.2421e-16,\n          0.0000e+00],\n        [ 3.0000e+00,  4.0000e+00,  6.0000e+00,  9.0000e+00,  1.0000e+01,\n          1.3000e+01,  1.4000e+01,  1.6000e+01,  1.8000e+01,  2.1000e+01,\n          2.3000e+01,  2.4000e+01,  1.9549e-01,  2.4806e-01, -1.5706e+00,\n          2.8561e-01, -4.5602e-01,  8.1313e-01,  2.0159e+00, -4.6946e-01,\n          0.0000e+00],\n        [ 0.0000e+00,  0.0000e+00,  0.0000e+00,  0.0000e+00,  0.0000e+00,\n          0.0000e+00,  0.0000e+00,  0.0000e+00,  0.0000e+00,  0.0000e+00,\n          0.0000e+00,  0.0000e+00,  0.0000e+00,  0.0000e+00,  0.0000e+00,\n          0.0000e+00,  0.0000e+00,  0.0000e+00,  0.0000e+00,  0.0000e+00,\n          0.0000e+00],\n        [ 0.0000e+00,  0.0000e+00,  0.0000e+00,  0.0000e+00,  0.0000e+00,\n          0.0000e+00,  0.0000e+00,  0.0000e+00,  0.0000e+00,  0.0000e+00,\n          0.0000e+00,  0.0000e+00,  0.0000e+00,  0.0000e+00,  0.0000e+00,\n          0.0000e+00,  0.0000e+00,  0.0000e+00,  0.0000e+00,  0.0000e+00,\n          0.0000e+00],\n        [ 0.0000e+00,  0.0000e+00,  0.0000e+00,  0.0000e+00,  0.0000e+00,\n          0.0000e+00,  0.0000e+00,  0.0000e+00,  0.0000e+00,  0.0000e+00,\n          0.0000e+00,  0.0000e+00,  0.0000e+00,  0.0000e+00,  0.0000e+00,\n          0.0000e+00,  0.0000e+00,  0.0000e+00,  0.0000e+00,  0.0000e+00,\n          0.0000e+00],\n        [ 0.0000e+00,  0.0000e+00,  0.0000e+00,  0.0000e+00,  0.0000e+00,\n          0.0000e+00,  0.0000e+00,  0.0000e+00,  0.0000e+00,  0.0000e+00,\n          0.0000e+00,  0.0000e+00,  0.0000e+00,  0.0000e+00,  0.0000e+00,\n          0.0000e+00,  0.0000e+00,  0.0000e+00,  0.0000e+00,  0.0000e+00,\n          0.0000e+00],\n        [ 0.0000e+00,  0.0000e+00,  0.0000e+00,  0.0000e+00,  0.0000e+00,\n          0.0000e+00,  0.0000e+00,  0.0000e+00,  0.0000e+00,  0.0000e+00,\n          0.0000e+00,  0.0000e+00,  0.0000e+00,  0.0000e+00,  0.0000e+00,\n          0.0000e+00,  0.0000e+00,  0.0000e+00,  0.0000e+00,  0.0000e+00,\n          0.0000e+00],\n        [ 0.0000e+00,  0.0000e+00,  0.0000e+00,  0.0000e+00,  0.0000e+00,\n          0.0000e+00,  0.0000e+00,  0.0000e+00,  0.0000e+00,  0.0000e+00,\n          0.0000e+00,  0.0000e+00,  0.0000e+00,  0.0000e+00,  0.0000e+00,\n          0.0000e+00,  0.0000e+00,  0.0000e+00,  0.0000e+00,  0.0000e+00,\n          0.0000e+00],\n        [ 0.0000e+00,  0.0000e+00,  0.0000e+00,  0.0000e+00,  0.0000e+00,\n          0.0000e+00,  0.0000e+00,  0.0000e+00,  0.0000e+00,  0.0000e+00,\n          0.0000e+00,  0.0000e+00,  0.0000e+00,  0.0000e+00,  0.0000e+00,\n          0.0000e+00,  0.0000e+00,  0.0000e+00,  0.0000e+00,  0.0000e+00,\n          0.0000e+00],\n        [ 0.0000e+00,  0.0000e+00,  0.0000e+00,  0.0000e+00,  0.0000e+00,\n          0.0000e+00,  0.0000e+00,  0.0000e+00,  0.0000e+00,  0.0000e+00,\n          0.0000e+00,  0.0000e+00,  0.0000e+00,  0.0000e+00,  0.0000e+00,\n          0.0000e+00,  0.0000e+00,  0.0000e+00,  0.0000e+00,  0.0000e+00,\n          0.0000e+00],\n        [ 0.0000e+00,  0.0000e+00,  0.0000e+00,  0.0000e+00,  0.0000e+00,\n          0.0000e+00,  0.0000e+00,  0.0000e+00,  0.0000e+00,  0.0000e+00,\n          0.0000e+00,  0.0000e+00,  0.0000e+00,  0.0000e+00,  0.0000e+00,\n          0.0000e+00,  0.0000e+00,  0.0000e+00,  0.0000e+00,  0.0000e+00,\n          0.0000e+00],\n        [ 0.0000e+00,  0.0000e+00,  0.0000e+00,  0.0000e+00,  0.0000e+00,\n          0.0000e+00,  0.0000e+00,  0.0000e+00,  0.0000e+00,  0.0000e+00,\n          0.0000e+00,  0.0000e+00,  0.0000e+00,  0.0000e+00,  0.0000e+00,\n          0.0000e+00,  0.0000e+00,  0.0000e+00,  0.0000e+00,  0.0000e+00,\n          0.0000e+00],\n        [ 0.0000e+00,  0.0000e+00,  0.0000e+00,  0.0000e+00,  0.0000e+00,\n          0.0000e+00,  0.0000e+00,  0.0000e+00,  0.0000e+00,  0.0000e+00,\n          0.0000e+00,  0.0000e+00,  0.0000e+00,  0.0000e+00,  0.0000e+00,\n          0.0000e+00,  0.0000e+00,  0.0000e+00,  0.0000e+00,  0.0000e+00,\n          0.0000e+00],\n        [ 0.0000e+00,  0.0000e+00,  0.0000e+00,  0.0000e+00,  0.0000e+00,\n          0.0000e+00,  0.0000e+00,  0.0000e+00,  0.0000e+00,  0.0000e+00,\n          0.0000e+00,  0.0000e+00,  0.0000e+00,  0.0000e+00,  0.0000e+00,\n          0.0000e+00,  0.0000e+00,  0.0000e+00,  0.0000e+00,  0.0000e+00,\n          0.0000e+00],\n        [ 0.0000e+00,  0.0000e+00,  0.0000e+00,  0.0000e+00,  0.0000e+00,\n          0.0000e+00,  0.0000e+00,  0.0000e+00,  0.0000e+00,  0.0000e+00,\n          0.0000e+00,  0.0000e+00,  0.0000e+00,  0.0000e+00,  0.0000e+00,\n          0.0000e+00,  0.0000e+00,  0.0000e+00,  0.0000e+00,  0.0000e+00,\n          0.0000e+00],\n        [ 0.0000e+00,  0.0000e+00,  0.0000e+00,  0.0000e+00,  0.0000e+00,\n          0.0000e+00,  0.0000e+00,  0.0000e+00,  0.0000e+00,  0.0000e+00,\n          0.0000e+00,  0.0000e+00,  0.0000e+00,  0.0000e+00,  0.0000e+00,\n          0.0000e+00,  0.0000e+00,  0.0000e+00,  0.0000e+00,  0.0000e+00,\n          0.0000e+00]])"
     },
     "execution_count": 74,
     "metadata": {},
     "output_type": "execute_result"
    }
   ],
   "source": [
    "padded_patients[0]"
   ],
   "metadata": {
    "collapsed": false,
    "pycharm": {
     "name": "#%%\n"
    }
   }
  },
  {
   "cell_type": "code",
   "execution_count": 75,
   "outputs": [],
   "source": [
    "df_y = df_y.drop_duplicates(subset='seq_id', keep='last')"
   ],
   "metadata": {
    "collapsed": false,
    "pycharm": {
     "name": "#%%\n"
    }
   }
  },
  {
   "cell_type": "code",
   "execution_count": 76,
   "outputs": [],
   "source": [
    "df_y = df_y.reset_index(drop=True)"
   ],
   "metadata": {
    "collapsed": false,
    "pycharm": {
     "name": "#%%\n"
    }
   }
  },
  {
   "cell_type": "code",
   "execution_count": 77,
   "outputs": [],
   "source": [
    "df_y = df_y.drop(columns=['seq_id'])"
   ],
   "metadata": {
    "collapsed": false,
    "pycharm": {
     "name": "#%%\n"
    }
   }
  },
  {
   "cell_type": "code",
   "execution_count": 78,
   "outputs": [
    {
     "data": {
      "text/plain": "   duration  event  proportion\n0         3    1.0    0.006928\n1         3    0.0    0.988915\n2         3    1.0    0.019002\n3         2    1.0    0.314286\n4         3    0.0    0.263658",
      "text/html": "<div>\n<style scoped>\n    .dataframe tbody tr th:only-of-type {\n        vertical-align: middle;\n    }\n\n    .dataframe tbody tr th {\n        vertical-align: top;\n    }\n\n    .dataframe thead th {\n        text-align: right;\n    }\n</style>\n<table border=\"1\" class=\"dataframe\">\n  <thead>\n    <tr style=\"text-align: right;\">\n      <th></th>\n      <th>duration</th>\n      <th>event</th>\n      <th>proportion</th>\n    </tr>\n  </thead>\n  <tbody>\n    <tr>\n      <th>0</th>\n      <td>3</td>\n      <td>1.0</td>\n      <td>0.006928</td>\n    </tr>\n    <tr>\n      <th>1</th>\n      <td>3</td>\n      <td>0.0</td>\n      <td>0.988915</td>\n    </tr>\n    <tr>\n      <th>2</th>\n      <td>3</td>\n      <td>1.0</td>\n      <td>0.019002</td>\n    </tr>\n    <tr>\n      <th>3</th>\n      <td>2</td>\n      <td>1.0</td>\n      <td>0.314286</td>\n    </tr>\n    <tr>\n      <th>4</th>\n      <td>3</td>\n      <td>0.0</td>\n      <td>0.263658</td>\n    </tr>\n  </tbody>\n</table>\n</div>"
     },
     "execution_count": 78,
     "metadata": {},
     "output_type": "execute_result"
    }
   ],
   "source": [
    "df_y.head()"
   ],
   "metadata": {
    "collapsed": false,
    "pycharm": {
     "name": "#%%\n"
    }
   }
  },
  {
   "cell_type": "code",
   "execution_count": 79,
   "outputs": [],
   "source": [
    "Y_labels_time_real = df_temp.drop_duplicates(subset='seq_id', keep='last')\n",
    "Y_labels_time_real = Y_labels_time_real.reset_index(drop=True)\n",
    "Y_labels_time_real = Y_labels_time_real.drop(columns=['seq_id'])"
   ],
   "metadata": {
    "collapsed": false,
    "pycharm": {
     "name": "#%%\n"
    }
   }
  },
  {
   "cell_type": "code",
   "execution_count": 80,
   "outputs": [
    {
     "data": {
      "text/plain": "        time\n0   0.569489\n1  14.152338\n2   0.736502\n3   0.276531\n4   4.120578",
      "text/html": "<div>\n<style scoped>\n    .dataframe tbody tr th:only-of-type {\n        vertical-align: middle;\n    }\n\n    .dataframe tbody tr th {\n        vertical-align: top;\n    }\n\n    .dataframe thead th {\n        text-align: right;\n    }\n</style>\n<table border=\"1\" class=\"dataframe\">\n  <thead>\n    <tr style=\"text-align: right;\">\n      <th></th>\n      <th>time</th>\n    </tr>\n  </thead>\n  <tbody>\n    <tr>\n      <th>0</th>\n      <td>0.569489</td>\n    </tr>\n    <tr>\n      <th>1</th>\n      <td>14.152338</td>\n    </tr>\n    <tr>\n      <th>2</th>\n      <td>0.736502</td>\n    </tr>\n    <tr>\n      <th>3</th>\n      <td>0.276531</td>\n    </tr>\n    <tr>\n      <th>4</th>\n      <td>4.120578</td>\n    </tr>\n  </tbody>\n</table>\n</div>"
     },
     "execution_count": 80,
     "metadata": {},
     "output_type": "execute_result"
    }
   ],
   "source": [
    "Y_labels_time_real.head()"
   ],
   "metadata": {
    "collapsed": false,
    "pycharm": {
     "name": "#%%\n"
    }
   }
  },
  {
   "cell_type": "code",
   "execution_count": 81,
   "outputs": [],
   "source": [
    "X_features_data_tensor = padded_patients\n",
    "Y_labels_data_tensor = torch.Tensor(df_y.values)\n",
    "Y_labels_time_real = torch.Tensor(Y_labels_time_real.values)"
   ],
   "metadata": {
    "collapsed": false,
    "pycharm": {
     "name": "#%%\n"
    }
   }
  },
  {
   "cell_type": "code",
   "execution_count": 82,
   "outputs": [],
   "source": [
    "import torch\n",
    "from torch.utils.data import TensorDataset\n",
    "\n",
    "X_train, X_val, y_train, y_val, masks_train, masks_val, time_train, time_val = train_test_split(X_features_data_tensor, Y_labels_data_tensor,\n",
    "                                                                          masks, Y_labels_time_real, test_size=0.4)\n",
    "\n",
    "X_val, X_test, y_val, y_test, masks_val, masks_test, time_val, time_test = train_test_split(X_val, y_val,\n",
    "                                                                          masks_val, time_val, test_size=0.5)\n",
    "\n",
    "\n",
    "train_data = TensorDataset(X_train, y_train, masks_train)\n",
    "val_data = TensorDataset(X_val, y_val, masks_val)\n",
    "test_data = TensorDataset(X_test, y_test, masks_test)"
   ],
   "metadata": {
    "collapsed": false,
    "pycharm": {
     "name": "#%%\n"
    }
   }
  },
  {
   "cell_type": "code",
   "execution_count": 83,
   "outputs": [
    {
     "data": {
      "text/plain": "torch.Size([187, 16, 21])"
     },
     "execution_count": 83,
     "metadata": {},
     "output_type": "execute_result"
    }
   ],
   "source": [
    "X_train.shape"
   ],
   "metadata": {
    "collapsed": false,
    "pycharm": {
     "name": "#%%\n"
    }
   }
  },
  {
   "cell_type": "code",
   "execution_count": 84,
   "outputs": [
    {
     "data": {
      "text/plain": "torch.Size([187, 3])"
     },
     "execution_count": 84,
     "metadata": {},
     "output_type": "execute_result"
    }
   ],
   "source": [
    "y_train.shape"
   ],
   "metadata": {
    "collapsed": false,
    "pycharm": {
     "name": "#%%\n"
    }
   }
  },
  {
   "cell_type": "code",
   "execution_count": 85,
   "outputs": [
    {
     "name": "stdout",
     "output_type": "stream",
     "text": [
      "torch.Size([63, 16, 21])\n",
      "torch.Size([63, 3])\n",
      "torch.Size([63, 16])\n",
      "torch.Size([63, 1])\n"
     ]
    }
   ],
   "source": [
    "print(X_test.shape)\n",
    "print(y_test.shape)\n",
    "print(masks_test.shape)\n",
    "print(time_test.shape)"
   ],
   "metadata": {
    "collapsed": false,
    "pycharm": {
     "name": "#%%\n"
    }
   }
  },
  {
   "cell_type": "code",
   "execution_count": 86,
   "outputs": [],
   "source": [
    "STConfig['data'] = 'metabric'\n",
    "STConfig['duration_index'] = [0.11225496, 2.06987187, 3.72357902, 6.68738364, 14.30566203]\n",
    "\n",
    "\n",
    "STConfig['num_numerical_feature'] = 21\n",
    "STConfig['num_categorical_feature'] = 0\n",
    "STConfig['num_feature'] = 21\n",
    "STConfig['vocab_size'] = 0\n",
    "STConfig['out_feature'] = 4\n",
    "\n",
    "hparams = {\n",
    "    'batch_size': 2,\n",
    "    'weight_decay': 1e-4,\n",
    "    'learning_rate': 1e-3,\n",
    "    'epochs': 40,\n",
    "}"
   ],
   "metadata": {
    "collapsed": false,
    "pycharm": {
     "name": "#%%\n"
    }
   }
  },
  {
   "cell_type": "code",
   "execution_count": 87,
   "outputs": [],
   "source": [
    "from model.custom_model_survtrace import Custom_SurvTrace\n",
    "\n",
    "model = Custom_SurvTrace(STConfig)\n",
    "a = masks_train[0:2]\n",
    "# print(X_train[0].shape)\n",
    "# print(X_train[0].unsqueeze(0).shape)\n",
    "output = model(input_nums = X_train[0:2], our_mask = a)"
   ],
   "metadata": {
    "collapsed": false,
    "pycharm": {
     "name": "#%%\n"
    }
   }
  },
  {
   "cell_type": "code",
   "execution_count": 88,
   "outputs": [
    {
     "name": "stdout",
     "output_type": "stream",
     "text": [
      "2\n"
     ]
    }
   ],
   "source": [
    "print(len(output[0][0]))"
   ],
   "metadata": {
    "collapsed": false,
    "pycharm": {
     "name": "#%%\n"
    }
   }
  },
  {
   "cell_type": "code",
   "execution_count": 89,
   "outputs": [],
   "source": [
    "df_train = X_train\n",
    "df_val = X_val\n",
    "df_test = X_test\n",
    "\n",
    "df_y_train = y_train\n",
    "df_y_val = y_val\n",
    "df_y_test = y_test"
   ],
   "metadata": {
    "collapsed": false,
    "pycharm": {
     "name": "#%%\n"
    }
   }
  },
  {
   "cell_type": "code",
   "execution_count": 90,
   "outputs": [],
   "source": [
    "df_y_train = pd.DataFrame(df_y_train, columns=['duration', 'event', 'proportion'])\n",
    "df_y_val = pd.DataFrame(df_y_val, columns=['duration', 'event', 'proportion'])\n",
    "df_y_test = pd.DataFrame(df_y_test, columns=['duration', 'event', 'proportion'])"
   ],
   "metadata": {
    "collapsed": false,
    "pycharm": {
     "name": "#%%\n"
    }
   }
  },
  {
   "cell_type": "code",
   "execution_count": 91,
   "outputs": [
    {
     "data": {
      "text/plain": "False"
     },
     "execution_count": 91,
     "metadata": {},
     "output_type": "execute_result"
    }
   ],
   "source": [
    "df_y_test.isnull().values.any()"
   ],
   "metadata": {
    "collapsed": false,
    "pycharm": {
     "name": "#%%\n"
    }
   }
  },
  {
   "cell_type": "code",
   "execution_count": 92,
   "outputs": [
    {
     "name": "stdout",
     "output_type": "stream",
     "text": [
      "<class 'pandas.core.frame.DataFrame'>\n",
      "(63, 3)\n"
     ]
    }
   ],
   "source": [
    "# df_train = pd.DataFrame(df_train)\n",
    "# df_val = pd.DataFrame(df_val)\n",
    "print(type(df_y_test))\n",
    "print(df_y_test.shape)"
   ],
   "metadata": {
    "collapsed": false,
    "pycharm": {
     "name": "#%%\n"
    }
   }
  },
  {
   "cell_type": "code",
   "execution_count": 93,
   "outputs": [
    {
     "name": "stdout",
     "output_type": "stream",
     "text": [
      "torch.Size([187, 16])\n",
      "torch.Size([187, 3])\n"
     ]
    }
   ],
   "source": [
    "print(masks_train.shape)\n",
    "print(y_train.shape)"
   ],
   "metadata": {
    "collapsed": false,
    "pycharm": {
     "name": "#%%\n"
    }
   }
  },
  {
   "cell_type": "code",
   "execution_count": 94,
   "outputs": [
    {
     "name": "stdout",
     "output_type": "stream",
     "text": [
      "GPU not found! will use cpu for training!\n"
     ]
    },
    {
     "name": "stderr",
     "output_type": "stream",
     "text": [
      "/Users/davidlee/opt/anaconda3/envs/synthcity/lib/python3.9/site-packages/torch/nn/modules/activation.py:1160: UserWarning: Converting mask without torch.bool dtype to bool; this will negatively affect performance. Prefer to use a boolean mask directly. (Triggered internally at /Users/runner/work/pytorch/pytorch/pytorch/aten/src/ATen/native/transformers/attention.cpp:152.)\n",
      "  return torch._native_multi_head_attention(\n"
     ]
    },
    {
     "name": "stdout",
     "output_type": "stream",
     "text": [
      "[Train-0]: 48.06881010532379\n",
      "[Val-0]: 2.7606043815612793\n",
      "[Train-1]: 31.15868389606476\n",
      "[Val-1]: 1.9242517948150635\n",
      "[Train-2]: 27.51614409685135\n",
      "[Val-2]: 13.657269477844238\n",
      "EarlyStopping counter: 1 out of 5\n",
      "[Train-3]: 25.760681986808777\n",
      "[Val-3]: 8.5872802734375\n",
      "EarlyStopping counter: 2 out of 5\n",
      "[Train-4]: 22.602539777755737\n",
      "[Val-4]: 2.1347529888153076\n",
      "EarlyStopping counter: 3 out of 5\n",
      "[Train-5]: 21.718030750751495\n",
      "[Val-5]: 1.1291812658309937\n",
      "[Train-6]: 20.74865996837616\n",
      "[Val-6]: 4.807439804077148\n",
      "EarlyStopping counter: 1 out of 5\n",
      "[Train-7]: 20.618437111377716\n",
      "[Val-7]: 1.238684058189392\n",
      "EarlyStopping counter: 2 out of 5\n",
      "[Train-8]: 21.46886883676052\n",
      "[Val-8]: 0.910700261592865\n",
      "[Train-9]: 20.70250791311264\n",
      "[Val-9]: 4.423620223999023\n",
      "EarlyStopping counter: 1 out of 5\n",
      "[Train-10]: 20.989766985177994\n",
      "[Val-10]: 0.7253173589706421\n",
      "[Train-11]: 20.241183131933212\n",
      "[Val-11]: 0.797453761100769\n",
      "EarlyStopping counter: 1 out of 5\n",
      "[Train-12]: 19.90589103102684\n",
      "[Val-12]: 0.6772186160087585\n",
      "[Train-13]: 20.14189922809601\n",
      "[Val-13]: 2.264658212661743\n",
      "EarlyStopping counter: 1 out of 5\n",
      "[Train-14]: 20.030436754226685\n",
      "[Val-14]: 1.3021690845489502\n",
      "EarlyStopping counter: 2 out of 5\n",
      "[Train-15]: 18.41740620136261\n",
      "[Val-15]: 0.8063868880271912\n",
      "EarlyStopping counter: 3 out of 5\n",
      "[Train-16]: 19.099436938762665\n",
      "[Val-16]: 1.133001446723938\n",
      "EarlyStopping counter: 4 out of 5\n",
      "[Train-17]: 20.854579642415047\n",
      "[Val-17]: 0.8729487657546997\n",
      "EarlyStopping counter: 5 out of 5\n",
      "early stops at epoch 18\n"
     ]
    }
   ],
   "source": [
    "# get model\n",
    "model = Custom_SurvTrace(STConfig)\n",
    "\n",
    "# initialize a trainer\n",
    "trainer = Trainer(model)\n",
    "#\n",
    "train_loss, val_loss = trainer.fit((df_train, df_y_train), masks_train, (df_val, df_y_val), masks_val,\n",
    "        batch_size=8,\n",
    "        epochs=hparams['epochs'],\n",
    "        learning_rate=hparams['learning_rate'],\n",
    "        weight_decay=hparams['weight_decay'],)"
   ],
   "metadata": {
    "collapsed": false,
    "pycharm": {
     "name": "#%%\n"
    }
   }
  },
  {
   "cell_type": "code",
   "execution_count": 95,
   "outputs": [
    {
     "data": {
      "text/plain": "   duration  event  proportion\n0       3.0    1.0    0.038401\n1       3.0    0.0    0.487332\n2       0.0    1.0    0.769231\n3       2.0    1.0    0.257143\n4       2.0    1.0    0.076190",
      "text/html": "<div>\n<style scoped>\n    .dataframe tbody tr th:only-of-type {\n        vertical-align: middle;\n    }\n\n    .dataframe tbody tr th {\n        vertical-align: top;\n    }\n\n    .dataframe thead th {\n        text-align: right;\n    }\n</style>\n<table border=\"1\" class=\"dataframe\">\n  <thead>\n    <tr style=\"text-align: right;\">\n      <th></th>\n      <th>duration</th>\n      <th>event</th>\n      <th>proportion</th>\n    </tr>\n  </thead>\n  <tbody>\n    <tr>\n      <th>0</th>\n      <td>3.0</td>\n      <td>1.0</td>\n      <td>0.038401</td>\n    </tr>\n    <tr>\n      <th>1</th>\n      <td>3.0</td>\n      <td>0.0</td>\n      <td>0.487332</td>\n    </tr>\n    <tr>\n      <th>2</th>\n      <td>0.0</td>\n      <td>1.0</td>\n      <td>0.769231</td>\n    </tr>\n    <tr>\n      <th>3</th>\n      <td>2.0</td>\n      <td>1.0</td>\n      <td>0.257143</td>\n    </tr>\n    <tr>\n      <th>4</th>\n      <td>2.0</td>\n      <td>1.0</td>\n      <td>0.076190</td>\n    </tr>\n  </tbody>\n</table>\n</div>"
     },
     "execution_count": 95,
     "metadata": {},
     "output_type": "execute_result"
    }
   ],
   "source": [
    "df_y_test.head()"
   ],
   "metadata": {
    "collapsed": false,
    "pycharm": {
     "name": "#%%\n"
    }
   }
  },
  {
   "cell_type": "code",
   "execution_count": 96,
   "outputs": [
    {
     "data": {
      "text/plain": "   duration  event  proportion\n0         3    1.0    0.006928\n1         3    0.0    0.988915\n2         3    1.0    0.019002\n3         2    1.0    0.314286\n4         3    0.0    0.263658",
      "text/html": "<div>\n<style scoped>\n    .dataframe tbody tr th:only-of-type {\n        vertical-align: middle;\n    }\n\n    .dataframe tbody tr th {\n        vertical-align: top;\n    }\n\n    .dataframe thead th {\n        text-align: right;\n    }\n</style>\n<table border=\"1\" class=\"dataframe\">\n  <thead>\n    <tr style=\"text-align: right;\">\n      <th></th>\n      <th>duration</th>\n      <th>event</th>\n      <th>proportion</th>\n    </tr>\n  </thead>\n  <tbody>\n    <tr>\n      <th>0</th>\n      <td>3</td>\n      <td>1.0</td>\n      <td>0.006928</td>\n    </tr>\n    <tr>\n      <th>1</th>\n      <td>3</td>\n      <td>0.0</td>\n      <td>0.988915</td>\n    </tr>\n    <tr>\n      <th>2</th>\n      <td>3</td>\n      <td>1.0</td>\n      <td>0.019002</td>\n    </tr>\n    <tr>\n      <th>3</th>\n      <td>2</td>\n      <td>1.0</td>\n      <td>0.314286</td>\n    </tr>\n    <tr>\n      <th>4</th>\n      <td>3</td>\n      <td>0.0</td>\n      <td>0.263658</td>\n    </tr>\n  </tbody>\n</table>\n</div>"
     },
     "execution_count": 96,
     "metadata": {},
     "output_type": "execute_result"
    }
   ],
   "source": [
    "df_y.head()"
   ],
   "metadata": {
    "collapsed": false,
    "pycharm": {
     "name": "#%%\n"
    }
   }
  },
  {
   "cell_type": "code",
   "execution_count": 97,
   "outputs": [],
   "source": [
    "time_test = pd.DataFrame(time_test, columns=['duration'])"
   ],
   "metadata": {
    "collapsed": false,
    "pycharm": {
     "name": "#%%\n"
    }
   }
  },
  {
   "cell_type": "code",
   "execution_count": 98,
   "outputs": [
    {
     "data": {
      "text/plain": "False"
     },
     "execution_count": 98,
     "metadata": {},
     "output_type": "execute_result"
    }
   ],
   "source": [
    "time_test.isnull().values.any()"
   ],
   "metadata": {
    "collapsed": false,
    "pycharm": {
     "name": "#%%\n"
    }
   }
  },
  {
   "cell_type": "code",
   "execution_count": 99,
   "outputs": [],
   "source": [
    "df_y_test['duration'] = time_test['duration']\n",
    "# time_val = pd.DataFrame(time_val, columns=['duration'])"
   ],
   "metadata": {
    "collapsed": false,
    "pycharm": {
     "name": "#%%\n"
    }
   }
  },
  {
   "cell_type": "code",
   "execution_count": 100,
   "outputs": [
    {
     "data": {
      "text/plain": "torch.Size([63, 16, 21])"
     },
     "execution_count": 100,
     "metadata": {},
     "output_type": "execute_result"
    }
   ],
   "source": [
    "df_test.shape"
   ],
   "metadata": {
    "collapsed": false,
    "pycharm": {
     "name": "#%%\n"
    }
   }
  },
  {
   "cell_type": "code",
   "execution_count": 101,
   "outputs": [
    {
     "data": {
      "text/plain": "(63, 3)"
     },
     "execution_count": 101,
     "metadata": {},
     "output_type": "execute_result"
    }
   ],
   "source": [
    "df_y_test.shape"
   ],
   "metadata": {
    "collapsed": false,
    "pycharm": {
     "name": "#%%\n"
    }
   }
  },
  {
   "cell_type": "code",
   "execution_count": 102,
   "outputs": [
    {
     "data": {
      "text/plain": "torch.Size([63, 16])"
     },
     "execution_count": 102,
     "metadata": {},
     "output_type": "execute_result"
    }
   ],
   "source": [
    "masks_test.shape"
   ],
   "metadata": {
    "collapsed": false,
    "pycharm": {
     "name": "#%%\n"
    }
   }
  },
  {
   "cell_type": "code",
   "execution_count": 103,
   "outputs": [
    {
     "data": {
      "text/plain": "0"
     },
     "execution_count": 103,
     "metadata": {},
     "output_type": "execute_result"
    }
   ],
   "source": [
    "df_y_test['duration'].isnull().sum()"
   ],
   "metadata": {
    "collapsed": false,
    "pycharm": {
     "name": "#%%\n"
    }
   }
  },
  {
   "cell_type": "code",
   "execution_count": 104,
   "outputs": [
    {
     "data": {
      "text/plain": "   duration  event  proportion\n0  1.004819    1.0    0.038401\n1  7.214434    0.0    0.487332\n2  0.030117    1.0    0.769231\n3  0.260103    1.0    0.257143\n4  0.208082    1.0    0.076190",
      "text/html": "<div>\n<style scoped>\n    .dataframe tbody tr th:only-of-type {\n        vertical-align: middle;\n    }\n\n    .dataframe tbody tr th {\n        vertical-align: top;\n    }\n\n    .dataframe thead th {\n        text-align: right;\n    }\n</style>\n<table border=\"1\" class=\"dataframe\">\n  <thead>\n    <tr style=\"text-align: right;\">\n      <th></th>\n      <th>duration</th>\n      <th>event</th>\n      <th>proportion</th>\n    </tr>\n  </thead>\n  <tbody>\n    <tr>\n      <th>0</th>\n      <td>1.004819</td>\n      <td>1.0</td>\n      <td>0.038401</td>\n    </tr>\n    <tr>\n      <th>1</th>\n      <td>7.214434</td>\n      <td>0.0</td>\n      <td>0.487332</td>\n    </tr>\n    <tr>\n      <th>2</th>\n      <td>0.030117</td>\n      <td>1.0</td>\n      <td>0.769231</td>\n    </tr>\n    <tr>\n      <th>3</th>\n      <td>0.260103</td>\n      <td>1.0</td>\n      <td>0.257143</td>\n    </tr>\n    <tr>\n      <th>4</th>\n      <td>0.208082</td>\n      <td>1.0</td>\n      <td>0.076190</td>\n    </tr>\n  </tbody>\n</table>\n</div>"
     },
     "execution_count": 104,
     "metadata": {},
     "output_type": "execute_result"
    }
   ],
   "source": [
    "df_y_test.head()"
   ],
   "metadata": {
    "collapsed": false,
    "pycharm": {
     "name": "#%%\n"
    }
   }
  },
  {
   "cell_type": "code",
   "execution_count": 105,
   "outputs": [
    {
     "name": "stdout",
     "output_type": "stream",
     "text": [
      "******************************\n",
      "start evaluation\n",
      "******************************\n",
      "Evaluate with single event\n",
      "For 0.25 quantile,\n",
      "TD Concordance Index - IPCW: 0.8315334773218143\n",
      "Brier Score: 0.32222163512894425\n",
      "For 0.5 quantile,\n",
      "TD Concordance Index - IPCW: 0.826936026936027\n",
      "Brier Score: 0.25832203763817985\n",
      "For 0.75 quantile,\n",
      "TD Concordance Index - IPCW: 0.8255892255892255\n",
      "Brier Score: 0.16800057987076422\n",
      "done\n"
     ]
    },
    {
     "name": "stderr",
     "output_type": "stream",
     "text": [
      "/Users/davidlee/opt/anaconda3/envs/synthcity/lib/python3.9/site-packages/torch/nn/modules/activation.py:1160: UserWarning: Converting mask without torch.bool dtype to bool; this will negatively affect performance. Prefer to use a boolean mask directly. (Triggered internally at /Users/runner/work/pytorch/pytorch/pytorch/aten/src/ATen/native/transformers/attention.cpp:152.)\n",
      "  return torch._native_multi_head_attention(\n"
     ]
    }
   ],
   "source": [
    "from model.custom_evaluation_survtrace import Custom_Evaluation\n",
    "\n",
    "# evaluate model\n",
    "evaluator = Custom_Evaluation(df_y, df_y_train.index)\n",
    "evaluator.eval(model=model, test_set=(df_test, df_y_test), our_mask=masks_test)\n",
    "print(\"done\")"
   ],
   "metadata": {
    "collapsed": false,
    "pycharm": {
     "name": "#%%\n"
    }
   }
  },
  {
   "cell_type": "code",
   "execution_count": null,
   "outputs": [],
   "source": [
    "# happy happy happy"
   ],
   "metadata": {
    "collapsed": false,
    "pycharm": {
     "name": "#%%\n"
    }
   }
  }
 ],
 "metadata": {
  "kernelspec": {
   "display_name": "Python 3",
   "language": "python",
   "name": "python3"
  },
  "language_info": {
   "codemirror_mode": {
    "name": "ipython",
    "version": 2
   },
   "file_extension": ".py",
   "mimetype": "text/x-python",
   "name": "python",
   "nbconvert_exporter": "python",
   "pygments_lexer": "ipython2",
   "version": "2.7.6"
  }
 },
 "nbformat": 4,
 "nbformat_minor": 0
}