{
 "cells": [
  {
   "cell_type": "markdown",
   "id": "2b7425c2",
   "metadata": {},
   "source": [
    "# Run SurvTRACE on METABRIC dataset"
   ]
  },
  {
   "cell_type": "code",
   "execution_count": 1,
   "id": "7920014d",
   "metadata": {},
   "outputs": [],
   "source": [
    "import pdb\n",
    "from collections import defaultdict\n",
    "import matplotlib.pyplot as plt\n",
    "\n",
    "from survtrace.dataset import load_data\n",
    "from survtrace.evaluate_utils import Evaluator\n",
    "from survtrace.utils import set_random_seed\n",
    "from survtrace.model import SurvTraceSingle\n",
    "from survtrace.train_utils import Trainer\n",
    "from survtrace.config import STConfig\n",
    "\n",
    "# define the setup parameters\n",
    "STConfig['data'] = 'metabric'\n",
    "\n",
    "set_random_seed(STConfig['seed'])\n",
    "\n",
    "hparams = {\n",
    "    'batch_size': 64,\n",
    "    'weight_decay': 1e-4,\n",
    "    'learning_rate': 1e-3,\n",
    "    'epochs': 20,\n",
    "}"
   ]
  },
  {
   "cell_type": "code",
   "execution_count": 2,
   "id": "358ec95d",
   "metadata": {},
   "outputs": [
    {
     "name": "stderr",
     "output_type": "stream",
     "text": [
      "D:\\UIUC_AI_Health\\SurvTRACE\\survtrace\\utils.py:78: UserWarning: Got event/censoring at start time. Should be removed! It is set s.t. it has no contribution to loss.\n",
      "  warnings.warn(\"\"\"Got event/censoring at start time. Should be removed! It is set s.t. it has no contribution to loss.\"\"\")\n"
     ]
    },
    {
     "name": "stdout",
     "output_type": "stream",
     "text": [
      "use pytorch-cuda for training.\n"
     ]
    },
    {
     "name": "stderr",
     "output_type": "stream",
     "text": [
      "D:\\UIUC_AI_Health\\SurvTRACE\\survtrace\\train_utils.py:195: UserWarning: This overload of add_ is deprecated:\n",
      "\tadd_(Number alpha, Tensor other)\n",
      "Consider using one of the following signatures instead:\n",
      "\tadd_(Tensor other, *, Number alpha) (Triggered internally at  ..\\torch\\csrc\\utils\\python_arg_parser.cpp:1025.)\n",
      "  next_m.mul_(beta1).add_(1 - beta1, grad)\n"
     ]
    },
    {
     "name": "stdout",
     "output_type": "stream",
     "text": [
      "[Train-0]: 31.35417079925537\n",
      "[Val-0]: 1.3768609762191772\n",
      "[Train-1]: 24.999290466308594\n",
      "[Val-1]: 1.125670075416565\n",
      "[Train-2]: 21.92027109861374\n",
      "[Val-2]: 1.1176223754882812\n",
      "[Train-3]: 21.552372932434082\n",
      "[Val-3]: 1.0617270469665527\n",
      "[Train-4]: 21.48322820663452\n",
      "[Val-4]: 1.0303016901016235\n",
      "[Train-5]: 21.309285163879395\n",
      "[Val-5]: 1.031329870223999\n",
      "EarlyStopping counter: 1 out of 5\n",
      "[Train-6]: 21.411774814128876\n",
      "[Val-6]: 1.0380909442901611\n",
      "EarlyStopping counter: 2 out of 5\n",
      "[Train-7]: 21.323206841945648\n",
      "[Val-7]: 1.0362335443496704\n",
      "EarlyStopping counter: 3 out of 5\n",
      "[Train-8]: 21.290917992591858\n",
      "[Val-8]: 1.0184327363967896\n",
      "[Train-9]: 21.13839763402939\n",
      "[Val-9]: 1.0406811237335205\n",
      "EarlyStopping counter: 1 out of 5\n",
      "[Train-10]: 21.206656575202942\n",
      "[Val-10]: 1.0603537559509277\n",
      "EarlyStopping counter: 2 out of 5\n",
      "[Train-11]: 21.30414569377899\n",
      "[Val-11]: 1.030419111251831\n",
      "EarlyStopping counter: 3 out of 5\n",
      "[Train-12]: 21.165355145931244\n",
      "[Val-12]: 1.027835726737976\n",
      "EarlyStopping counter: 4 out of 5\n",
      "[Train-13]: 21.164224207401276\n",
      "[Val-13]: 1.0538195371627808\n",
      "EarlyStopping counter: 5 out of 5\n",
      "early stops at epoch 14\n"
     ]
    }
   ],
   "source": [
    "# load data\n",
    "df, df_train, df_y_train, df_test, df_y_test, df_val, df_y_val = load_data(STConfig)\n",
    "\n",
    "# get model\n",
    "model = SurvTraceSingle(STConfig)\n",
    "\n",
    "# initialize a trainer\n",
    "trainer = Trainer(model)\n",
    "train_loss, val_loss = trainer.fit((df_train, df_y_train), (df_val, df_y_val),\n",
    "        batch_size=hparams['batch_size'],\n",
    "        epochs=hparams['epochs'],\n",
    "        learning_rate=hparams['learning_rate'],\n",
    "        weight_decay=hparams['weight_decay'],)"
   ]
  },
  {
   "cell_type": "code",
   "execution_count": 3,
   "id": "b6fbe2c8",
   "metadata": {},
   "outputs": [
    {
     "name": "stdout",
     "output_type": "stream",
     "text": [
      "For 0.25 quantile,\n",
      "TD Concordance Index - IPCW: 0.7349585253058486\n",
      "Brier Score: 0.10674401281864801\n",
      "For 0.5 quantile,\n",
      "TD Concordance Index - IPCW: 0.7063757169608801\n",
      "Brier Score: 0.1760769913342983\n",
      "For 0.75 quantile,\n",
      "TD Concordance Index - IPCW: 0.686838584785164\n",
      "Brier Score: 0.2118244778060817\n",
      "done\n"
     ]
    }
   ],
   "source": [
    "# evaluate model\n",
    "evaluator = Evaluator(df, df_train.index)\n",
    "evaluator.eval(model, (df_test, df_y_test))\n",
    "print(\"done\")"
   ]
  },
  {
   "cell_type": "code",
   "execution_count": 9,
   "id": "fcc7596d",
   "metadata": {},
   "outputs": [
    {
     "data": {
      "image/png": "[encoded data removed]",
      "text/plain": [
       "<Figure size 432x288 with 1 Axes>"
      ]
     },
     "metadata": {
      "needs_background": "light"
     },
     "output_type": "display_data"
    }
   ],
   "source": [
    "plt.plot(train_loss, label='train')\n",
    "plt.plot(val_loss, label='val')\n",
    "plt.legend(fontsize=20)\n",
    "plt.xlabel('epoch',fontsize=20)\n",
    "plt.ylabel('loss', fontsize=20)\n",
    "plt.show()"
   ]
  },
  {
   "cell_type": "code",
   "execution_count": null,
   "id": "b5b74f27",
   "metadata": {},
   "outputs": [],
   "source": []
  }
 ],
 "metadata": {
  "kernelspec": {
   "display_name": "Python 3",
   "language": "python",
   "name": "python3"
  },
  "language_info": {
   "codemirror_mode": {
    "name": "ipython",
    "version": 3
   },
   "file_extension": ".py",
   "mimetype": "text/x-python",
   "name": "python",
   "nbconvert_exporter": "python",
   "pygments_lexer": "ipython3",
   "version": "3.6.13"
  }
 },
 "nbformat": 4,
 "nbformat_minor": 5
}
