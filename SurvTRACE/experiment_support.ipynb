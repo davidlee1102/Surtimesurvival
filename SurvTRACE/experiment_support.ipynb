{
 "cells": [
  {
   "cell_type": "markdown",
   "id": "2b7425c2",
   "metadata": {},
   "source": [
    "# Run SurvTRACE on SUPPORT dataset"
   ]
  },
  {
   "cell_type": "code",
   "execution_count": 1,
   "id": "7920014d",
   "metadata": {},
   "outputs": [],
   "source": [
    "import pdb\n",
    "from collections import defaultdict\n",
    "import matplotlib.pyplot as plt\n",
    "\n",
    "from survtrace.dataset import load_data\n",
    "from survtrace.evaluate_utils import Evaluator\n",
    "from survtrace.utils import set_random_seed\n",
    "from survtrace.model import SurvTraceSingle\n",
    "from survtrace.train_utils import Trainer\n",
    "from survtrace.config import STConfig\n",
    "\n",
    "# define the setup parameters\n",
    "STConfig['data'] = 'support'\n",
    "\n",
    "set_random_seed(STConfig['seed'])\n",
    "\n",
    "hparams = {\n",
    "    'batch_size': 128,\n",
    "    'weight_decay': 0,\n",
    "    'learning_rate': 1e-3,\n",
    "    'epochs': 20,\n",
    "}"
   ]
  },
  {
   "cell_type": "code",
   "execution_count": 2,
   "id": "358ec95d",
   "metadata": {},
   "outputs": [
    {
     "name": "stdout",
     "output_type": "stream",
     "text": [
      "use pytorch-cuda for training.\n"
     ]
    },
    {
     "name": "stderr",
     "output_type": "stream",
     "text": [
      "D:\\UIUC_AI_Health\\SurvTRACE\\survtrace\\train_utils.py:195: UserWarning: This overload of add_ is deprecated:\n",
      "\tadd_(Number alpha, Tensor other)\n",
      "Consider using one of the following signatures instead:\n",
      "\tadd_(Tensor other, *, Number alpha) (Triggered internally at  ..\\torch\\csrc\\utils\\python_arg_parser.cpp:1025.)\n",
      "  next_m.mul_(beta1).add_(1 - beta1, grad)\n"
     ]
    },
    {
     "name": "stdout",
     "output_type": "stream",
     "text": [
      "[Train-0]: 69.46480572223663\n",
      "[Val-0]: 1.4033393859863281\n",
      "[Train-1]: 58.58011257648468\n",
      "[Val-1]: 1.3492838144302368\n",
      "[Train-2]: 57.890218019485474\n",
      "[Val-2]: 1.33890700340271\n",
      "[Train-3]: 57.753629088401794\n",
      "[Val-3]: 1.3360865116119385\n",
      "[Train-4]: 57.74876081943512\n",
      "[Val-4]: 1.3369407653808594\n",
      "EarlyStopping counter: 1 out of 5\n",
      "[Train-5]: 57.602696657180786\n",
      "[Val-5]: 1.3291189670562744\n",
      "[Train-6]: 57.440733194351196\n",
      "[Val-6]: 1.3298711776733398\n",
      "EarlyStopping counter: 1 out of 5\n",
      "[Train-7]: 57.411641240119934\n",
      "[Val-7]: 1.3271820545196533\n",
      "[Train-8]: 57.25203001499176\n",
      "[Val-8]: 1.3372454643249512\n",
      "EarlyStopping counter: 1 out of 5\n",
      "[Train-9]: 57.02588772773743\n",
      "[Val-9]: 1.3317675590515137\n",
      "EarlyStopping counter: 2 out of 5\n",
      "[Train-10]: 56.98663830757141\n",
      "[Val-10]: 1.3470638990402222\n",
      "EarlyStopping counter: 3 out of 5\n",
      "[Train-11]: 56.84599244594574\n",
      "[Val-11]: 1.3374598026275635\n",
      "EarlyStopping counter: 4 out of 5\n",
      "[Train-12]: 56.71632444858551\n",
      "[Val-12]: 1.3387290239334106\n",
      "EarlyStopping counter: 5 out of 5\n",
      "early stops at epoch 13\n"
     ]
    }
   ],
   "source": [
    "# load data\n",
    "df, df_train, df_y_train, df_test, df_y_test, df_val, df_y_val = load_data(STConfig)\n",
    "\n",
    "# get model\n",
    "model = SurvTraceSingle(STConfig)\n",
    "\n",
    "# initialize a trainer\n",
    "trainer = Trainer(model)\n",
    "train_loss, val_loss = trainer.fit((df_train, df_y_train), (df_val, df_y_val),\n",
    "        batch_size=hparams['batch_size'],\n",
    "        epochs=hparams['epochs'],\n",
    "        learning_rate=hparams['learning_rate'],\n",
    "        weight_decay=hparams['weight_decay'],)"
   ]
  },
  {
   "cell_type": "code",
   "execution_count": 3,
   "id": "b6fbe2c8",
   "metadata": {},
   "outputs": [
    {
     "name": "stdout",
     "output_type": "stream",
     "text": [
      "For 0.25 quantile,\n",
      "TD Concordance Index - IPCW: 0.6691149747018741\n",
      "Brier Score: 0.13460396781829126\n",
      "For 0.5 quantile,\n",
      "TD Concordance Index - IPCW: 0.6258344351721034\n",
      "Brier Score: 0.21159583429898995\n",
      "For 0.75 quantile,\n",
      "TD Concordance Index - IPCW: 0.6150206831866872\n",
      "Brier Score: 0.22910614139862234\n",
      "done\n"
     ]
    }
   ],
   "source": [
    "# evaluate model\n",
    "evaluator = Evaluator(df, df_train.index)\n",
    "evaluator.eval(model, (df_test, df_y_test))\n",
    "print(\"done\")"
   ]
  },
  {
   "cell_type": "code",
   "execution_count": 4,
   "id": "fcc7596d",
   "metadata": {},
   "outputs": [
    {
     "data": {
      "image/png": "[encoded data removed]",
      "text/plain": [
       "<Figure size 432x288 with 1 Axes>"
      ]
     },
     "metadata": {
      "needs_background": "light"
     },
     "output_type": "display_data"
    }
   ],
   "source": [
    "plt.plot(train_loss, label='train')\n",
    "plt.plot(val_loss, label='val')\n",
    "plt.legend(fontsize=20)\n",
    "plt.xlabel('epoch',fontsize=20)\n",
    "plt.ylabel('loss', fontsize=20)\n",
    "plt.show()"
   ]
  },
  {
   "cell_type": "code",
   "execution_count": null,
   "id": "b5b74f27",
   "metadata": {},
   "outputs": [],
   "source": []
  }
 ],
 "metadata": {
  "kernelspec": {
   "display_name": "Python 3",
   "language": "python",
   "name": "python3"
  },
  "language_info": {
   "codemirror_mode": {
    "name": "ipython",
    "version": 3
   },
   "file_extension": ".py",
   "mimetype": "text/x-python",
   "name": "python",
   "nbconvert_exporter": "python",
   "pygments_lexer": "ipython3",
   "version": "3.6.13"
  }
 },
 "nbformat": 4,
 "nbformat_minor": 5
}
